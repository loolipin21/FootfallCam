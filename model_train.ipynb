{
 "cells": [
  {
   "cell_type": "code",
   "execution_count": 1,
   "id": "0e80dc16",
   "metadata": {},
   "outputs": [
    {
     "name": "stdout",
     "output_type": "stream",
     "text": [
      "True\n",
      "NVIDIA GeForce RTX 2070\n"
     ]
    }
   ],
   "source": [
    "import torch\n",
    "print(torch.cuda.is_available())\n",
    "print(torch.cuda.get_device_name(0))"
   ]
  },
  {
   "cell_type": "code",
   "execution_count": null,
   "id": "7d4674ba",
   "metadata": {},
   "outputs": [
    {
     "name": "stdout",
     "output_type": "stream",
     "text": [
      "Ultralytics 8.3.152  Python-3.11.13 torch-2.7.1+cu118 CUDA:0 (NVIDIA GeForce RTX 2070, 8192MiB)\n",
      "\u001b[34m\u001b[1mengine\\trainer: \u001b[0magnostic_nms=False, amp=True, augment=True, auto_augment=randaugment, batch=8, bgr=0.0, box=7.5, cache=False, cfg=None, classes=None, close_mosaic=10, cls=0.5, conf=None, copy_paste=0.1, copy_paste_mode=flip, cos_lr=False, cutmix=0.0, data=clip.yaml, degrees=10, deterministic=True, device=0, dfl=1.5, dnn=False, dropout=0.0, dynamic=False, embed=None, epochs=50, erasing=0.4, exist_ok=False, fliplr=0.5, flipud=0.0, format=torchscript, fraction=1.0, freeze=None, half=False, hsv_h=0.015, hsv_s=0.7, hsv_v=0.4, imgsz=640, int8=False, iou=0.7, keras=False, kobj=1.0, line_width=None, lr0=0.01, lrf=0.01, mask_ratio=4, max_det=300, mixup=0.0, mode=train, model=yolov8s.pt, momentum=0.937, mosaic=1.0, multi_scale=False, name=clip-detector, nbs=64, nms=False, opset=None, optimize=False, optimizer=auto, overlap_mask=True, patience=10, perspective=0.0, plots=True, pose=12.0, pretrained=True, profile=False, project=None, rect=False, resume=False, retina_masks=False, save=True, save_conf=False, save_crop=False, save_dir=runs\\detect\\clip-detector, save_frames=False, save_json=False, save_period=-1, save_txt=False, scale=0.4, seed=0, shear=0.0, show=False, show_boxes=True, show_conf=True, show_labels=True, simplify=True, single_cls=False, source=None, split=val, stream_buffer=False, task=detect, time=None, tracker=botsort.yaml, translate=0.1, val=True, verbose=True, vid_stride=1, visualize=False, warmup_bias_lr=0.1, warmup_epochs=3.0, warmup_momentum=0.8, weight_decay=0.0005, workers=8, workspace=None\n",
      "Overriding model.yaml nc=80 with nc=1\n",
      "\n",
      "                   from  n    params  module                                       arguments                     \n",
      "  0                  -1  1       928  ultralytics.nn.modules.conv.Conv             [3, 32, 3, 2]                 \n",
      "  1                  -1  1     18560  ultralytics.nn.modules.conv.Conv             [32, 64, 3, 2]                \n",
      "  2                  -1  1     29056  ultralytics.nn.modules.block.C2f             [64, 64, 1, True]             \n",
      "  3                  -1  1     73984  ultralytics.nn.modules.conv.Conv             [64, 128, 3, 2]               \n",
      "  4                  -1  2    197632  ultralytics.nn.modules.block.C2f             [128, 128, 2, True]           \n",
      "  5                  -1  1    295424  ultralytics.nn.modules.conv.Conv             [128, 256, 3, 2]              \n",
      "  6                  -1  2    788480  ultralytics.nn.modules.block.C2f             [256, 256, 2, True]           \n",
      "  7                  -1  1   1180672  ultralytics.nn.modules.conv.Conv             [256, 512, 3, 2]              \n",
      "  8                  -1  1   1838080  ultralytics.nn.modules.block.C2f             [512, 512, 1, True]           \n",
      "  9                  -1  1    656896  ultralytics.nn.modules.block.SPPF            [512, 512, 5]                 \n",
      " 10                  -1  1         0  torch.nn.modules.upsampling.Upsample         [None, 2, 'nearest']          \n",
      " 11             [-1, 6]  1         0  ultralytics.nn.modules.conv.Concat           [1]                           \n",
      " 12                  -1  1    591360  ultralytics.nn.modules.block.C2f             [768, 256, 1]                 \n",
      " 13                  -1  1         0  torch.nn.modules.upsampling.Upsample         [None, 2, 'nearest']          \n",
      " 14             [-1, 4]  1         0  ultralytics.nn.modules.conv.Concat           [1]                           \n",
      " 15                  -1  1    148224  ultralytics.nn.modules.block.C2f             [384, 128, 1]                 \n",
      " 16                  -1  1    147712  ultralytics.nn.modules.conv.Conv             [128, 128, 3, 2]              \n",
      " 17            [-1, 12]  1         0  ultralytics.nn.modules.conv.Concat           [1]                           \n",
      " 18                  -1  1    493056  ultralytics.nn.modules.block.C2f             [384, 256, 1]                 \n",
      " 19                  -1  1    590336  ultralytics.nn.modules.conv.Conv             [256, 256, 3, 2]              \n",
      " 20             [-1, 9]  1         0  ultralytics.nn.modules.conv.Concat           [1]                           \n",
      " 21                  -1  1   1969152  ultralytics.nn.modules.block.C2f             [768, 512, 1]                 \n",
      " 22        [15, 18, 21]  1   2116435  ultralytics.nn.modules.head.Detect           [1, [128, 256, 512]]          \n",
      "Model summary: 129 layers, 11,135,987 parameters, 11,135,971 gradients, 28.6 GFLOPs\n",
      "\n",
      "Transferred 349/355 items from pretrained weights\n",
      "Freezing layer 'model.22.dfl.conv.weight'\n",
      "\u001b[34m\u001b[1mAMP: \u001b[0mrunning Automatic Mixed Precision (AMP) checks...\n",
      "Downloading https://github.com/ultralytics/assets/releases/download/v8.3.0/yolo11n.pt to 'yolo11n.pt'...\n"
     ]
    },
    {
     "name": "stderr",
     "output_type": "stream",
     "text": [
      "100%|██████████| 5.35M/5.35M [00:00<00:00, 44.6MB/s]\n"
     ]
    },
    {
     "name": "stdout",
     "output_type": "stream",
     "text": [
      "\u001b[34m\u001b[1mAMP: \u001b[0mchecks passed \n",
      "\u001b[34m\u001b[1mtrain: \u001b[0mFast image access  (ping: 0.30.1 ms, read: 6.02.6 MB/s, size: 44.9 KB)\n"
     ]
    },
    {
     "name": "stderr",
     "output_type": "stream",
     "text": [
      "\u001b[34m\u001b[1mtrain: \u001b[0mScanning C:\\Users\\Li Pin\\Documents\\FootfallCam\\badge_dataset\\labels... 107 images, 85 backgrounds, 0 corrupt: 100%|██████████| 107/107 [00:00<00:00, 741.93it/s]"
     ]
    },
    {
     "name": "stdout",
     "output_type": "stream",
     "text": [
      "\u001b[34m\u001b[1mtrain: \u001b[0mNew cache created: C:\\Users\\Li Pin\\Documents\\FootfallCam\\badge_dataset\\labels.cache\n"
     ]
    },
    {
     "name": "stderr",
     "output_type": "stream",
     "text": [
      "\n"
     ]
    },
    {
     "name": "stdout",
     "output_type": "stream",
     "text": [
      "\u001b[34m\u001b[1mval: \u001b[0mFast image access  (ping: 0.10.0 ms, read: 116.312.5 MB/s, size: 35.6 KB)\n"
     ]
    },
    {
     "name": "stderr",
     "output_type": "stream",
     "text": [
      "\u001b[34m\u001b[1mval: \u001b[0mScanning C:\\Users\\Li Pin\\Documents\\FootfallCam\\badge_dataset\\labels.cache... 107 images, 85 backgrounds, 0 corrupt: 100%|██████████| 107/107 [00:00<?, ?it/s]\n"
     ]
    },
    {
     "name": "stdout",
     "output_type": "stream",
     "text": [
      "Plotting labels to runs\\detect\\clip-detector\\labels.jpg... \n",
      "\u001b[34m\u001b[1moptimizer:\u001b[0m 'optimizer=auto' found, ignoring 'lr0=0.01' and 'momentum=0.937' and determining best 'optimizer', 'lr0' and 'momentum' automatically... \n",
      "\u001b[34m\u001b[1moptimizer:\u001b[0m AdamW(lr=0.002, momentum=0.9) with parameter groups 57 weight(decay=0.0), 64 weight(decay=0.0005), 63 bias(decay=0.0)\n",
      "Image sizes 640 train, 640 val\n",
      "Using 8 dataloader workers\n",
      "Logging results to \u001b[1mruns\\detect\\clip-detector\u001b[0m\n",
      "Starting training for 50 epochs...\n",
      "\n",
      "      Epoch    GPU_mem   box_loss   cls_loss   dfl_loss  Instances       Size\n"
     ]
    },
    {
     "name": "stderr",
     "output_type": "stream",
     "text": [
      "       1/50      1.89G      1.847      242.9     0.8383          0        640: 100%|██████████| 14/14 [00:05<00:00,  2.60it/s]\n",
      "                 Class     Images  Instances      Box(P          R      mAP50  mAP50-95): 100%|██████████| 7/7 [00:00<00:00,  8.28it/s]"
     ]
    },
    {
     "name": "stdout",
     "output_type": "stream",
     "text": [
      "                   all        107         22          0          0          0          0\n"
     ]
    },
    {
     "name": "stderr",
     "output_type": "stream",
     "text": [
      "\n"
     ]
    },
    {
     "name": "stdout",
     "output_type": "stream",
     "text": [
      "\n",
      "      Epoch    GPU_mem   box_loss   cls_loss   dfl_loss  Instances       Size\n"
     ]
    },
    {
     "name": "stderr",
     "output_type": "stream",
     "text": [
      "       2/50      2.21G      1.852      196.4     0.8527          1        640: 100%|██████████| 14/14 [00:01<00:00,  7.56it/s]\n",
      "                 Class     Images  Instances      Box(P          R      mAP50  mAP50-95): 100%|██████████| 7/7 [00:00<00:00,  9.90it/s]"
     ]
    },
    {
     "name": "stdout",
     "output_type": "stream",
     "text": [
      "                   all        107         22          0          0          0          0\n"
     ]
    },
    {
     "name": "stderr",
     "output_type": "stream",
     "text": [
      "\n"
     ]
    },
    {
     "name": "stdout",
     "output_type": "stream",
     "text": [
      "\n",
      "      Epoch    GPU_mem   box_loss   cls_loss   dfl_loss  Instances       Size\n"
     ]
    },
    {
     "name": "stderr",
     "output_type": "stream",
     "text": [
      "       3/50      2.25G      2.833      50.77       1.09          0        640: 100%|██████████| 14/14 [00:01<00:00,  8.72it/s]\n",
      "                 Class     Images  Instances      Box(P          R      mAP50  mAP50-95): 100%|██████████| 7/7 [00:00<00:00, 10.23it/s]"
     ]
    },
    {
     "name": "stdout",
     "output_type": "stream",
     "text": [
      "                   all        107         22   6.23e-05     0.0909   3.82e-05   1.51e-05\n"
     ]
    },
    {
     "name": "stderr",
     "output_type": "stream",
     "text": [
      "\n"
     ]
    },
    {
     "name": "stdout",
     "output_type": "stream",
     "text": [
      "\n",
      "      Epoch    GPU_mem   box_loss   cls_loss   dfl_loss  Instances       Size\n"
     ]
    },
    {
     "name": "stderr",
     "output_type": "stream",
     "text": [
      "       4/50      2.25G      2.756      22.24     0.9541          1        640: 100%|██████████| 14/14 [00:01<00:00,  8.72it/s]\n",
      "                 Class     Images  Instances      Box(P          R      mAP50  mAP50-95): 100%|██████████| 7/7 [00:00<00:00,  7.73it/s]"
     ]
    },
    {
     "name": "stdout",
     "output_type": "stream",
     "text": [
      "                   all        107         22   0.000706      0.182   0.000406    0.00017\n"
     ]
    },
    {
     "name": "stderr",
     "output_type": "stream",
     "text": [
      "\n"
     ]
    },
    {
     "name": "stdout",
     "output_type": "stream",
     "text": [
      "\n",
      "      Epoch    GPU_mem   box_loss   cls_loss   dfl_loss  Instances       Size\n"
     ]
    },
    {
     "name": "stderr",
     "output_type": "stream",
     "text": [
      "       5/50      2.25G       2.62      17.28      1.061          1        640: 100%|██████████| 14/14 [00:02<00:00,  5.31it/s]\n",
      "                 Class     Images  Instances      Box(P          R      mAP50  mAP50-95): 100%|██████████| 7/7 [00:01<00:00,  5.38it/s]"
     ]
    },
    {
     "name": "stdout",
     "output_type": "stream",
     "text": [
      "                   all        107         22   6.24e-05     0.0909   3.46e-05      1e-05\n"
     ]
    },
    {
     "name": "stderr",
     "output_type": "stream",
     "text": [
      "\n"
     ]
    },
    {
     "name": "stdout",
     "output_type": "stream",
     "text": [
      "\n",
      "      Epoch    GPU_mem   box_loss   cls_loss   dfl_loss  Instances       Size\n"
     ]
    },
    {
     "name": "stderr",
     "output_type": "stream",
     "text": [
      "       6/50      2.29G      2.639      10.52     0.9527          1        640: 100%|██████████| 14/14 [00:03<00:00,  3.60it/s]\n",
      "                 Class     Images  Instances      Box(P          R      mAP50  mAP50-95): 100%|██████████| 7/7 [00:01<00:00,  4.67it/s]"
     ]
    },
    {
     "name": "stdout",
     "output_type": "stream",
     "text": [
      "                   all        107         22          0          0          0          0\n"
     ]
    },
    {
     "name": "stderr",
     "output_type": "stream",
     "text": [
      "\n"
     ]
    },
    {
     "name": "stdout",
     "output_type": "stream",
     "text": [
      "\n",
      "      Epoch    GPU_mem   box_loss   cls_loss   dfl_loss  Instances       Size\n"
     ]
    },
    {
     "name": "stderr",
     "output_type": "stream",
     "text": [
      "       7/50      2.29G      2.281      6.051     0.8452          1        640: 100%|██████████| 14/14 [00:04<00:00,  3.39it/s]\n",
      "                 Class     Images  Instances      Box(P          R      mAP50  mAP50-95): 100%|██████████| 7/7 [00:01<00:00,  5.05it/s]"
     ]
    },
    {
     "name": "stdout",
     "output_type": "stream",
     "text": [
      "                   all        107         22     0.0128     0.0455     0.0111    0.00222\n"
     ]
    },
    {
     "name": "stderr",
     "output_type": "stream",
     "text": [
      "\n"
     ]
    },
    {
     "name": "stdout",
     "output_type": "stream",
     "text": [
      "\n",
      "      Epoch    GPU_mem   box_loss   cls_loss   dfl_loss  Instances       Size\n"
     ]
    },
    {
     "name": "stderr",
     "output_type": "stream",
     "text": [
      "       8/50      2.32G       2.12      5.193     0.8139          0        640: 100%|██████████| 14/14 [00:03<00:00,  3.55it/s]\n",
      "                 Class     Images  Instances      Box(P          R      mAP50  mAP50-95): 100%|██████████| 7/7 [00:01<00:00,  5.81it/s]"
     ]
    },
    {
     "name": "stdout",
     "output_type": "stream",
     "text": [
      "                   all        107         22          0          0          0          0\n"
     ]
    },
    {
     "name": "stderr",
     "output_type": "stream",
     "text": [
      "\n"
     ]
    },
    {
     "name": "stdout",
     "output_type": "stream",
     "text": [
      "\n",
      "      Epoch    GPU_mem   box_loss   cls_loss   dfl_loss  Instances       Size\n"
     ]
    },
    {
     "name": "stderr",
     "output_type": "stream",
     "text": [
      "       9/50      2.36G      2.812      4.337      1.133          1        640: 100%|██████████| 14/14 [00:03<00:00,  3.53it/s]\n",
      "                 Class     Images  Instances      Box(P          R      mAP50  mAP50-95): 100%|██████████| 7/7 [00:01<00:00,  4.81it/s]"
     ]
    },
    {
     "name": "stdout",
     "output_type": "stream",
     "text": [
      "                   all        107         22          0          0          0          0\n"
     ]
    },
    {
     "name": "stderr",
     "output_type": "stream",
     "text": [
      "\n"
     ]
    },
    {
     "name": "stdout",
     "output_type": "stream",
     "text": [
      "\n",
      "      Epoch    GPU_mem   box_loss   cls_loss   dfl_loss  Instances       Size\n"
     ]
    },
    {
     "name": "stderr",
     "output_type": "stream",
     "text": [
      "      10/50      2.36G      2.297      3.418     0.9242          1        640: 100%|██████████| 14/14 [00:03<00:00,  4.51it/s]\n",
      "                 Class     Images  Instances      Box(P          R      mAP50  mAP50-95): 100%|██████████| 7/7 [00:01<00:00,  6.54it/s]"
     ]
    },
    {
     "name": "stdout",
     "output_type": "stream",
     "text": [
      "                   all        107         22      0.791     0.0455     0.0463     0.0364\n"
     ]
    },
    {
     "name": "stderr",
     "output_type": "stream",
     "text": [
      "\n"
     ]
    },
    {
     "name": "stdout",
     "output_type": "stream",
     "text": [
      "\n",
      "      Epoch    GPU_mem   box_loss   cls_loss   dfl_loss  Instances       Size\n"
     ]
    },
    {
     "name": "stderr",
     "output_type": "stream",
     "text": [
      "      11/50      2.36G      2.922      2.635      1.181          1        640: 100%|██████████| 14/14 [00:08<00:00,  1.57it/s]\n",
      "                 Class     Images  Instances      Box(P          R      mAP50  mAP50-95): 100%|██████████| 7/7 [00:03<00:00,  2.04it/s]"
     ]
    },
    {
     "name": "stdout",
     "output_type": "stream",
     "text": [
      "                   all        107         22      0.916     0.0455     0.0589     0.0355\n"
     ]
    },
    {
     "name": "stderr",
     "output_type": "stream",
     "text": [
      "\n"
     ]
    },
    {
     "name": "stdout",
     "output_type": "stream",
     "text": [
      "\n",
      "      Epoch    GPU_mem   box_loss   cls_loss   dfl_loss  Instances       Size\n"
     ]
    },
    {
     "name": "stderr",
     "output_type": "stream",
     "text": [
      "      12/50       2.4G      2.701      2.913       1.02          1        640: 100%|██████████| 14/14 [00:08<00:00,  1.58it/s]\n",
      "                 Class     Images  Instances      Box(P          R      mAP50  mAP50-95): 100%|██████████| 7/7 [00:02<00:00,  2.34it/s]"
     ]
    },
    {
     "name": "stdout",
     "output_type": "stream",
     "text": [
      "                   all        107         22      0.697      0.136      0.173     0.0625\n"
     ]
    },
    {
     "name": "stderr",
     "output_type": "stream",
     "text": [
      "\n"
     ]
    },
    {
     "name": "stdout",
     "output_type": "stream",
     "text": [
      "\n",
      "      Epoch    GPU_mem   box_loss   cls_loss   dfl_loss  Instances       Size\n"
     ]
    },
    {
     "name": "stderr",
     "output_type": "stream",
     "text": [
      "      13/50       2.4G      2.307      4.076     0.8919          1        640: 100%|██████████| 14/14 [00:01<00:00,  8.59it/s]\n",
      "                 Class     Images  Instances      Box(P          R      mAP50  mAP50-95): 100%|██████████| 7/7 [00:00<00:00, 10.13it/s]"
     ]
    },
    {
     "name": "stdout",
     "output_type": "stream",
     "text": [
      "                   all        107         22      0.257      0.227      0.155     0.0575\n"
     ]
    },
    {
     "name": "stderr",
     "output_type": "stream",
     "text": [
      "\n"
     ]
    },
    {
     "name": "stdout",
     "output_type": "stream",
     "text": [
      "\n",
      "      Epoch    GPU_mem   box_loss   cls_loss   dfl_loss  Instances       Size\n"
     ]
    },
    {
     "name": "stderr",
     "output_type": "stream",
     "text": [
      "      14/50       2.4G      2.499      2.428     0.8802          0        640: 100%|██████████| 14/14 [00:01<00:00,  8.12it/s]\n",
      "                 Class     Images  Instances      Box(P          R      mAP50  mAP50-95): 100%|██████████| 7/7 [00:00<00:00,  9.00it/s]"
     ]
    },
    {
     "name": "stdout",
     "output_type": "stream",
     "text": [
      "                   all        107         22      0.882      0.364      0.373      0.136\n"
     ]
    },
    {
     "name": "stderr",
     "output_type": "stream",
     "text": [
      "\n"
     ]
    },
    {
     "name": "stdout",
     "output_type": "stream",
     "text": [
      "\n",
      "      Epoch    GPU_mem   box_loss   cls_loss   dfl_loss  Instances       Size\n"
     ]
    },
    {
     "name": "stderr",
     "output_type": "stream",
     "text": [
      "      15/50       2.4G      2.235      2.071     0.9439          0        640: 100%|██████████| 14/14 [00:01<00:00,  8.84it/s]\n",
      "                 Class     Images  Instances      Box(P          R      mAP50  mAP50-95): 100%|██████████| 7/7 [00:00<00:00, 10.35it/s]"
     ]
    },
    {
     "name": "stdout",
     "output_type": "stream",
     "text": [
      "                   all        107         22      0.614      0.455      0.467       0.16\n"
     ]
    },
    {
     "name": "stderr",
     "output_type": "stream",
     "text": [
      "\n"
     ]
    },
    {
     "name": "stdout",
     "output_type": "stream",
     "text": [
      "\n",
      "      Epoch    GPU_mem   box_loss   cls_loss   dfl_loss  Instances       Size\n"
     ]
    },
    {
     "name": "stderr",
     "output_type": "stream",
     "text": [
      "      16/50       2.4G      2.511      1.767     0.9395          2        640: 100%|██████████| 14/14 [00:01<00:00,  8.83it/s]\n",
      "                 Class     Images  Instances      Box(P          R      mAP50  mAP50-95): 100%|██████████| 7/7 [00:00<00:00, 11.17it/s]"
     ]
    },
    {
     "name": "stdout",
     "output_type": "stream",
     "text": [
      "                   all        107         22      0.749      0.543       0.55      0.229\n"
     ]
    },
    {
     "name": "stderr",
     "output_type": "stream",
     "text": [
      "\n"
     ]
    },
    {
     "name": "stdout",
     "output_type": "stream",
     "text": [
      "\n",
      "      Epoch    GPU_mem   box_loss   cls_loss   dfl_loss  Instances       Size\n"
     ]
    },
    {
     "name": "stderr",
     "output_type": "stream",
     "text": [
      "      17/50       2.4G      2.111      1.648     0.8194          0        640: 100%|██████████| 14/14 [00:01<00:00,  9.32it/s]\n",
      "                 Class     Images  Instances      Box(P          R      mAP50  mAP50-95): 100%|██████████| 7/7 [00:00<00:00, 11.88it/s]"
     ]
    },
    {
     "name": "stdout",
     "output_type": "stream",
     "text": [
      "                   all        107         22      0.593      0.409      0.426      0.184\n"
     ]
    },
    {
     "name": "stderr",
     "output_type": "stream",
     "text": [
      "\n"
     ]
    },
    {
     "name": "stdout",
     "output_type": "stream",
     "text": [
      "\n",
      "      Epoch    GPU_mem   box_loss   cls_loss   dfl_loss  Instances       Size\n"
     ]
    },
    {
     "name": "stderr",
     "output_type": "stream",
     "text": [
      "      18/50       2.4G      2.216      1.866     0.8261          1        640: 100%|██████████| 14/14 [00:07<00:00,  1.87it/s]\n",
      "                 Class     Images  Instances      Box(P          R      mAP50  mAP50-95): 100%|██████████| 7/7 [00:03<00:00,  1.76it/s]"
     ]
    },
    {
     "name": "stdout",
     "output_type": "stream",
     "text": [
      "                   all        107         22      0.712        0.5       0.53      0.156\n"
     ]
    },
    {
     "name": "stderr",
     "output_type": "stream",
     "text": [
      "\n"
     ]
    },
    {
     "name": "stdout",
     "output_type": "stream",
     "text": [
      "\n",
      "      Epoch    GPU_mem   box_loss   cls_loss   dfl_loss  Instances       Size\n"
     ]
    },
    {
     "name": "stderr",
     "output_type": "stream",
     "text": [
      "      19/50       2.4G      2.676       2.08      1.038          1        640: 100%|██████████| 14/14 [00:09<00:00,  1.53it/s]\n",
      "                 Class     Images  Instances      Box(P          R      mAP50  mAP50-95): 100%|██████████| 7/7 [00:03<00:00,  1.87it/s]"
     ]
    },
    {
     "name": "stdout",
     "output_type": "stream",
     "text": [
      "                   all        107         22      0.584      0.636      0.624      0.178\n"
     ]
    },
    {
     "name": "stderr",
     "output_type": "stream",
     "text": [
      "\n"
     ]
    },
    {
     "name": "stdout",
     "output_type": "stream",
     "text": [
      "\n",
      "      Epoch    GPU_mem   box_loss   cls_loss   dfl_loss  Instances       Size\n"
     ]
    },
    {
     "name": "stderr",
     "output_type": "stream",
     "text": [
      "      20/50       2.4G      2.234      1.803     0.9481          0        640: 100%|██████████| 14/14 [00:09<00:00,  1.55it/s]\n",
      "                 Class     Images  Instances      Box(P          R      mAP50  mAP50-95): 100%|██████████| 7/7 [00:03<00:00,  1.80it/s]"
     ]
    },
    {
     "name": "stdout",
     "output_type": "stream",
     "text": [
      "                   all        107         22      0.562      0.591      0.605      0.162\n"
     ]
    },
    {
     "name": "stderr",
     "output_type": "stream",
     "text": [
      "\n"
     ]
    },
    {
     "name": "stdout",
     "output_type": "stream",
     "text": [
      "\n",
      "      Epoch    GPU_mem   box_loss   cls_loss   dfl_loss  Instances       Size\n"
     ]
    },
    {
     "name": "stderr",
     "output_type": "stream",
     "text": [
      "      21/50       2.4G      2.561      1.839     0.9427          1        640: 100%|██████████| 14/14 [00:09<00:00,  1.54it/s]\n",
      "                 Class     Images  Instances      Box(P          R      mAP50  mAP50-95): 100%|██████████| 7/7 [00:04<00:00,  1.72it/s]"
     ]
    },
    {
     "name": "stdout",
     "output_type": "stream",
     "text": [
      "                   all        107         22      0.497      0.636      0.538      0.196\n"
     ]
    },
    {
     "name": "stderr",
     "output_type": "stream",
     "text": [
      "\n"
     ]
    },
    {
     "name": "stdout",
     "output_type": "stream",
     "text": [
      "\n",
      "      Epoch    GPU_mem   box_loss   cls_loss   dfl_loss  Instances       Size\n"
     ]
    },
    {
     "name": "stderr",
     "output_type": "stream",
     "text": [
      "      22/50       2.4G      2.213      1.373      0.891          1        640: 100%|██████████| 14/14 [00:09<00:00,  1.48it/s]\n",
      "                 Class     Images  Instances      Box(P          R      mAP50  mAP50-95): 100%|██████████| 7/7 [00:03<00:00,  1.82it/s]"
     ]
    },
    {
     "name": "stdout",
     "output_type": "stream",
     "text": [
      "                   all        107         22      0.562      0.727      0.587      0.188\n"
     ]
    },
    {
     "name": "stderr",
     "output_type": "stream",
     "text": [
      "\n"
     ]
    },
    {
     "name": "stdout",
     "output_type": "stream",
     "text": [
      "\n",
      "      Epoch    GPU_mem   box_loss   cls_loss   dfl_loss  Instances       Size\n"
     ]
    },
    {
     "name": "stderr",
     "output_type": "stream",
     "text": [
      "      23/50       2.4G      2.411      1.808     0.8647          1        640: 100%|██████████| 14/14 [00:08<00:00,  1.56it/s]\n",
      "                 Class     Images  Instances      Box(P          R      mAP50  mAP50-95): 100%|██████████| 7/7 [00:04<00:00,  1.74it/s]"
     ]
    },
    {
     "name": "stdout",
     "output_type": "stream",
     "text": [
      "                   all        107         22      0.603      0.773      0.604      0.178\n"
     ]
    },
    {
     "name": "stderr",
     "output_type": "stream",
     "text": [
      "\n"
     ]
    },
    {
     "name": "stdout",
     "output_type": "stream",
     "text": [
      "\n",
      "      Epoch    GPU_mem   box_loss   cls_loss   dfl_loss  Instances       Size\n"
     ]
    },
    {
     "name": "stderr",
     "output_type": "stream",
     "text": [
      "      24/50       2.4G      2.137      1.483     0.8273          1        640: 100%|██████████| 14/14 [00:09<00:00,  1.50it/s]\n",
      "                 Class     Images  Instances      Box(P          R      mAP50  mAP50-95): 100%|██████████| 7/7 [00:03<00:00,  1.85it/s]"
     ]
    },
    {
     "name": "stdout",
     "output_type": "stream",
     "text": [
      "                   all        107         22       0.59      0.719      0.628      0.229\n"
     ]
    },
    {
     "name": "stderr",
     "output_type": "stream",
     "text": [
      "\n"
     ]
    },
    {
     "name": "stdout",
     "output_type": "stream",
     "text": [
      "\n",
      "      Epoch    GPU_mem   box_loss   cls_loss   dfl_loss  Instances       Size\n"
     ]
    },
    {
     "name": "stderr",
     "output_type": "stream",
     "text": [
      "      25/50      2.43G      2.302      1.349     0.8812          0        640: 100%|██████████| 14/14 [00:09<00:00,  1.55it/s]\n",
      "                 Class     Images  Instances      Box(P          R      mAP50  mAP50-95): 100%|██████████| 7/7 [00:03<00:00,  1.82it/s]"
     ]
    },
    {
     "name": "stdout",
     "output_type": "stream",
     "text": [
      "                   all        107         22        0.6      0.773      0.647      0.287\n"
     ]
    },
    {
     "name": "stderr",
     "output_type": "stream",
     "text": [
      "\n"
     ]
    },
    {
     "name": "stdout",
     "output_type": "stream",
     "text": [
      "\n",
      "      Epoch    GPU_mem   box_loss   cls_loss   dfl_loss  Instances       Size\n"
     ]
    },
    {
     "name": "stderr",
     "output_type": "stream",
     "text": [
      "      26/50      2.43G       1.98      1.287     0.9037          2        640: 100%|██████████| 14/14 [00:08<00:00,  1.64it/s]\n",
      "                 Class     Images  Instances      Box(P          R      mAP50  mAP50-95): 100%|██████████| 7/7 [00:00<00:00,  8.99it/s]"
     ]
    },
    {
     "name": "stdout",
     "output_type": "stream",
     "text": [
      "                   all        107         22       0.66      0.818      0.728      0.278\n"
     ]
    },
    {
     "name": "stderr",
     "output_type": "stream",
     "text": [
      "\n"
     ]
    },
    {
     "name": "stdout",
     "output_type": "stream",
     "text": [
      "\n",
      "      Epoch    GPU_mem   box_loss   cls_loss   dfl_loss  Instances       Size\n"
     ]
    },
    {
     "name": "stderr",
     "output_type": "stream",
     "text": [
      "      27/50      2.43G      2.121      1.038     0.7998          0        640: 100%|██████████| 14/14 [00:01<00:00,  8.71it/s]\n",
      "                 Class     Images  Instances      Box(P          R      mAP50  mAP50-95): 100%|██████████| 7/7 [00:00<00:00, 11.14it/s]"
     ]
    },
    {
     "name": "stdout",
     "output_type": "stream",
     "text": [
      "                   all        107         22      0.692      0.716      0.713       0.28\n"
     ]
    },
    {
     "name": "stderr",
     "output_type": "stream",
     "text": [
      "\n"
     ]
    },
    {
     "name": "stdout",
     "output_type": "stream",
     "text": [
      "\n",
      "      Epoch    GPU_mem   box_loss   cls_loss   dfl_loss  Instances       Size\n"
     ]
    },
    {
     "name": "stderr",
     "output_type": "stream",
     "text": [
      "      28/50      2.43G      2.276      1.656     0.9684          0        640: 100%|██████████| 14/14 [00:01<00:00,  9.16it/s]\n",
      "                 Class     Images  Instances      Box(P          R      mAP50  mAP50-95): 100%|██████████| 7/7 [00:00<00:00, 12.21it/s]"
     ]
    },
    {
     "name": "stdout",
     "output_type": "stream",
     "text": [
      "                   all        107         22      0.816      0.818      0.759      0.242\n"
     ]
    },
    {
     "name": "stderr",
     "output_type": "stream",
     "text": [
      "\n"
     ]
    },
    {
     "name": "stdout",
     "output_type": "stream",
     "text": [
      "\n",
      "      Epoch    GPU_mem   box_loss   cls_loss   dfl_loss  Instances       Size\n"
     ]
    },
    {
     "name": "stderr",
     "output_type": "stream",
     "text": [
      "      29/50      2.43G      2.092      1.376     0.8395          2        640: 100%|██████████| 14/14 [00:01<00:00,  9.30it/s]\n",
      "                 Class     Images  Instances      Box(P          R      mAP50  mAP50-95): 100%|██████████| 7/7 [00:00<00:00, 12.08it/s]"
     ]
    },
    {
     "name": "stdout",
     "output_type": "stream",
     "text": [
      "                   all        107         22      0.764      0.773      0.764      0.237\n"
     ]
    },
    {
     "name": "stderr",
     "output_type": "stream",
     "text": [
      "\n"
     ]
    },
    {
     "name": "stdout",
     "output_type": "stream",
     "text": [
      "\n",
      "      Epoch    GPU_mem   box_loss   cls_loss   dfl_loss  Instances       Size\n"
     ]
    },
    {
     "name": "stderr",
     "output_type": "stream",
     "text": [
      "      30/50      2.43G      2.047      1.381     0.8654          0        640: 100%|██████████| 14/14 [00:01<00:00,  9.26it/s]\n",
      "                 Class     Images  Instances      Box(P          R      mAP50  mAP50-95): 100%|██████████| 7/7 [00:00<00:00, 12.58it/s]"
     ]
    },
    {
     "name": "stdout",
     "output_type": "stream",
     "text": [
      "                   all        107         22      0.686      0.893      0.765      0.264\n"
     ]
    },
    {
     "name": "stderr",
     "output_type": "stream",
     "text": [
      "\n"
     ]
    },
    {
     "name": "stdout",
     "output_type": "stream",
     "text": [
      "\n",
      "      Epoch    GPU_mem   box_loss   cls_loss   dfl_loss  Instances       Size\n"
     ]
    },
    {
     "name": "stderr",
     "output_type": "stream",
     "text": [
      "      31/50      2.43G      1.859      1.262     0.7572          1        640: 100%|██████████| 14/14 [00:01<00:00,  9.42it/s]\n",
      "                 Class     Images  Instances      Box(P          R      mAP50  mAP50-95): 100%|██████████| 7/7 [00:00<00:00, 12.49it/s]"
     ]
    },
    {
     "name": "stdout",
     "output_type": "stream",
     "text": [
      "                   all        107         22      0.751      0.822      0.757      0.275\n"
     ]
    },
    {
     "name": "stderr",
     "output_type": "stream",
     "text": [
      "\n"
     ]
    },
    {
     "name": "stdout",
     "output_type": "stream",
     "text": [
      "\n",
      "      Epoch    GPU_mem   box_loss   cls_loss   dfl_loss  Instances       Size\n"
     ]
    },
    {
     "name": "stderr",
     "output_type": "stream",
     "text": [
      "      32/50      2.43G      2.306      1.424     0.9591          1        640: 100%|██████████| 14/14 [00:01<00:00,  9.15it/s]\n",
      "                 Class     Images  Instances      Box(P          R      mAP50  mAP50-95): 100%|██████████| 7/7 [00:00<00:00, 11.90it/s]"
     ]
    },
    {
     "name": "stdout",
     "output_type": "stream",
     "text": [
      "                   all        107         22      0.823      0.845      0.785      0.291\n"
     ]
    },
    {
     "name": "stderr",
     "output_type": "stream",
     "text": [
      "\n"
     ]
    },
    {
     "name": "stdout",
     "output_type": "stream",
     "text": [
      "\n",
      "      Epoch    GPU_mem   box_loss   cls_loss   dfl_loss  Instances       Size\n"
     ]
    },
    {
     "name": "stderr",
     "output_type": "stream",
     "text": [
      "      33/50      2.43G      2.312       1.28      1.022          2        640: 100%|██████████| 14/14 [00:01<00:00,  9.07it/s]\n",
      "                 Class     Images  Instances      Box(P          R      mAP50  mAP50-95): 100%|██████████| 7/7 [00:00<00:00, 11.33it/s]"
     ]
    },
    {
     "name": "stdout",
     "output_type": "stream",
     "text": [
      "                   all        107         22      0.716      0.773      0.685      0.251\n"
     ]
    },
    {
     "name": "stderr",
     "output_type": "stream",
     "text": [
      "\n"
     ]
    },
    {
     "name": "stdout",
     "output_type": "stream",
     "text": [
      "\n",
      "      Epoch    GPU_mem   box_loss   cls_loss   dfl_loss  Instances       Size\n"
     ]
    },
    {
     "name": "stderr",
     "output_type": "stream",
     "text": [
      "      34/50      2.43G       1.69     0.9943     0.7333          3        640: 100%|██████████| 14/14 [00:01<00:00,  9.40it/s]\n",
      "                 Class     Images  Instances      Box(P          R      mAP50  mAP50-95): 100%|██████████| 7/7 [00:00<00:00, 11.78it/s]"
     ]
    },
    {
     "name": "stdout",
     "output_type": "stream",
     "text": [
      "                   all        107         22      0.828      0.864      0.821      0.296\n"
     ]
    },
    {
     "name": "stderr",
     "output_type": "stream",
     "text": [
      "\n"
     ]
    },
    {
     "name": "stdout",
     "output_type": "stream",
     "text": [
      "\n",
      "      Epoch    GPU_mem   box_loss   cls_loss   dfl_loss  Instances       Size\n"
     ]
    },
    {
     "name": "stderr",
     "output_type": "stream",
     "text": [
      "      35/50      2.43G       2.21      1.164     0.8857          0        640: 100%|██████████| 14/14 [00:01<00:00,  9.26it/s]\n",
      "                 Class     Images  Instances      Box(P          R      mAP50  mAP50-95): 100%|██████████| 7/7 [00:00<00:00, 11.92it/s]"
     ]
    },
    {
     "name": "stdout",
     "output_type": "stream",
     "text": [
      "                   all        107         22      0.839      0.864      0.821      0.297\n"
     ]
    },
    {
     "name": "stderr",
     "output_type": "stream",
     "text": [
      "\n"
     ]
    },
    {
     "name": "stdout",
     "output_type": "stream",
     "text": [
      "\n",
      "      Epoch    GPU_mem   box_loss   cls_loss   dfl_loss  Instances       Size\n"
     ]
    },
    {
     "name": "stderr",
     "output_type": "stream",
     "text": [
      "      36/50      2.43G      1.858      1.028     0.8625          2        640: 100%|██████████| 14/14 [00:01<00:00,  9.21it/s]\n",
      "                 Class     Images  Instances      Box(P          R      mAP50  mAP50-95): 100%|██████████| 7/7 [00:00<00:00, 11.63it/s]"
     ]
    },
    {
     "name": "stdout",
     "output_type": "stream",
     "text": [
      "                   all        107         22      0.859      0.864      0.852      0.319\n"
     ]
    },
    {
     "name": "stderr",
     "output_type": "stream",
     "text": [
      "\n"
     ]
    },
    {
     "name": "stdout",
     "output_type": "stream",
     "text": [
      "\n",
      "      Epoch    GPU_mem   box_loss   cls_loss   dfl_loss  Instances       Size\n"
     ]
    },
    {
     "name": "stderr",
     "output_type": "stream",
     "text": [
      "      37/50      2.43G       2.08      1.266     0.8557          1        640: 100%|██████████| 14/14 [00:01<00:00,  8.80it/s]\n",
      "                 Class     Images  Instances      Box(P          R      mAP50  mAP50-95): 100%|██████████| 7/7 [00:00<00:00, 11.93it/s]"
     ]
    },
    {
     "name": "stdout",
     "output_type": "stream",
     "text": [
      "                   all        107         22      0.857      0.815      0.848      0.315\n"
     ]
    },
    {
     "name": "stderr",
     "output_type": "stream",
     "text": [
      "\n"
     ]
    },
    {
     "name": "stdout",
     "output_type": "stream",
     "text": [
      "\n",
      "      Epoch    GPU_mem   box_loss   cls_loss   dfl_loss  Instances       Size\n"
     ]
    },
    {
     "name": "stderr",
     "output_type": "stream",
     "text": [
      "      38/50      2.43G      1.743      0.962     0.8182          1        640: 100%|██████████| 14/14 [00:01<00:00,  9.07it/s]\n",
      "                 Class     Images  Instances      Box(P          R      mAP50  mAP50-95): 100%|██████████| 7/7 [00:00<00:00, 11.65it/s]"
     ]
    },
    {
     "name": "stdout",
     "output_type": "stream",
     "text": [
      "                   all        107         22      0.809      0.772      0.764      0.325\n"
     ]
    },
    {
     "name": "stderr",
     "output_type": "stream",
     "text": [
      "\n"
     ]
    },
    {
     "name": "stdout",
     "output_type": "stream",
     "text": [
      "\n",
      "      Epoch    GPU_mem   box_loss   cls_loss   dfl_loss  Instances       Size\n"
     ]
    },
    {
     "name": "stderr",
     "output_type": "stream",
     "text": [
      "      39/50      2.43G      2.056     0.9838     0.9259          2        640: 100%|██████████| 14/14 [00:01<00:00,  9.35it/s]\n",
      "                 Class     Images  Instances      Box(P          R      mAP50  mAP50-95): 100%|██████████| 7/7 [00:00<00:00, 12.16it/s]"
     ]
    },
    {
     "name": "stdout",
     "output_type": "stream",
     "text": [
      "                   all        107         22      0.815      0.773      0.779      0.331\n"
     ]
    },
    {
     "name": "stderr",
     "output_type": "stream",
     "text": [
      "\n"
     ]
    },
    {
     "name": "stdout",
     "output_type": "stream",
     "text": [
      "\n",
      "      Epoch    GPU_mem   box_loss   cls_loss   dfl_loss  Instances       Size\n"
     ]
    },
    {
     "name": "stderr",
     "output_type": "stream",
     "text": [
      "      40/50      2.43G      2.168      1.019       1.03          2        640: 100%|██████████| 14/14 [00:01<00:00,  9.10it/s]\n",
      "                 Class     Images  Instances      Box(P          R      mAP50  mAP50-95): 100%|██████████| 7/7 [00:00<00:00, 12.59it/s]"
     ]
    },
    {
     "name": "stdout",
     "output_type": "stream",
     "text": [
      "                   all        107         22      0.819      0.864      0.846      0.336\n"
     ]
    },
    {
     "name": "stderr",
     "output_type": "stream",
     "text": [
      "\n"
     ]
    },
    {
     "name": "stdout",
     "output_type": "stream",
     "text": [
      "Closing dataloader mosaic\n",
      "\n",
      "      Epoch    GPU_mem   box_loss   cls_loss   dfl_loss  Instances       Size\n"
     ]
    },
    {
     "name": "stderr",
     "output_type": "stream",
     "text": [
      "      41/50      2.43G       1.58     0.8439     0.7222          1        640: 100%|██████████| 14/14 [00:03<00:00,  3.57it/s]\n",
      "                 Class     Images  Instances      Box(P          R      mAP50  mAP50-95): 100%|██████████| 7/7 [00:00<00:00, 12.55it/s]"
     ]
    },
    {
     "name": "stdout",
     "output_type": "stream",
     "text": [
      "                   all        107         22      0.818      0.864      0.847      0.311\n"
     ]
    },
    {
     "name": "stderr",
     "output_type": "stream",
     "text": [
      "\n"
     ]
    },
    {
     "name": "stdout",
     "output_type": "stream",
     "text": [
      "\n",
      "      Epoch    GPU_mem   box_loss   cls_loss   dfl_loss  Instances       Size\n"
     ]
    },
    {
     "name": "stderr",
     "output_type": "stream",
     "text": [
      "      42/50      2.46G      1.402     0.8044     0.7225          0        640: 100%|██████████| 14/14 [00:01<00:00,  9.46it/s]\n",
      "                 Class     Images  Instances      Box(P          R      mAP50  mAP50-95): 100%|██████████| 7/7 [00:00<00:00, 12.67it/s]"
     ]
    },
    {
     "name": "stdout",
     "output_type": "stream",
     "text": [
      "                   all        107         22      0.851      0.864      0.847      0.306\n"
     ]
    },
    {
     "name": "stderr",
     "output_type": "stream",
     "text": [
      "\n"
     ]
    },
    {
     "name": "stdout",
     "output_type": "stream",
     "text": [
      "\n",
      "      Epoch    GPU_mem   box_loss   cls_loss   dfl_loss  Instances       Size\n"
     ]
    },
    {
     "name": "stderr",
     "output_type": "stream",
     "text": [
      "      43/50      2.46G      2.001     0.8355     0.8479          2        640: 100%|██████████| 14/14 [00:01<00:00,  9.51it/s]\n",
      "                 Class     Images  Instances      Box(P          R      mAP50  mAP50-95): 100%|██████████| 7/7 [00:00<00:00, 12.91it/s]"
     ]
    },
    {
     "name": "stdout",
     "output_type": "stream",
     "text": [
      "                   all        107         22      0.901      0.864      0.849      0.306\n"
     ]
    },
    {
     "name": "stderr",
     "output_type": "stream",
     "text": [
      "\n"
     ]
    },
    {
     "name": "stdout",
     "output_type": "stream",
     "text": [
      "\n",
      "      Epoch    GPU_mem   box_loss   cls_loss   dfl_loss  Instances       Size\n"
     ]
    },
    {
     "name": "stderr",
     "output_type": "stream",
     "text": [
      "      44/50      2.46G      1.495     0.9011     0.6814          1        640: 100%|██████████| 14/14 [00:01<00:00,  9.63it/s]\n",
      "                 Class     Images  Instances      Box(P          R      mAP50  mAP50-95): 100%|██████████| 7/7 [00:00<00:00, 13.27it/s]"
     ]
    },
    {
     "name": "stdout",
     "output_type": "stream",
     "text": [
      "                   all        107         22      0.892      0.864      0.855      0.323\n"
     ]
    },
    {
     "name": "stderr",
     "output_type": "stream",
     "text": [
      "\n"
     ]
    },
    {
     "name": "stdout",
     "output_type": "stream",
     "text": [
      "\n",
      "      Epoch    GPU_mem   box_loss   cls_loss   dfl_loss  Instances       Size\n"
     ]
    },
    {
     "name": "stderr",
     "output_type": "stream",
     "text": [
      "      45/50      2.46G      1.529      0.919     0.7737          1        640: 100%|██████████| 14/14 [00:01<00:00,  9.46it/s]\n",
      "                 Class     Images  Instances      Box(P          R      mAP50  mAP50-95): 100%|██████████| 7/7 [00:00<00:00, 13.16it/s]"
     ]
    },
    {
     "name": "stdout",
     "output_type": "stream",
     "text": [
      "                   all        107         22      0.981      0.909       0.94       0.37\n"
     ]
    },
    {
     "name": "stderr",
     "output_type": "stream",
     "text": [
      "\n"
     ]
    },
    {
     "name": "stdout",
     "output_type": "stream",
     "text": [
      "\n",
      "      Epoch    GPU_mem   box_loss   cls_loss   dfl_loss  Instances       Size\n"
     ]
    },
    {
     "name": "stderr",
     "output_type": "stream",
     "text": [
      "      46/50      2.46G      1.437     0.9298     0.7361          1        640: 100%|██████████| 14/14 [00:01<00:00,  9.43it/s]\n",
      "                 Class     Images  Instances      Box(P          R      mAP50  mAP50-95): 100%|██████████| 7/7 [00:00<00:00, 12.40it/s]"
     ]
    },
    {
     "name": "stdout",
     "output_type": "stream",
     "text": [
      "                   all        107         22      0.987      0.909      0.942      0.379\n"
     ]
    },
    {
     "name": "stderr",
     "output_type": "stream",
     "text": [
      "\n"
     ]
    },
    {
     "name": "stdout",
     "output_type": "stream",
     "text": [
      "\n",
      "      Epoch    GPU_mem   box_loss   cls_loss   dfl_loss  Instances       Size\n"
     ]
    },
    {
     "name": "stderr",
     "output_type": "stream",
     "text": [
      "      47/50      2.46G      1.856     0.9353     0.7868          1        640: 100%|██████████| 14/14 [00:01<00:00,  9.21it/s]\n",
      "                 Class     Images  Instances      Box(P          R      mAP50  mAP50-95): 100%|██████████| 7/7 [00:00<00:00, 12.99it/s]"
     ]
    },
    {
     "name": "stdout",
     "output_type": "stream",
     "text": [
      "                   all        107         22      0.986      0.909      0.942      0.386\n"
     ]
    },
    {
     "name": "stderr",
     "output_type": "stream",
     "text": [
      "\n"
     ]
    },
    {
     "name": "stdout",
     "output_type": "stream",
     "text": [
      "\n",
      "      Epoch    GPU_mem   box_loss   cls_loss   dfl_loss  Instances       Size\n"
     ]
    },
    {
     "name": "stderr",
     "output_type": "stream",
     "text": [
      "      48/50      2.46G      1.455     0.6806     0.7009          1        640: 100%|██████████| 14/14 [00:01<00:00,  9.57it/s]\n",
      "                 Class     Images  Instances      Box(P          R      mAP50  mAP50-95): 100%|██████████| 7/7 [00:00<00:00, 13.33it/s]"
     ]
    },
    {
     "name": "stdout",
     "output_type": "stream",
     "text": [
      "                   all        107         22      0.933      0.864      0.883      0.372\n"
     ]
    },
    {
     "name": "stderr",
     "output_type": "stream",
     "text": [
      "\n"
     ]
    },
    {
     "name": "stdout",
     "output_type": "stream",
     "text": [
      "\n",
      "      Epoch    GPU_mem   box_loss   cls_loss   dfl_loss  Instances       Size\n"
     ]
    },
    {
     "name": "stderr",
     "output_type": "stream",
     "text": [
      "      49/50      2.46G      1.686     0.8659     0.8168          1        640: 100%|██████████| 14/14 [00:01<00:00,  9.48it/s]\n",
      "                 Class     Images  Instances      Box(P          R      mAP50  mAP50-95): 100%|██████████| 7/7 [00:00<00:00, 13.30it/s]"
     ]
    },
    {
     "name": "stdout",
     "output_type": "stream",
     "text": [
      "                   all        107         22       0.93      0.864      0.883      0.373\n"
     ]
    },
    {
     "name": "stderr",
     "output_type": "stream",
     "text": [
      "\n"
     ]
    },
    {
     "name": "stdout",
     "output_type": "stream",
     "text": [
      "\n",
      "      Epoch    GPU_mem   box_loss   cls_loss   dfl_loss  Instances       Size\n"
     ]
    },
    {
     "name": "stderr",
     "output_type": "stream",
     "text": [
      "      50/50      2.46G      1.572     0.7081     0.7298          1        640: 100%|██████████| 14/14 [00:01<00:00,  9.53it/s]\n",
      "                 Class     Images  Instances      Box(P          R      mAP50  mAP50-95): 100%|██████████| 7/7 [00:00<00:00, 13.13it/s]"
     ]
    },
    {
     "name": "stdout",
     "output_type": "stream",
     "text": [
      "                   all        107         22      0.977      0.909      0.943      0.391\n"
     ]
    },
    {
     "name": "stderr",
     "output_type": "stream",
     "text": [
      "\n"
     ]
    },
    {
     "name": "stdout",
     "output_type": "stream",
     "text": [
      "\n",
      "50 epochs completed in 0.078 hours.\n",
      "Optimizer stripped from runs\\detect\\clip-detector\\weights\\last.pt, 22.5MB\n",
      "Optimizer stripped from runs\\detect\\clip-detector\\weights\\best.pt, 22.5MB\n",
      "\n",
      "Validating runs\\detect\\clip-detector\\weights\\best.pt...\n",
      "Ultralytics 8.3.152  Python-3.11.13 torch-2.7.1+cu118 CUDA:0 (NVIDIA GeForce RTX 2070, 8192MiB)\n",
      "Model summary (fused): 72 layers, 11,125,971 parameters, 0 gradients, 28.4 GFLOPs\n"
     ]
    },
    {
     "name": "stderr",
     "output_type": "stream",
     "text": [
      "                 Class     Images  Instances      Box(P          R      mAP50  mAP50-95): 100%|██████████| 7/7 [00:01<00:00,  6.07it/s]\n"
     ]
    },
    {
     "name": "stdout",
     "output_type": "stream",
     "text": [
      "                   all        107         22      0.755       0.84       0.78      0.384\n",
      "Speed: 0.2ms preprocess, 8.1ms inference, 0.0ms loss, 0.8ms postprocess per image\n",
      "Results saved to \u001b[1mruns\\detect\\clip-detector\u001b[0m\n"
     ]
    },
    {
     "data": {
      "text/plain": [
       "ultralytics.utils.metrics.DetMetrics object with attributes:\n",
       "\n",
       "ap_class_index: array([0])\n",
       "box: ultralytics.utils.metrics.Metric object\n",
       "confusion_matrix: <ultralytics.utils.metrics.ConfusionMatrix object at 0x0000023AF21BA550>\n",
       "curves: ['Precision-Recall(B)', 'F1-Confidence(B)', 'Precision-Confidence(B)', 'Recall-Confidence(B)']\n",
       "curves_results: [[array([          0,    0.001001,    0.002002,    0.003003,    0.004004,    0.005005,    0.006006,    0.007007,    0.008008,    0.009009,     0.01001,    0.011011,    0.012012,    0.013013,    0.014014,    0.015015,    0.016016,    0.017017,    0.018018,    0.019019,     0.02002,    0.021021,    0.022022,    0.023023,\n",
       "          0.024024,    0.025025,    0.026026,    0.027027,    0.028028,    0.029029,     0.03003,    0.031031,    0.032032,    0.033033,    0.034034,    0.035035,    0.036036,    0.037037,    0.038038,    0.039039,     0.04004,    0.041041,    0.042042,    0.043043,    0.044044,    0.045045,    0.046046,    0.047047,\n",
       "          0.048048,    0.049049,     0.05005,    0.051051,    0.052052,    0.053053,    0.054054,    0.055055,    0.056056,    0.057057,    0.058058,    0.059059,     0.06006,    0.061061,    0.062062,    0.063063,    0.064064,    0.065065,    0.066066,    0.067067,    0.068068,    0.069069,     0.07007,    0.071071,\n",
       "          0.072072,    0.073073,    0.074074,    0.075075,    0.076076,    0.077077,    0.078078,    0.079079,     0.08008,    0.081081,    0.082082,    0.083083,    0.084084,    0.085085,    0.086086,    0.087087,    0.088088,    0.089089,     0.09009,    0.091091,    0.092092,    0.093093,    0.094094,    0.095095,\n",
       "          0.096096,    0.097097,    0.098098,    0.099099,      0.1001,      0.1011,      0.1021,      0.1031,      0.1041,     0.10511,     0.10611,     0.10711,     0.10811,     0.10911,     0.11011,     0.11111,     0.11211,     0.11311,     0.11411,     0.11512,     0.11612,     0.11712,     0.11812,     0.11912,\n",
       "           0.12012,     0.12112,     0.12212,     0.12312,     0.12412,     0.12513,     0.12613,     0.12713,     0.12813,     0.12913,     0.13013,     0.13113,     0.13213,     0.13313,     0.13413,     0.13514,     0.13614,     0.13714,     0.13814,     0.13914,     0.14014,     0.14114,     0.14214,     0.14314,\n",
       "           0.14414,     0.14515,     0.14615,     0.14715,     0.14815,     0.14915,     0.15015,     0.15115,     0.15215,     0.15315,     0.15415,     0.15516,     0.15616,     0.15716,     0.15816,     0.15916,     0.16016,     0.16116,     0.16216,     0.16316,     0.16416,     0.16517,     0.16617,     0.16717,\n",
       "           0.16817,     0.16917,     0.17017,     0.17117,     0.17217,     0.17317,     0.17417,     0.17518,     0.17618,     0.17718,     0.17818,     0.17918,     0.18018,     0.18118,     0.18218,     0.18318,     0.18418,     0.18519,     0.18619,     0.18719,     0.18819,     0.18919,     0.19019,     0.19119,\n",
       "           0.19219,     0.19319,     0.19419,      0.1952,      0.1962,      0.1972,      0.1982,      0.1992,      0.2002,      0.2012,      0.2022,      0.2032,      0.2042,     0.20521,     0.20621,     0.20721,     0.20821,     0.20921,     0.21021,     0.21121,     0.21221,     0.21321,     0.21421,     0.21522,\n",
       "           0.21622,     0.21722,     0.21822,     0.21922,     0.22022,     0.22122,     0.22222,     0.22322,     0.22422,     0.22523,     0.22623,     0.22723,     0.22823,     0.22923,     0.23023,     0.23123,     0.23223,     0.23323,     0.23423,     0.23524,     0.23624,     0.23724,     0.23824,     0.23924,\n",
       "           0.24024,     0.24124,     0.24224,     0.24324,     0.24424,     0.24525,     0.24625,     0.24725,     0.24825,     0.24925,     0.25025,     0.25125,     0.25225,     0.25325,     0.25425,     0.25526,     0.25626,     0.25726,     0.25826,     0.25926,     0.26026,     0.26126,     0.26226,     0.26326,\n",
       "           0.26426,     0.26527,     0.26627,     0.26727,     0.26827,     0.26927,     0.27027,     0.27127,     0.27227,     0.27327,     0.27427,     0.27528,     0.27628,     0.27728,     0.27828,     0.27928,     0.28028,     0.28128,     0.28228,     0.28328,     0.28428,     0.28529,     0.28629,     0.28729,\n",
       "           0.28829,     0.28929,     0.29029,     0.29129,     0.29229,     0.29329,     0.29429,      0.2953,      0.2963,      0.2973,      0.2983,      0.2993,      0.3003,      0.3013,      0.3023,      0.3033,      0.3043,     0.30531,     0.30631,     0.30731,     0.30831,     0.30931,     0.31031,     0.31131,\n",
       "           0.31231,     0.31331,     0.31431,     0.31532,     0.31632,     0.31732,     0.31832,     0.31932,     0.32032,     0.32132,     0.32232,     0.32332,     0.32432,     0.32533,     0.32633,     0.32733,     0.32833,     0.32933,     0.33033,     0.33133,     0.33233,     0.33333,     0.33433,     0.33534,\n",
       "           0.33634,     0.33734,     0.33834,     0.33934,     0.34034,     0.34134,     0.34234,     0.34334,     0.34434,     0.34535,     0.34635,     0.34735,     0.34835,     0.34935,     0.35035,     0.35135,     0.35235,     0.35335,     0.35435,     0.35536,     0.35636,     0.35736,     0.35836,     0.35936,\n",
       "           0.36036,     0.36136,     0.36236,     0.36336,     0.36436,     0.36537,     0.36637,     0.36737,     0.36837,     0.36937,     0.37037,     0.37137,     0.37237,     0.37337,     0.37437,     0.37538,     0.37638,     0.37738,     0.37838,     0.37938,     0.38038,     0.38138,     0.38238,     0.38338,\n",
       "           0.38438,     0.38539,     0.38639,     0.38739,     0.38839,     0.38939,     0.39039,     0.39139,     0.39239,     0.39339,     0.39439,      0.3954,      0.3964,      0.3974,      0.3984,      0.3994,      0.4004,      0.4014,      0.4024,      0.4034,      0.4044,     0.40541,     0.40641,     0.40741,\n",
       "           0.40841,     0.40941,     0.41041,     0.41141,     0.41241,     0.41341,     0.41441,     0.41542,     0.41642,     0.41742,     0.41842,     0.41942,     0.42042,     0.42142,     0.42242,     0.42342,     0.42442,     0.42543,     0.42643,     0.42743,     0.42843,     0.42943,     0.43043,     0.43143,\n",
       "           0.43243,     0.43343,     0.43443,     0.43544,     0.43644,     0.43744,     0.43844,     0.43944,     0.44044,     0.44144,     0.44244,     0.44344,     0.44444,     0.44545,     0.44645,     0.44745,     0.44845,     0.44945,     0.45045,     0.45145,     0.45245,     0.45345,     0.45445,     0.45546,\n",
       "           0.45646,     0.45746,     0.45846,     0.45946,     0.46046,     0.46146,     0.46246,     0.46346,     0.46446,     0.46547,     0.46647,     0.46747,     0.46847,     0.46947,     0.47047,     0.47147,     0.47247,     0.47347,     0.47447,     0.47548,     0.47648,     0.47748,     0.47848,     0.47948,\n",
       "           0.48048,     0.48148,     0.48248,     0.48348,     0.48448,     0.48549,     0.48649,     0.48749,     0.48849,     0.48949,     0.49049,     0.49149,     0.49249,     0.49349,     0.49449,      0.4955,      0.4965,      0.4975,      0.4985,      0.4995,      0.5005,      0.5015,      0.5025,      0.5035,\n",
       "            0.5045,     0.50551,     0.50651,     0.50751,     0.50851,     0.50951,     0.51051,     0.51151,     0.51251,     0.51351,     0.51451,     0.51552,     0.51652,     0.51752,     0.51852,     0.51952,     0.52052,     0.52152,     0.52252,     0.52352,     0.52452,     0.52553,     0.52653,     0.52753,\n",
       "           0.52853,     0.52953,     0.53053,     0.53153,     0.53253,     0.53353,     0.53453,     0.53554,     0.53654,     0.53754,     0.53854,     0.53954,     0.54054,     0.54154,     0.54254,     0.54354,     0.54454,     0.54555,     0.54655,     0.54755,     0.54855,     0.54955,     0.55055,     0.55155,\n",
       "           0.55255,     0.55355,     0.55455,     0.55556,     0.55656,     0.55756,     0.55856,     0.55956,     0.56056,     0.56156,     0.56256,     0.56356,     0.56456,     0.56557,     0.56657,     0.56757,     0.56857,     0.56957,     0.57057,     0.57157,     0.57257,     0.57357,     0.57457,     0.57558,\n",
       "           0.57658,     0.57758,     0.57858,     0.57958,     0.58058,     0.58158,     0.58258,     0.58358,     0.58458,     0.58559,     0.58659,     0.58759,     0.58859,     0.58959,     0.59059,     0.59159,     0.59259,     0.59359,     0.59459,      0.5956,      0.5966,      0.5976,      0.5986,      0.5996,\n",
       "            0.6006,      0.6016,      0.6026,      0.6036,      0.6046,     0.60561,     0.60661,     0.60761,     0.60861,     0.60961,     0.61061,     0.61161,     0.61261,     0.61361,     0.61461,     0.61562,     0.61662,     0.61762,     0.61862,     0.61962,     0.62062,     0.62162,     0.62262,     0.62362,\n",
       "           0.62462,     0.62563,     0.62663,     0.62763,     0.62863,     0.62963,     0.63063,     0.63163,     0.63263,     0.63363,     0.63463,     0.63564,     0.63664,     0.63764,     0.63864,     0.63964,     0.64064,     0.64164,     0.64264,     0.64364,     0.64464,     0.64565,     0.64665,     0.64765,\n",
       "           0.64865,     0.64965,     0.65065,     0.65165,     0.65265,     0.65365,     0.65465,     0.65566,     0.65666,     0.65766,     0.65866,     0.65966,     0.66066,     0.66166,     0.66266,     0.66366,     0.66466,     0.66567,     0.66667,     0.66767,     0.66867,     0.66967,     0.67067,     0.67167,\n",
       "           0.67267,     0.67367,     0.67467,     0.67568,     0.67668,     0.67768,     0.67868,     0.67968,     0.68068,     0.68168,     0.68268,     0.68368,     0.68468,     0.68569,     0.68669,     0.68769,     0.68869,     0.68969,     0.69069,     0.69169,     0.69269,     0.69369,     0.69469,      0.6957,\n",
       "            0.6967,      0.6977,      0.6987,      0.6997,      0.7007,      0.7017,      0.7027,      0.7037,      0.7047,     0.70571,     0.70671,     0.70771,     0.70871,     0.70971,     0.71071,     0.71171,     0.71271,     0.71371,     0.71471,     0.71572,     0.71672,     0.71772,     0.71872,     0.71972,\n",
       "           0.72072,     0.72172,     0.72272,     0.72372,     0.72472,     0.72573,     0.72673,     0.72773,     0.72873,     0.72973,     0.73073,     0.73173,     0.73273,     0.73373,     0.73473,     0.73574,     0.73674,     0.73774,     0.73874,     0.73974,     0.74074,     0.74174,     0.74274,     0.74374,\n",
       "           0.74474,     0.74575,     0.74675,     0.74775,     0.74875,     0.74975,     0.75075,     0.75175,     0.75275,     0.75375,     0.75475,     0.75576,     0.75676,     0.75776,     0.75876,     0.75976,     0.76076,     0.76176,     0.76276,     0.76376,     0.76476,     0.76577,     0.76677,     0.76777,\n",
       "           0.76877,     0.76977,     0.77077,     0.77177,     0.77277,     0.77377,     0.77477,     0.77578,     0.77678,     0.77778,     0.77878,     0.77978,     0.78078,     0.78178,     0.78278,     0.78378,     0.78478,     0.78579,     0.78679,     0.78779,     0.78879,     0.78979,     0.79079,     0.79179,\n",
       "           0.79279,     0.79379,     0.79479,      0.7958,      0.7968,      0.7978,      0.7988,      0.7998,      0.8008,      0.8018,      0.8028,      0.8038,      0.8048,     0.80581,     0.80681,     0.80781,     0.80881,     0.80981,     0.81081,     0.81181,     0.81281,     0.81381,     0.81481,     0.81582,\n",
       "           0.81682,     0.81782,     0.81882,     0.81982,     0.82082,     0.82182,     0.82282,     0.82382,     0.82482,     0.82583,     0.82683,     0.82783,     0.82883,     0.82983,     0.83083,     0.83183,     0.83283,     0.83383,     0.83483,     0.83584,     0.83684,     0.83784,     0.83884,     0.83984,\n",
       "           0.84084,     0.84184,     0.84284,     0.84384,     0.84484,     0.84585,     0.84685,     0.84785,     0.84885,     0.84985,     0.85085,     0.85185,     0.85285,     0.85385,     0.85485,     0.85586,     0.85686,     0.85786,     0.85886,     0.85986,     0.86086,     0.86186,     0.86286,     0.86386,\n",
       "           0.86486,     0.86587,     0.86687,     0.86787,     0.86887,     0.86987,     0.87087,     0.87187,     0.87287,     0.87387,     0.87487,     0.87588,     0.87688,     0.87788,     0.87888,     0.87988,     0.88088,     0.88188,     0.88288,     0.88388,     0.88488,     0.88589,     0.88689,     0.88789,\n",
       "           0.88889,     0.88989,     0.89089,     0.89189,     0.89289,     0.89389,     0.89489,      0.8959,      0.8969,      0.8979,      0.8989,      0.8999,      0.9009,      0.9019,      0.9029,      0.9039,      0.9049,     0.90591,     0.90691,     0.90791,     0.90891,     0.90991,     0.91091,     0.91191,\n",
       "           0.91291,     0.91391,     0.91491,     0.91592,     0.91692,     0.91792,     0.91892,     0.91992,     0.92092,     0.92192,     0.92292,     0.92392,     0.92492,     0.92593,     0.92693,     0.92793,     0.92893,     0.92993,     0.93093,     0.93193,     0.93293,     0.93393,     0.93493,     0.93594,\n",
       "           0.93694,     0.93794,     0.93894,     0.93994,     0.94094,     0.94194,     0.94294,     0.94394,     0.94494,     0.94595,     0.94695,     0.94795,     0.94895,     0.94995,     0.95095,     0.95195,     0.95295,     0.95395,     0.95495,     0.95596,     0.95696,     0.95796,     0.95896,     0.95996,\n",
       "           0.96096,     0.96196,     0.96296,     0.96396,     0.96496,     0.96597,     0.96697,     0.96797,     0.96897,     0.96997,     0.97097,     0.97197,     0.97297,     0.97397,     0.97497,     0.97598,     0.97698,     0.97798,     0.97898,     0.97998,     0.98098,     0.98198,     0.98298,     0.98398,\n",
       "           0.98498,     0.98599,     0.98699,     0.98799,     0.98899,     0.98999,     0.99099,     0.99199,     0.99299,     0.99399,     0.99499,       0.996,       0.997,       0.998,       0.999,           1]), array([[          1,           1,           1,           1,           1,           1,           1,           1,           1,           1,           1,           1,           1,           1,           1,           1,           1,           1,           1,           1,           1,           1,           1,\n",
       "                  1,           1,           1,           1,           1,           1,           1,           1,           1,           1,           1,           1,           1,           1,           1,           1,           1,           1,           1,           1,           1,           1,           1,\n",
       "                  1,           1,           1,           1,           1,           1,           1,           1,           1,           1,           1,           1,           1,           1,           1,           1,           1,           1,           1,           1,           1,           1,           1,\n",
       "                  1,           1,           1,           1,           1,           1,           1,           1,           1,           1,           1,           1,           1,           1,           1,           1,           1,           1,           1,           1,           1,           1,         0.9,\n",
       "                0.9,         0.9,         0.9,         0.9,         0.9,         0.9,         0.9,         0.9,         0.9,         0.9,         0.9,         0.9,         0.9,         0.9,         0.9,         0.9,         0.9,         0.9,         0.9,         0.9,         0.9,         0.9,         0.9,\n",
       "                0.9,         0.9,         0.9,         0.9,         0.9,         0.9,         0.9,         0.9,         0.9,         0.9,         0.9,         0.9,         0.9,         0.9,         0.9,         0.9,         0.9,         0.9,         0.9,         0.9,         0.9,         0.9,         0.9,\n",
       "                0.9,         0.9,         0.9,         0.9,         0.9,         0.9,         0.9,         0.9,         0.9,         0.9,         0.9,         0.9,         0.9,         0.9,         0.9,         0.9,         0.9,         0.9,         0.9,         0.9,         0.9,         0.9,         0.9,\n",
       "                0.9,         0.9,         0.9,         0.9,         0.9,         0.9,         0.9,         0.9,         0.9,         0.9,         0.9,         0.9,         0.9,         0.9,         0.9,         0.9,         0.9,         0.9,         0.9,         0.9,         0.9,         0.9,         0.9,\n",
       "                0.9,         0.9,         0.9,         0.9,         0.9,         0.9,         0.9,         0.9,         0.9,         0.9,         0.9,         0.9,         0.9,         0.9,         0.9,         0.9,         0.9,         0.9,         0.9,         0.9,         0.9,         0.9,         0.9,\n",
       "                0.9,         0.9,         0.9,         0.9,         0.9,         0.9,         0.9,         0.9,         0.9,         0.9,         0.9,         0.9,         0.9,         0.9,         0.9,         0.9,         0.9,         0.9,         0.9,         0.9,         0.9,         0.9,         0.9,\n",
       "                0.9,         0.9,         0.9,         0.9,         0.9,         0.9,         0.9,         0.9,         0.9,         0.9,         0.9,         0.9,         0.9,         0.9,         0.9,         0.9,         0.9,         0.9,         0.9,         0.9,         0.9,         0.9,         0.9,\n",
       "                0.9,         0.9,         0.9,         0.9,         0.9,         0.9,         0.9,         0.9,         0.9,         0.9,         0.9,         0.9,         0.9,         0.9,         0.9,         0.9,         0.9,         0.9,         0.9,         0.9,         0.9,         0.9,         0.9,\n",
       "                0.9,         0.9,         0.9,         0.9,         0.9,         0.9,         0.9,         0.9,         0.9,         0.9,         0.9,         0.9,         0.9,         0.9,         0.9,         0.9,         0.9,         0.9,         0.9,         0.9,         0.9,         0.9,         0.9,\n",
       "                0.9,         0.9,         0.9,         0.9,         0.9,         0.9,         0.9,         0.9,         0.9,         0.9,         0.9,         0.9,         0.9,         0.9,         0.9,         0.9,         0.9,         0.9,         0.9,         0.9,         0.9,         0.9,         0.9,\n",
       "                0.9,         0.9,         0.9,         0.9,         0.9,         0.9,         0.9,         0.9,         0.9,         0.9,         0.9,         0.9,         0.9,         0.9,         0.9,         0.9,         0.9,         0.9,         0.9,         0.9,         0.9,         0.9,         0.9,\n",
       "                0.9,         0.9,         0.9,         0.9,         0.9,         0.9,         0.9,         0.9,         0.9,         0.9,         0.9,         0.9,         0.9,         0.9,         0.9,         0.9,         0.9,         0.9,         0.9,         0.9,         0.9,         0.9,         0.9,\n",
       "                0.9,         0.9,         0.9,         0.9,         0.9,         0.9,         0.9,         0.9,         0.9,         0.9,         0.9,         0.9,         0.9,         0.9,         0.9,         0.9,         0.9,         0.9,         0.9,         0.9,         0.9,         0.9,         0.9,\n",
       "                0.9,         0.9,         0.9,         0.9,         0.9,         0.9,         0.9,         0.9,         0.9,         0.9,         0.9,         0.9,         0.9,         0.9,         0.9,         0.9,         0.9,         0.9,     0.85714,     0.85714,     0.85714,     0.85714,     0.85714,\n",
       "            0.85714,     0.85714,     0.85714,     0.85714,     0.85714,     0.85714,     0.85714,     0.85714,     0.85714,     0.85714,     0.85714,     0.85714,     0.85714,     0.85714,     0.85714,     0.85714,     0.85714,     0.85714,     0.85714,     0.85714,     0.85714,     0.85714,     0.85714,\n",
       "            0.85714,     0.85714,     0.85714,     0.85714,     0.85714,     0.85714,     0.85714,     0.85714,     0.85714,     0.85714,     0.85714,     0.85714,     0.85714,     0.85714,     0.85714,     0.85714,     0.85714,     0.85714,     0.85714,     0.85714,     0.85714,     0.85714,     0.85714,\n",
       "            0.85714,     0.85714,     0.85714,     0.85714,     0.85714,     0.85714,     0.85714,     0.85714,     0.85714,     0.85714,     0.85714,     0.85714,     0.85714,     0.85714,     0.85714,     0.85714,     0.85714,     0.85714,     0.85714,     0.85714,     0.85714,     0.85714,     0.85714,\n",
       "            0.85714,     0.85714,     0.85714,     0.85714,     0.85714,     0.85714,     0.85714,     0.85714,     0.85714,     0.85714,     0.85714,     0.85714,     0.85714,     0.85714,     0.85714,     0.85714,     0.85714,     0.85714,     0.85714,     0.85714,     0.85714,     0.85714,     0.85714,\n",
       "            0.85714,     0.85714,     0.85714,     0.85714,     0.85714,     0.85714,     0.85714,     0.85714,     0.85714,     0.85714,     0.85714,     0.85714,     0.85714,     0.85714,     0.85714,     0.85714,     0.85714,     0.85714,     0.85714,     0.85714,     0.85714,     0.85714,     0.85714,\n",
       "            0.85714,     0.85714,     0.85714,     0.85714,     0.85714,     0.85714,     0.85714,     0.85714,     0.85714,     0.85714,     0.85714,     0.85714,     0.85714,     0.85714,     0.85714,     0.85714,     0.84211,     0.84211,     0.84211,     0.84211,     0.84211,     0.84211,     0.84211,\n",
       "            0.84211,     0.84211,     0.84211,     0.84211,     0.84211,     0.84211,     0.84211,     0.84211,     0.84211,     0.84211,     0.84211,     0.84211,     0.84211,     0.84211,     0.84211,     0.84211,     0.84211,     0.84211,     0.84211,     0.84211,     0.84211,     0.84211,     0.84211,\n",
       "            0.84211,     0.84211,     0.84211,     0.84211,     0.84211,     0.84211,     0.84211,     0.84211,     0.84211,     0.84211,     0.84211,     0.84211,     0.84211,     0.84211,     0.84211,     0.84211,     0.84211,     0.84211,     0.84211,     0.84211,     0.84211,     0.84211,     0.84211,\n",
       "            0.84211,     0.84211,     0.84211,     0.84211,     0.84211,     0.84211,     0.84211,     0.84211,     0.84211,     0.84211,     0.84211,     0.84211,     0.84211,     0.84211,     0.84211,     0.84211,     0.84211,     0.84211,     0.84211,     0.84211,     0.84211,     0.84211,     0.84211,\n",
       "            0.84211,     0.84211,     0.84211,     0.84211,     0.84211,     0.84211,     0.84211,     0.84211,     0.84211,     0.84211,     0.84211,     0.84211,     0.84211,     0.84211,     0.84211,     0.84211,     0.84211,     0.84211,     0.84211,     0.84211,     0.84211,     0.84211,     0.84211,\n",
       "            0.84211,     0.84211,     0.84211,     0.84211,     0.84211,     0.84211,     0.84211,     0.84211,     0.84211,     0.84211,     0.84211,     0.84211,     0.84211,     0.84211,     0.84211,     0.84211,     0.84211,     0.84211,     0.84211,     0.84211,     0.84211,     0.84211,     0.84211,\n",
       "            0.84211,     0.84211,     0.84211,     0.84211,     0.84211,     0.84211,     0.84211,     0.84211,     0.84211,     0.84211,     0.84211,     0.84211,     0.84211,     0.84211,     0.84211,     0.84211,     0.84211,     0.84211,     0.84211,     0.84211,     0.84211,     0.84211,     0.84211,\n",
       "            0.84211,     0.84211,     0.84211,     0.84211,     0.84211,     0.84211,     0.84211,     0.84211,     0.84211,     0.84211,     0.84211,     0.84211,     0.84211,     0.84211,     0.84211,     0.84211,     0.84211,     0.84211,     0.84211,     0.84211,     0.84211,     0.84211,     0.84211,\n",
       "            0.84211,     0.84211,     0.84211,     0.84211,     0.84211,     0.84211,     0.84211,     0.84211,     0.84211,     0.84211,     0.84211,     0.84211,     0.84211,     0.84211,     0.80952,     0.80952,     0.80952,     0.80952,     0.80952,     0.80952,     0.80952,     0.80952,     0.80952,\n",
       "            0.80952,     0.80952,     0.80952,     0.80952,     0.80952,     0.80952,     0.80952,     0.80952,     0.80952,     0.80952,     0.80952,     0.80952,     0.80952,     0.80952,     0.80952,     0.80952,     0.80952,     0.80952,     0.80952,     0.80952,     0.80952,     0.80952,     0.80952,\n",
       "            0.80952,     0.80952,     0.80952,     0.80952,     0.80952,     0.80952,     0.80952,     0.80952,     0.80952,     0.80952,     0.80952,     0.80952,     0.80952,     0.78261,     0.78261,     0.78261,     0.78261,     0.78261,     0.78261,     0.78261,     0.78261,     0.78261,     0.78261,\n",
       "            0.78261,     0.78261,     0.78261,     0.78261,     0.78261,     0.78261,     0.78261,     0.78261,     0.78261,     0.78261,     0.78261,     0.78261,     0.78261,     0.78261,     0.78261,     0.78261,     0.78261,     0.78261,     0.78261,     0.78261,     0.78261,     0.78261,     0.78261,\n",
       "            0.78261,     0.78261,     0.78261,     0.78261,     0.78261,     0.78261,     0.78261,     0.78261,     0.78261,     0.78261,     0.78261,     0.78261,     0.78261,        0.76,        0.76,        0.76,        0.76,        0.76,        0.76,        0.76,        0.76,        0.76,        0.76,\n",
       "               0.76,        0.76,        0.76,        0.76,        0.76,        0.76,        0.76,        0.76,        0.76,        0.76,        0.76,        0.76,        0.76,        0.76,        0.76,        0.76,        0.76,        0.76,        0.76,        0.76,        0.76,        0.76,        0.76,\n",
       "               0.76,        0.76,        0.76,        0.76,        0.76,        0.76,        0.76,        0.76,        0.76,        0.76,        0.76,        0.76,         0.5,         0.5,         0.5,         0.5,         0.5,         0.5,         0.5,         0.5,         0.5,         0.5,         0.5,\n",
       "                0.5,         0.5,         0.5,         0.5,         0.5,         0.5,         0.5,         0.5,         0.5,         0.5,         0.5,         0.5,         0.5,         0.5,         0.5,         0.5,         0.5,         0.5,         0.5,         0.5,         0.5,         0.5,         0.5,\n",
       "                0.5,         0.5,         0.5,         0.5,         0.5,         0.5,         0.5,         0.5,         0.5,         0.5,         0.5,         0.5,    0.097156,    0.096076,    0.094997,    0.093917,    0.092838,    0.091758,    0.090679,    0.089599,     0.08852,     0.08744,    0.086361,\n",
       "           0.085281,    0.084202,    0.083122,    0.082043,    0.080963,    0.079884,    0.078804,    0.077725,    0.076645,    0.075566,    0.074486,    0.073407,    0.072327,    0.071248,    0.070168,    0.069089,    0.068009,     0.06693,     0.06585,    0.064771,    0.063691,    0.062612,    0.061532,\n",
       "           0.060453,    0.059373,    0.058294,    0.057214,    0.056135,    0.055055,    0.053976,    0.052896,    0.051817,    0.050737,    0.049658,    0.048578,    0.047498,    0.046419,    0.045339,     0.04426,     0.04318,    0.042101,    0.041021,    0.039942,    0.038862,    0.037783,    0.036703,\n",
       "           0.035624,    0.034544,    0.033465,    0.032385,    0.031306,    0.030226,    0.029147,    0.028067,    0.026988,    0.025908,    0.024829,    0.023749,     0.02267,     0.02159,    0.020511,    0.019431,    0.018352,    0.017272,    0.016193,    0.015113,    0.014034,    0.012954,    0.011875,\n",
       "           0.010795,   0.0097156,   0.0086361,   0.0075566,   0.0064771,   0.0053976,    0.004318,   0.0032385,    0.002159,   0.0010795,           0]]), 'Recall', 'Precision'], [array([          0,    0.001001,    0.002002,    0.003003,    0.004004,    0.005005,    0.006006,    0.007007,    0.008008,    0.009009,     0.01001,    0.011011,    0.012012,    0.013013,    0.014014,    0.015015,    0.016016,    0.017017,    0.018018,    0.019019,     0.02002,    0.021021,    0.022022,    0.023023,\n",
       "          0.024024,    0.025025,    0.026026,    0.027027,    0.028028,    0.029029,     0.03003,    0.031031,    0.032032,    0.033033,    0.034034,    0.035035,    0.036036,    0.037037,    0.038038,    0.039039,     0.04004,    0.041041,    0.042042,    0.043043,    0.044044,    0.045045,    0.046046,    0.047047,\n",
       "          0.048048,    0.049049,     0.05005,    0.051051,    0.052052,    0.053053,    0.054054,    0.055055,    0.056056,    0.057057,    0.058058,    0.059059,     0.06006,    0.061061,    0.062062,    0.063063,    0.064064,    0.065065,    0.066066,    0.067067,    0.068068,    0.069069,     0.07007,    0.071071,\n",
       "          0.072072,    0.073073,    0.074074,    0.075075,    0.076076,    0.077077,    0.078078,    0.079079,     0.08008,    0.081081,    0.082082,    0.083083,    0.084084,    0.085085,    0.086086,    0.087087,    0.088088,    0.089089,     0.09009,    0.091091,    0.092092,    0.093093,    0.094094,    0.095095,\n",
       "          0.096096,    0.097097,    0.098098,    0.099099,      0.1001,      0.1011,      0.1021,      0.1031,      0.1041,     0.10511,     0.10611,     0.10711,     0.10811,     0.10911,     0.11011,     0.11111,     0.11211,     0.11311,     0.11411,     0.11512,     0.11612,     0.11712,     0.11812,     0.11912,\n",
       "           0.12012,     0.12112,     0.12212,     0.12312,     0.12412,     0.12513,     0.12613,     0.12713,     0.12813,     0.12913,     0.13013,     0.13113,     0.13213,     0.13313,     0.13413,     0.13514,     0.13614,     0.13714,     0.13814,     0.13914,     0.14014,     0.14114,     0.14214,     0.14314,\n",
       "           0.14414,     0.14515,     0.14615,     0.14715,     0.14815,     0.14915,     0.15015,     0.15115,     0.15215,     0.15315,     0.15415,     0.15516,     0.15616,     0.15716,     0.15816,     0.15916,     0.16016,     0.16116,     0.16216,     0.16316,     0.16416,     0.16517,     0.16617,     0.16717,\n",
       "           0.16817,     0.16917,     0.17017,     0.17117,     0.17217,     0.17317,     0.17417,     0.17518,     0.17618,     0.17718,     0.17818,     0.17918,     0.18018,     0.18118,     0.18218,     0.18318,     0.18418,     0.18519,     0.18619,     0.18719,     0.18819,     0.18919,     0.19019,     0.19119,\n",
       "           0.19219,     0.19319,     0.19419,      0.1952,      0.1962,      0.1972,      0.1982,      0.1992,      0.2002,      0.2012,      0.2022,      0.2032,      0.2042,     0.20521,     0.20621,     0.20721,     0.20821,     0.20921,     0.21021,     0.21121,     0.21221,     0.21321,     0.21421,     0.21522,\n",
       "           0.21622,     0.21722,     0.21822,     0.21922,     0.22022,     0.22122,     0.22222,     0.22322,     0.22422,     0.22523,     0.22623,     0.22723,     0.22823,     0.22923,     0.23023,     0.23123,     0.23223,     0.23323,     0.23423,     0.23524,     0.23624,     0.23724,     0.23824,     0.23924,\n",
       "           0.24024,     0.24124,     0.24224,     0.24324,     0.24424,     0.24525,     0.24625,     0.24725,     0.24825,     0.24925,     0.25025,     0.25125,     0.25225,     0.25325,     0.25425,     0.25526,     0.25626,     0.25726,     0.25826,     0.25926,     0.26026,     0.26126,     0.26226,     0.26326,\n",
       "           0.26426,     0.26527,     0.26627,     0.26727,     0.26827,     0.26927,     0.27027,     0.27127,     0.27227,     0.27327,     0.27427,     0.27528,     0.27628,     0.27728,     0.27828,     0.27928,     0.28028,     0.28128,     0.28228,     0.28328,     0.28428,     0.28529,     0.28629,     0.28729,\n",
       "           0.28829,     0.28929,     0.29029,     0.29129,     0.29229,     0.29329,     0.29429,      0.2953,      0.2963,      0.2973,      0.2983,      0.2993,      0.3003,      0.3013,      0.3023,      0.3033,      0.3043,     0.30531,     0.30631,     0.30731,     0.30831,     0.30931,     0.31031,     0.31131,\n",
       "           0.31231,     0.31331,     0.31431,     0.31532,     0.31632,     0.31732,     0.31832,     0.31932,     0.32032,     0.32132,     0.32232,     0.32332,     0.32432,     0.32533,     0.32633,     0.32733,     0.32833,     0.32933,     0.33033,     0.33133,     0.33233,     0.33333,     0.33433,     0.33534,\n",
       "           0.33634,     0.33734,     0.33834,     0.33934,     0.34034,     0.34134,     0.34234,     0.34334,     0.34434,     0.34535,     0.34635,     0.34735,     0.34835,     0.34935,     0.35035,     0.35135,     0.35235,     0.35335,     0.35435,     0.35536,     0.35636,     0.35736,     0.35836,     0.35936,\n",
       "           0.36036,     0.36136,     0.36236,     0.36336,     0.36436,     0.36537,     0.36637,     0.36737,     0.36837,     0.36937,     0.37037,     0.37137,     0.37237,     0.37337,     0.37437,     0.37538,     0.37638,     0.37738,     0.37838,     0.37938,     0.38038,     0.38138,     0.38238,     0.38338,\n",
       "           0.38438,     0.38539,     0.38639,     0.38739,     0.38839,     0.38939,     0.39039,     0.39139,     0.39239,     0.39339,     0.39439,      0.3954,      0.3964,      0.3974,      0.3984,      0.3994,      0.4004,      0.4014,      0.4024,      0.4034,      0.4044,     0.40541,     0.40641,     0.40741,\n",
       "           0.40841,     0.40941,     0.41041,     0.41141,     0.41241,     0.41341,     0.41441,     0.41542,     0.41642,     0.41742,     0.41842,     0.41942,     0.42042,     0.42142,     0.42242,     0.42342,     0.42442,     0.42543,     0.42643,     0.42743,     0.42843,     0.42943,     0.43043,     0.43143,\n",
       "           0.43243,     0.43343,     0.43443,     0.43544,     0.43644,     0.43744,     0.43844,     0.43944,     0.44044,     0.44144,     0.44244,     0.44344,     0.44444,     0.44545,     0.44645,     0.44745,     0.44845,     0.44945,     0.45045,     0.45145,     0.45245,     0.45345,     0.45445,     0.45546,\n",
       "           0.45646,     0.45746,     0.45846,     0.45946,     0.46046,     0.46146,     0.46246,     0.46346,     0.46446,     0.46547,     0.46647,     0.46747,     0.46847,     0.46947,     0.47047,     0.47147,     0.47247,     0.47347,     0.47447,     0.47548,     0.47648,     0.47748,     0.47848,     0.47948,\n",
       "           0.48048,     0.48148,     0.48248,     0.48348,     0.48448,     0.48549,     0.48649,     0.48749,     0.48849,     0.48949,     0.49049,     0.49149,     0.49249,     0.49349,     0.49449,      0.4955,      0.4965,      0.4975,      0.4985,      0.4995,      0.5005,      0.5015,      0.5025,      0.5035,\n",
       "            0.5045,     0.50551,     0.50651,     0.50751,     0.50851,     0.50951,     0.51051,     0.51151,     0.51251,     0.51351,     0.51451,     0.51552,     0.51652,     0.51752,     0.51852,     0.51952,     0.52052,     0.52152,     0.52252,     0.52352,     0.52452,     0.52553,     0.52653,     0.52753,\n",
       "           0.52853,     0.52953,     0.53053,     0.53153,     0.53253,     0.53353,     0.53453,     0.53554,     0.53654,     0.53754,     0.53854,     0.53954,     0.54054,     0.54154,     0.54254,     0.54354,     0.54454,     0.54555,     0.54655,     0.54755,     0.54855,     0.54955,     0.55055,     0.55155,\n",
       "           0.55255,     0.55355,     0.55455,     0.55556,     0.55656,     0.55756,     0.55856,     0.55956,     0.56056,     0.56156,     0.56256,     0.56356,     0.56456,     0.56557,     0.56657,     0.56757,     0.56857,     0.56957,     0.57057,     0.57157,     0.57257,     0.57357,     0.57457,     0.57558,\n",
       "           0.57658,     0.57758,     0.57858,     0.57958,     0.58058,     0.58158,     0.58258,     0.58358,     0.58458,     0.58559,     0.58659,     0.58759,     0.58859,     0.58959,     0.59059,     0.59159,     0.59259,     0.59359,     0.59459,      0.5956,      0.5966,      0.5976,      0.5986,      0.5996,\n",
       "            0.6006,      0.6016,      0.6026,      0.6036,      0.6046,     0.60561,     0.60661,     0.60761,     0.60861,     0.60961,     0.61061,     0.61161,     0.61261,     0.61361,     0.61461,     0.61562,     0.61662,     0.61762,     0.61862,     0.61962,     0.62062,     0.62162,     0.62262,     0.62362,\n",
       "           0.62462,     0.62563,     0.62663,     0.62763,     0.62863,     0.62963,     0.63063,     0.63163,     0.63263,     0.63363,     0.63463,     0.63564,     0.63664,     0.63764,     0.63864,     0.63964,     0.64064,     0.64164,     0.64264,     0.64364,     0.64464,     0.64565,     0.64665,     0.64765,\n",
       "           0.64865,     0.64965,     0.65065,     0.65165,     0.65265,     0.65365,     0.65465,     0.65566,     0.65666,     0.65766,     0.65866,     0.65966,     0.66066,     0.66166,     0.66266,     0.66366,     0.66466,     0.66567,     0.66667,     0.66767,     0.66867,     0.66967,     0.67067,     0.67167,\n",
       "           0.67267,     0.67367,     0.67467,     0.67568,     0.67668,     0.67768,     0.67868,     0.67968,     0.68068,     0.68168,     0.68268,     0.68368,     0.68468,     0.68569,     0.68669,     0.68769,     0.68869,     0.68969,     0.69069,     0.69169,     0.69269,     0.69369,     0.69469,      0.6957,\n",
       "            0.6967,      0.6977,      0.6987,      0.6997,      0.7007,      0.7017,      0.7027,      0.7037,      0.7047,     0.70571,     0.70671,     0.70771,     0.70871,     0.70971,     0.71071,     0.71171,     0.71271,     0.71371,     0.71471,     0.71572,     0.71672,     0.71772,     0.71872,     0.71972,\n",
       "           0.72072,     0.72172,     0.72272,     0.72372,     0.72472,     0.72573,     0.72673,     0.72773,     0.72873,     0.72973,     0.73073,     0.73173,     0.73273,     0.73373,     0.73473,     0.73574,     0.73674,     0.73774,     0.73874,     0.73974,     0.74074,     0.74174,     0.74274,     0.74374,\n",
       "           0.74474,     0.74575,     0.74675,     0.74775,     0.74875,     0.74975,     0.75075,     0.75175,     0.75275,     0.75375,     0.75475,     0.75576,     0.75676,     0.75776,     0.75876,     0.75976,     0.76076,     0.76176,     0.76276,     0.76376,     0.76476,     0.76577,     0.76677,     0.76777,\n",
       "           0.76877,     0.76977,     0.77077,     0.77177,     0.77277,     0.77377,     0.77477,     0.77578,     0.77678,     0.77778,     0.77878,     0.77978,     0.78078,     0.78178,     0.78278,     0.78378,     0.78478,     0.78579,     0.78679,     0.78779,     0.78879,     0.78979,     0.79079,     0.79179,\n",
       "           0.79279,     0.79379,     0.79479,      0.7958,      0.7968,      0.7978,      0.7988,      0.7998,      0.8008,      0.8018,      0.8028,      0.8038,      0.8048,     0.80581,     0.80681,     0.80781,     0.80881,     0.80981,     0.81081,     0.81181,     0.81281,     0.81381,     0.81481,     0.81582,\n",
       "           0.81682,     0.81782,     0.81882,     0.81982,     0.82082,     0.82182,     0.82282,     0.82382,     0.82482,     0.82583,     0.82683,     0.82783,     0.82883,     0.82983,     0.83083,     0.83183,     0.83283,     0.83383,     0.83483,     0.83584,     0.83684,     0.83784,     0.83884,     0.83984,\n",
       "           0.84084,     0.84184,     0.84284,     0.84384,     0.84484,     0.84585,     0.84685,     0.84785,     0.84885,     0.84985,     0.85085,     0.85185,     0.85285,     0.85385,     0.85485,     0.85586,     0.85686,     0.85786,     0.85886,     0.85986,     0.86086,     0.86186,     0.86286,     0.86386,\n",
       "           0.86486,     0.86587,     0.86687,     0.86787,     0.86887,     0.86987,     0.87087,     0.87187,     0.87287,     0.87387,     0.87487,     0.87588,     0.87688,     0.87788,     0.87888,     0.87988,     0.88088,     0.88188,     0.88288,     0.88388,     0.88488,     0.88589,     0.88689,     0.88789,\n",
       "           0.88889,     0.88989,     0.89089,     0.89189,     0.89289,     0.89389,     0.89489,      0.8959,      0.8969,      0.8979,      0.8989,      0.8999,      0.9009,      0.9019,      0.9029,      0.9039,      0.9049,     0.90591,     0.90691,     0.90791,     0.90891,     0.90991,     0.91091,     0.91191,\n",
       "           0.91291,     0.91391,     0.91491,     0.91592,     0.91692,     0.91792,     0.91892,     0.91992,     0.92092,     0.92192,     0.92292,     0.92392,     0.92492,     0.92593,     0.92693,     0.92793,     0.92893,     0.92993,     0.93093,     0.93193,     0.93293,     0.93393,     0.93493,     0.93594,\n",
       "           0.93694,     0.93794,     0.93894,     0.93994,     0.94094,     0.94194,     0.94294,     0.94394,     0.94494,     0.94595,     0.94695,     0.94795,     0.94895,     0.94995,     0.95095,     0.95195,     0.95295,     0.95395,     0.95495,     0.95596,     0.95696,     0.95796,     0.95896,     0.95996,\n",
       "           0.96096,     0.96196,     0.96296,     0.96396,     0.96496,     0.96597,     0.96697,     0.96797,     0.96897,     0.96997,     0.97097,     0.97197,     0.97297,     0.97397,     0.97497,     0.97598,     0.97698,     0.97798,     0.97898,     0.97998,     0.98098,     0.98198,     0.98298,     0.98398,\n",
       "           0.98498,     0.98599,     0.98699,     0.98799,     0.98899,     0.98999,     0.99099,     0.99199,     0.99299,     0.99399,     0.99499,       0.996,       0.997,       0.998,       0.999,           1]), array([[    0.17699,     0.17699,     0.20765,     0.23517,     0.25243,     0.26697,     0.29078,      0.2999,     0.31607,     0.32548,     0.33635,      0.3511,     0.36204,     0.36984,      0.3758,     0.38123,     0.38498,      0.3865,     0.38802,     0.39621,      0.3977,     0.39918,     0.40442,\n",
       "            0.40632,     0.40867,     0.41481,     0.41933,      0.4218,     0.42278,     0.42376,     0.42473,     0.42579,     0.42723,     0.42868,     0.43011,     0.43065,     0.43119,     0.43173,     0.43227,     0.43281,     0.43334,     0.43388,     0.43442,     0.43497,     0.43557,     0.43617,\n",
       "            0.43677,     0.43737,     0.43797,     0.43856,     0.43916,     0.44009,     0.44168,     0.44326,     0.44514,     0.44792,     0.45054,     0.45297,     0.45488,     0.45583,     0.45677,     0.45772,     0.45867,     0.45961,     0.46164,     0.46389,     0.46562,     0.46673,     0.46784,\n",
       "            0.46895,     0.47005,     0.47622,     0.47719,     0.47816,     0.47913,      0.4801,     0.48107,      0.4827,     0.48792,     0.48835,     0.48879,     0.48922,     0.48966,     0.49009,     0.49052,     0.49096,     0.49139,     0.49182,     0.49225,     0.49269,     0.49312,     0.49355,\n",
       "            0.49398,      0.4944,     0.49483,     0.49525,     0.49568,      0.4961,     0.49653,     0.49695,     0.49737,      0.4978,     0.49822,     0.49864,     0.49906,     0.49949,     0.49991,     0.50048,     0.50109,      0.5017,      0.5023,     0.50291,     0.50352,     0.50412,     0.50473,\n",
       "            0.50534,     0.50594,     0.50823,     0.51497,     0.52347,     0.52686,     0.52797,     0.52908,     0.53019,     0.53129,      0.5324,     0.53629,     0.54116,     0.54195,     0.54274,     0.54353,     0.54432,     0.54511,      0.5459,     0.54668,     0.54747,     0.54841,     0.54959,\n",
       "            0.55077,     0.55195,     0.55313,      0.5543,     0.55547,     0.55855,     0.56176,      0.5642,     0.56585,      0.5675,     0.56915,     0.57079,     0.57491,     0.57976,      0.5801,     0.58043,     0.58077,      0.5811,     0.58143,     0.58177,      0.5821,     0.58244,     0.58277,\n",
       "             0.5831,     0.58344,     0.58377,      0.5841,     0.58444,     0.58477,      0.5851,     0.58543,     0.58576,      0.5861,     0.58643,     0.58676,     0.58709,     0.58742,     0.58775,     0.58808,     0.58987,     0.59287,     0.59586,     0.59727,     0.59768,     0.59809,      0.5985,\n",
       "            0.59891,     0.59932,     0.59972,     0.60013,     0.60054,     0.60095,     0.60136,     0.60177,     0.60217,     0.60258,     0.60299,     0.60339,      0.6038,      0.6042,     0.60461,     0.60502,     0.60542,     0.60583,     0.61249,     0.61567,     0.61603,     0.61639,     0.61675,\n",
       "             0.6171,     0.61746,     0.61782,     0.61817,     0.61853,     0.61889,     0.61924,      0.6196,     0.61995,     0.62031,     0.62066,     0.62102,     0.62137,     0.62173,     0.62208,     0.62244,     0.62279,     0.62314,      0.6235,     0.62385,      0.6242,     0.62455,     0.62491,\n",
       "            0.62524,     0.62557,      0.6259,     0.62623,     0.62656,     0.62689,     0.62722,     0.62755,     0.62788,     0.62821,     0.62854,     0.62887,      0.6292,     0.62953,     0.62985,     0.63018,     0.63051,     0.63084,     0.63117,     0.63149,     0.63182,     0.63215,     0.63247,\n",
       "             0.6328,     0.63313,     0.63345,     0.63378,      0.6341,     0.63443,     0.63476,     0.63524,     0.63588,     0.63652,     0.63716,      0.6378,     0.63844,     0.63907,     0.63971,     0.64035,     0.64098,     0.64162,     0.64225,     0.64288,     0.64352,     0.64415,     0.64478,\n",
       "            0.64392,     0.64079,     0.63766,     0.63452,     0.63138,     0.62823,     0.62508,     0.62494,     0.63102,     0.63389,      0.6348,      0.6357,      0.6366,     0.63751,      0.6384,      0.6393,      0.6402,     0.64109,     0.64199,     0.64288,     0.64377,     0.64476,     0.64581,\n",
       "            0.64685,     0.64789,     0.64892,     0.64996,     0.65099,     0.65202,     0.65305,     0.65408,     0.65511,     0.65582,     0.65651,     0.65719,     0.65788,     0.65857,     0.65925,     0.65994,     0.66062,     0.66131,     0.66199,     0.66267,     0.66335,     0.66403,     0.66471,\n",
       "            0.66539,     0.66606,     0.66677,     0.66776,     0.66874,     0.66972,      0.6707,     0.67168,     0.67266,     0.67364,     0.67461,     0.67558,     0.67655,     0.67752,     0.67849,     0.67943,     0.68038,     0.68132,     0.68227,     0.68321,     0.68414,     0.68508,     0.68602,\n",
       "            0.68695,     0.68788,     0.68881,     0.68974,     0.69067,     0.69371,     0.69747,      0.7012,     0.70439,     0.70651,     0.70861,     0.71071,      0.7128,     0.71488,     0.71695,     0.71761,     0.71826,      0.7189,     0.71954,     0.72018,     0.72082,     0.72146,      0.7221,\n",
       "            0.72273,     0.72337,     0.72401,     0.72464,     0.72527,     0.72591,     0.72654,     0.72717,      0.7278,     0.72843,     0.72906,     0.72969,     0.73032,     0.73489,     0.74519,     0.74548,     0.74578,     0.74608,     0.74637,     0.74667,     0.74697,     0.74726,     0.74756,\n",
       "            0.74785,     0.74815,     0.74844,     0.74874,     0.74903,     0.74933,     0.74962,     0.74991,     0.75021,      0.7505,     0.75079,     0.75109,     0.75138,     0.75167,     0.75197,     0.75226,     0.75255,     0.75284,     0.75314,     0.75343,     0.75372,     0.75401,      0.7543,\n",
       "            0.75459,     0.75489,     0.75518,     0.75547,     0.75576,     0.75605,     0.75634,     0.75663,     0.75692,     0.75721,      0.7575,     0.75779,     0.75808,     0.75836,     0.75865,     0.75894,     0.75923,     0.75952,     0.75981,     0.76026,     0.76103,     0.76181,     0.76258,\n",
       "            0.76336,     0.76413,      0.7649,     0.76567,     0.76644,     0.76721,     0.76798,     0.76874,      0.7695,     0.77027,     0.77103,     0.77179,     0.77255,     0.77331,     0.77406,     0.77482,     0.77564,     0.77721,     0.77877,     0.78032,     0.78187,     0.78341,     0.78495,\n",
       "            0.78648,     0.78801,     0.78954,     0.79106,     0.79183,     0.79211,     0.79238,     0.79265,     0.79293,      0.7932,     0.79348,     0.79375,     0.79402,      0.7943,     0.79457,     0.79484,     0.79511,     0.79539,     0.79566,     0.79593,      0.7962,     0.79648,     0.79675,\n",
       "            0.79702,     0.79729,     0.79756,     0.79783,      0.7981,     0.79838,     0.79865,     0.79892,     0.79919,     0.79946,     0.79973,         0.8,     0.80027,     0.80054,     0.80081,     0.80108,     0.80134,     0.80161,     0.80188,     0.80215,     0.80242,     0.80269,     0.80296,\n",
       "            0.80322,     0.80349,     0.80376,     0.80403,     0.80429,     0.80456,     0.80483,      0.8051,     0.80536,     0.80563,      0.8059,     0.80616,     0.80643,     0.80669,     0.80696,     0.80723,     0.80749,     0.80776,     0.80802,     0.80829,     0.80834,     0.80724,     0.80615,\n",
       "            0.80505,     0.80396,     0.80286,     0.80176,     0.80066,     0.79956,     0.79846,     0.79735,     0.79625,     0.79514,     0.79403,     0.79293,     0.79182,     0.79071,     0.78959,     0.78848,     0.78737,     0.78625,     0.78513,     0.78401,     0.78289,     0.78297,     0.78347,\n",
       "            0.78396,     0.78445,     0.78494,     0.78542,     0.78591,      0.7864,     0.78689,     0.78737,     0.78786,     0.78835,     0.78883,     0.78932,      0.7898,     0.79028,     0.79077,     0.79125,     0.79173,     0.79221,     0.79269,     0.79317,     0.79365,     0.79413,     0.79461,\n",
       "            0.79509,     0.79556,     0.79604,     0.79652,     0.79699,     0.79747,     0.79794,     0.79842,     0.79889,     0.79936,     0.79983,     0.79965,     0.79912,     0.79858,     0.79805,     0.79751,     0.79697,     0.79644,      0.7959,     0.79536,     0.79482,     0.79428,     0.79375,\n",
       "            0.79321,     0.79267,     0.79213,     0.79159,     0.79105,     0.79051,     0.78997,     0.78943,     0.78889,     0.78834,      0.7878,     0.78726,     0.78672,     0.78617,     0.78563,     0.78509,     0.78454,       0.784,     0.78346,     0.78291,     0.78237,     0.78182,     0.78128,\n",
       "            0.78073,     0.78018,     0.77964,     0.77909,     0.77854,       0.778,     0.77745,      0.7769,     0.77635,      0.7758,     0.77525,      0.7747,     0.77415,      0.7736,     0.77305,     0.77313,     0.77412,     0.77511,     0.77609,     0.77708,     0.77806,     0.77903,     0.78001,\n",
       "            0.78098,     0.78195,     0.78292,     0.78388,     0.78485,     0.78581,     0.78677,     0.78772,     0.78867,     0.78963,     0.79057,     0.78789,     0.78464,     0.78139,     0.77812,     0.77484,     0.77155,     0.76825,     0.76493,     0.76195,     0.76247,     0.76298,     0.76349,\n",
       "              0.764,     0.76452,     0.76503,     0.76554,     0.76605,     0.76656,     0.76706,     0.76757,     0.76808,     0.76858,     0.76909,     0.76959,     0.77009,      0.7706,      0.7711,      0.7716,      0.7721,      0.7726,      0.7731,      0.7736,     0.77409,     0.77459,     0.77509,\n",
       "            0.77558,     0.77608,     0.77657,     0.77706,     0.77756,     0.77805,     0.77854,     0.77903,     0.77952,     0.78001,     0.78045,     0.77817,     0.77589,      0.7736,     0.77131,       0.769,      0.7667,     0.76438,     0.76206,     0.75973,      0.7574,     0.75506,     0.75271,\n",
       "            0.75036,     0.74829,     0.74627,     0.74424,     0.74221,     0.74017,     0.73813,     0.73609,     0.73404,     0.73198,     0.72992,     0.72785,     0.72578,     0.72371,     0.72163,     0.71954,     0.71256,     0.68951,     0.67866,     0.67143,     0.66415,     0.65682,     0.64942,\n",
       "            0.65151,     0.65465,     0.65775,     0.66081,     0.66382,     0.66613,     0.65329,     0.64026,     0.62795,     0.62254,     0.61709,     0.61161,      0.6061,     0.60056,     0.59498,     0.58937,     0.56512,     0.54649,     0.54954,     0.55252,     0.55544,     0.55829,     0.56108,\n",
       "            0.55753,     0.54713,     0.53659,     0.52593,     0.51588,     0.51313,     0.51038,     0.50762,     0.50485,     0.50207,     0.49928,     0.49648,     0.49368,     0.49086,     0.48804,     0.48521,     0.48237,     0.47952,     0.47666,     0.47379,     0.47091,     0.46802,     0.46565,\n",
       "            0.46373,      0.4618,     0.45987,     0.45794,       0.456,     0.45406,     0.45212,     0.45017,     0.44822,     0.44626,      0.4443,     0.44234,     0.44037,      0.4384,     0.43642,     0.43444,     0.43246,     0.43047,     0.42847,     0.42647,     0.42447,     0.42247,     0.42045,\n",
       "            0.41844,     0.41642,      0.4144,     0.41105,     0.40714,     0.40321,     0.39927,     0.39531,     0.39134,     0.38735,     0.38335,     0.37932,     0.37529,     0.37123,     0.36716,     0.36307,     0.35897,     0.35561,     0.35284,     0.35007,     0.34729,     0.34451,     0.34172,\n",
       "            0.33892,     0.33611,      0.3333,     0.33047,     0.32765,     0.32481,     0.32197,     0.31912,     0.31626,     0.31339,     0.31052,     0.30763,     0.30474,     0.30184,     0.29894,     0.29608,     0.29378,     0.29148,     0.28918,     0.28687,     0.28456,     0.28224,     0.27992,\n",
       "            0.27759,     0.27526,     0.27293,     0.27059,     0.26824,     0.26589,     0.26354,     0.26118,     0.25882,     0.25645,     0.25408,      0.2517,     0.24932,     0.24693,     0.24454,     0.24214,     0.23973,     0.23732,     0.23491,     0.23249,     0.16008,     0.16036,     0.16063,\n",
       "             0.1609,     0.16116,     0.16141,     0.16166,      0.1619,     0.16213,     0.16236,     0.16259,     0.16281,     0.16302,     0.16323,     0.16343,     0.16363,     0.16383,     0.16402,     0.16421,     0.16439,     0.16457,     0.16475,     0.16492,     0.16509,     0.16526,     0.16542,\n",
       "            0.16558,     0.16574,     0.16589,     0.16604,     0.16619,     0.16633,     0.16648,     0.16662,     0.14159,     0.10047,           0,           0,           0,           0,           0,           0,           0,           0,           0,           0,           0,           0,           0,\n",
       "                  0,           0,           0,           0,           0,           0,           0,           0,           0,           0,           0,           0,           0,           0,           0,           0,           0,           0,           0,           0,           0,           0,           0,\n",
       "                  0,           0,           0,           0,           0,           0,           0,           0,           0,           0,           0,           0,           0,           0,           0,           0,           0,           0,           0,           0,           0,           0,           0,\n",
       "                  0,           0,           0,           0,           0,           0,           0,           0,           0,           0,           0,           0,           0,           0,           0,           0,           0,           0,           0,           0,           0,           0,           0,\n",
       "                  0,           0,           0,           0,           0,           0,           0,           0,           0,           0,           0]]), 'Confidence', 'F1'], [array([          0,    0.001001,    0.002002,    0.003003,    0.004004,    0.005005,    0.006006,    0.007007,    0.008008,    0.009009,     0.01001,    0.011011,    0.012012,    0.013013,    0.014014,    0.015015,    0.016016,    0.017017,    0.018018,    0.019019,     0.02002,    0.021021,    0.022022,    0.023023,\n",
       "          0.024024,    0.025025,    0.026026,    0.027027,    0.028028,    0.029029,     0.03003,    0.031031,    0.032032,    0.033033,    0.034034,    0.035035,    0.036036,    0.037037,    0.038038,    0.039039,     0.04004,    0.041041,    0.042042,    0.043043,    0.044044,    0.045045,    0.046046,    0.047047,\n",
       "          0.048048,    0.049049,     0.05005,    0.051051,    0.052052,    0.053053,    0.054054,    0.055055,    0.056056,    0.057057,    0.058058,    0.059059,     0.06006,    0.061061,    0.062062,    0.063063,    0.064064,    0.065065,    0.066066,    0.067067,    0.068068,    0.069069,     0.07007,    0.071071,\n",
       "          0.072072,    0.073073,    0.074074,    0.075075,    0.076076,    0.077077,    0.078078,    0.079079,     0.08008,    0.081081,    0.082082,    0.083083,    0.084084,    0.085085,    0.086086,    0.087087,    0.088088,    0.089089,     0.09009,    0.091091,    0.092092,    0.093093,    0.094094,    0.095095,\n",
       "          0.096096,    0.097097,    0.098098,    0.099099,      0.1001,      0.1011,      0.1021,      0.1031,      0.1041,     0.10511,     0.10611,     0.10711,     0.10811,     0.10911,     0.11011,     0.11111,     0.11211,     0.11311,     0.11411,     0.11512,     0.11612,     0.11712,     0.11812,     0.11912,\n",
       "           0.12012,     0.12112,     0.12212,     0.12312,     0.12412,     0.12513,     0.12613,     0.12713,     0.12813,     0.12913,     0.13013,     0.13113,     0.13213,     0.13313,     0.13413,     0.13514,     0.13614,     0.13714,     0.13814,     0.13914,     0.14014,     0.14114,     0.14214,     0.14314,\n",
       "           0.14414,     0.14515,     0.14615,     0.14715,     0.14815,     0.14915,     0.15015,     0.15115,     0.15215,     0.15315,     0.15415,     0.15516,     0.15616,     0.15716,     0.15816,     0.15916,     0.16016,     0.16116,     0.16216,     0.16316,     0.16416,     0.16517,     0.16617,     0.16717,\n",
       "           0.16817,     0.16917,     0.17017,     0.17117,     0.17217,     0.17317,     0.17417,     0.17518,     0.17618,     0.17718,     0.17818,     0.17918,     0.18018,     0.18118,     0.18218,     0.18318,     0.18418,     0.18519,     0.18619,     0.18719,     0.18819,     0.18919,     0.19019,     0.19119,\n",
       "           0.19219,     0.19319,     0.19419,      0.1952,      0.1962,      0.1972,      0.1982,      0.1992,      0.2002,      0.2012,      0.2022,      0.2032,      0.2042,     0.20521,     0.20621,     0.20721,     0.20821,     0.20921,     0.21021,     0.21121,     0.21221,     0.21321,     0.21421,     0.21522,\n",
       "           0.21622,     0.21722,     0.21822,     0.21922,     0.22022,     0.22122,     0.22222,     0.22322,     0.22422,     0.22523,     0.22623,     0.22723,     0.22823,     0.22923,     0.23023,     0.23123,     0.23223,     0.23323,     0.23423,     0.23524,     0.23624,     0.23724,     0.23824,     0.23924,\n",
       "           0.24024,     0.24124,     0.24224,     0.24324,     0.24424,     0.24525,     0.24625,     0.24725,     0.24825,     0.24925,     0.25025,     0.25125,     0.25225,     0.25325,     0.25425,     0.25526,     0.25626,     0.25726,     0.25826,     0.25926,     0.26026,     0.26126,     0.26226,     0.26326,\n",
       "           0.26426,     0.26527,     0.26627,     0.26727,     0.26827,     0.26927,     0.27027,     0.27127,     0.27227,     0.27327,     0.27427,     0.27528,     0.27628,     0.27728,     0.27828,     0.27928,     0.28028,     0.28128,     0.28228,     0.28328,     0.28428,     0.28529,     0.28629,     0.28729,\n",
       "           0.28829,     0.28929,     0.29029,     0.29129,     0.29229,     0.29329,     0.29429,      0.2953,      0.2963,      0.2973,      0.2983,      0.2993,      0.3003,      0.3013,      0.3023,      0.3033,      0.3043,     0.30531,     0.30631,     0.30731,     0.30831,     0.30931,     0.31031,     0.31131,\n",
       "           0.31231,     0.31331,     0.31431,     0.31532,     0.31632,     0.31732,     0.31832,     0.31932,     0.32032,     0.32132,     0.32232,     0.32332,     0.32432,     0.32533,     0.32633,     0.32733,     0.32833,     0.32933,     0.33033,     0.33133,     0.33233,     0.33333,     0.33433,     0.33534,\n",
       "           0.33634,     0.33734,     0.33834,     0.33934,     0.34034,     0.34134,     0.34234,     0.34334,     0.34434,     0.34535,     0.34635,     0.34735,     0.34835,     0.34935,     0.35035,     0.35135,     0.35235,     0.35335,     0.35435,     0.35536,     0.35636,     0.35736,     0.35836,     0.35936,\n",
       "           0.36036,     0.36136,     0.36236,     0.36336,     0.36436,     0.36537,     0.36637,     0.36737,     0.36837,     0.36937,     0.37037,     0.37137,     0.37237,     0.37337,     0.37437,     0.37538,     0.37638,     0.37738,     0.37838,     0.37938,     0.38038,     0.38138,     0.38238,     0.38338,\n",
       "           0.38438,     0.38539,     0.38639,     0.38739,     0.38839,     0.38939,     0.39039,     0.39139,     0.39239,     0.39339,     0.39439,      0.3954,      0.3964,      0.3974,      0.3984,      0.3994,      0.4004,      0.4014,      0.4024,      0.4034,      0.4044,     0.40541,     0.40641,     0.40741,\n",
       "           0.40841,     0.40941,     0.41041,     0.41141,     0.41241,     0.41341,     0.41441,     0.41542,     0.41642,     0.41742,     0.41842,     0.41942,     0.42042,     0.42142,     0.42242,     0.42342,     0.42442,     0.42543,     0.42643,     0.42743,     0.42843,     0.42943,     0.43043,     0.43143,\n",
       "           0.43243,     0.43343,     0.43443,     0.43544,     0.43644,     0.43744,     0.43844,     0.43944,     0.44044,     0.44144,     0.44244,     0.44344,     0.44444,     0.44545,     0.44645,     0.44745,     0.44845,     0.44945,     0.45045,     0.45145,     0.45245,     0.45345,     0.45445,     0.45546,\n",
       "           0.45646,     0.45746,     0.45846,     0.45946,     0.46046,     0.46146,     0.46246,     0.46346,     0.46446,     0.46547,     0.46647,     0.46747,     0.46847,     0.46947,     0.47047,     0.47147,     0.47247,     0.47347,     0.47447,     0.47548,     0.47648,     0.47748,     0.47848,     0.47948,\n",
       "           0.48048,     0.48148,     0.48248,     0.48348,     0.48448,     0.48549,     0.48649,     0.48749,     0.48849,     0.48949,     0.49049,     0.49149,     0.49249,     0.49349,     0.49449,      0.4955,      0.4965,      0.4975,      0.4985,      0.4995,      0.5005,      0.5015,      0.5025,      0.5035,\n",
       "            0.5045,     0.50551,     0.50651,     0.50751,     0.50851,     0.50951,     0.51051,     0.51151,     0.51251,     0.51351,     0.51451,     0.51552,     0.51652,     0.51752,     0.51852,     0.51952,     0.52052,     0.52152,     0.52252,     0.52352,     0.52452,     0.52553,     0.52653,     0.52753,\n",
       "           0.52853,     0.52953,     0.53053,     0.53153,     0.53253,     0.53353,     0.53453,     0.53554,     0.53654,     0.53754,     0.53854,     0.53954,     0.54054,     0.54154,     0.54254,     0.54354,     0.54454,     0.54555,     0.54655,     0.54755,     0.54855,     0.54955,     0.55055,     0.55155,\n",
       "           0.55255,     0.55355,     0.55455,     0.55556,     0.55656,     0.55756,     0.55856,     0.55956,     0.56056,     0.56156,     0.56256,     0.56356,     0.56456,     0.56557,     0.56657,     0.56757,     0.56857,     0.56957,     0.57057,     0.57157,     0.57257,     0.57357,     0.57457,     0.57558,\n",
       "           0.57658,     0.57758,     0.57858,     0.57958,     0.58058,     0.58158,     0.58258,     0.58358,     0.58458,     0.58559,     0.58659,     0.58759,     0.58859,     0.58959,     0.59059,     0.59159,     0.59259,     0.59359,     0.59459,      0.5956,      0.5966,      0.5976,      0.5986,      0.5996,\n",
       "            0.6006,      0.6016,      0.6026,      0.6036,      0.6046,     0.60561,     0.60661,     0.60761,     0.60861,     0.60961,     0.61061,     0.61161,     0.61261,     0.61361,     0.61461,     0.61562,     0.61662,     0.61762,     0.61862,     0.61962,     0.62062,     0.62162,     0.62262,     0.62362,\n",
       "           0.62462,     0.62563,     0.62663,     0.62763,     0.62863,     0.62963,     0.63063,     0.63163,     0.63263,     0.63363,     0.63463,     0.63564,     0.63664,     0.63764,     0.63864,     0.63964,     0.64064,     0.64164,     0.64264,     0.64364,     0.64464,     0.64565,     0.64665,     0.64765,\n",
       "           0.64865,     0.64965,     0.65065,     0.65165,     0.65265,     0.65365,     0.65465,     0.65566,     0.65666,     0.65766,     0.65866,     0.65966,     0.66066,     0.66166,     0.66266,     0.66366,     0.66466,     0.66567,     0.66667,     0.66767,     0.66867,     0.66967,     0.67067,     0.67167,\n",
       "           0.67267,     0.67367,     0.67467,     0.67568,     0.67668,     0.67768,     0.67868,     0.67968,     0.68068,     0.68168,     0.68268,     0.68368,     0.68468,     0.68569,     0.68669,     0.68769,     0.68869,     0.68969,     0.69069,     0.69169,     0.69269,     0.69369,     0.69469,      0.6957,\n",
       "            0.6967,      0.6977,      0.6987,      0.6997,      0.7007,      0.7017,      0.7027,      0.7037,      0.7047,     0.70571,     0.70671,     0.70771,     0.70871,     0.70971,     0.71071,     0.71171,     0.71271,     0.71371,     0.71471,     0.71572,     0.71672,     0.71772,     0.71872,     0.71972,\n",
       "           0.72072,     0.72172,     0.72272,     0.72372,     0.72472,     0.72573,     0.72673,     0.72773,     0.72873,     0.72973,     0.73073,     0.73173,     0.73273,     0.73373,     0.73473,     0.73574,     0.73674,     0.73774,     0.73874,     0.73974,     0.74074,     0.74174,     0.74274,     0.74374,\n",
       "           0.74474,     0.74575,     0.74675,     0.74775,     0.74875,     0.74975,     0.75075,     0.75175,     0.75275,     0.75375,     0.75475,     0.75576,     0.75676,     0.75776,     0.75876,     0.75976,     0.76076,     0.76176,     0.76276,     0.76376,     0.76476,     0.76577,     0.76677,     0.76777,\n",
       "           0.76877,     0.76977,     0.77077,     0.77177,     0.77277,     0.77377,     0.77477,     0.77578,     0.77678,     0.77778,     0.77878,     0.77978,     0.78078,     0.78178,     0.78278,     0.78378,     0.78478,     0.78579,     0.78679,     0.78779,     0.78879,     0.78979,     0.79079,     0.79179,\n",
       "           0.79279,     0.79379,     0.79479,      0.7958,      0.7968,      0.7978,      0.7988,      0.7998,      0.8008,      0.8018,      0.8028,      0.8038,      0.8048,     0.80581,     0.80681,     0.80781,     0.80881,     0.80981,     0.81081,     0.81181,     0.81281,     0.81381,     0.81481,     0.81582,\n",
       "           0.81682,     0.81782,     0.81882,     0.81982,     0.82082,     0.82182,     0.82282,     0.82382,     0.82482,     0.82583,     0.82683,     0.82783,     0.82883,     0.82983,     0.83083,     0.83183,     0.83283,     0.83383,     0.83483,     0.83584,     0.83684,     0.83784,     0.83884,     0.83984,\n",
       "           0.84084,     0.84184,     0.84284,     0.84384,     0.84484,     0.84585,     0.84685,     0.84785,     0.84885,     0.84985,     0.85085,     0.85185,     0.85285,     0.85385,     0.85485,     0.85586,     0.85686,     0.85786,     0.85886,     0.85986,     0.86086,     0.86186,     0.86286,     0.86386,\n",
       "           0.86486,     0.86587,     0.86687,     0.86787,     0.86887,     0.86987,     0.87087,     0.87187,     0.87287,     0.87387,     0.87487,     0.87588,     0.87688,     0.87788,     0.87888,     0.87988,     0.88088,     0.88188,     0.88288,     0.88388,     0.88488,     0.88589,     0.88689,     0.88789,\n",
       "           0.88889,     0.88989,     0.89089,     0.89189,     0.89289,     0.89389,     0.89489,      0.8959,      0.8969,      0.8979,      0.8989,      0.8999,      0.9009,      0.9019,      0.9029,      0.9039,      0.9049,     0.90591,     0.90691,     0.90791,     0.90891,     0.90991,     0.91091,     0.91191,\n",
       "           0.91291,     0.91391,     0.91491,     0.91592,     0.91692,     0.91792,     0.91892,     0.91992,     0.92092,     0.92192,     0.92292,     0.92392,     0.92492,     0.92593,     0.92693,     0.92793,     0.92893,     0.92993,     0.93093,     0.93193,     0.93293,     0.93393,     0.93493,     0.93594,\n",
       "           0.93694,     0.93794,     0.93894,     0.93994,     0.94094,     0.94194,     0.94294,     0.94394,     0.94494,     0.94595,     0.94695,     0.94795,     0.94895,     0.94995,     0.95095,     0.95195,     0.95295,     0.95395,     0.95495,     0.95596,     0.95696,     0.95796,     0.95896,     0.95996,\n",
       "           0.96096,     0.96196,     0.96296,     0.96396,     0.96496,     0.96597,     0.96697,     0.96797,     0.96897,     0.96997,     0.97097,     0.97197,     0.97297,     0.97397,     0.97497,     0.97598,     0.97698,     0.97798,     0.97898,     0.97998,     0.98098,     0.98198,     0.98298,     0.98398,\n",
       "           0.98498,     0.98599,     0.98699,     0.98799,     0.98899,     0.98999,     0.99099,     0.99199,     0.99299,     0.99399,     0.99499,       0.996,       0.997,       0.998,       0.999,           1]), array([[   0.098039,    0.098039,     0.11721,     0.13505,     0.14656,     0.15646,     0.17307,     0.17957,     0.19129,     0.19823,     0.20634,     0.21756,     0.22603,     0.23214,     0.23686,     0.24118,     0.24419,     0.24542,     0.24665,      0.2533,     0.25452,     0.25574,     0.26006,\n",
       "            0.26162,     0.26358,     0.26871,     0.27251,     0.27461,     0.27544,     0.27627,      0.2771,       0.278,     0.27923,     0.28046,     0.28169,     0.28216,     0.28262,     0.28308,     0.28355,     0.28401,     0.28447,     0.28494,      0.2854,     0.28588,      0.2864,     0.28692,\n",
       "            0.28743,     0.28795,     0.28847,     0.28899,     0.28951,     0.29031,      0.2917,     0.29308,     0.29473,     0.29717,     0.29948,     0.30163,     0.30333,     0.30417,     0.30501,     0.30586,      0.3067,     0.30755,     0.30937,     0.31139,     0.31295,     0.31396,     0.31496,\n",
       "            0.31597,     0.31697,      0.3226,      0.3235,     0.32439,     0.32529,     0.32618,     0.32707,     0.32858,     0.33344,     0.33384,     0.33425,     0.33466,     0.33506,     0.33547,     0.33588,     0.33628,     0.33669,      0.3371,      0.3375,     0.33791,     0.33831,     0.33872,\n",
       "            0.33913,     0.33953,     0.33993,     0.34033,     0.34073,     0.34113,     0.34153,     0.34193,     0.34233,     0.34274,     0.34314,     0.34354,     0.34394,     0.34434,     0.34474,     0.34528,     0.34586,     0.34644,     0.34702,      0.3476,     0.34818,     0.34876,     0.34934,\n",
       "            0.34992,      0.3505,     0.35271,     0.35923,     0.36756,     0.37091,     0.37201,     0.37312,     0.37422,     0.37532,     0.37642,     0.38032,     0.38524,     0.38605,     0.38685,     0.38765,     0.38846,     0.38926,     0.39006,     0.39087,     0.39167,     0.39263,     0.39385,\n",
       "            0.39506,     0.39627,     0.39749,      0.3987,     0.39992,     0.40311,     0.40646,     0.40902,     0.41076,     0.41251,     0.41425,     0.41599,     0.42038,     0.42559,     0.42595,     0.42631,     0.42667,     0.42703,     0.42739,     0.42775,     0.42811,     0.42848,     0.42884,\n",
       "             0.4292,     0.42956,     0.42992,     0.43028,     0.43064,       0.431,     0.43137,     0.43173,     0.43209,     0.43245,     0.43281,     0.43317,     0.43353,     0.43389,     0.43426,     0.43462,     0.43657,     0.43987,     0.44317,     0.44472,     0.44518,     0.44563,     0.44609,\n",
       "            0.44654,       0.447,     0.44745,     0.44791,     0.44836,     0.44882,     0.44928,     0.44973,     0.45019,     0.45064,      0.4511,     0.45155,     0.45201,     0.45246,     0.45292,     0.45337,     0.45383,     0.45428,     0.46182,     0.46545,     0.46586,     0.46627,     0.46667,\n",
       "            0.46708,     0.46749,      0.4679,     0.46831,     0.46872,     0.46913,     0.46954,     0.46995,     0.47036,     0.47077,     0.47117,     0.47158,     0.47199,      0.4724,     0.47281,     0.47322,     0.47363,     0.47404,     0.47445,     0.47486,     0.47526,     0.47567,     0.47608,\n",
       "            0.47647,     0.47686,     0.47724,     0.47763,     0.47801,     0.47839,     0.47878,     0.47916,     0.47955,     0.47993,     0.48031,      0.4807,     0.48108,     0.48147,     0.48185,     0.48223,     0.48262,       0.483,     0.48339,     0.48377,     0.48415,     0.48454,     0.48492,\n",
       "            0.48531,     0.48569,     0.48607,     0.48646,     0.48684,     0.48723,     0.48761,     0.48818,     0.48894,     0.48969,     0.49045,     0.49121,     0.49197,     0.49272,     0.49348,     0.49424,       0.495,     0.49576,     0.49651,     0.49727,     0.49803,     0.49879,     0.49954,\n",
       "            0.49928,     0.49747,     0.49566,     0.49384,     0.49203,     0.49022,      0.4884,     0.48961,     0.49712,      0.5007,     0.50183,     0.50296,     0.50409,     0.50522,     0.50635,     0.50748,     0.50861,     0.50974,     0.51087,       0.512,     0.51314,      0.5144,     0.51573,\n",
       "            0.51706,     0.51839,     0.51972,     0.52104,     0.52237,      0.5237,     0.52503,     0.52636,     0.52769,     0.52861,     0.52951,     0.53041,      0.5313,      0.5322,      0.5331,     0.53399,     0.53489,     0.53578,     0.53668,     0.53758,     0.53847,     0.53937,     0.54026,\n",
       "            0.54116,     0.54206,       0.543,      0.5443,     0.54561,     0.54692,     0.54823,     0.54954,     0.55085,     0.55216,     0.55347,     0.55478,     0.55609,      0.5574,     0.55871,     0.55999,     0.56128,     0.56257,     0.56385,     0.56514,     0.56642,     0.56771,     0.56899,\n",
       "            0.57028,     0.57157,     0.57285,     0.57414,     0.57542,     0.57966,     0.58493,      0.5902,     0.59473,     0.59775,     0.60077,     0.60379,     0.60682,     0.60984,     0.61286,     0.61383,     0.61477,     0.61571,     0.61665,     0.61759,     0.61854,     0.61948,     0.62042,\n",
       "            0.62136,      0.6223,     0.62324,     0.62418,     0.62512,     0.62607,     0.62701,     0.62795,     0.62889,     0.62983,     0.63077,     0.63171,     0.63265,     0.63955,     0.65531,     0.65577,     0.65623,     0.65669,     0.65715,     0.65761,     0.65807,     0.65852,     0.65898,\n",
       "            0.65944,      0.6599,     0.66036,     0.66082,     0.66128,     0.66174,      0.6622,     0.66266,     0.66311,     0.66357,     0.66403,     0.66449,     0.66495,     0.66541,     0.66587,     0.66633,     0.66679,     0.66725,      0.6677,     0.66816,     0.66862,     0.66908,     0.66954,\n",
       "               0.67,     0.67046,     0.67092,     0.67138,     0.67184,      0.6723,     0.67275,     0.67321,     0.67367,     0.67413,     0.67459,     0.67505,     0.67551,     0.67597,     0.67643,     0.67689,     0.67734,      0.6778,     0.67826,     0.67898,     0.68022,     0.68146,      0.6827,\n",
       "            0.68394,     0.68519,     0.68643,     0.68767,     0.68891,     0.69015,     0.69139,     0.69263,     0.69388,     0.69512,     0.69636,      0.6976,     0.69884,     0.70008,     0.70133,     0.70257,     0.70392,      0.7065,     0.70908,     0.71166,     0.71424,     0.71682,     0.71941,\n",
       "            0.72199,     0.72457,     0.72715,     0.72973,     0.73105,     0.73152,     0.73198,     0.73245,     0.73292,     0.73339,     0.73386,     0.73433,     0.73479,     0.73526,     0.73573,      0.7362,     0.73667,     0.73713,      0.7376,     0.73807,     0.73854,     0.73901,     0.73948,\n",
       "            0.73994,     0.74041,     0.74088,     0.74135,     0.74182,     0.74228,     0.74275,     0.74322,     0.74369,     0.74416,     0.74463,     0.74509,     0.74556,     0.74603,      0.7465,     0.74697,     0.74743,      0.7479,     0.74837,     0.74884,     0.74931,     0.74977,     0.75024,\n",
       "            0.75071,     0.75118,     0.75165,     0.75212,     0.75258,     0.75305,     0.75352,     0.75399,     0.75446,     0.75492,     0.75539,     0.75586,     0.75633,      0.7568,     0.75727,     0.75773,      0.7582,     0.75867,     0.75914,     0.75961,     0.75993,      0.7595,     0.75908,\n",
       "            0.75865,     0.75822,      0.7578,     0.75737,     0.75694,     0.75652,     0.75609,     0.75566,     0.75523,     0.75481,     0.75438,     0.75395,     0.75353,      0.7531,     0.75267,     0.75224,     0.75182,     0.75139,     0.75096,     0.75054,     0.75011,     0.75067,     0.75158,\n",
       "            0.75248,     0.75338,     0.75429,     0.75519,     0.75609,       0.757,      0.7579,      0.7588,     0.75971,     0.76061,     0.76151,     0.76242,     0.76332,     0.76422,     0.76513,     0.76603,     0.76693,     0.76784,     0.76874,     0.76964,     0.77055,     0.77145,     0.77235,\n",
       "            0.77326,     0.77416,     0.77506,     0.77597,     0.77687,     0.77777,     0.77868,     0.77958,     0.78048,     0.78139,     0.78229,     0.78248,     0.78228,     0.78209,     0.78189,     0.78169,      0.7815,      0.7813,      0.7811,     0.78091,     0.78071,     0.78051,     0.78032,\n",
       "            0.78012,     0.77992,     0.77973,     0.77953,     0.77933,     0.77914,     0.77894,     0.77874,     0.77855,     0.77835,     0.77815,     0.77796,     0.77776,     0.77756,     0.77737,     0.77717,     0.77697,     0.77678,     0.77658,     0.77638,     0.77619,     0.77599,     0.77579,\n",
       "             0.7756,      0.7754,      0.7752,     0.77501,     0.77481,     0.77461,     0.77442,     0.77422,     0.77402,     0.77383,     0.77363,     0.77343,     0.77324,     0.77304,     0.77284,     0.77353,     0.77552,      0.7775,     0.77949,     0.78147,     0.78346,     0.78544,     0.78743,\n",
       "            0.78941,      0.7914,     0.79338,     0.79537,     0.79735,     0.79934,     0.80132,     0.80331,     0.80529,     0.80728,     0.80927,     0.80858,      0.8075,     0.80641,     0.80533,     0.80424,     0.80316,     0.80207,     0.80099,      0.8001,     0.80124,     0.80237,     0.80351,\n",
       "            0.80464,     0.80578,     0.80692,     0.80805,     0.80919,     0.81032,     0.81146,     0.81259,     0.81373,     0.81487,       0.816,     0.81714,     0.81827,     0.81941,     0.82055,     0.82168,     0.82282,     0.82395,     0.82509,     0.82622,     0.82736,      0.8285,     0.82963,\n",
       "            0.83077,      0.8319,     0.83304,     0.83417,     0.83531,     0.83645,     0.83758,     0.83872,     0.83985,     0.84099,     0.84209,     0.84143,     0.84076,      0.8401,     0.83943,     0.83876,      0.8381,     0.83743,     0.83677,      0.8361,     0.83543,     0.83477,      0.8341,\n",
       "            0.83344,      0.8328,     0.83217,     0.83155,     0.83092,     0.83029,     0.82966,     0.82903,      0.8284,     0.82778,     0.82715,     0.82652,     0.82589,     0.82526,     0.82464,     0.82401,     0.82174,      0.8142,     0.81052,     0.80795,     0.80539,     0.80283,     0.80027,\n",
       "            0.80875,     0.81851,     0.82827,     0.83803,      0.8478,     0.85698,     0.85323,     0.84947,     0.84595,      0.8442,     0.84245,     0.84069,     0.83894,     0.83719,     0.83544,     0.83369,     0.82506,     0.82287,     0.83685,     0.85083,      0.8648,     0.87878,     0.89276,\n",
       "            0.89878,     0.89625,     0.89372,     0.89119,     0.88882,     0.88803,     0.88723,     0.88644,     0.88565,     0.88486,     0.88407,     0.88328,     0.88249,      0.8817,     0.88091,     0.88012,     0.87933,     0.87853,     0.87774,     0.87695,     0.87616,     0.87537,     0.87465,\n",
       "            0.87398,     0.87332,     0.87265,     0.87198,     0.87132,     0.87065,     0.86999,     0.86932,     0.86866,     0.86799,     0.86732,     0.86666,     0.86599,     0.86533,     0.86466,       0.864,     0.86333,     0.86267,       0.862,     0.86133,     0.86067,        0.86,     0.85934,\n",
       "            0.85867,     0.85801,     0.85734,     0.85596,     0.85428,     0.85259,     0.85091,     0.84923,     0.84754,     0.84586,     0.84418,      0.8425,     0.84081,     0.83913,     0.83745,     0.83576,     0.83408,     0.83247,     0.83092,     0.82936,     0.82781,     0.82626,      0.8247,\n",
       "            0.82315,      0.8216,     0.82004,     0.81849,     0.81694,     0.81539,     0.81383,     0.81228,     0.81073,     0.80917,     0.80762,     0.80607,     0.80451,     0.80296,     0.80141,     0.79983,     0.79803,     0.79623,     0.79444,     0.79264,     0.79084,     0.78904,     0.78724,\n",
       "            0.78545,     0.78365,     0.78185,     0.78005,     0.77825,     0.77645,     0.77466,     0.77286,     0.77106,     0.76926,     0.76746,     0.76566,     0.76387,     0.76207,     0.76027,     0.75847,     0.75667,     0.75487,     0.75308,     0.75128,     0.66953,     0.67944,     0.68934,\n",
       "            0.69925,     0.70915,     0.71905,     0.72896,     0.73886,     0.74876,     0.75867,     0.76857,     0.77847,     0.78838,     0.79828,     0.80818,     0.81809,     0.82799,      0.8379,      0.8478,      0.8577,     0.86761,     0.87751,     0.88741,     0.89732,     0.90722,     0.91712,\n",
       "            0.92703,     0.93693,     0.94684,     0.95674,     0.96664,     0.97655,     0.98645,     0.99635,           1,           1,           1,           1,           1,           1,           1,           1,           1,           1,           1,           1,           1,           1,           1,\n",
       "                  1,           1,           1,           1,           1,           1,           1,           1,           1,           1,           1,           1,           1,           1,           1,           1,           1,           1,           1,           1,           1,           1,           1,\n",
       "                  1,           1,           1,           1,           1,           1,           1,           1,           1,           1,           1,           1,           1,           1,           1,           1,           1,           1,           1,           1,           1,           1,           1,\n",
       "                  1,           1,           1,           1,           1,           1,           1,           1,           1,           1,           1,           1,           1,           1,           1,           1,           1,           1,           1,           1,           1,           1,           1,\n",
       "                  1,           1,           1,           1,           1,           1,           1,           1,           1,           1,           1]]), 'Confidence', 'Precision'], [array([          0,    0.001001,    0.002002,    0.003003,    0.004004,    0.005005,    0.006006,    0.007007,    0.008008,    0.009009,     0.01001,    0.011011,    0.012012,    0.013013,    0.014014,    0.015015,    0.016016,    0.017017,    0.018018,    0.019019,     0.02002,    0.021021,    0.022022,    0.023023,\n",
       "          0.024024,    0.025025,    0.026026,    0.027027,    0.028028,    0.029029,     0.03003,    0.031031,    0.032032,    0.033033,    0.034034,    0.035035,    0.036036,    0.037037,    0.038038,    0.039039,     0.04004,    0.041041,    0.042042,    0.043043,    0.044044,    0.045045,    0.046046,    0.047047,\n",
       "          0.048048,    0.049049,     0.05005,    0.051051,    0.052052,    0.053053,    0.054054,    0.055055,    0.056056,    0.057057,    0.058058,    0.059059,     0.06006,    0.061061,    0.062062,    0.063063,    0.064064,    0.065065,    0.066066,    0.067067,    0.068068,    0.069069,     0.07007,    0.071071,\n",
       "          0.072072,    0.073073,    0.074074,    0.075075,    0.076076,    0.077077,    0.078078,    0.079079,     0.08008,    0.081081,    0.082082,    0.083083,    0.084084,    0.085085,    0.086086,    0.087087,    0.088088,    0.089089,     0.09009,    0.091091,    0.092092,    0.093093,    0.094094,    0.095095,\n",
       "          0.096096,    0.097097,    0.098098,    0.099099,      0.1001,      0.1011,      0.1021,      0.1031,      0.1041,     0.10511,     0.10611,     0.10711,     0.10811,     0.10911,     0.11011,     0.11111,     0.11211,     0.11311,     0.11411,     0.11512,     0.11612,     0.11712,     0.11812,     0.11912,\n",
       "           0.12012,     0.12112,     0.12212,     0.12312,     0.12412,     0.12513,     0.12613,     0.12713,     0.12813,     0.12913,     0.13013,     0.13113,     0.13213,     0.13313,     0.13413,     0.13514,     0.13614,     0.13714,     0.13814,     0.13914,     0.14014,     0.14114,     0.14214,     0.14314,\n",
       "           0.14414,     0.14515,     0.14615,     0.14715,     0.14815,     0.14915,     0.15015,     0.15115,     0.15215,     0.15315,     0.15415,     0.15516,     0.15616,     0.15716,     0.15816,     0.15916,     0.16016,     0.16116,     0.16216,     0.16316,     0.16416,     0.16517,     0.16617,     0.16717,\n",
       "           0.16817,     0.16917,     0.17017,     0.17117,     0.17217,     0.17317,     0.17417,     0.17518,     0.17618,     0.17718,     0.17818,     0.17918,     0.18018,     0.18118,     0.18218,     0.18318,     0.18418,     0.18519,     0.18619,     0.18719,     0.18819,     0.18919,     0.19019,     0.19119,\n",
       "           0.19219,     0.19319,     0.19419,      0.1952,      0.1962,      0.1972,      0.1982,      0.1992,      0.2002,      0.2012,      0.2022,      0.2032,      0.2042,     0.20521,     0.20621,     0.20721,     0.20821,     0.20921,     0.21021,     0.21121,     0.21221,     0.21321,     0.21421,     0.21522,\n",
       "           0.21622,     0.21722,     0.21822,     0.21922,     0.22022,     0.22122,     0.22222,     0.22322,     0.22422,     0.22523,     0.22623,     0.22723,     0.22823,     0.22923,     0.23023,     0.23123,     0.23223,     0.23323,     0.23423,     0.23524,     0.23624,     0.23724,     0.23824,     0.23924,\n",
       "           0.24024,     0.24124,     0.24224,     0.24324,     0.24424,     0.24525,     0.24625,     0.24725,     0.24825,     0.24925,     0.25025,     0.25125,     0.25225,     0.25325,     0.25425,     0.25526,     0.25626,     0.25726,     0.25826,     0.25926,     0.26026,     0.26126,     0.26226,     0.26326,\n",
       "           0.26426,     0.26527,     0.26627,     0.26727,     0.26827,     0.26927,     0.27027,     0.27127,     0.27227,     0.27327,     0.27427,     0.27528,     0.27628,     0.27728,     0.27828,     0.27928,     0.28028,     0.28128,     0.28228,     0.28328,     0.28428,     0.28529,     0.28629,     0.28729,\n",
       "           0.28829,     0.28929,     0.29029,     0.29129,     0.29229,     0.29329,     0.29429,      0.2953,      0.2963,      0.2973,      0.2983,      0.2993,      0.3003,      0.3013,      0.3023,      0.3033,      0.3043,     0.30531,     0.30631,     0.30731,     0.30831,     0.30931,     0.31031,     0.31131,\n",
       "           0.31231,     0.31331,     0.31431,     0.31532,     0.31632,     0.31732,     0.31832,     0.31932,     0.32032,     0.32132,     0.32232,     0.32332,     0.32432,     0.32533,     0.32633,     0.32733,     0.32833,     0.32933,     0.33033,     0.33133,     0.33233,     0.33333,     0.33433,     0.33534,\n",
       "           0.33634,     0.33734,     0.33834,     0.33934,     0.34034,     0.34134,     0.34234,     0.34334,     0.34434,     0.34535,     0.34635,     0.34735,     0.34835,     0.34935,     0.35035,     0.35135,     0.35235,     0.35335,     0.35435,     0.35536,     0.35636,     0.35736,     0.35836,     0.35936,\n",
       "           0.36036,     0.36136,     0.36236,     0.36336,     0.36436,     0.36537,     0.36637,     0.36737,     0.36837,     0.36937,     0.37037,     0.37137,     0.37237,     0.37337,     0.37437,     0.37538,     0.37638,     0.37738,     0.37838,     0.37938,     0.38038,     0.38138,     0.38238,     0.38338,\n",
       "           0.38438,     0.38539,     0.38639,     0.38739,     0.38839,     0.38939,     0.39039,     0.39139,     0.39239,     0.39339,     0.39439,      0.3954,      0.3964,      0.3974,      0.3984,      0.3994,      0.4004,      0.4014,      0.4024,      0.4034,      0.4044,     0.40541,     0.40641,     0.40741,\n",
       "           0.40841,     0.40941,     0.41041,     0.41141,     0.41241,     0.41341,     0.41441,     0.41542,     0.41642,     0.41742,     0.41842,     0.41942,     0.42042,     0.42142,     0.42242,     0.42342,     0.42442,     0.42543,     0.42643,     0.42743,     0.42843,     0.42943,     0.43043,     0.43143,\n",
       "           0.43243,     0.43343,     0.43443,     0.43544,     0.43644,     0.43744,     0.43844,     0.43944,     0.44044,     0.44144,     0.44244,     0.44344,     0.44444,     0.44545,     0.44645,     0.44745,     0.44845,     0.44945,     0.45045,     0.45145,     0.45245,     0.45345,     0.45445,     0.45546,\n",
       "           0.45646,     0.45746,     0.45846,     0.45946,     0.46046,     0.46146,     0.46246,     0.46346,     0.46446,     0.46547,     0.46647,     0.46747,     0.46847,     0.46947,     0.47047,     0.47147,     0.47247,     0.47347,     0.47447,     0.47548,     0.47648,     0.47748,     0.47848,     0.47948,\n",
       "           0.48048,     0.48148,     0.48248,     0.48348,     0.48448,     0.48549,     0.48649,     0.48749,     0.48849,     0.48949,     0.49049,     0.49149,     0.49249,     0.49349,     0.49449,      0.4955,      0.4965,      0.4975,      0.4985,      0.4995,      0.5005,      0.5015,      0.5025,      0.5035,\n",
       "            0.5045,     0.50551,     0.50651,     0.50751,     0.50851,     0.50951,     0.51051,     0.51151,     0.51251,     0.51351,     0.51451,     0.51552,     0.51652,     0.51752,     0.51852,     0.51952,     0.52052,     0.52152,     0.52252,     0.52352,     0.52452,     0.52553,     0.52653,     0.52753,\n",
       "           0.52853,     0.52953,     0.53053,     0.53153,     0.53253,     0.53353,     0.53453,     0.53554,     0.53654,     0.53754,     0.53854,     0.53954,     0.54054,     0.54154,     0.54254,     0.54354,     0.54454,     0.54555,     0.54655,     0.54755,     0.54855,     0.54955,     0.55055,     0.55155,\n",
       "           0.55255,     0.55355,     0.55455,     0.55556,     0.55656,     0.55756,     0.55856,     0.55956,     0.56056,     0.56156,     0.56256,     0.56356,     0.56456,     0.56557,     0.56657,     0.56757,     0.56857,     0.56957,     0.57057,     0.57157,     0.57257,     0.57357,     0.57457,     0.57558,\n",
       "           0.57658,     0.57758,     0.57858,     0.57958,     0.58058,     0.58158,     0.58258,     0.58358,     0.58458,     0.58559,     0.58659,     0.58759,     0.58859,     0.58959,     0.59059,     0.59159,     0.59259,     0.59359,     0.59459,      0.5956,      0.5966,      0.5976,      0.5986,      0.5996,\n",
       "            0.6006,      0.6016,      0.6026,      0.6036,      0.6046,     0.60561,     0.60661,     0.60761,     0.60861,     0.60961,     0.61061,     0.61161,     0.61261,     0.61361,     0.61461,     0.61562,     0.61662,     0.61762,     0.61862,     0.61962,     0.62062,     0.62162,     0.62262,     0.62362,\n",
       "           0.62462,     0.62563,     0.62663,     0.62763,     0.62863,     0.62963,     0.63063,     0.63163,     0.63263,     0.63363,     0.63463,     0.63564,     0.63664,     0.63764,     0.63864,     0.63964,     0.64064,     0.64164,     0.64264,     0.64364,     0.64464,     0.64565,     0.64665,     0.64765,\n",
       "           0.64865,     0.64965,     0.65065,     0.65165,     0.65265,     0.65365,     0.65465,     0.65566,     0.65666,     0.65766,     0.65866,     0.65966,     0.66066,     0.66166,     0.66266,     0.66366,     0.66466,     0.66567,     0.66667,     0.66767,     0.66867,     0.66967,     0.67067,     0.67167,\n",
       "           0.67267,     0.67367,     0.67467,     0.67568,     0.67668,     0.67768,     0.67868,     0.67968,     0.68068,     0.68168,     0.68268,     0.68368,     0.68468,     0.68569,     0.68669,     0.68769,     0.68869,     0.68969,     0.69069,     0.69169,     0.69269,     0.69369,     0.69469,      0.6957,\n",
       "            0.6967,      0.6977,      0.6987,      0.6997,      0.7007,      0.7017,      0.7027,      0.7037,      0.7047,     0.70571,     0.70671,     0.70771,     0.70871,     0.70971,     0.71071,     0.71171,     0.71271,     0.71371,     0.71471,     0.71572,     0.71672,     0.71772,     0.71872,     0.71972,\n",
       "           0.72072,     0.72172,     0.72272,     0.72372,     0.72472,     0.72573,     0.72673,     0.72773,     0.72873,     0.72973,     0.73073,     0.73173,     0.73273,     0.73373,     0.73473,     0.73574,     0.73674,     0.73774,     0.73874,     0.73974,     0.74074,     0.74174,     0.74274,     0.74374,\n",
       "           0.74474,     0.74575,     0.74675,     0.74775,     0.74875,     0.74975,     0.75075,     0.75175,     0.75275,     0.75375,     0.75475,     0.75576,     0.75676,     0.75776,     0.75876,     0.75976,     0.76076,     0.76176,     0.76276,     0.76376,     0.76476,     0.76577,     0.76677,     0.76777,\n",
       "           0.76877,     0.76977,     0.77077,     0.77177,     0.77277,     0.77377,     0.77477,     0.77578,     0.77678,     0.77778,     0.77878,     0.77978,     0.78078,     0.78178,     0.78278,     0.78378,     0.78478,     0.78579,     0.78679,     0.78779,     0.78879,     0.78979,     0.79079,     0.79179,\n",
       "           0.79279,     0.79379,     0.79479,      0.7958,      0.7968,      0.7978,      0.7988,      0.7998,      0.8008,      0.8018,      0.8028,      0.8038,      0.8048,     0.80581,     0.80681,     0.80781,     0.80881,     0.80981,     0.81081,     0.81181,     0.81281,     0.81381,     0.81481,     0.81582,\n",
       "           0.81682,     0.81782,     0.81882,     0.81982,     0.82082,     0.82182,     0.82282,     0.82382,     0.82482,     0.82583,     0.82683,     0.82783,     0.82883,     0.82983,     0.83083,     0.83183,     0.83283,     0.83383,     0.83483,     0.83584,     0.83684,     0.83784,     0.83884,     0.83984,\n",
       "           0.84084,     0.84184,     0.84284,     0.84384,     0.84484,     0.84585,     0.84685,     0.84785,     0.84885,     0.84985,     0.85085,     0.85185,     0.85285,     0.85385,     0.85485,     0.85586,     0.85686,     0.85786,     0.85886,     0.85986,     0.86086,     0.86186,     0.86286,     0.86386,\n",
       "           0.86486,     0.86587,     0.86687,     0.86787,     0.86887,     0.86987,     0.87087,     0.87187,     0.87287,     0.87387,     0.87487,     0.87588,     0.87688,     0.87788,     0.87888,     0.87988,     0.88088,     0.88188,     0.88288,     0.88388,     0.88488,     0.88589,     0.88689,     0.88789,\n",
       "           0.88889,     0.88989,     0.89089,     0.89189,     0.89289,     0.89389,     0.89489,      0.8959,      0.8969,      0.8979,      0.8989,      0.8999,      0.9009,      0.9019,      0.9029,      0.9039,      0.9049,     0.90591,     0.90691,     0.90791,     0.90891,     0.90991,     0.91091,     0.91191,\n",
       "           0.91291,     0.91391,     0.91491,     0.91592,     0.91692,     0.91792,     0.91892,     0.91992,     0.92092,     0.92192,     0.92292,     0.92392,     0.92492,     0.92593,     0.92693,     0.92793,     0.92893,     0.92993,     0.93093,     0.93193,     0.93293,     0.93393,     0.93493,     0.93594,\n",
       "           0.93694,     0.93794,     0.93894,     0.93994,     0.94094,     0.94194,     0.94294,     0.94394,     0.94494,     0.94595,     0.94695,     0.94795,     0.94895,     0.94995,     0.95095,     0.95195,     0.95295,     0.95395,     0.95495,     0.95596,     0.95696,     0.95796,     0.95896,     0.95996,\n",
       "           0.96096,     0.96196,     0.96296,     0.96396,     0.96496,     0.96597,     0.96697,     0.96797,     0.96897,     0.96997,     0.97097,     0.97197,     0.97297,     0.97397,     0.97497,     0.97598,     0.97698,     0.97798,     0.97898,     0.97998,     0.98098,     0.98198,     0.98298,     0.98398,\n",
       "           0.98498,     0.98599,     0.98699,     0.98799,     0.98899,     0.98999,     0.99099,     0.99199,     0.99299,     0.99399,     0.99499,       0.996,       0.997,       0.998,       0.999,           1]), array([[    0.90909,     0.90909,     0.90909,     0.90909,     0.90909,     0.90909,     0.90909,     0.90909,     0.90909,     0.90909,     0.90909,     0.90909,     0.90909,     0.90909,     0.90909,     0.90909,     0.90909,     0.90909,     0.90909,     0.90909,     0.90909,     0.90909,     0.90909,\n",
       "            0.90909,     0.90909,     0.90909,     0.90909,     0.90909,     0.90909,     0.90909,     0.90909,     0.90909,     0.90909,     0.90909,     0.90909,     0.90909,     0.90909,     0.90909,     0.90909,     0.90909,     0.90909,     0.90909,     0.90909,     0.90909,     0.90909,     0.90909,\n",
       "            0.90909,     0.90909,     0.90909,     0.90909,     0.90909,     0.90909,     0.90909,     0.90909,     0.90909,     0.90909,     0.90909,     0.90909,     0.90909,     0.90909,     0.90909,     0.90909,     0.90909,     0.90909,     0.90909,     0.90909,     0.90909,     0.90909,     0.90909,\n",
       "            0.90909,     0.90909,     0.90909,     0.90909,     0.90909,     0.90909,     0.90909,     0.90909,     0.90909,     0.90909,     0.90909,     0.90909,     0.90909,     0.90909,     0.90909,     0.90909,     0.90909,     0.90909,     0.90909,     0.90909,     0.90909,     0.90909,     0.90909,\n",
       "            0.90909,     0.90909,     0.90909,     0.90909,     0.90909,     0.90909,     0.90909,     0.90909,     0.90909,     0.90909,     0.90909,     0.90909,     0.90909,     0.90909,     0.90909,     0.90909,     0.90909,     0.90909,     0.90909,     0.90909,     0.90909,     0.90909,     0.90909,\n",
       "            0.90909,     0.90909,     0.90909,     0.90909,     0.90909,     0.90909,     0.90909,     0.90909,     0.90909,     0.90909,     0.90909,     0.90909,     0.90909,     0.90909,     0.90909,     0.90909,     0.90909,     0.90909,     0.90909,     0.90909,     0.90909,     0.90909,     0.90909,\n",
       "            0.90909,     0.90909,     0.90909,     0.90909,     0.90909,     0.90909,     0.90909,     0.90909,     0.90909,     0.90909,     0.90909,     0.90909,     0.90909,     0.90909,     0.90909,     0.90909,     0.90909,     0.90909,     0.90909,     0.90909,     0.90909,     0.90909,     0.90909,\n",
       "            0.90909,     0.90909,     0.90909,     0.90909,     0.90909,     0.90909,     0.90909,     0.90909,     0.90909,     0.90909,     0.90909,     0.90909,     0.90909,     0.90909,     0.90909,     0.90909,     0.90909,     0.90909,     0.90909,     0.90909,     0.90909,     0.90909,     0.90909,\n",
       "            0.90909,     0.90909,     0.90909,     0.90909,     0.90909,     0.90909,     0.90909,     0.90909,     0.90909,     0.90909,     0.90909,     0.90909,     0.90909,     0.90909,     0.90909,     0.90909,     0.90909,     0.90909,     0.90909,     0.90909,     0.90909,     0.90909,     0.90909,\n",
       "            0.90909,     0.90909,     0.90909,     0.90909,     0.90909,     0.90909,     0.90909,     0.90909,     0.90909,     0.90909,     0.90909,     0.90909,     0.90909,     0.90909,     0.90909,     0.90909,     0.90909,     0.90909,     0.90909,     0.90909,     0.90909,     0.90909,     0.90909,\n",
       "            0.90909,     0.90909,     0.90909,     0.90909,     0.90909,     0.90909,     0.90909,     0.90909,     0.90909,     0.90909,     0.90909,     0.90909,     0.90909,     0.90909,     0.90909,     0.90909,     0.90909,     0.90909,     0.90909,     0.90909,     0.90909,     0.90909,     0.90909,\n",
       "            0.90909,     0.90909,     0.90909,     0.90909,     0.90909,     0.90909,     0.90909,     0.90909,     0.90909,     0.90909,     0.90909,     0.90909,     0.90909,     0.90909,     0.90909,     0.90909,     0.90909,     0.90909,     0.90909,     0.90909,     0.90909,     0.90909,     0.90909,\n",
       "            0.90654,     0.90011,     0.89369,     0.88726,     0.88083,     0.87441,     0.86798,     0.86364,     0.86364,     0.86364,     0.86364,     0.86364,     0.86364,     0.86364,     0.86364,     0.86364,     0.86364,     0.86364,     0.86364,     0.86364,     0.86364,     0.86364,     0.86364,\n",
       "            0.86364,     0.86364,     0.86364,     0.86364,     0.86364,     0.86364,     0.86364,     0.86364,     0.86364,     0.86364,     0.86364,     0.86364,     0.86364,     0.86364,     0.86364,     0.86364,     0.86364,     0.86364,     0.86364,     0.86364,     0.86364,     0.86364,     0.86364,\n",
       "            0.86364,     0.86364,     0.86364,     0.86364,     0.86364,     0.86364,     0.86364,     0.86364,     0.86364,     0.86364,     0.86364,     0.86364,     0.86364,     0.86364,     0.86364,     0.86364,     0.86364,     0.86364,     0.86364,     0.86364,     0.86364,     0.86364,     0.86364,\n",
       "            0.86364,     0.86364,     0.86364,     0.86364,     0.86364,     0.86364,     0.86364,     0.86364,     0.86364,     0.86364,     0.86364,     0.86364,     0.86364,     0.86364,     0.86364,     0.86364,     0.86364,     0.86364,     0.86364,     0.86364,     0.86364,     0.86364,     0.86364,\n",
       "            0.86364,     0.86364,     0.86364,     0.86364,     0.86364,     0.86364,     0.86364,     0.86364,     0.86364,     0.86364,     0.86364,     0.86364,     0.86364,     0.86364,     0.86364,     0.86364,     0.86364,     0.86364,     0.86364,     0.86364,     0.86364,     0.86364,     0.86364,\n",
       "            0.86364,     0.86364,     0.86364,     0.86364,     0.86364,     0.86364,     0.86364,     0.86364,     0.86364,     0.86364,     0.86364,     0.86364,     0.86364,     0.86364,     0.86364,     0.86364,     0.86364,     0.86364,     0.86364,     0.86364,     0.86364,     0.86364,     0.86364,\n",
       "            0.86364,     0.86364,     0.86364,     0.86364,     0.86364,     0.86364,     0.86364,     0.86364,     0.86364,     0.86364,     0.86364,     0.86364,     0.86364,     0.86364,     0.86364,     0.86364,     0.86364,     0.86364,     0.86364,     0.86364,     0.86364,     0.86364,     0.86364,\n",
       "            0.86364,     0.86364,     0.86364,     0.86364,     0.86364,     0.86364,     0.86364,     0.86364,     0.86364,     0.86364,     0.86364,     0.86364,     0.86364,     0.86364,     0.86364,     0.86364,     0.86364,     0.86364,     0.86364,     0.86364,     0.86364,     0.86364,     0.86364,\n",
       "            0.86364,     0.86364,     0.86364,     0.86364,     0.86364,     0.86364,     0.86364,     0.86364,     0.86364,     0.86364,     0.86364,     0.86364,     0.86364,     0.86364,     0.86364,     0.86364,     0.86364,     0.86364,     0.86364,     0.86364,     0.86364,     0.86364,     0.86364,\n",
       "            0.86364,     0.86364,     0.86364,     0.86364,     0.86364,     0.86364,     0.86364,     0.86364,     0.86364,     0.86364,     0.86364,     0.86364,     0.86364,     0.86364,     0.86364,     0.86364,     0.86364,     0.86364,     0.86364,     0.86364,     0.86364,     0.86364,     0.86364,\n",
       "            0.86364,     0.86364,     0.86364,     0.86364,     0.86364,     0.86364,     0.86364,     0.86364,     0.86364,     0.86364,     0.86364,     0.86364,     0.86364,     0.86364,     0.86364,     0.86364,     0.86364,     0.86364,     0.86364,     0.86364,     0.86333,     0.86139,     0.85944,\n",
       "             0.8575,     0.85556,     0.85362,     0.85168,     0.84974,      0.8478,     0.84586,     0.84391,     0.84197,     0.84003,     0.83809,     0.83615,     0.83421,     0.83227,     0.83032,     0.82838,     0.82644,      0.8245,     0.82256,     0.82062,     0.81868,     0.81818,     0.81818,\n",
       "            0.81818,     0.81818,     0.81818,     0.81818,     0.81818,     0.81818,     0.81818,     0.81818,     0.81818,     0.81818,     0.81818,     0.81818,     0.81818,     0.81818,     0.81818,     0.81818,     0.81818,     0.81818,     0.81818,     0.81818,     0.81818,     0.81818,     0.81818,\n",
       "            0.81818,     0.81818,     0.81818,     0.81818,     0.81818,     0.81818,     0.81818,     0.81818,     0.81818,     0.81818,     0.81818,      0.8176,     0.81669,     0.81579,     0.81488,     0.81398,     0.81307,     0.81217,     0.81126,     0.81036,     0.80945,     0.80855,     0.80764,\n",
       "            0.80674,     0.80583,     0.80493,     0.80402,     0.80312,     0.80222,     0.80131,     0.80041,      0.7995,      0.7986,     0.79769,     0.79679,     0.79588,     0.79498,     0.79407,     0.79317,     0.79226,     0.79136,     0.79045,     0.78955,     0.78864,     0.78774,     0.78684,\n",
       "            0.78593,     0.78503,     0.78412,     0.78322,     0.78231,     0.78141,      0.7805,      0.7796,     0.77869,     0.77779,     0.77688,     0.77598,     0.77507,     0.77417,     0.77326,     0.77273,     0.77273,     0.77273,     0.77273,     0.77273,     0.77273,     0.77273,     0.77273,\n",
       "            0.77273,     0.77273,     0.77273,     0.77273,     0.77273,     0.77273,     0.77273,     0.77273,     0.77273,     0.77273,     0.77273,     0.76823,     0.76305,     0.75787,     0.75269,     0.74752,     0.74234,     0.73716,     0.73199,     0.72727,     0.72727,     0.72727,     0.72727,\n",
       "            0.72727,     0.72727,     0.72727,     0.72727,     0.72727,     0.72727,     0.72727,     0.72727,     0.72727,     0.72727,     0.72727,     0.72727,     0.72727,     0.72727,     0.72727,     0.72727,     0.72727,     0.72727,     0.72727,     0.72727,     0.72727,     0.72727,     0.72727,\n",
       "            0.72727,     0.72727,     0.72727,     0.72727,     0.72727,     0.72727,     0.72727,     0.72727,     0.72727,     0.72727,     0.72721,     0.72376,     0.72031,     0.71686,     0.71341,     0.70996,     0.70651,     0.70305,      0.6996,     0.69615,      0.6927,     0.68925,      0.6858,\n",
       "            0.68235,     0.67935,     0.67644,     0.67353,     0.67062,      0.6677,     0.66479,     0.66188,     0.65897,     0.65606,     0.65314,     0.65023,     0.64732,     0.64441,      0.6415,     0.63858,     0.62899,     0.59793,      0.5837,     0.57438,     0.56506,     0.55574,     0.54642,\n",
       "            0.54545,     0.54545,     0.54545,     0.54545,     0.54545,     0.54479,     0.52926,     0.51373,     0.49928,     0.49307,     0.48686,     0.48064,     0.47443,     0.46822,     0.46201,      0.4558,     0.42973,     0.40909,     0.40909,     0.40909,     0.40909,     0.40909,     0.40909,\n",
       "             0.4041,     0.39375,     0.38339,     0.37304,      0.3634,     0.36081,     0.35822,     0.35563,     0.35304,     0.35046,     0.34787,     0.34528,     0.34269,      0.3401,     0.33751,     0.33493,     0.33234,     0.32975,     0.32716,     0.32457,     0.32198,      0.3194,     0.31728,\n",
       "            0.31559,     0.31389,      0.3122,      0.3105,     0.30881,     0.30712,     0.30542,     0.30373,     0.30203,     0.30034,     0.29864,     0.29695,     0.29526,     0.29356,     0.29187,     0.29017,     0.28848,     0.28679,     0.28509,      0.2834,      0.2817,     0.28001,     0.27831,\n",
       "            0.27662,     0.27493,     0.27323,     0.27047,     0.26726,     0.26404,     0.26083,     0.25762,      0.2544,     0.25119,     0.24798,     0.24476,     0.24155,     0.23834,     0.23512,     0.23191,      0.2287,     0.22609,     0.22398,     0.22186,     0.21974,     0.21762,      0.2155,\n",
       "            0.21339,     0.21127,     0.20915,     0.20703,     0.20492,      0.2028,     0.20068,     0.19856,     0.19644,     0.19433,     0.19221,     0.19009,     0.18797,     0.18586,     0.18374,     0.18166,     0.18003,      0.1784,     0.17676,     0.17513,     0.17349,     0.17186,     0.17022,\n",
       "            0.16859,     0.16695,     0.16532,     0.16368,     0.16205,     0.16041,     0.15878,     0.15714,     0.15551,     0.15387,     0.15224,      0.1506,     0.14897,     0.14733,      0.1457,     0.14406,     0.14243,     0.14079,     0.13916,     0.13753,    0.090909,    0.090909,    0.090909,\n",
       "           0.090909,    0.090909,    0.090909,    0.090909,    0.090909,    0.090909,    0.090909,    0.090909,    0.090909,    0.090909,    0.090909,    0.090909,    0.090909,    0.090909,    0.090909,    0.090909,    0.090909,    0.090909,    0.090909,    0.090909,    0.090909,    0.090909,    0.090909,\n",
       "           0.090909,    0.090909,    0.090909,    0.090909,    0.090909,    0.090909,    0.090909,    0.090909,     0.07619,    0.052894,           0,           0,           0,           0,           0,           0,           0,           0,           0,           0,           0,           0,           0,\n",
       "                  0,           0,           0,           0,           0,           0,           0,           0,           0,           0,           0,           0,           0,           0,           0,           0,           0,           0,           0,           0,           0,           0,           0,\n",
       "                  0,           0,           0,           0,           0,           0,           0,           0,           0,           0,           0,           0,           0,           0,           0,           0,           0,           0,           0,           0,           0,           0,           0,\n",
       "                  0,           0,           0,           0,           0,           0,           0,           0,           0,           0,           0,           0,           0,           0,           0,           0,           0,           0,           0,           0,           0,           0,           0,\n",
       "                  0,           0,           0,           0,           0,           0,           0,           0,           0,           0,           0]]), 'Confidence', 'Recall']]\n",
       "fitness: 0.42357147230608494\n",
       "keys: ['metrics/precision(B)', 'metrics/recall(B)', 'metrics/mAP50(B)', 'metrics/mAP50-95(B)']\n",
       "maps: array([    0.38394])\n",
       "names: {0: 'clip'}\n",
       "plot: True\n",
       "results_dict: {'metrics/precision(B)': 0.754806890223557, 'metrics/recall(B)': 0.840031319197986, 'metrics/mAP50(B)': 0.7802124268471691, 'metrics/mAP50-95(B)': 0.3839446995792978, 'fitness': 0.42357147230608494}\n",
       "save_dir: WindowsPath('runs/detect/clip-detector')\n",
       "speed: {'preprocess': 0.18120841117723732, 'inference': 8.140450467520925, 'loss': 0.0003757010753675599, 'postprocess': 0.7901925239472641}\n",
       "task: 'detect'"
      ]
     },
     "execution_count": 2,
     "metadata": {},
     "output_type": "execute_result"
    }
   ],
   "source": [
    "from ultralytics import YOLO\n",
    "\n",
    "model = YOLO('yolov8s.pt')  \n",
    "\n",
    "model.train(\n",
    "    data='clip.yaml',        \n",
    "    epochs=50,                 \n",
    "    imgsz=640,                 \n",
    "    batch=8,                  \n",
    "    device=0,                  \n",
    "    name='clip-detector',   \n",
    "    patience=10,             \n",
    "    augment=True,             \n",
    "    hsv_h=0.015,              \n",
    "    hsv_s=0.7,\n",
    "    hsv_v=0.4,\n",
    "    degrees=10,                \n",
    "    scale=0.4,                \n",
    "    flipud=0.0,                \n",
    "    fliplr=0.5,                \n",
    "    copy_paste=0.1            \n",
    ")\n"
   ]
  },
  {
   "cell_type": "code",
   "execution_count": 3,
   "id": "7e4a5464",
   "metadata": {},
   "outputs": [
    {
     "name": "stdout",
     "output_type": "stream",
     "text": [
      "\n",
      "WARNING \n",
      "inference results will accumulate in RAM unless `stream=True` is passed, causing potential out-of-memory\n",
      "errors for large sources or long-running streams and videos. See https://docs.ultralytics.com/modes/predict/ for help.\n",
      "\n",
      "Example:\n",
      "    results = model(source=..., stream=True)  # generator of Results objects\n",
      "    for r in results:\n",
      "        boxes = r.boxes  # Boxes object for bbox outputs\n",
      "        masks = r.masks  # Masks object for segment masks outputs\n",
      "        probs = r.probs  # Class probabilities for classification outputs\n",
      "\n",
      "video 1/1 (frame 1/1341) c:\\Users\\Li Pin\\Documents\\FootfallCam\\sample.mp4: 480x640 (no detections), 91.8ms\n",
      "video 1/1 (frame 2/1341) c:\\Users\\Li Pin\\Documents\\FootfallCam\\sample.mp4: 480x640 (no detections), 7.9ms\n",
      "video 1/1 (frame 3/1341) c:\\Users\\Li Pin\\Documents\\FootfallCam\\sample.mp4: 480x640 (no detections), 7.6ms\n",
      "video 1/1 (frame 4/1341) c:\\Users\\Li Pin\\Documents\\FootfallCam\\sample.mp4: 480x640 (no detections), 9.6ms\n",
      "video 1/1 (frame 5/1341) c:\\Users\\Li Pin\\Documents\\FootfallCam\\sample.mp4: 480x640 (no detections), 7.6ms\n",
      "video 1/1 (frame 6/1341) c:\\Users\\Li Pin\\Documents\\FootfallCam\\sample.mp4: 480x640 (no detections), 9.6ms\n",
      "video 1/1 (frame 7/1341) c:\\Users\\Li Pin\\Documents\\FootfallCam\\sample.mp4: 480x640 (no detections), 8.1ms\n",
      "video 1/1 (frame 8/1341) c:\\Users\\Li Pin\\Documents\\FootfallCam\\sample.mp4: 480x640 (no detections), 7.8ms\n",
      "video 1/1 (frame 9/1341) c:\\Users\\Li Pin\\Documents\\FootfallCam\\sample.mp4: 480x640 (no detections), 8.6ms\n",
      "video 1/1 (frame 10/1341) c:\\Users\\Li Pin\\Documents\\FootfallCam\\sample.mp4: 480x640 (no detections), 7.5ms\n",
      "video 1/1 (frame 11/1341) c:\\Users\\Li Pin\\Documents\\FootfallCam\\sample.mp4: 480x640 (no detections), 9.2ms\n",
      "video 1/1 (frame 12/1341) c:\\Users\\Li Pin\\Documents\\FootfallCam\\sample.mp4: 480x640 (no detections), 7.5ms\n",
      "video 1/1 (frame 13/1341) c:\\Users\\Li Pin\\Documents\\FootfallCam\\sample.mp4: 480x640 (no detections), 10.4ms\n",
      "video 1/1 (frame 14/1341) c:\\Users\\Li Pin\\Documents\\FootfallCam\\sample.mp4: 480x640 (no detections), 7.7ms\n",
      "video 1/1 (frame 15/1341) c:\\Users\\Li Pin\\Documents\\FootfallCam\\sample.mp4: 480x640 (no detections), 7.6ms\n",
      "video 1/1 (frame 16/1341) c:\\Users\\Li Pin\\Documents\\FootfallCam\\sample.mp4: 480x640 (no detections), 7.5ms\n",
      "video 1/1 (frame 17/1341) c:\\Users\\Li Pin\\Documents\\FootfallCam\\sample.mp4: 480x640 (no detections), 7.6ms\n",
      "video 1/1 (frame 18/1341) c:\\Users\\Li Pin\\Documents\\FootfallCam\\sample.mp4: 480x640 (no detections), 7.6ms\n",
      "video 1/1 (frame 19/1341) c:\\Users\\Li Pin\\Documents\\FootfallCam\\sample.mp4: 480x640 (no detections), 7.5ms\n",
      "video 1/1 (frame 20/1341) c:\\Users\\Li Pin\\Documents\\FootfallCam\\sample.mp4: 480x640 (no detections), 9.8ms\n",
      "video 1/1 (frame 21/1341) c:\\Users\\Li Pin\\Documents\\FootfallCam\\sample.mp4: 480x640 (no detections), 8.3ms\n",
      "video 1/1 (frame 22/1341) c:\\Users\\Li Pin\\Documents\\FootfallCam\\sample.mp4: 480x640 (no detections), 9.9ms\n",
      "video 1/1 (frame 23/1341) c:\\Users\\Li Pin\\Documents\\FootfallCam\\sample.mp4: 480x640 (no detections), 8.1ms\n",
      "video 1/1 (frame 24/1341) c:\\Users\\Li Pin\\Documents\\FootfallCam\\sample.mp4: 480x640 (no detections), 9.3ms\n",
      "video 1/1 (frame 25/1341) c:\\Users\\Li Pin\\Documents\\FootfallCam\\sample.mp4: 480x640 (no detections), 8.1ms\n",
      "video 1/1 (frame 26/1341) c:\\Users\\Li Pin\\Documents\\FootfallCam\\sample.mp4: 480x640 (no detections), 7.5ms\n",
      "video 1/1 (frame 27/1341) c:\\Users\\Li Pin\\Documents\\FootfallCam\\sample.mp4: 480x640 (no detections), 7.5ms\n",
      "video 1/1 (frame 28/1341) c:\\Users\\Li Pin\\Documents\\FootfallCam\\sample.mp4: 480x640 (no detections), 7.4ms\n",
      "video 1/1 (frame 29/1341) c:\\Users\\Li Pin\\Documents\\FootfallCam\\sample.mp4: 480x640 (no detections), 7.3ms\n",
      "video 1/1 (frame 30/1341) c:\\Users\\Li Pin\\Documents\\FootfallCam\\sample.mp4: 480x640 (no detections), 7.1ms\n",
      "video 1/1 (frame 31/1341) c:\\Users\\Li Pin\\Documents\\FootfallCam\\sample.mp4: 480x640 (no detections), 9.0ms\n",
      "video 1/1 (frame 32/1341) c:\\Users\\Li Pin\\Documents\\FootfallCam\\sample.mp4: 480x640 (no detections), 8.1ms\n",
      "video 1/1 (frame 33/1341) c:\\Users\\Li Pin\\Documents\\FootfallCam\\sample.mp4: 480x640 (no detections), 9.2ms\n",
      "video 1/1 (frame 34/1341) c:\\Users\\Li Pin\\Documents\\FootfallCam\\sample.mp4: 480x640 (no detections), 7.6ms\n",
      "video 1/1 (frame 35/1341) c:\\Users\\Li Pin\\Documents\\FootfallCam\\sample.mp4: 480x640 (no detections), 9.3ms\n",
      "video 1/1 (frame 36/1341) c:\\Users\\Li Pin\\Documents\\FootfallCam\\sample.mp4: 480x640 (no detections), 7.0ms\n",
      "video 1/1 (frame 37/1341) c:\\Users\\Li Pin\\Documents\\FootfallCam\\sample.mp4: 480x640 (no detections), 7.4ms\n",
      "video 1/1 (frame 38/1341) c:\\Users\\Li Pin\\Documents\\FootfallCam\\sample.mp4: 480x640 (no detections), 7.5ms\n",
      "video 1/1 (frame 39/1341) c:\\Users\\Li Pin\\Documents\\FootfallCam\\sample.mp4: 480x640 (no detections), 7.2ms\n",
      "video 1/1 (frame 40/1341) c:\\Users\\Li Pin\\Documents\\FootfallCam\\sample.mp4: 480x640 (no detections), 9.0ms\n",
      "video 1/1 (frame 41/1341) c:\\Users\\Li Pin\\Documents\\FootfallCam\\sample.mp4: 480x640 (no detections), 8.2ms\n",
      "video 1/1 (frame 42/1341) c:\\Users\\Li Pin\\Documents\\FootfallCam\\sample.mp4: 480x640 (no detections), 8.7ms\n",
      "video 1/1 (frame 43/1341) c:\\Users\\Li Pin\\Documents\\FootfallCam\\sample.mp4: 480x640 (no detections), 6.8ms\n",
      "video 1/1 (frame 44/1341) c:\\Users\\Li Pin\\Documents\\FootfallCam\\sample.mp4: 480x640 (no detections), 8.6ms\n",
      "video 1/1 (frame 45/1341) c:\\Users\\Li Pin\\Documents\\FootfallCam\\sample.mp4: 480x640 (no detections), 6.9ms\n",
      "video 1/1 (frame 46/1341) c:\\Users\\Li Pin\\Documents\\FootfallCam\\sample.mp4: 480x640 (no detections), 8.4ms\n",
      "video 1/1 (frame 47/1341) c:\\Users\\Li Pin\\Documents\\FootfallCam\\sample.mp4: 480x640 (no detections), 6.8ms\n",
      "video 1/1 (frame 48/1341) c:\\Users\\Li Pin\\Documents\\FootfallCam\\sample.mp4: 480x640 (no detections), 6.8ms\n",
      "video 1/1 (frame 49/1341) c:\\Users\\Li Pin\\Documents\\FootfallCam\\sample.mp4: 480x640 (no detections), 7.0ms\n",
      "video 1/1 (frame 50/1341) c:\\Users\\Li Pin\\Documents\\FootfallCam\\sample.mp4: 480x640 (no detections), 8.6ms\n",
      "video 1/1 (frame 51/1341) c:\\Users\\Li Pin\\Documents\\FootfallCam\\sample.mp4: 480x640 (no detections), 6.8ms\n",
      "video 1/1 (frame 52/1341) c:\\Users\\Li Pin\\Documents\\FootfallCam\\sample.mp4: 480x640 (no detections), 8.4ms\n",
      "video 1/1 (frame 53/1341) c:\\Users\\Li Pin\\Documents\\FootfallCam\\sample.mp4: 480x640 (no detections), 6.8ms\n",
      "video 1/1 (frame 54/1341) c:\\Users\\Li Pin\\Documents\\FootfallCam\\sample.mp4: 480x640 (no detections), 6.8ms\n",
      "video 1/1 (frame 55/1341) c:\\Users\\Li Pin\\Documents\\FootfallCam\\sample.mp4: 480x640 (no detections), 6.8ms\n",
      "video 1/1 (frame 56/1341) c:\\Users\\Li Pin\\Documents\\FootfallCam\\sample.mp4: 480x640 (no detections), 6.5ms\n",
      "video 1/1 (frame 57/1341) c:\\Users\\Li Pin\\Documents\\FootfallCam\\sample.mp4: 480x640 (no detections), 6.5ms\n",
      "video 1/1 (frame 58/1341) c:\\Users\\Li Pin\\Documents\\FootfallCam\\sample.mp4: 480x640 (no detections), 6.5ms\n",
      "video 1/1 (frame 59/1341) c:\\Users\\Li Pin\\Documents\\FootfallCam\\sample.mp4: 480x640 (no detections), 6.5ms\n",
      "video 1/1 (frame 60/1341) c:\\Users\\Li Pin\\Documents\\FootfallCam\\sample.mp4: 480x640 (no detections), 7.0ms\n",
      "video 1/1 (frame 61/1341) c:\\Users\\Li Pin\\Documents\\FootfallCam\\sample.mp4: 480x640 (no detections), 7.4ms\n",
      "video 1/1 (frame 62/1341) c:\\Users\\Li Pin\\Documents\\FootfallCam\\sample.mp4: 480x640 (no detections), 6.5ms\n",
      "video 1/1 (frame 63/1341) c:\\Users\\Li Pin\\Documents\\FootfallCam\\sample.mp4: 480x640 (no detections), 6.5ms\n",
      "video 1/1 (frame 64/1341) c:\\Users\\Li Pin\\Documents\\FootfallCam\\sample.mp4: 480x640 (no detections), 6.9ms\n",
      "video 1/1 (frame 65/1341) c:\\Users\\Li Pin\\Documents\\FootfallCam\\sample.mp4: 480x640 (no detections), 6.6ms\n",
      "video 1/1 (frame 66/1341) c:\\Users\\Li Pin\\Documents\\FootfallCam\\sample.mp4: 480x640 (no detections), 6.5ms\n",
      "video 1/1 (frame 67/1341) c:\\Users\\Li Pin\\Documents\\FootfallCam\\sample.mp4: 480x640 (no detections), 6.8ms\n",
      "video 1/1 (frame 68/1341) c:\\Users\\Li Pin\\Documents\\FootfallCam\\sample.mp4: 480x640 (no detections), 7.0ms\n",
      "video 1/1 (frame 69/1341) c:\\Users\\Li Pin\\Documents\\FootfallCam\\sample.mp4: 480x640 (no detections), 8.2ms\n",
      "video 1/1 (frame 70/1341) c:\\Users\\Li Pin\\Documents\\FootfallCam\\sample.mp4: 480x640 (no detections), 7.1ms\n",
      "video 1/1 (frame 71/1341) c:\\Users\\Li Pin\\Documents\\FootfallCam\\sample.mp4: 480x640 (no detections), 8.7ms\n",
      "video 1/1 (frame 72/1341) c:\\Users\\Li Pin\\Documents\\FootfallCam\\sample.mp4: 480x640 (no detections), 7.0ms\n",
      "video 1/1 (frame 73/1341) c:\\Users\\Li Pin\\Documents\\FootfallCam\\sample.mp4: 480x640 (no detections), 8.6ms\n",
      "video 1/1 (frame 74/1341) c:\\Users\\Li Pin\\Documents\\FootfallCam\\sample.mp4: 480x640 (no detections), 6.6ms\n",
      "video 1/1 (frame 75/1341) c:\\Users\\Li Pin\\Documents\\FootfallCam\\sample.mp4: 480x640 (no detections), 6.9ms\n",
      "video 1/1 (frame 76/1341) c:\\Users\\Li Pin\\Documents\\FootfallCam\\sample.mp4: 480x640 (no detections), 7.0ms\n",
      "video 1/1 (frame 77/1341) c:\\Users\\Li Pin\\Documents\\FootfallCam\\sample.mp4: 480x640 (no detections), 8.1ms\n",
      "video 1/1 (frame 78/1341) c:\\Users\\Li Pin\\Documents\\FootfallCam\\sample.mp4: 480x640 (no detections), 6.4ms\n",
      "video 1/1 (frame 79/1341) c:\\Users\\Li Pin\\Documents\\FootfallCam\\sample.mp4: 480x640 (no detections), 8.1ms\n",
      "video 1/1 (frame 80/1341) c:\\Users\\Li Pin\\Documents\\FootfallCam\\sample.mp4: 480x640 (no detections), 6.9ms\n",
      "video 1/1 (frame 81/1341) c:\\Users\\Li Pin\\Documents\\FootfallCam\\sample.mp4: 480x640 (no detections), 6.6ms\n",
      "video 1/1 (frame 82/1341) c:\\Users\\Li Pin\\Documents\\FootfallCam\\sample.mp4: 480x640 (no detections), 6.8ms\n",
      "video 1/1 (frame 83/1341) c:\\Users\\Li Pin\\Documents\\FootfallCam\\sample.mp4: 480x640 (no detections), 6.8ms\n",
      "video 1/1 (frame 84/1341) c:\\Users\\Li Pin\\Documents\\FootfallCam\\sample.mp4: 480x640 (no detections), 6.9ms\n",
      "video 1/1 (frame 85/1341) c:\\Users\\Li Pin\\Documents\\FootfallCam\\sample.mp4: 480x640 (no detections), 6.7ms\n",
      "video 1/1 (frame 86/1341) c:\\Users\\Li Pin\\Documents\\FootfallCam\\sample.mp4: 480x640 (no detections), 6.9ms\n",
      "video 1/1 (frame 87/1341) c:\\Users\\Li Pin\\Documents\\FootfallCam\\sample.mp4: 480x640 (no detections), 6.8ms\n",
      "video 1/1 (frame 88/1341) c:\\Users\\Li Pin\\Documents\\FootfallCam\\sample.mp4: 480x640 (no detections), 6.8ms\n",
      "video 1/1 (frame 89/1341) c:\\Users\\Li Pin\\Documents\\FootfallCam\\sample.mp4: 480x640 (no detections), 6.2ms\n",
      "video 1/1 (frame 90/1341) c:\\Users\\Li Pin\\Documents\\FootfallCam\\sample.mp4: 480x640 (no detections), 6.4ms\n",
      "video 1/1 (frame 91/1341) c:\\Users\\Li Pin\\Documents\\FootfallCam\\sample.mp4: 480x640 (no detections), 6.2ms\n",
      "video 1/1 (frame 92/1341) c:\\Users\\Li Pin\\Documents\\FootfallCam\\sample.mp4: 480x640 (no detections), 7.7ms\n",
      "video 1/1 (frame 93/1341) c:\\Users\\Li Pin\\Documents\\FootfallCam\\sample.mp4: 480x640 (no detections), 6.0ms\n",
      "video 1/1 (frame 94/1341) c:\\Users\\Li Pin\\Documents\\FootfallCam\\sample.mp4: 480x640 (no detections), 7.4ms\n",
      "video 1/1 (frame 95/1341) c:\\Users\\Li Pin\\Documents\\FootfallCam\\sample.mp4: 480x640 (no detections), 6.1ms\n",
      "video 1/1 (frame 96/1341) c:\\Users\\Li Pin\\Documents\\FootfallCam\\sample.mp4: 480x640 (no detections), 8.4ms\n",
      "video 1/1 (frame 97/1341) c:\\Users\\Li Pin\\Documents\\FootfallCam\\sample.mp4: 480x640 (no detections), 6.0ms\n",
      "video 1/1 (frame 98/1341) c:\\Users\\Li Pin\\Documents\\FootfallCam\\sample.mp4: 480x640 (no detections), 7.7ms\n",
      "video 1/1 (frame 99/1341) c:\\Users\\Li Pin\\Documents\\FootfallCam\\sample.mp4: 480x640 (no detections), 6.5ms\n",
      "video 1/1 (frame 100/1341) c:\\Users\\Li Pin\\Documents\\FootfallCam\\sample.mp4: 480x640 (no detections), 6.2ms\n",
      "video 1/1 (frame 101/1341) c:\\Users\\Li Pin\\Documents\\FootfallCam\\sample.mp4: 480x640 (no detections), 6.1ms\n",
      "video 1/1 (frame 102/1341) c:\\Users\\Li Pin\\Documents\\FootfallCam\\sample.mp4: 480x640 (no detections), 6.0ms\n",
      "video 1/1 (frame 103/1341) c:\\Users\\Li Pin\\Documents\\FootfallCam\\sample.mp4: 480x640 (no detections), 6.1ms\n",
      "video 1/1 (frame 104/1341) c:\\Users\\Li Pin\\Documents\\FootfallCam\\sample.mp4: 480x640 (no detections), 6.1ms\n",
      "video 1/1 (frame 105/1341) c:\\Users\\Li Pin\\Documents\\FootfallCam\\sample.mp4: 480x640 (no detections), 6.9ms\n",
      "video 1/1 (frame 106/1341) c:\\Users\\Li Pin\\Documents\\FootfallCam\\sample.mp4: 480x640 (no detections), 6.6ms\n",
      "video 1/1 (frame 107/1341) c:\\Users\\Li Pin\\Documents\\FootfallCam\\sample.mp4: 480x640 (no detections), 8.4ms\n",
      "video 1/1 (frame 108/1341) c:\\Users\\Li Pin\\Documents\\FootfallCam\\sample.mp4: 480x640 (no detections), 6.6ms\n",
      "video 1/1 (frame 109/1341) c:\\Users\\Li Pin\\Documents\\FootfallCam\\sample.mp4: 480x640 (no detections), 7.7ms\n",
      "video 1/1 (frame 110/1341) c:\\Users\\Li Pin\\Documents\\FootfallCam\\sample.mp4: 480x640 (no detections), 6.6ms\n",
      "video 1/1 (frame 111/1341) c:\\Users\\Li Pin\\Documents\\FootfallCam\\sample.mp4: 480x640 (no detections), 8.8ms\n",
      "video 1/1 (frame 112/1341) c:\\Users\\Li Pin\\Documents\\FootfallCam\\sample.mp4: 480x640 (no detections), 6.6ms\n",
      "video 1/1 (frame 113/1341) c:\\Users\\Li Pin\\Documents\\FootfallCam\\sample.mp4: 480x640 (no detections), 8.0ms\n",
      "video 1/1 (frame 114/1341) c:\\Users\\Li Pin\\Documents\\FootfallCam\\sample.mp4: 480x640 (no detections), 6.6ms\n",
      "video 1/1 (frame 115/1341) c:\\Users\\Li Pin\\Documents\\FootfallCam\\sample.mp4: 480x640 (no detections), 9.5ms\n",
      "video 1/1 (frame 116/1341) c:\\Users\\Li Pin\\Documents\\FootfallCam\\sample.mp4: 480x640 (no detections), 6.9ms\n",
      "video 1/1 (frame 117/1341) c:\\Users\\Li Pin\\Documents\\FootfallCam\\sample.mp4: 480x640 (no detections), 6.6ms\n",
      "video 1/1 (frame 118/1341) c:\\Users\\Li Pin\\Documents\\FootfallCam\\sample.mp4: 480x640 (no detections), 6.2ms\n",
      "video 1/1 (frame 119/1341) c:\\Users\\Li Pin\\Documents\\FootfallCam\\sample.mp4: 480x640 (no detections), 5.9ms\n",
      "video 1/1 (frame 120/1341) c:\\Users\\Li Pin\\Documents\\FootfallCam\\sample.mp4: 480x640 (no detections), 5.9ms\n",
      "video 1/1 (frame 121/1341) c:\\Users\\Li Pin\\Documents\\FootfallCam\\sample.mp4: 480x640 (no detections), 5.9ms\n",
      "video 1/1 (frame 122/1341) c:\\Users\\Li Pin\\Documents\\FootfallCam\\sample.mp4: 480x640 (no detections), 8.2ms\n",
      "video 1/1 (frame 123/1341) c:\\Users\\Li Pin\\Documents\\FootfallCam\\sample.mp4: 480x640 (no detections), 6.6ms\n",
      "video 1/1 (frame 124/1341) c:\\Users\\Li Pin\\Documents\\FootfallCam\\sample.mp4: 480x640 (no detections), 7.6ms\n",
      "video 1/1 (frame 125/1341) c:\\Users\\Li Pin\\Documents\\FootfallCam\\sample.mp4: 480x640 (no detections), 7.5ms\n",
      "video 1/1 (frame 126/1341) c:\\Users\\Li Pin\\Documents\\FootfallCam\\sample.mp4: 480x640 (no detections), 7.6ms\n",
      "video 1/1 (frame 127/1341) c:\\Users\\Li Pin\\Documents\\FootfallCam\\sample.mp4: 480x640 (no detections), 7.1ms\n",
      "video 1/1 (frame 128/1341) c:\\Users\\Li Pin\\Documents\\FootfallCam\\sample.mp4: 480x640 1 clip, 6.5ms\n",
      "video 1/1 (frame 129/1341) c:\\Users\\Li Pin\\Documents\\FootfallCam\\sample.mp4: 480x640 1 clip, 6.2ms\n",
      "video 1/1 (frame 130/1341) c:\\Users\\Li Pin\\Documents\\FootfallCam\\sample.mp4: 480x640 (no detections), 6.2ms\n",
      "video 1/1 (frame 131/1341) c:\\Users\\Li Pin\\Documents\\FootfallCam\\sample.mp4: 480x640 (no detections), 6.6ms\n",
      "video 1/1 (frame 132/1341) c:\\Users\\Li Pin\\Documents\\FootfallCam\\sample.mp4: 480x640 (no detections), 6.1ms\n",
      "video 1/1 (frame 133/1341) c:\\Users\\Li Pin\\Documents\\FootfallCam\\sample.mp4: 480x640 (no detections), 6.0ms\n",
      "video 1/1 (frame 134/1341) c:\\Users\\Li Pin\\Documents\\FootfallCam\\sample.mp4: 480x640 (no detections), 7.7ms\n",
      "video 1/1 (frame 135/1341) c:\\Users\\Li Pin\\Documents\\FootfallCam\\sample.mp4: 480x640 (no detections), 6.5ms\n",
      "video 1/1 (frame 136/1341) c:\\Users\\Li Pin\\Documents\\FootfallCam\\sample.mp4: 480x640 (no detections), 6.3ms\n",
      "video 1/1 (frame 137/1341) c:\\Users\\Li Pin\\Documents\\FootfallCam\\sample.mp4: 480x640 1 clip, 6.6ms\n",
      "video 1/1 (frame 138/1341) c:\\Users\\Li Pin\\Documents\\FootfallCam\\sample.mp4: 480x640 (no detections), 6.5ms\n",
      "video 1/1 (frame 139/1341) c:\\Users\\Li Pin\\Documents\\FootfallCam\\sample.mp4: 480x640 (no detections), 6.5ms\n",
      "video 1/1 (frame 140/1341) c:\\Users\\Li Pin\\Documents\\FootfallCam\\sample.mp4: 480x640 (no detections), 6.8ms\n",
      "video 1/1 (frame 141/1341) c:\\Users\\Li Pin\\Documents\\FootfallCam\\sample.mp4: 480x640 (no detections), 6.0ms\n",
      "video 1/1 (frame 142/1341) c:\\Users\\Li Pin\\Documents\\FootfallCam\\sample.mp4: 480x640 (no detections), 5.9ms\n",
      "video 1/1 (frame 143/1341) c:\\Users\\Li Pin\\Documents\\FootfallCam\\sample.mp4: 480x640 (no detections), 6.2ms\n",
      "video 1/1 (frame 144/1341) c:\\Users\\Li Pin\\Documents\\FootfallCam\\sample.mp4: 480x640 (no detections), 6.0ms\n",
      "video 1/1 (frame 145/1341) c:\\Users\\Li Pin\\Documents\\FootfallCam\\sample.mp4: 480x640 (no detections), 7.3ms\n",
      "video 1/1 (frame 146/1341) c:\\Users\\Li Pin\\Documents\\FootfallCam\\sample.mp4: 480x640 (no detections), 6.3ms\n",
      "video 1/1 (frame 147/1341) c:\\Users\\Li Pin\\Documents\\FootfallCam\\sample.mp4: 480x640 (no detections), 7.6ms\n",
      "video 1/1 (frame 148/1341) c:\\Users\\Li Pin\\Documents\\FootfallCam\\sample.mp4: 480x640 (no detections), 6.0ms\n",
      "video 1/1 (frame 149/1341) c:\\Users\\Li Pin\\Documents\\FootfallCam\\sample.mp4: 480x640 (no detections), 7.4ms\n",
      "video 1/1 (frame 150/1341) c:\\Users\\Li Pin\\Documents\\FootfallCam\\sample.mp4: 480x640 (no detections), 6.0ms\n",
      "video 1/1 (frame 151/1341) c:\\Users\\Li Pin\\Documents\\FootfallCam\\sample.mp4: 480x640 (no detections), 7.2ms\n",
      "video 1/1 (frame 152/1341) c:\\Users\\Li Pin\\Documents\\FootfallCam\\sample.mp4: 480x640 (no detections), 7.3ms\n",
      "video 1/1 (frame 153/1341) c:\\Users\\Li Pin\\Documents\\FootfallCam\\sample.mp4: 480x640 (no detections), 7.1ms\n",
      "video 1/1 (frame 154/1341) c:\\Users\\Li Pin\\Documents\\FootfallCam\\sample.mp4: 480x640 (no detections), 7.4ms\n",
      "video 1/1 (frame 155/1341) c:\\Users\\Li Pin\\Documents\\FootfallCam\\sample.mp4: 480x640 (no detections), 7.6ms\n",
      "video 1/1 (frame 156/1341) c:\\Users\\Li Pin\\Documents\\FootfallCam\\sample.mp4: 480x640 (no detections), 6.6ms\n",
      "video 1/1 (frame 157/1341) c:\\Users\\Li Pin\\Documents\\FootfallCam\\sample.mp4: 480x640 (no detections), 6.4ms\n",
      "video 1/1 (frame 158/1341) c:\\Users\\Li Pin\\Documents\\FootfallCam\\sample.mp4: 480x640 (no detections), 220.9ms\n",
      "video 1/1 (frame 159/1341) c:\\Users\\Li Pin\\Documents\\FootfallCam\\sample.mp4: 480x640 (no detections), 24.5ms\n",
      "video 1/1 (frame 160/1341) c:\\Users\\Li Pin\\Documents\\FootfallCam\\sample.mp4: 480x640 (no detections), 9.6ms\n",
      "video 1/1 (frame 161/1341) c:\\Users\\Li Pin\\Documents\\FootfallCam\\sample.mp4: 480x640 (no detections), 12.6ms\n",
      "video 1/1 (frame 162/1341) c:\\Users\\Li Pin\\Documents\\FootfallCam\\sample.mp4: 480x640 (no detections), 8.1ms\n",
      "video 1/1 (frame 163/1341) c:\\Users\\Li Pin\\Documents\\FootfallCam\\sample.mp4: 480x640 (no detections), 7.5ms\n",
      "video 1/1 (frame 164/1341) c:\\Users\\Li Pin\\Documents\\FootfallCam\\sample.mp4: 480x640 (no detections), 16.4ms\n",
      "video 1/1 (frame 165/1341) c:\\Users\\Li Pin\\Documents\\FootfallCam\\sample.mp4: 480x640 (no detections), 6.5ms\n",
      "video 1/1 (frame 166/1341) c:\\Users\\Li Pin\\Documents\\FootfallCam\\sample.mp4: 480x640 (no detections), 7.1ms\n",
      "video 1/1 (frame 167/1341) c:\\Users\\Li Pin\\Documents\\FootfallCam\\sample.mp4: 480x640 (no detections), 5.9ms\n",
      "video 1/1 (frame 168/1341) c:\\Users\\Li Pin\\Documents\\FootfallCam\\sample.mp4: 480x640 (no detections), 11.0ms\n",
      "video 1/1 (frame 169/1341) c:\\Users\\Li Pin\\Documents\\FootfallCam\\sample.mp4: 480x640 (no detections), 7.6ms\n",
      "video 1/1 (frame 170/1341) c:\\Users\\Li Pin\\Documents\\FootfallCam\\sample.mp4: 480x640 (no detections), 8.7ms\n",
      "video 1/1 (frame 171/1341) c:\\Users\\Li Pin\\Documents\\FootfallCam\\sample.mp4: 480x640 (no detections), 7.2ms\n",
      "video 1/1 (frame 172/1341) c:\\Users\\Li Pin\\Documents\\FootfallCam\\sample.mp4: 480x640 (no detections), 13.2ms\n",
      "video 1/1 (frame 173/1341) c:\\Users\\Li Pin\\Documents\\FootfallCam\\sample.mp4: 480x640 (no detections), 7.5ms\n",
      "video 1/1 (frame 174/1341) c:\\Users\\Li Pin\\Documents\\FootfallCam\\sample.mp4: 480x640 (no detections), 7.5ms\n",
      "video 1/1 (frame 175/1341) c:\\Users\\Li Pin\\Documents\\FootfallCam\\sample.mp4: 480x640 (no detections), 8.0ms\n",
      "video 1/1 (frame 176/1341) c:\\Users\\Li Pin\\Documents\\FootfallCam\\sample.mp4: 480x640 (no detections), 16.4ms\n",
      "video 1/1 (frame 177/1341) c:\\Users\\Li Pin\\Documents\\FootfallCam\\sample.mp4: 480x640 (no detections), 6.8ms\n",
      "video 1/1 (frame 178/1341) c:\\Users\\Li Pin\\Documents\\FootfallCam\\sample.mp4: 480x640 (no detections), 8.2ms\n",
      "video 1/1 (frame 179/1341) c:\\Users\\Li Pin\\Documents\\FootfallCam\\sample.mp4: 480x640 (no detections), 7.0ms\n",
      "video 1/1 (frame 180/1341) c:\\Users\\Li Pin\\Documents\\FootfallCam\\sample.mp4: 480x640 (no detections), 7.9ms\n",
      "video 1/1 (frame 181/1341) c:\\Users\\Li Pin\\Documents\\FootfallCam\\sample.mp4: 480x640 (no detections), 15.4ms\n",
      "video 1/1 (frame 182/1341) c:\\Users\\Li Pin\\Documents\\FootfallCam\\sample.mp4: 480x640 (no detections), 8.3ms\n",
      "video 1/1 (frame 183/1341) c:\\Users\\Li Pin\\Documents\\FootfallCam\\sample.mp4: 480x640 (no detections), 16.7ms\n",
      "video 1/1 (frame 184/1341) c:\\Users\\Li Pin\\Documents\\FootfallCam\\sample.mp4: 480x640 (no detections), 34.2ms\n",
      "video 1/1 (frame 185/1341) c:\\Users\\Li Pin\\Documents\\FootfallCam\\sample.mp4: 480x640 (no detections), 37.5ms\n",
      "video 1/1 (frame 186/1341) c:\\Users\\Li Pin\\Documents\\FootfallCam\\sample.mp4: 480x640 (no detections), 31.4ms\n",
      "video 1/1 (frame 187/1341) c:\\Users\\Li Pin\\Documents\\FootfallCam\\sample.mp4: 480x640 (no detections), 29.7ms\n",
      "video 1/1 (frame 188/1341) c:\\Users\\Li Pin\\Documents\\FootfallCam\\sample.mp4: 480x640 (no detections), 34.4ms\n",
      "video 1/1 (frame 189/1341) c:\\Users\\Li Pin\\Documents\\FootfallCam\\sample.mp4: 480x640 (no detections), 35.8ms\n",
      "video 1/1 (frame 190/1341) c:\\Users\\Li Pin\\Documents\\FootfallCam\\sample.mp4: 480x640 (no detections), 32.7ms\n",
      "video 1/1 (frame 191/1341) c:\\Users\\Li Pin\\Documents\\FootfallCam\\sample.mp4: 480x640 (no detections), 36.9ms\n",
      "video 1/1 (frame 192/1341) c:\\Users\\Li Pin\\Documents\\FootfallCam\\sample.mp4: 480x640 (no detections), 12.4ms\n",
      "video 1/1 (frame 193/1341) c:\\Users\\Li Pin\\Documents\\FootfallCam\\sample.mp4: 480x640 (no detections), 34.8ms\n",
      "video 1/1 (frame 194/1341) c:\\Users\\Li Pin\\Documents\\FootfallCam\\sample.mp4: 480x640 (no detections), 37.0ms\n",
      "video 1/1 (frame 195/1341) c:\\Users\\Li Pin\\Documents\\FootfallCam\\sample.mp4: 480x640 (no detections), 34.8ms\n",
      "video 1/1 (frame 196/1341) c:\\Users\\Li Pin\\Documents\\FootfallCam\\sample.mp4: 480x640 (no detections), 35.5ms\n",
      "video 1/1 (frame 197/1341) c:\\Users\\Li Pin\\Documents\\FootfallCam\\sample.mp4: 480x640 (no detections), 36.0ms\n",
      "video 1/1 (frame 198/1341) c:\\Users\\Li Pin\\Documents\\FootfallCam\\sample.mp4: 480x640 (no detections), 35.0ms\n",
      "video 1/1 (frame 199/1341) c:\\Users\\Li Pin\\Documents\\FootfallCam\\sample.mp4: 480x640 (no detections), 34.6ms\n",
      "video 1/1 (frame 200/1341) c:\\Users\\Li Pin\\Documents\\FootfallCam\\sample.mp4: 480x640 (no detections), 35.3ms\n",
      "video 1/1 (frame 201/1341) c:\\Users\\Li Pin\\Documents\\FootfallCam\\sample.mp4: 480x640 (no detections), 35.1ms\n",
      "video 1/1 (frame 202/1341) c:\\Users\\Li Pin\\Documents\\FootfallCam\\sample.mp4: 480x640 (no detections), 34.4ms\n",
      "video 1/1 (frame 203/1341) c:\\Users\\Li Pin\\Documents\\FootfallCam\\sample.mp4: 480x640 (no detections), 34.3ms\n",
      "video 1/1 (frame 204/1341) c:\\Users\\Li Pin\\Documents\\FootfallCam\\sample.mp4: 480x640 (no detections), 35.2ms\n",
      "video 1/1 (frame 205/1341) c:\\Users\\Li Pin\\Documents\\FootfallCam\\sample.mp4: 480x640 (no detections), 34.0ms\n",
      "video 1/1 (frame 206/1341) c:\\Users\\Li Pin\\Documents\\FootfallCam\\sample.mp4: 480x640 (no detections), 30.1ms\n",
      "video 1/1 (frame 207/1341) c:\\Users\\Li Pin\\Documents\\FootfallCam\\sample.mp4: 480x640 (no detections), 34.1ms\n",
      "video 1/1 (frame 208/1341) c:\\Users\\Li Pin\\Documents\\FootfallCam\\sample.mp4: 480x640 (no detections), 33.9ms\n",
      "video 1/1 (frame 209/1341) c:\\Users\\Li Pin\\Documents\\FootfallCam\\sample.mp4: 480x640 (no detections), 33.7ms\n",
      "video 1/1 (frame 210/1341) c:\\Users\\Li Pin\\Documents\\FootfallCam\\sample.mp4: 480x640 (no detections), 34.5ms\n",
      "video 1/1 (frame 211/1341) c:\\Users\\Li Pin\\Documents\\FootfallCam\\sample.mp4: 480x640 (no detections), 35.2ms\n",
      "video 1/1 (frame 212/1341) c:\\Users\\Li Pin\\Documents\\FootfallCam\\sample.mp4: 480x640 (no detections), 34.1ms\n",
      "video 1/1 (frame 213/1341) c:\\Users\\Li Pin\\Documents\\FootfallCam\\sample.mp4: 480x640 (no detections), 33.3ms\n",
      "video 1/1 (frame 214/1341) c:\\Users\\Li Pin\\Documents\\FootfallCam\\sample.mp4: 480x640 (no detections), 36.3ms\n",
      "video 1/1 (frame 215/1341) c:\\Users\\Li Pin\\Documents\\FootfallCam\\sample.mp4: 480x640 (no detections), 33.1ms\n",
      "video 1/1 (frame 216/1341) c:\\Users\\Li Pin\\Documents\\FootfallCam\\sample.mp4: 480x640 (no detections), 34.0ms\n",
      "video 1/1 (frame 217/1341) c:\\Users\\Li Pin\\Documents\\FootfallCam\\sample.mp4: 480x640 (no detections), 35.9ms\n",
      "video 1/1 (frame 218/1341) c:\\Users\\Li Pin\\Documents\\FootfallCam\\sample.mp4: 480x640 (no detections), 35.3ms\n",
      "video 1/1 (frame 219/1341) c:\\Users\\Li Pin\\Documents\\FootfallCam\\sample.mp4: 480x640 (no detections), 35.8ms\n",
      "video 1/1 (frame 220/1341) c:\\Users\\Li Pin\\Documents\\FootfallCam\\sample.mp4: 480x640 (no detections), 33.9ms\n",
      "video 1/1 (frame 221/1341) c:\\Users\\Li Pin\\Documents\\FootfallCam\\sample.mp4: 480x640 (no detections), 35.5ms\n",
      "video 1/1 (frame 222/1341) c:\\Users\\Li Pin\\Documents\\FootfallCam\\sample.mp4: 480x640 (no detections), 33.3ms\n",
      "video 1/1 (frame 223/1341) c:\\Users\\Li Pin\\Documents\\FootfallCam\\sample.mp4: 480x640 (no detections), 36.1ms\n",
      "video 1/1 (frame 224/1341) c:\\Users\\Li Pin\\Documents\\FootfallCam\\sample.mp4: 480x640 (no detections), 33.1ms\n",
      "video 1/1 (frame 225/1341) c:\\Users\\Li Pin\\Documents\\FootfallCam\\sample.mp4: 480x640 (no detections), 30.6ms\n",
      "video 1/1 (frame 226/1341) c:\\Users\\Li Pin\\Documents\\FootfallCam\\sample.mp4: 480x640 (no detections), 34.1ms\n",
      "video 1/1 (frame 227/1341) c:\\Users\\Li Pin\\Documents\\FootfallCam\\sample.mp4: 480x640 (no detections), 35.8ms\n",
      "video 1/1 (frame 228/1341) c:\\Users\\Li Pin\\Documents\\FootfallCam\\sample.mp4: 480x640 (no detections), 31.6ms\n",
      "video 1/1 (frame 229/1341) c:\\Users\\Li Pin\\Documents\\FootfallCam\\sample.mp4: 480x640 (no detections), 35.7ms\n",
      "video 1/1 (frame 230/1341) c:\\Users\\Li Pin\\Documents\\FootfallCam\\sample.mp4: 480x640 (no detections), 34.7ms\n",
      "video 1/1 (frame 231/1341) c:\\Users\\Li Pin\\Documents\\FootfallCam\\sample.mp4: 480x640 (no detections), 33.3ms\n",
      "video 1/1 (frame 232/1341) c:\\Users\\Li Pin\\Documents\\FootfallCam\\sample.mp4: 480x640 (no detections), 33.3ms\n",
      "video 1/1 (frame 233/1341) c:\\Users\\Li Pin\\Documents\\FootfallCam\\sample.mp4: 480x640 (no detections), 34.3ms\n",
      "video 1/1 (frame 234/1341) c:\\Users\\Li Pin\\Documents\\FootfallCam\\sample.mp4: 480x640 (no detections), 33.1ms\n",
      "video 1/1 (frame 235/1341) c:\\Users\\Li Pin\\Documents\\FootfallCam\\sample.mp4: 480x640 (no detections), 34.5ms\n",
      "video 1/1 (frame 236/1341) c:\\Users\\Li Pin\\Documents\\FootfallCam\\sample.mp4: 480x640 (no detections), 34.1ms\n",
      "video 1/1 (frame 237/1341) c:\\Users\\Li Pin\\Documents\\FootfallCam\\sample.mp4: 480x640 (no detections), 28.0ms\n",
      "video 1/1 (frame 238/1341) c:\\Users\\Li Pin\\Documents\\FootfallCam\\sample.mp4: 480x640 (no detections), 33.4ms\n",
      "video 1/1 (frame 239/1341) c:\\Users\\Li Pin\\Documents\\FootfallCam\\sample.mp4: 480x640 (no detections), 36.4ms\n",
      "video 1/1 (frame 240/1341) c:\\Users\\Li Pin\\Documents\\FootfallCam\\sample.mp4: 480x640 (no detections), 34.7ms\n",
      "video 1/1 (frame 241/1341) c:\\Users\\Li Pin\\Documents\\FootfallCam\\sample.mp4: 480x640 (no detections), 33.1ms\n",
      "video 1/1 (frame 242/1341) c:\\Users\\Li Pin\\Documents\\FootfallCam\\sample.mp4: 480x640 (no detections), 33.4ms\n",
      "video 1/1 (frame 243/1341) c:\\Users\\Li Pin\\Documents\\FootfallCam\\sample.mp4: 480x640 (no detections), 34.6ms\n",
      "video 1/1 (frame 244/1341) c:\\Users\\Li Pin\\Documents\\FootfallCam\\sample.mp4: 480x640 (no detections), 34.3ms\n",
      "video 1/1 (frame 245/1341) c:\\Users\\Li Pin\\Documents\\FootfallCam\\sample.mp4: 480x640 (no detections), 33.3ms\n",
      "video 1/1 (frame 246/1341) c:\\Users\\Li Pin\\Documents\\FootfallCam\\sample.mp4: 480x640 (no detections), 33.9ms\n",
      "video 1/1 (frame 247/1341) c:\\Users\\Li Pin\\Documents\\FootfallCam\\sample.mp4: 480x640 (no detections), 31.7ms\n",
      "video 1/1 (frame 248/1341) c:\\Users\\Li Pin\\Documents\\FootfallCam\\sample.mp4: 480x640 (no detections), 31.1ms\n",
      "video 1/1 (frame 249/1341) c:\\Users\\Li Pin\\Documents\\FootfallCam\\sample.mp4: 480x640 (no detections), 31.7ms\n",
      "video 1/1 (frame 250/1341) c:\\Users\\Li Pin\\Documents\\FootfallCam\\sample.mp4: 480x640 (no detections), 34.2ms\n",
      "video 1/1 (frame 251/1341) c:\\Users\\Li Pin\\Documents\\FootfallCam\\sample.mp4: 480x640 (no detections), 33.0ms\n",
      "video 1/1 (frame 252/1341) c:\\Users\\Li Pin\\Documents\\FootfallCam\\sample.mp4: 480x640 (no detections), 33.8ms\n",
      "video 1/1 (frame 253/1341) c:\\Users\\Li Pin\\Documents\\FootfallCam\\sample.mp4: 480x640 (no detections), 35.2ms\n",
      "video 1/1 (frame 254/1341) c:\\Users\\Li Pin\\Documents\\FootfallCam\\sample.mp4: 480x640 (no detections), 33.5ms\n",
      "video 1/1 (frame 255/1341) c:\\Users\\Li Pin\\Documents\\FootfallCam\\sample.mp4: 480x640 (no detections), 33.6ms\n",
      "video 1/1 (frame 256/1341) c:\\Users\\Li Pin\\Documents\\FootfallCam\\sample.mp4: 480x640 (no detections), 32.5ms\n",
      "video 1/1 (frame 257/1341) c:\\Users\\Li Pin\\Documents\\FootfallCam\\sample.mp4: 480x640 (no detections), 33.5ms\n",
      "video 1/1 (frame 258/1341) c:\\Users\\Li Pin\\Documents\\FootfallCam\\sample.mp4: 480x640 (no detections), 33.6ms\n",
      "video 1/1 (frame 259/1341) c:\\Users\\Li Pin\\Documents\\FootfallCam\\sample.mp4: 480x640 (no detections), 35.6ms\n",
      "video 1/1 (frame 260/1341) c:\\Users\\Li Pin\\Documents\\FootfallCam\\sample.mp4: 480x640 (no detections), 30.1ms\n",
      "video 1/1 (frame 261/1341) c:\\Users\\Li Pin\\Documents\\FootfallCam\\sample.mp4: 480x640 (no detections), 34.9ms\n",
      "video 1/1 (frame 262/1341) c:\\Users\\Li Pin\\Documents\\FootfallCam\\sample.mp4: 480x640 (no detections), 34.9ms\n",
      "video 1/1 (frame 263/1341) c:\\Users\\Li Pin\\Documents\\FootfallCam\\sample.mp4: 480x640 (no detections), 33.7ms\n",
      "video 1/1 (frame 264/1341) c:\\Users\\Li Pin\\Documents\\FootfallCam\\sample.mp4: 480x640 (no detections), 34.8ms\n",
      "video 1/1 (frame 265/1341) c:\\Users\\Li Pin\\Documents\\FootfallCam\\sample.mp4: 480x640 (no detections), 34.3ms\n",
      "video 1/1 (frame 266/1341) c:\\Users\\Li Pin\\Documents\\FootfallCam\\sample.mp4: 480x640 (no detections), 31.7ms\n",
      "video 1/1 (frame 267/1341) c:\\Users\\Li Pin\\Documents\\FootfallCam\\sample.mp4: 480x640 (no detections), 35.9ms\n",
      "video 1/1 (frame 268/1341) c:\\Users\\Li Pin\\Documents\\FootfallCam\\sample.mp4: 480x640 (no detections), 34.2ms\n",
      "video 1/1 (frame 269/1341) c:\\Users\\Li Pin\\Documents\\FootfallCam\\sample.mp4: 480x640 (no detections), 33.1ms\n",
      "video 1/1 (frame 270/1341) c:\\Users\\Li Pin\\Documents\\FootfallCam\\sample.mp4: 480x640 (no detections), 33.3ms\n",
      "video 1/1 (frame 271/1341) c:\\Users\\Li Pin\\Documents\\FootfallCam\\sample.mp4: 480x640 (no detections), 32.5ms\n",
      "video 1/1 (frame 272/1341) c:\\Users\\Li Pin\\Documents\\FootfallCam\\sample.mp4: 480x640 (no detections), 32.3ms\n",
      "video 1/1 (frame 273/1341) c:\\Users\\Li Pin\\Documents\\FootfallCam\\sample.mp4: 480x640 (no detections), 34.9ms\n",
      "video 1/1 (frame 274/1341) c:\\Users\\Li Pin\\Documents\\FootfallCam\\sample.mp4: 480x640 (no detections), 31.3ms\n",
      "video 1/1 (frame 275/1341) c:\\Users\\Li Pin\\Documents\\FootfallCam\\sample.mp4: 480x640 (no detections), 35.2ms\n",
      "video 1/1 (frame 276/1341) c:\\Users\\Li Pin\\Documents\\FootfallCam\\sample.mp4: 480x640 (no detections), 32.8ms\n",
      "video 1/1 (frame 277/1341) c:\\Users\\Li Pin\\Documents\\FootfallCam\\sample.mp4: 480x640 (no detections), 33.1ms\n",
      "video 1/1 (frame 278/1341) c:\\Users\\Li Pin\\Documents\\FootfallCam\\sample.mp4: 480x640 (no detections), 32.7ms\n",
      "video 1/1 (frame 279/1341) c:\\Users\\Li Pin\\Documents\\FootfallCam\\sample.mp4: 480x640 (no detections), 32.2ms\n",
      "video 1/1 (frame 280/1341) c:\\Users\\Li Pin\\Documents\\FootfallCam\\sample.mp4: 480x640 (no detections), 35.0ms\n",
      "video 1/1 (frame 281/1341) c:\\Users\\Li Pin\\Documents\\FootfallCam\\sample.mp4: 480x640 (no detections), 33.3ms\n",
      "video 1/1 (frame 282/1341) c:\\Users\\Li Pin\\Documents\\FootfallCam\\sample.mp4: 480x640 (no detections), 36.1ms\n",
      "video 1/1 (frame 283/1341) c:\\Users\\Li Pin\\Documents\\FootfallCam\\sample.mp4: 480x640 (no detections), 33.8ms\n",
      "video 1/1 (frame 284/1341) c:\\Users\\Li Pin\\Documents\\FootfallCam\\sample.mp4: 480x640 (no detections), 33.4ms\n",
      "video 1/1 (frame 285/1341) c:\\Users\\Li Pin\\Documents\\FootfallCam\\sample.mp4: 480x640 (no detections), 35.3ms\n",
      "video 1/1 (frame 286/1341) c:\\Users\\Li Pin\\Documents\\FootfallCam\\sample.mp4: 480x640 (no detections), 34.0ms\n",
      "video 1/1 (frame 287/1341) c:\\Users\\Li Pin\\Documents\\FootfallCam\\sample.mp4: 480x640 (no detections), 35.3ms\n",
      "video 1/1 (frame 288/1341) c:\\Users\\Li Pin\\Documents\\FootfallCam\\sample.mp4: 480x640 (no detections), 34.3ms\n",
      "video 1/1 (frame 289/1341) c:\\Users\\Li Pin\\Documents\\FootfallCam\\sample.mp4: 480x640 (no detections), 34.2ms\n",
      "video 1/1 (frame 290/1341) c:\\Users\\Li Pin\\Documents\\FootfallCam\\sample.mp4: 480x640 (no detections), 33.9ms\n",
      "video 1/1 (frame 291/1341) c:\\Users\\Li Pin\\Documents\\FootfallCam\\sample.mp4: 480x640 (no detections), 34.0ms\n",
      "video 1/1 (frame 292/1341) c:\\Users\\Li Pin\\Documents\\FootfallCam\\sample.mp4: 480x640 (no detections), 32.9ms\n",
      "video 1/1 (frame 293/1341) c:\\Users\\Li Pin\\Documents\\FootfallCam\\sample.mp4: 480x640 (no detections), 33.6ms\n",
      "video 1/1 (frame 294/1341) c:\\Users\\Li Pin\\Documents\\FootfallCam\\sample.mp4: 480x640 (no detections), 33.1ms\n",
      "video 1/1 (frame 295/1341) c:\\Users\\Li Pin\\Documents\\FootfallCam\\sample.mp4: 480x640 (no detections), 32.9ms\n",
      "video 1/1 (frame 296/1341) c:\\Users\\Li Pin\\Documents\\FootfallCam\\sample.mp4: 480x640 (no detections), 29.2ms\n",
      "video 1/1 (frame 297/1341) c:\\Users\\Li Pin\\Documents\\FootfallCam\\sample.mp4: 480x640 (no detections), 29.0ms\n",
      "video 1/1 (frame 298/1341) c:\\Users\\Li Pin\\Documents\\FootfallCam\\sample.mp4: 480x640 (no detections), 31.9ms\n",
      "video 1/1 (frame 299/1341) c:\\Users\\Li Pin\\Documents\\FootfallCam\\sample.mp4: 480x640 (no detections), 35.8ms\n",
      "video 1/1 (frame 300/1341) c:\\Users\\Li Pin\\Documents\\FootfallCam\\sample.mp4: 480x640 (no detections), 33.4ms\n",
      "video 1/1 (frame 301/1341) c:\\Users\\Li Pin\\Documents\\FootfallCam\\sample.mp4: 480x640 (no detections), 35.7ms\n",
      "video 1/1 (frame 302/1341) c:\\Users\\Li Pin\\Documents\\FootfallCam\\sample.mp4: 480x640 (no detections), 33.4ms\n",
      "video 1/1 (frame 303/1341) c:\\Users\\Li Pin\\Documents\\FootfallCam\\sample.mp4: 480x640 (no detections), 33.3ms\n",
      "video 1/1 (frame 304/1341) c:\\Users\\Li Pin\\Documents\\FootfallCam\\sample.mp4: 480x640 (no detections), 36.0ms\n",
      "video 1/1 (frame 305/1341) c:\\Users\\Li Pin\\Documents\\FootfallCam\\sample.mp4: 480x640 (no detections), 33.6ms\n",
      "video 1/1 (frame 306/1341) c:\\Users\\Li Pin\\Documents\\FootfallCam\\sample.mp4: 480x640 (no detections), 35.4ms\n",
      "video 1/1 (frame 307/1341) c:\\Users\\Li Pin\\Documents\\FootfallCam\\sample.mp4: 480x640 (no detections), 33.7ms\n",
      "video 1/1 (frame 308/1341) c:\\Users\\Li Pin\\Documents\\FootfallCam\\sample.mp4: 480x640 (no detections), 36.5ms\n",
      "video 1/1 (frame 309/1341) c:\\Users\\Li Pin\\Documents\\FootfallCam\\sample.mp4: 480x640 (no detections), 33.6ms\n",
      "video 1/1 (frame 310/1341) c:\\Users\\Li Pin\\Documents\\FootfallCam\\sample.mp4: 480x640 (no detections), 35.6ms\n",
      "video 1/1 (frame 311/1341) c:\\Users\\Li Pin\\Documents\\FootfallCam\\sample.mp4: 480x640 (no detections), 33.3ms\n",
      "video 1/1 (frame 312/1341) c:\\Users\\Li Pin\\Documents\\FootfallCam\\sample.mp4: 480x640 (no detections), 34.5ms\n",
      "video 1/1 (frame 313/1341) c:\\Users\\Li Pin\\Documents\\FootfallCam\\sample.mp4: 480x640 (no detections), 33.2ms\n",
      "video 1/1 (frame 314/1341) c:\\Users\\Li Pin\\Documents\\FootfallCam\\sample.mp4: 480x640 (no detections), 33.9ms\n",
      "video 1/1 (frame 315/1341) c:\\Users\\Li Pin\\Documents\\FootfallCam\\sample.mp4: 480x640 (no detections), 33.5ms\n",
      "video 1/1 (frame 316/1341) c:\\Users\\Li Pin\\Documents\\FootfallCam\\sample.mp4: 480x640 (no detections), 34.6ms\n",
      "video 1/1 (frame 317/1341) c:\\Users\\Li Pin\\Documents\\FootfallCam\\sample.mp4: 480x640 (no detections), 34.5ms\n",
      "video 1/1 (frame 318/1341) c:\\Users\\Li Pin\\Documents\\FootfallCam\\sample.mp4: 480x640 (no detections), 34.8ms\n",
      "video 1/1 (frame 319/1341) c:\\Users\\Li Pin\\Documents\\FootfallCam\\sample.mp4: 480x640 (no detections), 34.2ms\n",
      "video 1/1 (frame 320/1341) c:\\Users\\Li Pin\\Documents\\FootfallCam\\sample.mp4: 480x640 (no detections), 33.2ms\n",
      "video 1/1 (frame 321/1341) c:\\Users\\Li Pin\\Documents\\FootfallCam\\sample.mp4: 480x640 (no detections), 34.1ms\n",
      "video 1/1 (frame 322/1341) c:\\Users\\Li Pin\\Documents\\FootfallCam\\sample.mp4: 480x640 (no detections), 33.5ms\n",
      "video 1/1 (frame 323/1341) c:\\Users\\Li Pin\\Documents\\FootfallCam\\sample.mp4: 480x640 (no detections), 34.4ms\n",
      "video 1/1 (frame 324/1341) c:\\Users\\Li Pin\\Documents\\FootfallCam\\sample.mp4: 480x640 (no detections), 32.9ms\n",
      "video 1/1 (frame 325/1341) c:\\Users\\Li Pin\\Documents\\FootfallCam\\sample.mp4: 480x640 (no detections), 36.3ms\n",
      "video 1/1 (frame 326/1341) c:\\Users\\Li Pin\\Documents\\FootfallCam\\sample.mp4: 480x640 (no detections), 34.7ms\n",
      "video 1/1 (frame 327/1341) c:\\Users\\Li Pin\\Documents\\FootfallCam\\sample.mp4: 480x640 (no detections), 35.7ms\n",
      "video 1/1 (frame 328/1341) c:\\Users\\Li Pin\\Documents\\FootfallCam\\sample.mp4: 480x640 (no detections), 26.9ms\n",
      "video 1/1 (frame 329/1341) c:\\Users\\Li Pin\\Documents\\FootfallCam\\sample.mp4: 480x640 (no detections), 33.9ms\n",
      "video 1/1 (frame 330/1341) c:\\Users\\Li Pin\\Documents\\FootfallCam\\sample.mp4: 480x640 (no detections), 33.9ms\n",
      "video 1/1 (frame 331/1341) c:\\Users\\Li Pin\\Documents\\FootfallCam\\sample.mp4: 480x640 (no detections), 33.0ms\n",
      "video 1/1 (frame 332/1341) c:\\Users\\Li Pin\\Documents\\FootfallCam\\sample.mp4: 480x640 (no detections), 33.1ms\n",
      "video 1/1 (frame 333/1341) c:\\Users\\Li Pin\\Documents\\FootfallCam\\sample.mp4: 480x640 (no detections), 33.2ms\n",
      "video 1/1 (frame 334/1341) c:\\Users\\Li Pin\\Documents\\FootfallCam\\sample.mp4: 480x640 (no detections), 33.8ms\n",
      "video 1/1 (frame 335/1341) c:\\Users\\Li Pin\\Documents\\FootfallCam\\sample.mp4: 480x640 (no detections), 33.8ms\n",
      "video 1/1 (frame 336/1341) c:\\Users\\Li Pin\\Documents\\FootfallCam\\sample.mp4: 480x640 (no detections), 34.6ms\n",
      "video 1/1 (frame 337/1341) c:\\Users\\Li Pin\\Documents\\FootfallCam\\sample.mp4: 480x640 (no detections), 35.8ms\n",
      "video 1/1 (frame 338/1341) c:\\Users\\Li Pin\\Documents\\FootfallCam\\sample.mp4: 480x640 (no detections), 34.1ms\n",
      "video 1/1 (frame 339/1341) c:\\Users\\Li Pin\\Documents\\FootfallCam\\sample.mp4: 480x640 (no detections), 36.5ms\n",
      "video 1/1 (frame 340/1341) c:\\Users\\Li Pin\\Documents\\FootfallCam\\sample.mp4: 480x640 1 clip, 35.7ms\n",
      "video 1/1 (frame 341/1341) c:\\Users\\Li Pin\\Documents\\FootfallCam\\sample.mp4: 480x640 1 clip, 29.1ms\n",
      "video 1/1 (frame 342/1341) c:\\Users\\Li Pin\\Documents\\FootfallCam\\sample.mp4: 480x640 2 clips, 33.2ms\n",
      "video 1/1 (frame 343/1341) c:\\Users\\Li Pin\\Documents\\FootfallCam\\sample.mp4: 480x640 2 clips, 34.2ms\n",
      "video 1/1 (frame 344/1341) c:\\Users\\Li Pin\\Documents\\FootfallCam\\sample.mp4: 480x640 1 clip, 33.7ms\n",
      "video 1/1 (frame 345/1341) c:\\Users\\Li Pin\\Documents\\FootfallCam\\sample.mp4: 480x640 1 clip, 32.8ms\n",
      "video 1/1 (frame 346/1341) c:\\Users\\Li Pin\\Documents\\FootfallCam\\sample.mp4: 480x640 (no detections), 33.8ms\n",
      "video 1/1 (frame 347/1341) c:\\Users\\Li Pin\\Documents\\FootfallCam\\sample.mp4: 480x640 (no detections), 35.0ms\n",
      "video 1/1 (frame 348/1341) c:\\Users\\Li Pin\\Documents\\FootfallCam\\sample.mp4: 480x640 (no detections), 32.3ms\n",
      "video 1/1 (frame 349/1341) c:\\Users\\Li Pin\\Documents\\FootfallCam\\sample.mp4: 480x640 (no detections), 35.2ms\n",
      "video 1/1 (frame 350/1341) c:\\Users\\Li Pin\\Documents\\FootfallCam\\sample.mp4: 480x640 (no detections), 32.4ms\n",
      "video 1/1 (frame 351/1341) c:\\Users\\Li Pin\\Documents\\FootfallCam\\sample.mp4: 480x640 (no detections), 33.5ms\n",
      "video 1/1 (frame 352/1341) c:\\Users\\Li Pin\\Documents\\FootfallCam\\sample.mp4: 480x640 (no detections), 31.9ms\n",
      "video 1/1 (frame 353/1341) c:\\Users\\Li Pin\\Documents\\FootfallCam\\sample.mp4: 480x640 (no detections), 33.4ms\n",
      "video 1/1 (frame 354/1341) c:\\Users\\Li Pin\\Documents\\FootfallCam\\sample.mp4: 480x640 (no detections), 34.9ms\n",
      "video 1/1 (frame 355/1341) c:\\Users\\Li Pin\\Documents\\FootfallCam\\sample.mp4: 480x640 (no detections), 32.2ms\n",
      "video 1/1 (frame 356/1341) c:\\Users\\Li Pin\\Documents\\FootfallCam\\sample.mp4: 480x640 (no detections), 32.3ms\n",
      "video 1/1 (frame 357/1341) c:\\Users\\Li Pin\\Documents\\FootfallCam\\sample.mp4: 480x640 (no detections), 32.7ms\n",
      "video 1/1 (frame 358/1341) c:\\Users\\Li Pin\\Documents\\FootfallCam\\sample.mp4: 480x640 (no detections), 33.1ms\n",
      "video 1/1 (frame 359/1341) c:\\Users\\Li Pin\\Documents\\FootfallCam\\sample.mp4: 480x640 (no detections), 33.8ms\n",
      "video 1/1 (frame 360/1341) c:\\Users\\Li Pin\\Documents\\FootfallCam\\sample.mp4: 480x640 (no detections), 35.1ms\n",
      "video 1/1 (frame 361/1341) c:\\Users\\Li Pin\\Documents\\FootfallCam\\sample.mp4: 480x640 (no detections), 34.0ms\n",
      "video 1/1 (frame 362/1341) c:\\Users\\Li Pin\\Documents\\FootfallCam\\sample.mp4: 480x640 (no detections), 25.0ms\n",
      "video 1/1 (frame 363/1341) c:\\Users\\Li Pin\\Documents\\FootfallCam\\sample.mp4: 480x640 (no detections), 34.0ms\n",
      "video 1/1 (frame 364/1341) c:\\Users\\Li Pin\\Documents\\FootfallCam\\sample.mp4: 480x640 (no detections), 34.3ms\n",
      "video 1/1 (frame 365/1341) c:\\Users\\Li Pin\\Documents\\FootfallCam\\sample.mp4: 480x640 (no detections), 35.7ms\n",
      "video 1/1 (frame 366/1341) c:\\Users\\Li Pin\\Documents\\FootfallCam\\sample.mp4: 480x640 (no detections), 34.5ms\n",
      "video 1/1 (frame 367/1341) c:\\Users\\Li Pin\\Documents\\FootfallCam\\sample.mp4: 480x640 (no detections), 34.7ms\n",
      "video 1/1 (frame 368/1341) c:\\Users\\Li Pin\\Documents\\FootfallCam\\sample.mp4: 480x640 (no detections), 34.3ms\n",
      "video 1/1 (frame 369/1341) c:\\Users\\Li Pin\\Documents\\FootfallCam\\sample.mp4: 480x640 (no detections), 34.3ms\n",
      "video 1/1 (frame 370/1341) c:\\Users\\Li Pin\\Documents\\FootfallCam\\sample.mp4: 480x640 (no detections), 34.5ms\n",
      "video 1/1 (frame 371/1341) c:\\Users\\Li Pin\\Documents\\FootfallCam\\sample.mp4: 480x640 (no detections), 34.1ms\n",
      "video 1/1 (frame 372/1341) c:\\Users\\Li Pin\\Documents\\FootfallCam\\sample.mp4: 480x640 (no detections), 35.0ms\n",
      "video 1/1 (frame 373/1341) c:\\Users\\Li Pin\\Documents\\FootfallCam\\sample.mp4: 480x640 (no detections), 35.0ms\n",
      "video 1/1 (frame 374/1341) c:\\Users\\Li Pin\\Documents\\FootfallCam\\sample.mp4: 480x640 (no detections), 33.1ms\n",
      "video 1/1 (frame 375/1341) c:\\Users\\Li Pin\\Documents\\FootfallCam\\sample.mp4: 480x640 (no detections), 34.9ms\n",
      "video 1/1 (frame 376/1341) c:\\Users\\Li Pin\\Documents\\FootfallCam\\sample.mp4: 480x640 (no detections), 33.2ms\n",
      "video 1/1 (frame 377/1341) c:\\Users\\Li Pin\\Documents\\FootfallCam\\sample.mp4: 480x640 1 clip, 31.9ms\n",
      "video 1/1 (frame 378/1341) c:\\Users\\Li Pin\\Documents\\FootfallCam\\sample.mp4: 480x640 1 clip, 33.4ms\n",
      "video 1/1 (frame 379/1341) c:\\Users\\Li Pin\\Documents\\FootfallCam\\sample.mp4: 480x640 1 clip, 28.7ms\n",
      "video 1/1 (frame 380/1341) c:\\Users\\Li Pin\\Documents\\FootfallCam\\sample.mp4: 480x640 2 clips, 34.5ms\n",
      "video 1/1 (frame 381/1341) c:\\Users\\Li Pin\\Documents\\FootfallCam\\sample.mp4: 480x640 1 clip, 33.4ms\n",
      "video 1/1 (frame 382/1341) c:\\Users\\Li Pin\\Documents\\FootfallCam\\sample.mp4: 480x640 1 clip, 33.0ms\n",
      "video 1/1 (frame 383/1341) c:\\Users\\Li Pin\\Documents\\FootfallCam\\sample.mp4: 480x640 3 clips, 32.1ms\n",
      "video 1/1 (frame 384/1341) c:\\Users\\Li Pin\\Documents\\FootfallCam\\sample.mp4: 480x640 1 clip, 32.3ms\n",
      "video 1/1 (frame 385/1341) c:\\Users\\Li Pin\\Documents\\FootfallCam\\sample.mp4: 480x640 1 clip, 31.8ms\n",
      "video 1/1 (frame 386/1341) c:\\Users\\Li Pin\\Documents\\FootfallCam\\sample.mp4: 480x640 2 clips, 29.5ms\n",
      "video 1/1 (frame 387/1341) c:\\Users\\Li Pin\\Documents\\FootfallCam\\sample.mp4: 480x640 1 clip, 31.8ms\n",
      "video 1/1 (frame 388/1341) c:\\Users\\Li Pin\\Documents\\FootfallCam\\sample.mp4: 480x640 (no detections), 32.0ms\n",
      "video 1/1 (frame 389/1341) c:\\Users\\Li Pin\\Documents\\FootfallCam\\sample.mp4: 480x640 (no detections), 31.9ms\n",
      "video 1/1 (frame 390/1341) c:\\Users\\Li Pin\\Documents\\FootfallCam\\sample.mp4: 480x640 (no detections), 33.2ms\n",
      "video 1/1 (frame 391/1341) c:\\Users\\Li Pin\\Documents\\FootfallCam\\sample.mp4: 480x640 (no detections), 32.1ms\n",
      "video 1/1 (frame 392/1341) c:\\Users\\Li Pin\\Documents\\FootfallCam\\sample.mp4: 480x640 (no detections), 34.3ms\n",
      "video 1/1 (frame 393/1341) c:\\Users\\Li Pin\\Documents\\FootfallCam\\sample.mp4: 480x640 (no detections), 32.6ms\n",
      "video 1/1 (frame 394/1341) c:\\Users\\Li Pin\\Documents\\FootfallCam\\sample.mp4: 480x640 (no detections), 34.0ms\n",
      "video 1/1 (frame 395/1341) c:\\Users\\Li Pin\\Documents\\FootfallCam\\sample.mp4: 480x640 (no detections), 31.8ms\n",
      "video 1/1 (frame 396/1341) c:\\Users\\Li Pin\\Documents\\FootfallCam\\sample.mp4: 480x640 (no detections), 32.1ms\n",
      "video 1/1 (frame 397/1341) c:\\Users\\Li Pin\\Documents\\FootfallCam\\sample.mp4: 480x640 (no detections), 32.2ms\n",
      "video 1/1 (frame 398/1341) c:\\Users\\Li Pin\\Documents\\FootfallCam\\sample.mp4: 480x640 (no detections), 32.4ms\n",
      "video 1/1 (frame 399/1341) c:\\Users\\Li Pin\\Documents\\FootfallCam\\sample.mp4: 480x640 (no detections), 33.5ms\n",
      "video 1/1 (frame 400/1341) c:\\Users\\Li Pin\\Documents\\FootfallCam\\sample.mp4: 480x640 (no detections), 32.2ms\n",
      "video 1/1 (frame 401/1341) c:\\Users\\Li Pin\\Documents\\FootfallCam\\sample.mp4: 480x640 (no detections), 32.2ms\n",
      "video 1/1 (frame 402/1341) c:\\Users\\Li Pin\\Documents\\FootfallCam\\sample.mp4: 480x640 (no detections), 33.8ms\n",
      "video 1/1 (frame 403/1341) c:\\Users\\Li Pin\\Documents\\FootfallCam\\sample.mp4: 480x640 (no detections), 32.2ms\n",
      "video 1/1 (frame 404/1341) c:\\Users\\Li Pin\\Documents\\FootfallCam\\sample.mp4: 480x640 (no detections), 34.7ms\n",
      "video 1/1 (frame 405/1341) c:\\Users\\Li Pin\\Documents\\FootfallCam\\sample.mp4: 480x640 (no detections), 33.7ms\n",
      "video 1/1 (frame 406/1341) c:\\Users\\Li Pin\\Documents\\FootfallCam\\sample.mp4: 480x640 (no detections), 32.0ms\n",
      "video 1/1 (frame 407/1341) c:\\Users\\Li Pin\\Documents\\FootfallCam\\sample.mp4: 480x640 (no detections), 32.4ms\n",
      "video 1/1 (frame 408/1341) c:\\Users\\Li Pin\\Documents\\FootfallCam\\sample.mp4: 480x640 (no detections), 33.3ms\n",
      "video 1/1 (frame 409/1341) c:\\Users\\Li Pin\\Documents\\FootfallCam\\sample.mp4: 480x640 (no detections), 35.2ms\n",
      "video 1/1 (frame 410/1341) c:\\Users\\Li Pin\\Documents\\FootfallCam\\sample.mp4: 480x640 (no detections), 32.8ms\n",
      "video 1/1 (frame 411/1341) c:\\Users\\Li Pin\\Documents\\FootfallCam\\sample.mp4: 480x640 (no detections), 32.5ms\n",
      "video 1/1 (frame 412/1341) c:\\Users\\Li Pin\\Documents\\FootfallCam\\sample.mp4: 480x640 (no detections), 32.2ms\n",
      "video 1/1 (frame 413/1341) c:\\Users\\Li Pin\\Documents\\FootfallCam\\sample.mp4: 480x640 (no detections), 31.7ms\n",
      "video 1/1 (frame 414/1341) c:\\Users\\Li Pin\\Documents\\FootfallCam\\sample.mp4: 480x640 (no detections), 32.3ms\n",
      "video 1/1 (frame 415/1341) c:\\Users\\Li Pin\\Documents\\FootfallCam\\sample.mp4: 480x640 (no detections), 32.0ms\n",
      "video 1/1 (frame 416/1341) c:\\Users\\Li Pin\\Documents\\FootfallCam\\sample.mp4: 480x640 (no detections), 31.2ms\n",
      "video 1/1 (frame 417/1341) c:\\Users\\Li Pin\\Documents\\FootfallCam\\sample.mp4: 480x640 (no detections), 33.5ms\n",
      "video 1/1 (frame 418/1341) c:\\Users\\Li Pin\\Documents\\FootfallCam\\sample.mp4: 480x640 (no detections), 31.8ms\n",
      "video 1/1 (frame 419/1341) c:\\Users\\Li Pin\\Documents\\FootfallCam\\sample.mp4: 480x640 (no detections), 32.2ms\n",
      "video 1/1 (frame 420/1341) c:\\Users\\Li Pin\\Documents\\FootfallCam\\sample.mp4: 480x640 (no detections), 31.9ms\n",
      "video 1/1 (frame 421/1341) c:\\Users\\Li Pin\\Documents\\FootfallCam\\sample.mp4: 480x640 (no detections), 35.1ms\n",
      "video 1/1 (frame 422/1341) c:\\Users\\Li Pin\\Documents\\FootfallCam\\sample.mp4: 480x640 (no detections), 32.5ms\n",
      "video 1/1 (frame 423/1341) c:\\Users\\Li Pin\\Documents\\FootfallCam\\sample.mp4: 480x640 (no detections), 32.3ms\n",
      "video 1/1 (frame 424/1341) c:\\Users\\Li Pin\\Documents\\FootfallCam\\sample.mp4: 480x640 (no detections), 34.6ms\n",
      "video 1/1 (frame 425/1341) c:\\Users\\Li Pin\\Documents\\FootfallCam\\sample.mp4: 480x640 1 clip, 33.6ms\n",
      "video 1/1 (frame 426/1341) c:\\Users\\Li Pin\\Documents\\FootfallCam\\sample.mp4: 480x640 2 clips, 31.0ms\n",
      "video 1/1 (frame 427/1341) c:\\Users\\Li Pin\\Documents\\FootfallCam\\sample.mp4: 480x640 1 clip, 25.6ms\n",
      "video 1/1 (frame 428/1341) c:\\Users\\Li Pin\\Documents\\FootfallCam\\sample.mp4: 480x640 1 clip, 31.7ms\n",
      "video 1/1 (frame 429/1341) c:\\Users\\Li Pin\\Documents\\FootfallCam\\sample.mp4: 480x640 1 clip, 32.2ms\n",
      "video 1/1 (frame 430/1341) c:\\Users\\Li Pin\\Documents\\FootfallCam\\sample.mp4: 480x640 1 clip, 32.6ms\n",
      "video 1/1 (frame 431/1341) c:\\Users\\Li Pin\\Documents\\FootfallCam\\sample.mp4: 480x640 1 clip, 28.3ms\n",
      "video 1/1 (frame 432/1341) c:\\Users\\Li Pin\\Documents\\FootfallCam\\sample.mp4: 480x640 1 clip, 32.9ms\n",
      "video 1/1 (frame 433/1341) c:\\Users\\Li Pin\\Documents\\FootfallCam\\sample.mp4: 480x640 1 clip, 33.1ms\n",
      "video 1/1 (frame 434/1341) c:\\Users\\Li Pin\\Documents\\FootfallCam\\sample.mp4: 480x640 1 clip, 33.7ms\n",
      "video 1/1 (frame 435/1341) c:\\Users\\Li Pin\\Documents\\FootfallCam\\sample.mp4: 480x640 1 clip, 30.6ms\n",
      "video 1/1 (frame 436/1341) c:\\Users\\Li Pin\\Documents\\FootfallCam\\sample.mp4: 480x640 1 clip, 33.4ms\n",
      "video 1/1 (frame 437/1341) c:\\Users\\Li Pin\\Documents\\FootfallCam\\sample.mp4: 480x640 (no detections), 34.9ms\n",
      "video 1/1 (frame 438/1341) c:\\Users\\Li Pin\\Documents\\FootfallCam\\sample.mp4: 480x640 (no detections), 32.0ms\n",
      "video 1/1 (frame 439/1341) c:\\Users\\Li Pin\\Documents\\FootfallCam\\sample.mp4: 480x640 (no detections), 32.1ms\n",
      "video 1/1 (frame 440/1341) c:\\Users\\Li Pin\\Documents\\FootfallCam\\sample.mp4: 480x640 (no detections), 33.0ms\n",
      "video 1/1 (frame 441/1341) c:\\Users\\Li Pin\\Documents\\FootfallCam\\sample.mp4: 480x640 (no detections), 33.4ms\n",
      "video 1/1 (frame 442/1341) c:\\Users\\Li Pin\\Documents\\FootfallCam\\sample.mp4: 480x640 (no detections), 35.2ms\n",
      "video 1/1 (frame 443/1341) c:\\Users\\Li Pin\\Documents\\FootfallCam\\sample.mp4: 480x640 (no detections), 32.5ms\n",
      "video 1/1 (frame 444/1341) c:\\Users\\Li Pin\\Documents\\FootfallCam\\sample.mp4: 480x640 (no detections), 33.0ms\n",
      "video 1/1 (frame 445/1341) c:\\Users\\Li Pin\\Documents\\FootfallCam\\sample.mp4: 480x640 (no detections), 32.4ms\n",
      "video 1/1 (frame 446/1341) c:\\Users\\Li Pin\\Documents\\FootfallCam\\sample.mp4: 480x640 (no detections), 35.4ms\n",
      "video 1/1 (frame 447/1341) c:\\Users\\Li Pin\\Documents\\FootfallCam\\sample.mp4: 480x640 (no detections), 33.8ms\n",
      "video 1/1 (frame 448/1341) c:\\Users\\Li Pin\\Documents\\FootfallCam\\sample.mp4: 480x640 (no detections), 33.7ms\n",
      "video 1/1 (frame 449/1341) c:\\Users\\Li Pin\\Documents\\FootfallCam\\sample.mp4: 480x640 (no detections), 32.8ms\n",
      "video 1/1 (frame 450/1341) c:\\Users\\Li Pin\\Documents\\FootfallCam\\sample.mp4: 480x640 (no detections), 34.0ms\n",
      "video 1/1 (frame 451/1341) c:\\Users\\Li Pin\\Documents\\FootfallCam\\sample.mp4: 480x640 (no detections), 35.4ms\n",
      "video 1/1 (frame 452/1341) c:\\Users\\Li Pin\\Documents\\FootfallCam\\sample.mp4: 480x640 (no detections), 32.6ms\n",
      "video 1/1 (frame 453/1341) c:\\Users\\Li Pin\\Documents\\FootfallCam\\sample.mp4: 480x640 (no detections), 32.9ms\n",
      "video 1/1 (frame 454/1341) c:\\Users\\Li Pin\\Documents\\FootfallCam\\sample.mp4: 480x640 (no detections), 34.9ms\n",
      "video 1/1 (frame 455/1341) c:\\Users\\Li Pin\\Documents\\FootfallCam\\sample.mp4: 480x640 (no detections), 33.4ms\n",
      "video 1/1 (frame 456/1341) c:\\Users\\Li Pin\\Documents\\FootfallCam\\sample.mp4: 480x640 (no detections), 32.3ms\n",
      "video 1/1 (frame 457/1341) c:\\Users\\Li Pin\\Documents\\FootfallCam\\sample.mp4: 480x640 (no detections), 35.1ms\n",
      "video 1/1 (frame 458/1341) c:\\Users\\Li Pin\\Documents\\FootfallCam\\sample.mp4: 480x640 (no detections), 32.6ms\n",
      "video 1/1 (frame 459/1341) c:\\Users\\Li Pin\\Documents\\FootfallCam\\sample.mp4: 480x640 1 clip, 32.7ms\n",
      "video 1/1 (frame 460/1341) c:\\Users\\Li Pin\\Documents\\FootfallCam\\sample.mp4: 480x640 1 clip, 32.9ms\n",
      "video 1/1 (frame 461/1341) c:\\Users\\Li Pin\\Documents\\FootfallCam\\sample.mp4: 480x640 1 clip, 32.8ms\n",
      "video 1/1 (frame 462/1341) c:\\Users\\Li Pin\\Documents\\FootfallCam\\sample.mp4: 480x640 1 clip, 34.1ms\n",
      "video 1/1 (frame 463/1341) c:\\Users\\Li Pin\\Documents\\FootfallCam\\sample.mp4: 480x640 1 clip, 35.3ms\n",
      "video 1/1 (frame 464/1341) c:\\Users\\Li Pin\\Documents\\FootfallCam\\sample.mp4: 480x640 1 clip, 35.7ms\n",
      "video 1/1 (frame 465/1341) c:\\Users\\Li Pin\\Documents\\FootfallCam\\sample.mp4: 480x640 1 clip, 31.6ms\n",
      "video 1/1 (frame 466/1341) c:\\Users\\Li Pin\\Documents\\FootfallCam\\sample.mp4: 480x640 1 clip, 34.4ms\n",
      "video 1/1 (frame 467/1341) c:\\Users\\Li Pin\\Documents\\FootfallCam\\sample.mp4: 480x640 1 clip, 33.5ms\n",
      "video 1/1 (frame 468/1341) c:\\Users\\Li Pin\\Documents\\FootfallCam\\sample.mp4: 480x640 1 clip, 33.7ms\n",
      "video 1/1 (frame 469/1341) c:\\Users\\Li Pin\\Documents\\FootfallCam\\sample.mp4: 480x640 2 clips, 33.5ms\n",
      "video 1/1 (frame 470/1341) c:\\Users\\Li Pin\\Documents\\FootfallCam\\sample.mp4: 480x640 1 clip, 34.9ms\n",
      "video 1/1 (frame 471/1341) c:\\Users\\Li Pin\\Documents\\FootfallCam\\sample.mp4: 480x640 1 clip, 33.3ms\n",
      "video 1/1 (frame 472/1341) c:\\Users\\Li Pin\\Documents\\FootfallCam\\sample.mp4: 480x640 2 clips, 32.1ms\n",
      "video 1/1 (frame 473/1341) c:\\Users\\Li Pin\\Documents\\FootfallCam\\sample.mp4: 480x640 1 clip, 33.1ms\n",
      "video 1/1 (frame 474/1341) c:\\Users\\Li Pin\\Documents\\FootfallCam\\sample.mp4: 480x640 1 clip, 34.0ms\n",
      "video 1/1 (frame 475/1341) c:\\Users\\Li Pin\\Documents\\FootfallCam\\sample.mp4: 480x640 (no detections), 34.4ms\n",
      "video 1/1 (frame 476/1341) c:\\Users\\Li Pin\\Documents\\FootfallCam\\sample.mp4: 480x640 (no detections), 33.4ms\n",
      "video 1/1 (frame 477/1341) c:\\Users\\Li Pin\\Documents\\FootfallCam\\sample.mp4: 480x640 (no detections), 35.4ms\n",
      "video 1/1 (frame 478/1341) c:\\Users\\Li Pin\\Documents\\FootfallCam\\sample.mp4: 480x640 (no detections), 32.9ms\n",
      "video 1/1 (frame 479/1341) c:\\Users\\Li Pin\\Documents\\FootfallCam\\sample.mp4: 480x640 (no detections), 32.9ms\n",
      "video 1/1 (frame 480/1341) c:\\Users\\Li Pin\\Documents\\FootfallCam\\sample.mp4: 480x640 (no detections), 32.9ms\n",
      "video 1/1 (frame 481/1341) c:\\Users\\Li Pin\\Documents\\FootfallCam\\sample.mp4: 480x640 (no detections), 32.9ms\n",
      "video 1/1 (frame 482/1341) c:\\Users\\Li Pin\\Documents\\FootfallCam\\sample.mp4: 480x640 (no detections), 34.6ms\n",
      "video 1/1 (frame 483/1341) c:\\Users\\Li Pin\\Documents\\FootfallCam\\sample.mp4: 480x640 (no detections), 34.2ms\n",
      "video 1/1 (frame 484/1341) c:\\Users\\Li Pin\\Documents\\FootfallCam\\sample.mp4: 480x640 (no detections), 33.2ms\n",
      "video 1/1 (frame 485/1341) c:\\Users\\Li Pin\\Documents\\FootfallCam\\sample.mp4: 480x640 (no detections), 33.3ms\n",
      "video 1/1 (frame 486/1341) c:\\Users\\Li Pin\\Documents\\FootfallCam\\sample.mp4: 480x640 (no detections), 32.7ms\n",
      "video 1/1 (frame 487/1341) c:\\Users\\Li Pin\\Documents\\FootfallCam\\sample.mp4: 480x640 (no detections), 35.7ms\n",
      "video 1/1 (frame 488/1341) c:\\Users\\Li Pin\\Documents\\FootfallCam\\sample.mp4: 480x640 (no detections), 31.3ms\n",
      "video 1/1 (frame 489/1341) c:\\Users\\Li Pin\\Documents\\FootfallCam\\sample.mp4: 480x640 (no detections), 35.3ms\n",
      "video 1/1 (frame 490/1341) c:\\Users\\Li Pin\\Documents\\FootfallCam\\sample.mp4: 480x640 (no detections), 16.5ms\n",
      "video 1/1 (frame 491/1341) c:\\Users\\Li Pin\\Documents\\FootfallCam\\sample.mp4: 480x640 (no detections), 32.5ms\n",
      "video 1/1 (frame 492/1341) c:\\Users\\Li Pin\\Documents\\FootfallCam\\sample.mp4: 480x640 (no detections), 32.9ms\n",
      "video 1/1 (frame 493/1341) c:\\Users\\Li Pin\\Documents\\FootfallCam\\sample.mp4: 480x640 (no detections), 31.0ms\n",
      "video 1/1 (frame 494/1341) c:\\Users\\Li Pin\\Documents\\FootfallCam\\sample.mp4: 480x640 (no detections), 33.1ms\n",
      "video 1/1 (frame 495/1341) c:\\Users\\Li Pin\\Documents\\FootfallCam\\sample.mp4: 480x640 (no detections), 32.9ms\n",
      "video 1/1 (frame 496/1341) c:\\Users\\Li Pin\\Documents\\FootfallCam\\sample.mp4: 480x640 (no detections), 32.3ms\n",
      "video 1/1 (frame 497/1341) c:\\Users\\Li Pin\\Documents\\FootfallCam\\sample.mp4: 480x640 (no detections), 33.6ms\n",
      "video 1/1 (frame 498/1341) c:\\Users\\Li Pin\\Documents\\FootfallCam\\sample.mp4: 480x640 (no detections), 34.9ms\n",
      "video 1/1 (frame 499/1341) c:\\Users\\Li Pin\\Documents\\FootfallCam\\sample.mp4: 480x640 (no detections), 35.2ms\n",
      "video 1/1 (frame 500/1341) c:\\Users\\Li Pin\\Documents\\FootfallCam\\sample.mp4: 480x640 (no detections), 31.7ms\n",
      "video 1/1 (frame 501/1341) c:\\Users\\Li Pin\\Documents\\FootfallCam\\sample.mp4: 480x640 (no detections), 32.4ms\n",
      "video 1/1 (frame 502/1341) c:\\Users\\Li Pin\\Documents\\FootfallCam\\sample.mp4: 480x640 (no detections), 32.4ms\n",
      "video 1/1 (frame 503/1341) c:\\Users\\Li Pin\\Documents\\FootfallCam\\sample.mp4: 480x640 1 clip, 33.4ms\n",
      "video 1/1 (frame 504/1341) c:\\Users\\Li Pin\\Documents\\FootfallCam\\sample.mp4: 480x640 1 clip, 32.0ms\n",
      "video 1/1 (frame 505/1341) c:\\Users\\Li Pin\\Documents\\FootfallCam\\sample.mp4: 480x640 2 clips, 34.8ms\n",
      "video 1/1 (frame 506/1341) c:\\Users\\Li Pin\\Documents\\FootfallCam\\sample.mp4: 480x640 1 clip, 26.4ms\n",
      "video 1/1 (frame 507/1341) c:\\Users\\Li Pin\\Documents\\FootfallCam\\sample.mp4: 480x640 1 clip, 34.0ms\n",
      "video 1/1 (frame 508/1341) c:\\Users\\Li Pin\\Documents\\FootfallCam\\sample.mp4: 480x640 1 clip, 35.0ms\n",
      "video 1/1 (frame 509/1341) c:\\Users\\Li Pin\\Documents\\FootfallCam\\sample.mp4: 480x640 1 clip, 34.7ms\n",
      "video 1/1 (frame 510/1341) c:\\Users\\Li Pin\\Documents\\FootfallCam\\sample.mp4: 480x640 1 clip, 33.7ms\n",
      "video 1/1 (frame 511/1341) c:\\Users\\Li Pin\\Documents\\FootfallCam\\sample.mp4: 480x640 1 clip, 31.9ms\n",
      "video 1/1 (frame 512/1341) c:\\Users\\Li Pin\\Documents\\FootfallCam\\sample.mp4: 480x640 1 clip, 32.1ms\n",
      "video 1/1 (frame 513/1341) c:\\Users\\Li Pin\\Documents\\FootfallCam\\sample.mp4: 480x640 (no detections), 35.0ms\n",
      "video 1/1 (frame 514/1341) c:\\Users\\Li Pin\\Documents\\FootfallCam\\sample.mp4: 480x640 (no detections), 31.8ms\n",
      "video 1/1 (frame 515/1341) c:\\Users\\Li Pin\\Documents\\FootfallCam\\sample.mp4: 480x640 (no detections), 32.5ms\n",
      "video 1/1 (frame 516/1341) c:\\Users\\Li Pin\\Documents\\FootfallCam\\sample.mp4: 480x640 (no detections), 33.1ms\n",
      "video 1/1 (frame 517/1341) c:\\Users\\Li Pin\\Documents\\FootfallCam\\sample.mp4: 480x640 (no detections), 32.4ms\n",
      "video 1/1 (frame 518/1341) c:\\Users\\Li Pin\\Documents\\FootfallCam\\sample.mp4: 480x640 (no detections), 33.1ms\n",
      "video 1/1 (frame 519/1341) c:\\Users\\Li Pin\\Documents\\FootfallCam\\sample.mp4: 480x640 (no detections), 33.4ms\n",
      "video 1/1 (frame 520/1341) c:\\Users\\Li Pin\\Documents\\FootfallCam\\sample.mp4: 480x640 (no detections), 35.4ms\n",
      "video 1/1 (frame 521/1341) c:\\Users\\Li Pin\\Documents\\FootfallCam\\sample.mp4: 480x640 (no detections), 34.7ms\n",
      "video 1/1 (frame 522/1341) c:\\Users\\Li Pin\\Documents\\FootfallCam\\sample.mp4: 480x640 (no detections), 25.6ms\n",
      "video 1/1 (frame 523/1341) c:\\Users\\Li Pin\\Documents\\FootfallCam\\sample.mp4: 480x640 (no detections), 33.8ms\n",
      "video 1/1 (frame 524/1341) c:\\Users\\Li Pin\\Documents\\FootfallCam\\sample.mp4: 480x640 (no detections), 30.7ms\n",
      "video 1/1 (frame 525/1341) c:\\Users\\Li Pin\\Documents\\FootfallCam\\sample.mp4: 480x640 (no detections), 34.7ms\n",
      "video 1/1 (frame 526/1341) c:\\Users\\Li Pin\\Documents\\FootfallCam\\sample.mp4: 480x640 (no detections), 34.9ms\n",
      "video 1/1 (frame 527/1341) c:\\Users\\Li Pin\\Documents\\FootfallCam\\sample.mp4: 480x640 (no detections), 32.4ms\n",
      "video 1/1 (frame 528/1341) c:\\Users\\Li Pin\\Documents\\FootfallCam\\sample.mp4: 480x640 (no detections), 30.7ms\n",
      "video 1/1 (frame 529/1341) c:\\Users\\Li Pin\\Documents\\FootfallCam\\sample.mp4: 480x640 (no detections), 30.9ms\n",
      "video 1/1 (frame 530/1341) c:\\Users\\Li Pin\\Documents\\FootfallCam\\sample.mp4: 480x640 (no detections), 32.3ms\n",
      "video 1/1 (frame 531/1341) c:\\Users\\Li Pin\\Documents\\FootfallCam\\sample.mp4: 480x640 (no detections), 32.6ms\n",
      "video 1/1 (frame 532/1341) c:\\Users\\Li Pin\\Documents\\FootfallCam\\sample.mp4: 480x640 (no detections), 34.6ms\n",
      "video 1/1 (frame 533/1341) c:\\Users\\Li Pin\\Documents\\FootfallCam\\sample.mp4: 480x640 (no detections), 33.3ms\n",
      "video 1/1 (frame 534/1341) c:\\Users\\Li Pin\\Documents\\FootfallCam\\sample.mp4: 480x640 (no detections), 32.5ms\n",
      "video 1/1 (frame 535/1341) c:\\Users\\Li Pin\\Documents\\FootfallCam\\sample.mp4: 480x640 (no detections), 29.4ms\n",
      "video 1/1 (frame 536/1341) c:\\Users\\Li Pin\\Documents\\FootfallCam\\sample.mp4: 480x640 (no detections), 33.4ms\n",
      "video 1/1 (frame 537/1341) c:\\Users\\Li Pin\\Documents\\FootfallCam\\sample.mp4: 480x640 (no detections), 31.9ms\n",
      "video 1/1 (frame 538/1341) c:\\Users\\Li Pin\\Documents\\FootfallCam\\sample.mp4: 480x640 (no detections), 31.7ms\n",
      "video 1/1 (frame 539/1341) c:\\Users\\Li Pin\\Documents\\FootfallCam\\sample.mp4: 480x640 (no detections), 32.9ms\n",
      "video 1/1 (frame 540/1341) c:\\Users\\Li Pin\\Documents\\FootfallCam\\sample.mp4: 480x640 (no detections), 34.8ms\n",
      "video 1/1 (frame 541/1341) c:\\Users\\Li Pin\\Documents\\FootfallCam\\sample.mp4: 480x640 (no detections), 32.4ms\n",
      "video 1/1 (frame 542/1341) c:\\Users\\Li Pin\\Documents\\FootfallCam\\sample.mp4: 480x640 (no detections), 33.8ms\n",
      "video 1/1 (frame 543/1341) c:\\Users\\Li Pin\\Documents\\FootfallCam\\sample.mp4: 480x640 (no detections), 34.8ms\n",
      "video 1/1 (frame 544/1341) c:\\Users\\Li Pin\\Documents\\FootfallCam\\sample.mp4: 480x640 1 clip, 34.0ms\n",
      "video 1/1 (frame 545/1341) c:\\Users\\Li Pin\\Documents\\FootfallCam\\sample.mp4: 480x640 1 clip, 28.5ms\n",
      "video 1/1 (frame 546/1341) c:\\Users\\Li Pin\\Documents\\FootfallCam\\sample.mp4: 480x640 2 clips, 33.1ms\n",
      "video 1/1 (frame 547/1341) c:\\Users\\Li Pin\\Documents\\FootfallCam\\sample.mp4: 480x640 1 clip, 31.9ms\n",
      "video 1/1 (frame 548/1341) c:\\Users\\Li Pin\\Documents\\FootfallCam\\sample.mp4: 480x640 1 clip, 32.0ms\n",
      "video 1/1 (frame 549/1341) c:\\Users\\Li Pin\\Documents\\FootfallCam\\sample.mp4: 480x640 1 clip, 32.5ms\n",
      "video 1/1 (frame 550/1341) c:\\Users\\Li Pin\\Documents\\FootfallCam\\sample.mp4: 480x640 (no detections), 32.9ms\n",
      "video 1/1 (frame 551/1341) c:\\Users\\Li Pin\\Documents\\FootfallCam\\sample.mp4: 480x640 (no detections), 32.3ms\n",
      "video 1/1 (frame 552/1341) c:\\Users\\Li Pin\\Documents\\FootfallCam\\sample.mp4: 480x640 2 clips, 31.9ms\n",
      "video 1/1 (frame 553/1341) c:\\Users\\Li Pin\\Documents\\FootfallCam\\sample.mp4: 480x640 1 clip, 33.1ms\n",
      "video 1/1 (frame 554/1341) c:\\Users\\Li Pin\\Documents\\FootfallCam\\sample.mp4: 480x640 1 clip, 28.3ms\n",
      "video 1/1 (frame 555/1341) c:\\Users\\Li Pin\\Documents\\FootfallCam\\sample.mp4: 480x640 1 clip, 34.8ms\n",
      "video 1/1 (frame 556/1341) c:\\Users\\Li Pin\\Documents\\FootfallCam\\sample.mp4: 480x640 1 clip, 32.3ms\n",
      "video 1/1 (frame 557/1341) c:\\Users\\Li Pin\\Documents\\FootfallCam\\sample.mp4: 480x640 2 clips, 34.2ms\n",
      "video 1/1 (frame 558/1341) c:\\Users\\Li Pin\\Documents\\FootfallCam\\sample.mp4: 480x640 1 clip, 34.0ms\n",
      "video 1/1 (frame 559/1341) c:\\Users\\Li Pin\\Documents\\FootfallCam\\sample.mp4: 480x640 1 clip, 34.1ms\n",
      "video 1/1 (frame 560/1341) c:\\Users\\Li Pin\\Documents\\FootfallCam\\sample.mp4: 480x640 1 clip, 34.9ms\n",
      "video 1/1 (frame 561/1341) c:\\Users\\Li Pin\\Documents\\FootfallCam\\sample.mp4: 480x640 (no detections), 34.7ms\n",
      "video 1/1 (frame 562/1341) c:\\Users\\Li Pin\\Documents\\FootfallCam\\sample.mp4: 480x640 (no detections), 34.1ms\n",
      "video 1/1 (frame 563/1341) c:\\Users\\Li Pin\\Documents\\FootfallCam\\sample.mp4: 480x640 (no detections), 34.4ms\n",
      "video 1/1 (frame 564/1341) c:\\Users\\Li Pin\\Documents\\FootfallCam\\sample.mp4: 480x640 (no detections), 34.1ms\n",
      "video 1/1 (frame 565/1341) c:\\Users\\Li Pin\\Documents\\FootfallCam\\sample.mp4: 480x640 (no detections), 34.5ms\n",
      "video 1/1 (frame 566/1341) c:\\Users\\Li Pin\\Documents\\FootfallCam\\sample.mp4: 480x640 1 clip, 35.9ms\n",
      "video 1/1 (frame 567/1341) c:\\Users\\Li Pin\\Documents\\FootfallCam\\sample.mp4: 480x640 (no detections), 34.8ms\n",
      "video 1/1 (frame 568/1341) c:\\Users\\Li Pin\\Documents\\FootfallCam\\sample.mp4: 480x640 (no detections), 34.0ms\n",
      "video 1/1 (frame 569/1341) c:\\Users\\Li Pin\\Documents\\FootfallCam\\sample.mp4: 480x640 (no detections), 35.8ms\n",
      "video 1/1 (frame 570/1341) c:\\Users\\Li Pin\\Documents\\FootfallCam\\sample.mp4: 480x640 (no detections), 34.7ms\n",
      "video 1/1 (frame 571/1341) c:\\Users\\Li Pin\\Documents\\FootfallCam\\sample.mp4: 480x640 (no detections), 34.9ms\n",
      "video 1/1 (frame 572/1341) c:\\Users\\Li Pin\\Documents\\FootfallCam\\sample.mp4: 480x640 (no detections), 34.9ms\n",
      "video 1/1 (frame 573/1341) c:\\Users\\Li Pin\\Documents\\FootfallCam\\sample.mp4: 480x640 (no detections), 34.9ms\n",
      "video 1/1 (frame 574/1341) c:\\Users\\Li Pin\\Documents\\FootfallCam\\sample.mp4: 480x640 (no detections), 34.8ms\n",
      "video 1/1 (frame 575/1341) c:\\Users\\Li Pin\\Documents\\FootfallCam\\sample.mp4: 480x640 (no detections), 34.6ms\n",
      "video 1/1 (frame 576/1341) c:\\Users\\Li Pin\\Documents\\FootfallCam\\sample.mp4: 480x640 (no detections), 35.0ms\n",
      "video 1/1 (frame 577/1341) c:\\Users\\Li Pin\\Documents\\FootfallCam\\sample.mp4: 480x640 (no detections), 34.2ms\n",
      "video 1/1 (frame 578/1341) c:\\Users\\Li Pin\\Documents\\FootfallCam\\sample.mp4: 480x640 (no detections), 28.8ms\n",
      "video 1/1 (frame 579/1341) c:\\Users\\Li Pin\\Documents\\FootfallCam\\sample.mp4: 480x640 (no detections), 34.9ms\n",
      "video 1/1 (frame 580/1341) c:\\Users\\Li Pin\\Documents\\FootfallCam\\sample.mp4: 480x640 (no detections), 33.7ms\n",
      "video 1/1 (frame 581/1341) c:\\Users\\Li Pin\\Documents\\FootfallCam\\sample.mp4: 480x640 (no detections), 27.9ms\n",
      "video 1/1 (frame 582/1341) c:\\Users\\Li Pin\\Documents\\FootfallCam\\sample.mp4: 480x640 (no detections), 33.5ms\n",
      "video 1/1 (frame 583/1341) c:\\Users\\Li Pin\\Documents\\FootfallCam\\sample.mp4: 480x640 (no detections), 33.0ms\n",
      "video 1/1 (frame 584/1341) c:\\Users\\Li Pin\\Documents\\FootfallCam\\sample.mp4: 480x640 (no detections), 34.6ms\n",
      "video 1/1 (frame 585/1341) c:\\Users\\Li Pin\\Documents\\FootfallCam\\sample.mp4: 480x640 (no detections), 31.9ms\n",
      "video 1/1 (frame 586/1341) c:\\Users\\Li Pin\\Documents\\FootfallCam\\sample.mp4: 480x640 (no detections), 33.1ms\n",
      "video 1/1 (frame 587/1341) c:\\Users\\Li Pin\\Documents\\FootfallCam\\sample.mp4: 480x640 (no detections), 34.2ms\n",
      "video 1/1 (frame 588/1341) c:\\Users\\Li Pin\\Documents\\FootfallCam\\sample.mp4: 480x640 (no detections), 34.2ms\n",
      "video 1/1 (frame 589/1341) c:\\Users\\Li Pin\\Documents\\FootfallCam\\sample.mp4: 480x640 (no detections), 34.2ms\n",
      "video 1/1 (frame 590/1341) c:\\Users\\Li Pin\\Documents\\FootfallCam\\sample.mp4: 480x640 (no detections), 33.9ms\n",
      "video 1/1 (frame 591/1341) c:\\Users\\Li Pin\\Documents\\FootfallCam\\sample.mp4: 480x640 (no detections), 33.6ms\n",
      "video 1/1 (frame 592/1341) c:\\Users\\Li Pin\\Documents\\FootfallCam\\sample.mp4: 480x640 (no detections), 33.5ms\n",
      "video 1/1 (frame 593/1341) c:\\Users\\Li Pin\\Documents\\FootfallCam\\sample.mp4: 480x640 (no detections), 34.0ms\n",
      "video 1/1 (frame 594/1341) c:\\Users\\Li Pin\\Documents\\FootfallCam\\sample.mp4: 480x640 (no detections), 33.5ms\n",
      "video 1/1 (frame 595/1341) c:\\Users\\Li Pin\\Documents\\FootfallCam\\sample.mp4: 480x640 (no detections), 34.1ms\n",
      "video 1/1 (frame 596/1341) c:\\Users\\Li Pin\\Documents\\FootfallCam\\sample.mp4: 480x640 (no detections), 34.1ms\n",
      "video 1/1 (frame 597/1341) c:\\Users\\Li Pin\\Documents\\FootfallCam\\sample.mp4: 480x640 (no detections), 33.8ms\n",
      "video 1/1 (frame 598/1341) c:\\Users\\Li Pin\\Documents\\FootfallCam\\sample.mp4: 480x640 (no detections), 33.6ms\n",
      "video 1/1 (frame 599/1341) c:\\Users\\Li Pin\\Documents\\FootfallCam\\sample.mp4: 480x640 (no detections), 34.0ms\n",
      "video 1/1 (frame 600/1341) c:\\Users\\Li Pin\\Documents\\FootfallCam\\sample.mp4: 480x640 (no detections), 33.7ms\n",
      "video 1/1 (frame 601/1341) c:\\Users\\Li Pin\\Documents\\FootfallCam\\sample.mp4: 480x640 (no detections), 34.2ms\n",
      "video 1/1 (frame 602/1341) c:\\Users\\Li Pin\\Documents\\FootfallCam\\sample.mp4: 480x640 (no detections), 33.5ms\n",
      "video 1/1 (frame 603/1341) c:\\Users\\Li Pin\\Documents\\FootfallCam\\sample.mp4: 480x640 (no detections), 35.7ms\n",
      "video 1/1 (frame 604/1341) c:\\Users\\Li Pin\\Documents\\FootfallCam\\sample.mp4: 480x640 (no detections), 33.6ms\n",
      "video 1/1 (frame 605/1341) c:\\Users\\Li Pin\\Documents\\FootfallCam\\sample.mp4: 480x640 (no detections), 34.1ms\n",
      "video 1/1 (frame 606/1341) c:\\Users\\Li Pin\\Documents\\FootfallCam\\sample.mp4: 480x640 (no detections), 36.9ms\n",
      "video 1/1 (frame 607/1341) c:\\Users\\Li Pin\\Documents\\FootfallCam\\sample.mp4: 480x640 (no detections), 33.0ms\n",
      "video 1/1 (frame 608/1341) c:\\Users\\Li Pin\\Documents\\FootfallCam\\sample.mp4: 480x640 (no detections), 32.9ms\n",
      "video 1/1 (frame 609/1341) c:\\Users\\Li Pin\\Documents\\FootfallCam\\sample.mp4: 480x640 (no detections), 33.1ms\n",
      "video 1/1 (frame 610/1341) c:\\Users\\Li Pin\\Documents\\FootfallCam\\sample.mp4: 480x640 (no detections), 34.5ms\n",
      "video 1/1 (frame 611/1341) c:\\Users\\Li Pin\\Documents\\FootfallCam\\sample.mp4: 480x640 (no detections), 33.7ms\n",
      "video 1/1 (frame 612/1341) c:\\Users\\Li Pin\\Documents\\FootfallCam\\sample.mp4: 480x640 (no detections), 34.2ms\n",
      "video 1/1 (frame 613/1341) c:\\Users\\Li Pin\\Documents\\FootfallCam\\sample.mp4: 480x640 (no detections), 35.0ms\n",
      "video 1/1 (frame 614/1341) c:\\Users\\Li Pin\\Documents\\FootfallCam\\sample.mp4: 480x640 (no detections), 33.9ms\n",
      "video 1/1 (frame 615/1341) c:\\Users\\Li Pin\\Documents\\FootfallCam\\sample.mp4: 480x640 (no detections), 35.2ms\n",
      "video 1/1 (frame 616/1341) c:\\Users\\Li Pin\\Documents\\FootfallCam\\sample.mp4: 480x640 (no detections), 33.2ms\n",
      "video 1/1 (frame 617/1341) c:\\Users\\Li Pin\\Documents\\FootfallCam\\sample.mp4: 480x640 (no detections), 32.2ms\n",
      "video 1/1 (frame 618/1341) c:\\Users\\Li Pin\\Documents\\FootfallCam\\sample.mp4: 480x640 (no detections), 28.6ms\n",
      "video 1/1 (frame 619/1341) c:\\Users\\Li Pin\\Documents\\FootfallCam\\sample.mp4: 480x640 (no detections), 24.8ms\n",
      "video 1/1 (frame 620/1341) c:\\Users\\Li Pin\\Documents\\FootfallCam\\sample.mp4: 480x640 (no detections), 34.5ms\n",
      "video 1/1 (frame 621/1341) c:\\Users\\Li Pin\\Documents\\FootfallCam\\sample.mp4: 480x640 (no detections), 34.0ms\n",
      "video 1/1 (frame 622/1341) c:\\Users\\Li Pin\\Documents\\FootfallCam\\sample.mp4: 480x640 (no detections), 29.4ms\n",
      "video 1/1 (frame 623/1341) c:\\Users\\Li Pin\\Documents\\FootfallCam\\sample.mp4: 480x640 (no detections), 34.1ms\n",
      "video 1/1 (frame 624/1341) c:\\Users\\Li Pin\\Documents\\FootfallCam\\sample.mp4: 480x640 (no detections), 33.5ms\n",
      "video 1/1 (frame 625/1341) c:\\Users\\Li Pin\\Documents\\FootfallCam\\sample.mp4: 480x640 (no detections), 34.0ms\n",
      "video 1/1 (frame 626/1341) c:\\Users\\Li Pin\\Documents\\FootfallCam\\sample.mp4: 480x640 (no detections), 27.2ms\n",
      "video 1/1 (frame 627/1341) c:\\Users\\Li Pin\\Documents\\FootfallCam\\sample.mp4: 480x640 (no detections), 33.7ms\n",
      "video 1/1 (frame 628/1341) c:\\Users\\Li Pin\\Documents\\FootfallCam\\sample.mp4: 480x640 (no detections), 34.0ms\n",
      "video 1/1 (frame 629/1341) c:\\Users\\Li Pin\\Documents\\FootfallCam\\sample.mp4: 480x640 (no detections), 31.6ms\n",
      "video 1/1 (frame 630/1341) c:\\Users\\Li Pin\\Documents\\FootfallCam\\sample.mp4: 480x640 (no detections), 35.2ms\n",
      "video 1/1 (frame 631/1341) c:\\Users\\Li Pin\\Documents\\FootfallCam\\sample.mp4: 480x640 (no detections), 35.6ms\n",
      "video 1/1 (frame 632/1341) c:\\Users\\Li Pin\\Documents\\FootfallCam\\sample.mp4: 480x640 (no detections), 33.9ms\n",
      "video 1/1 (frame 633/1341) c:\\Users\\Li Pin\\Documents\\FootfallCam\\sample.mp4: 480x640 (no detections), 34.8ms\n",
      "video 1/1 (frame 634/1341) c:\\Users\\Li Pin\\Documents\\FootfallCam\\sample.mp4: 480x640 (no detections), 34.9ms\n",
      "video 1/1 (frame 635/1341) c:\\Users\\Li Pin\\Documents\\FootfallCam\\sample.mp4: 480x640 1 clip, 33.1ms\n",
      "video 1/1 (frame 636/1341) c:\\Users\\Li Pin\\Documents\\FootfallCam\\sample.mp4: 480x640 (no detections), 32.0ms\n",
      "video 1/1 (frame 637/1341) c:\\Users\\Li Pin\\Documents\\FootfallCam\\sample.mp4: 480x640 (no detections), 34.0ms\n",
      "video 1/1 (frame 638/1341) c:\\Users\\Li Pin\\Documents\\FootfallCam\\sample.mp4: 480x640 (no detections), 35.8ms\n",
      "video 1/1 (frame 639/1341) c:\\Users\\Li Pin\\Documents\\FootfallCam\\sample.mp4: 480x640 (no detections), 33.9ms\n",
      "video 1/1 (frame 640/1341) c:\\Users\\Li Pin\\Documents\\FootfallCam\\sample.mp4: 480x640 (no detections), 34.0ms\n",
      "video 1/1 (frame 641/1341) c:\\Users\\Li Pin\\Documents\\FootfallCam\\sample.mp4: 480x640 (no detections), 34.9ms\n",
      "video 1/1 (frame 642/1341) c:\\Users\\Li Pin\\Documents\\FootfallCam\\sample.mp4: 480x640 (no detections), 34.8ms\n",
      "video 1/1 (frame 643/1341) c:\\Users\\Li Pin\\Documents\\FootfallCam\\sample.mp4: 480x640 (no detections), 34.2ms\n",
      "video 1/1 (frame 644/1341) c:\\Users\\Li Pin\\Documents\\FootfallCam\\sample.mp4: 480x640 (no detections), 35.0ms\n",
      "video 1/1 (frame 645/1341) c:\\Users\\Li Pin\\Documents\\FootfallCam\\sample.mp4: 480x640 (no detections), 34.9ms\n",
      "video 1/1 (frame 646/1341) c:\\Users\\Li Pin\\Documents\\FootfallCam\\sample.mp4: 480x640 (no detections), 34.8ms\n",
      "video 1/1 (frame 647/1341) c:\\Users\\Li Pin\\Documents\\FootfallCam\\sample.mp4: 480x640 (no detections), 34.8ms\n",
      "video 1/1 (frame 648/1341) c:\\Users\\Li Pin\\Documents\\FootfallCam\\sample.mp4: 480x640 (no detections), 33.8ms\n",
      "video 1/1 (frame 649/1341) c:\\Users\\Li Pin\\Documents\\FootfallCam\\sample.mp4: 480x640 (no detections), 35.6ms\n",
      "video 1/1 (frame 650/1341) c:\\Users\\Li Pin\\Documents\\FootfallCam\\sample.mp4: 480x640 (no detections), 31.7ms\n",
      "video 1/1 (frame 651/1341) c:\\Users\\Li Pin\\Documents\\FootfallCam\\sample.mp4: 480x640 (no detections), 33.8ms\n",
      "video 1/1 (frame 652/1341) c:\\Users\\Li Pin\\Documents\\FootfallCam\\sample.mp4: 480x640 (no detections), 33.9ms\n",
      "video 1/1 (frame 653/1341) c:\\Users\\Li Pin\\Documents\\FootfallCam\\sample.mp4: 480x640 (no detections), 34.8ms\n",
      "video 1/1 (frame 654/1341) c:\\Users\\Li Pin\\Documents\\FootfallCam\\sample.mp4: 480x640 (no detections), 34.3ms\n",
      "video 1/1 (frame 655/1341) c:\\Users\\Li Pin\\Documents\\FootfallCam\\sample.mp4: 480x640 (no detections), 33.7ms\n",
      "video 1/1 (frame 656/1341) c:\\Users\\Li Pin\\Documents\\FootfallCam\\sample.mp4: 480x640 (no detections), 34.6ms\n",
      "video 1/1 (frame 657/1341) c:\\Users\\Li Pin\\Documents\\FootfallCam\\sample.mp4: 480x640 (no detections), 35.8ms\n",
      "video 1/1 (frame 658/1341) c:\\Users\\Li Pin\\Documents\\FootfallCam\\sample.mp4: 480x640 (no detections), 34.5ms\n",
      "video 1/1 (frame 659/1341) c:\\Users\\Li Pin\\Documents\\FootfallCam\\sample.mp4: 480x640 (no detections), 35.6ms\n",
      "video 1/1 (frame 660/1341) c:\\Users\\Li Pin\\Documents\\FootfallCam\\sample.mp4: 480x640 (no detections), 33.9ms\n",
      "video 1/1 (frame 661/1341) c:\\Users\\Li Pin\\Documents\\FootfallCam\\sample.mp4: 480x640 (no detections), 34.3ms\n",
      "video 1/1 (frame 662/1341) c:\\Users\\Li Pin\\Documents\\FootfallCam\\sample.mp4: 480x640 (no detections), 34.6ms\n",
      "video 1/1 (frame 663/1341) c:\\Users\\Li Pin\\Documents\\FootfallCam\\sample.mp4: 480x640 (no detections), 32.3ms\n",
      "video 1/1 (frame 664/1341) c:\\Users\\Li Pin\\Documents\\FootfallCam\\sample.mp4: 480x640 (no detections), 34.8ms\n",
      "video 1/1 (frame 665/1341) c:\\Users\\Li Pin\\Documents\\FootfallCam\\sample.mp4: 480x640 (no detections), 34.7ms\n",
      "video 1/1 (frame 666/1341) c:\\Users\\Li Pin\\Documents\\FootfallCam\\sample.mp4: 480x640 (no detections), 35.0ms\n",
      "video 1/1 (frame 667/1341) c:\\Users\\Li Pin\\Documents\\FootfallCam\\sample.mp4: 480x640 (no detections), 34.7ms\n",
      "video 1/1 (frame 668/1341) c:\\Users\\Li Pin\\Documents\\FootfallCam\\sample.mp4: 480x640 (no detections), 34.4ms\n",
      "video 1/1 (frame 669/1341) c:\\Users\\Li Pin\\Documents\\FootfallCam\\sample.mp4: 480x640 (no detections), 34.7ms\n",
      "video 1/1 (frame 670/1341) c:\\Users\\Li Pin\\Documents\\FootfallCam\\sample.mp4: 480x640 (no detections), 37.1ms\n",
      "video 1/1 (frame 671/1341) c:\\Users\\Li Pin\\Documents\\FootfallCam\\sample.mp4: 480x640 (no detections), 35.0ms\n",
      "video 1/1 (frame 672/1341) c:\\Users\\Li Pin\\Documents\\FootfallCam\\sample.mp4: 480x640 (no detections), 34.2ms\n",
      "video 1/1 (frame 673/1341) c:\\Users\\Li Pin\\Documents\\FootfallCam\\sample.mp4: 480x640 (no detections), 35.9ms\n",
      "video 1/1 (frame 674/1341) c:\\Users\\Li Pin\\Documents\\FootfallCam\\sample.mp4: 480x640 (no detections), 34.8ms\n",
      "video 1/1 (frame 675/1341) c:\\Users\\Li Pin\\Documents\\FootfallCam\\sample.mp4: 480x640 (no detections), 34.9ms\n",
      "video 1/1 (frame 676/1341) c:\\Users\\Li Pin\\Documents\\FootfallCam\\sample.mp4: 480x640 (no detections), 34.3ms\n",
      "video 1/1 (frame 677/1341) c:\\Users\\Li Pin\\Documents\\FootfallCam\\sample.mp4: 480x640 (no detections), 35.0ms\n",
      "video 1/1 (frame 678/1341) c:\\Users\\Li Pin\\Documents\\FootfallCam\\sample.mp4: 480x640 (no detections), 34.7ms\n",
      "video 1/1 (frame 679/1341) c:\\Users\\Li Pin\\Documents\\FootfallCam\\sample.mp4: 480x640 (no detections), 33.8ms\n",
      "video 1/1 (frame 680/1341) c:\\Users\\Li Pin\\Documents\\FootfallCam\\sample.mp4: 480x640 (no detections), 34.6ms\n",
      "video 1/1 (frame 681/1341) c:\\Users\\Li Pin\\Documents\\FootfallCam\\sample.mp4: 480x640 (no detections), 34.8ms\n",
      "video 1/1 (frame 682/1341) c:\\Users\\Li Pin\\Documents\\FootfallCam\\sample.mp4: 480x640 (no detections), 34.8ms\n",
      "video 1/1 (frame 683/1341) c:\\Users\\Li Pin\\Documents\\FootfallCam\\sample.mp4: 480x640 (no detections), 34.7ms\n",
      "video 1/1 (frame 684/1341) c:\\Users\\Li Pin\\Documents\\FootfallCam\\sample.mp4: 480x640 (no detections), 33.9ms\n",
      "video 1/1 (frame 685/1341) c:\\Users\\Li Pin\\Documents\\FootfallCam\\sample.mp4: 480x640 (no detections), 36.0ms\n",
      "video 1/1 (frame 686/1341) c:\\Users\\Li Pin\\Documents\\FootfallCam\\sample.mp4: 480x640 (no detections), 30.4ms\n",
      "video 1/1 (frame 687/1341) c:\\Users\\Li Pin\\Documents\\FootfallCam\\sample.mp4: 480x640 (no detections), 36.1ms\n",
      "video 1/1 (frame 688/1341) c:\\Users\\Li Pin\\Documents\\FootfallCam\\sample.mp4: 480x640 (no detections), 33.9ms\n",
      "video 1/1 (frame 689/1341) c:\\Users\\Li Pin\\Documents\\FootfallCam\\sample.mp4: 480x640 (no detections), 34.9ms\n",
      "video 1/1 (frame 690/1341) c:\\Users\\Li Pin\\Documents\\FootfallCam\\sample.mp4: 480x640 (no detections), 35.0ms\n",
      "video 1/1 (frame 691/1341) c:\\Users\\Li Pin\\Documents\\FootfallCam\\sample.mp4: 480x640 (no detections), 33.9ms\n",
      "video 1/1 (frame 692/1341) c:\\Users\\Li Pin\\Documents\\FootfallCam\\sample.mp4: 480x640 (no detections), 33.1ms\n",
      "video 1/1 (frame 693/1341) c:\\Users\\Li Pin\\Documents\\FootfallCam\\sample.mp4: 480x640 (no detections), 31.6ms\n",
      "video 1/1 (frame 694/1341) c:\\Users\\Li Pin\\Documents\\FootfallCam\\sample.mp4: 480x640 (no detections), 32.8ms\n",
      "video 1/1 (frame 695/1341) c:\\Users\\Li Pin\\Documents\\FootfallCam\\sample.mp4: 480x640 (no detections), 34.6ms\n",
      "video 1/1 (frame 696/1341) c:\\Users\\Li Pin\\Documents\\FootfallCam\\sample.mp4: 480x640 (no detections), 29.3ms\n",
      "video 1/1 (frame 697/1341) c:\\Users\\Li Pin\\Documents\\FootfallCam\\sample.mp4: 480x640 (no detections), 33.1ms\n",
      "video 1/1 (frame 698/1341) c:\\Users\\Li Pin\\Documents\\FootfallCam\\sample.mp4: 480x640 (no detections), 32.5ms\n",
      "video 1/1 (frame 699/1341) c:\\Users\\Li Pin\\Documents\\FootfallCam\\sample.mp4: 480x640 (no detections), 34.7ms\n",
      "video 1/1 (frame 700/1341) c:\\Users\\Li Pin\\Documents\\FootfallCam\\sample.mp4: 480x640 (no detections), 32.6ms\n",
      "video 1/1 (frame 701/1341) c:\\Users\\Li Pin\\Documents\\FootfallCam\\sample.mp4: 480x640 (no detections), 33.5ms\n",
      "video 1/1 (frame 702/1341) c:\\Users\\Li Pin\\Documents\\FootfallCam\\sample.mp4: 480x640 (no detections), 33.8ms\n",
      "video 1/1 (frame 703/1341) c:\\Users\\Li Pin\\Documents\\FootfallCam\\sample.mp4: 480x640 (no detections), 34.0ms\n",
      "video 1/1 (frame 704/1341) c:\\Users\\Li Pin\\Documents\\FootfallCam\\sample.mp4: 480x640 (no detections), 34.1ms\n",
      "video 1/1 (frame 705/1341) c:\\Users\\Li Pin\\Documents\\FootfallCam\\sample.mp4: 480x640 (no detections), 33.6ms\n",
      "video 1/1 (frame 706/1341) c:\\Users\\Li Pin\\Documents\\FootfallCam\\sample.mp4: 480x640 (no detections), 32.1ms\n",
      "video 1/1 (frame 707/1341) c:\\Users\\Li Pin\\Documents\\FootfallCam\\sample.mp4: 480x640 (no detections), 35.1ms\n",
      "video 1/1 (frame 708/1341) c:\\Users\\Li Pin\\Documents\\FootfallCam\\sample.mp4: 480x640 (no detections), 33.5ms\n",
      "video 1/1 (frame 709/1341) c:\\Users\\Li Pin\\Documents\\FootfallCam\\sample.mp4: 480x640 (no detections), 34.3ms\n",
      "video 1/1 (frame 710/1341) c:\\Users\\Li Pin\\Documents\\FootfallCam\\sample.mp4: 480x640 (no detections), 26.9ms\n",
      "video 1/1 (frame 711/1341) c:\\Users\\Li Pin\\Documents\\FootfallCam\\sample.mp4: 480x640 (no detections), 34.8ms\n",
      "video 1/1 (frame 712/1341) c:\\Users\\Li Pin\\Documents\\FootfallCam\\sample.mp4: 480x640 (no detections), 34.6ms\n",
      "video 1/1 (frame 713/1341) c:\\Users\\Li Pin\\Documents\\FootfallCam\\sample.mp4: 480x640 (no detections), 33.8ms\n",
      "video 1/1 (frame 714/1341) c:\\Users\\Li Pin\\Documents\\FootfallCam\\sample.mp4: 480x640 (no detections), 32.8ms\n",
      "video 1/1 (frame 715/1341) c:\\Users\\Li Pin\\Documents\\FootfallCam\\sample.mp4: 480x640 (no detections), 35.3ms\n",
      "video 1/1 (frame 716/1341) c:\\Users\\Li Pin\\Documents\\FootfallCam\\sample.mp4: 480x640 (no detections), 34.0ms\n",
      "video 1/1 (frame 717/1341) c:\\Users\\Li Pin\\Documents\\FootfallCam\\sample.mp4: 480x640 (no detections), 35.6ms\n",
      "video 1/1 (frame 718/1341) c:\\Users\\Li Pin\\Documents\\FootfallCam\\sample.mp4: 480x640 (no detections), 34.9ms\n",
      "video 1/1 (frame 719/1341) c:\\Users\\Li Pin\\Documents\\FootfallCam\\sample.mp4: 480x640 (no detections), 34.2ms\n",
      "video 1/1 (frame 720/1341) c:\\Users\\Li Pin\\Documents\\FootfallCam\\sample.mp4: 480x640 (no detections), 34.6ms\n",
      "video 1/1 (frame 721/1341) c:\\Users\\Li Pin\\Documents\\FootfallCam\\sample.mp4: 480x640 (no detections), 35.3ms\n",
      "video 1/1 (frame 722/1341) c:\\Users\\Li Pin\\Documents\\FootfallCam\\sample.mp4: 480x640 (no detections), 31.5ms\n",
      "video 1/1 (frame 723/1341) c:\\Users\\Li Pin\\Documents\\FootfallCam\\sample.mp4: 480x640 (no detections), 34.7ms\n",
      "video 1/1 (frame 724/1341) c:\\Users\\Li Pin\\Documents\\FootfallCam\\sample.mp4: 480x640 (no detections), 34.2ms\n",
      "video 1/1 (frame 725/1341) c:\\Users\\Li Pin\\Documents\\FootfallCam\\sample.mp4: 480x640 (no detections), 34.4ms\n",
      "video 1/1 (frame 726/1341) c:\\Users\\Li Pin\\Documents\\FootfallCam\\sample.mp4: 480x640 (no detections), 34.7ms\n",
      "video 1/1 (frame 727/1341) c:\\Users\\Li Pin\\Documents\\FootfallCam\\sample.mp4: 480x640 (no detections), 34.0ms\n",
      "video 1/1 (frame 728/1341) c:\\Users\\Li Pin\\Documents\\FootfallCam\\sample.mp4: 480x640 (no detections), 34.3ms\n",
      "video 1/1 (frame 729/1341) c:\\Users\\Li Pin\\Documents\\FootfallCam\\sample.mp4: 480x640 (no detections), 34.4ms\n",
      "video 1/1 (frame 730/1341) c:\\Users\\Li Pin\\Documents\\FootfallCam\\sample.mp4: 480x640 (no detections), 34.2ms\n",
      "video 1/1 (frame 731/1341) c:\\Users\\Li Pin\\Documents\\FootfallCam\\sample.mp4: 480x640 (no detections), 34.2ms\n",
      "video 1/1 (frame 732/1341) c:\\Users\\Li Pin\\Documents\\FootfallCam\\sample.mp4: 480x640 (no detections), 34.5ms\n",
      "video 1/1 (frame 733/1341) c:\\Users\\Li Pin\\Documents\\FootfallCam\\sample.mp4: 480x640 (no detections), 34.6ms\n",
      "video 1/1 (frame 734/1341) c:\\Users\\Li Pin\\Documents\\FootfallCam\\sample.mp4: 480x640 (no detections), 35.1ms\n",
      "video 1/1 (frame 735/1341) c:\\Users\\Li Pin\\Documents\\FootfallCam\\sample.mp4: 480x640 (no detections), 35.0ms\n",
      "video 1/1 (frame 736/1341) c:\\Users\\Li Pin\\Documents\\FootfallCam\\sample.mp4: 480x640 (no detections), 35.1ms\n",
      "video 1/1 (frame 737/1341) c:\\Users\\Li Pin\\Documents\\FootfallCam\\sample.mp4: 480x640 (no detections), 35.1ms\n",
      "video 1/1 (frame 738/1341) c:\\Users\\Li Pin\\Documents\\FootfallCam\\sample.mp4: 480x640 (no detections), 34.8ms\n",
      "video 1/1 (frame 739/1341) c:\\Users\\Li Pin\\Documents\\FootfallCam\\sample.mp4: 480x640 (no detections), 34.0ms\n",
      "video 1/1 (frame 740/1341) c:\\Users\\Li Pin\\Documents\\FootfallCam\\sample.mp4: 480x640 (no detections), 34.8ms\n",
      "video 1/1 (frame 741/1341) c:\\Users\\Li Pin\\Documents\\FootfallCam\\sample.mp4: 480x640 (no detections), 35.8ms\n",
      "video 1/1 (frame 742/1341) c:\\Users\\Li Pin\\Documents\\FootfallCam\\sample.mp4: 480x640 (no detections), 35.0ms\n",
      "video 1/1 (frame 743/1341) c:\\Users\\Li Pin\\Documents\\FootfallCam\\sample.mp4: 480x640 (no detections), 34.8ms\n",
      "video 1/1 (frame 744/1341) c:\\Users\\Li Pin\\Documents\\FootfallCam\\sample.mp4: 480x640 (no detections), 34.9ms\n",
      "video 1/1 (frame 745/1341) c:\\Users\\Li Pin\\Documents\\FootfallCam\\sample.mp4: 480x640 (no detections), 34.9ms\n",
      "video 1/1 (frame 746/1341) c:\\Users\\Li Pin\\Documents\\FootfallCam\\sample.mp4: 480x640 (no detections), 34.8ms\n",
      "video 1/1 (frame 747/1341) c:\\Users\\Li Pin\\Documents\\FootfallCam\\sample.mp4: 480x640 (no detections), 34.7ms\n",
      "video 1/1 (frame 748/1341) c:\\Users\\Li Pin\\Documents\\FootfallCam\\sample.mp4: 480x640 (no detections), 34.8ms\n",
      "video 1/1 (frame 749/1341) c:\\Users\\Li Pin\\Documents\\FootfallCam\\sample.mp4: 480x640 (no detections), 34.9ms\n",
      "video 1/1 (frame 750/1341) c:\\Users\\Li Pin\\Documents\\FootfallCam\\sample.mp4: 480x640 (no detections), 35.9ms\n",
      "video 1/1 (frame 751/1341) c:\\Users\\Li Pin\\Documents\\FootfallCam\\sample.mp4: 480x640 (no detections), 34.4ms\n",
      "video 1/1 (frame 752/1341) c:\\Users\\Li Pin\\Documents\\FootfallCam\\sample.mp4: 480x640 (no detections), 34.5ms\n",
      "video 1/1 (frame 753/1341) c:\\Users\\Li Pin\\Documents\\FootfallCam\\sample.mp4: 480x640 (no detections), 34.6ms\n",
      "video 1/1 (frame 754/1341) c:\\Users\\Li Pin\\Documents\\FootfallCam\\sample.mp4: 480x640 (no detections), 34.8ms\n",
      "video 1/1 (frame 755/1341) c:\\Users\\Li Pin\\Documents\\FootfallCam\\sample.mp4: 480x640 (no detections), 34.7ms\n",
      "video 1/1 (frame 756/1341) c:\\Users\\Li Pin\\Documents\\FootfallCam\\sample.mp4: 480x640 (no detections), 34.3ms\n",
      "video 1/1 (frame 757/1341) c:\\Users\\Li Pin\\Documents\\FootfallCam\\sample.mp4: 480x640 (no detections), 34.6ms\n",
      "video 1/1 (frame 758/1341) c:\\Users\\Li Pin\\Documents\\FootfallCam\\sample.mp4: 480x640 (no detections), 34.6ms\n",
      "video 1/1 (frame 759/1341) c:\\Users\\Li Pin\\Documents\\FootfallCam\\sample.mp4: 480x640 (no detections), 34.7ms\n",
      "video 1/1 (frame 760/1341) c:\\Users\\Li Pin\\Documents\\FootfallCam\\sample.mp4: 480x640 (no detections), 34.3ms\n",
      "video 1/1 (frame 761/1341) c:\\Users\\Li Pin\\Documents\\FootfallCam\\sample.mp4: 480x640 (no detections), 34.7ms\n",
      "video 1/1 (frame 762/1341) c:\\Users\\Li Pin\\Documents\\FootfallCam\\sample.mp4: 480x640 (no detections), 34.6ms\n",
      "video 1/1 (frame 763/1341) c:\\Users\\Li Pin\\Documents\\FootfallCam\\sample.mp4: 480x640 (no detections), 34.6ms\n",
      "video 1/1 (frame 764/1341) c:\\Users\\Li Pin\\Documents\\FootfallCam\\sample.mp4: 480x640 (no detections), 32.9ms\n",
      "video 1/1 (frame 765/1341) c:\\Users\\Li Pin\\Documents\\FootfallCam\\sample.mp4: 480x640 (no detections), 34.7ms\n",
      "video 1/1 (frame 766/1341) c:\\Users\\Li Pin\\Documents\\FootfallCam\\sample.mp4: 480x640 (no detections), 35.3ms\n",
      "video 1/1 (frame 767/1341) c:\\Users\\Li Pin\\Documents\\FootfallCam\\sample.mp4: 480x640 (no detections), 33.0ms\n",
      "video 1/1 (frame 768/1341) c:\\Users\\Li Pin\\Documents\\FootfallCam\\sample.mp4: 480x640 (no detections), 33.1ms\n",
      "video 1/1 (frame 769/1341) c:\\Users\\Li Pin\\Documents\\FootfallCam\\sample.mp4: 480x640 (no detections), 34.6ms\n",
      "video 1/1 (frame 770/1341) c:\\Users\\Li Pin\\Documents\\FootfallCam\\sample.mp4: 480x640 (no detections), 25.3ms\n",
      "video 1/1 (frame 771/1341) c:\\Users\\Li Pin\\Documents\\FootfallCam\\sample.mp4: 480x640 (no detections), 34.2ms\n",
      "video 1/1 (frame 772/1341) c:\\Users\\Li Pin\\Documents\\FootfallCam\\sample.mp4: 480x640 (no detections), 35.3ms\n",
      "video 1/1 (frame 773/1341) c:\\Users\\Li Pin\\Documents\\FootfallCam\\sample.mp4: 480x640 (no detections), 32.9ms\n",
      "video 1/1 (frame 774/1341) c:\\Users\\Li Pin\\Documents\\FootfallCam\\sample.mp4: 480x640 (no detections), 35.1ms\n",
      "video 1/1 (frame 775/1341) c:\\Users\\Li Pin\\Documents\\FootfallCam\\sample.mp4: 480x640 (no detections), 33.8ms\n",
      "video 1/1 (frame 776/1341) c:\\Users\\Li Pin\\Documents\\FootfallCam\\sample.mp4: 480x640 (no detections), 32.6ms\n",
      "video 1/1 (frame 777/1341) c:\\Users\\Li Pin\\Documents\\FootfallCam\\sample.mp4: 480x640 (no detections), 37.6ms\n",
      "video 1/1 (frame 778/1341) c:\\Users\\Li Pin\\Documents\\FootfallCam\\sample.mp4: 480x640 (no detections), 34.9ms\n",
      "video 1/1 (frame 779/1341) c:\\Users\\Li Pin\\Documents\\FootfallCam\\sample.mp4: 480x640 (no detections), 33.8ms\n",
      "video 1/1 (frame 780/1341) c:\\Users\\Li Pin\\Documents\\FootfallCam\\sample.mp4: 480x640 (no detections), 33.9ms\n",
      "video 1/1 (frame 781/1341) c:\\Users\\Li Pin\\Documents\\FootfallCam\\sample.mp4: 480x640 (no detections), 34.9ms\n",
      "video 1/1 (frame 782/1341) c:\\Users\\Li Pin\\Documents\\FootfallCam\\sample.mp4: 480x640 (no detections), 30.3ms\n",
      "video 1/1 (frame 783/1341) c:\\Users\\Li Pin\\Documents\\FootfallCam\\sample.mp4: 480x640 (no detections), 34.1ms\n",
      "video 1/1 (frame 784/1341) c:\\Users\\Li Pin\\Documents\\FootfallCam\\sample.mp4: 480x640 (no detections), 34.4ms\n",
      "video 1/1 (frame 785/1341) c:\\Users\\Li Pin\\Documents\\FootfallCam\\sample.mp4: 480x640 (no detections), 32.2ms\n",
      "video 1/1 (frame 786/1341) c:\\Users\\Li Pin\\Documents\\FootfallCam\\sample.mp4: 480x640 (no detections), 34.3ms\n",
      "video 1/1 (frame 787/1341) c:\\Users\\Li Pin\\Documents\\FootfallCam\\sample.mp4: 480x640 (no detections), 26.7ms\n",
      "video 1/1 (frame 788/1341) c:\\Users\\Li Pin\\Documents\\FootfallCam\\sample.mp4: 480x640 (no detections), 26.0ms\n",
      "video 1/1 (frame 789/1341) c:\\Users\\Li Pin\\Documents\\FootfallCam\\sample.mp4: 480x640 (no detections), 32.4ms\n",
      "video 1/1 (frame 790/1341) c:\\Users\\Li Pin\\Documents\\FootfallCam\\sample.mp4: 480x640 (no detections), 33.0ms\n",
      "video 1/1 (frame 791/1341) c:\\Users\\Li Pin\\Documents\\FootfallCam\\sample.mp4: 480x640 (no detections), 32.2ms\n",
      "video 1/1 (frame 792/1341) c:\\Users\\Li Pin\\Documents\\FootfallCam\\sample.mp4: 480x640 (no detections), 32.3ms\n",
      "video 1/1 (frame 793/1341) c:\\Users\\Li Pin\\Documents\\FootfallCam\\sample.mp4: 480x640 (no detections), 33.3ms\n",
      "video 1/1 (frame 794/1341) c:\\Users\\Li Pin\\Documents\\FootfallCam\\sample.mp4: 480x640 (no detections), 29.2ms\n",
      "video 1/1 (frame 795/1341) c:\\Users\\Li Pin\\Documents\\FootfallCam\\sample.mp4: 480x640 (no detections), 35.1ms\n",
      "video 1/1 (frame 796/1341) c:\\Users\\Li Pin\\Documents\\FootfallCam\\sample.mp4: 480x640 (no detections), 32.4ms\n",
      "video 1/1 (frame 797/1341) c:\\Users\\Li Pin\\Documents\\FootfallCam\\sample.mp4: 480x640 (no detections), 31.7ms\n",
      "video 1/1 (frame 798/1341) c:\\Users\\Li Pin\\Documents\\FootfallCam\\sample.mp4: 480x640 (no detections), 34.5ms\n",
      "video 1/1 (frame 799/1341) c:\\Users\\Li Pin\\Documents\\FootfallCam\\sample.mp4: 480x640 (no detections), 32.0ms\n",
      "video 1/1 (frame 800/1341) c:\\Users\\Li Pin\\Documents\\FootfallCam\\sample.mp4: 480x640 (no detections), 32.4ms\n",
      "video 1/1 (frame 801/1341) c:\\Users\\Li Pin\\Documents\\FootfallCam\\sample.mp4: 480x640 (no detections), 34.5ms\n",
      "video 1/1 (frame 802/1341) c:\\Users\\Li Pin\\Documents\\FootfallCam\\sample.mp4: 480x640 (no detections), 33.2ms\n",
      "video 1/1 (frame 803/1341) c:\\Users\\Li Pin\\Documents\\FootfallCam\\sample.mp4: 480x640 (no detections), 31.7ms\n",
      "video 1/1 (frame 804/1341) c:\\Users\\Li Pin\\Documents\\FootfallCam\\sample.mp4: 480x640 (no detections), 32.5ms\n",
      "video 1/1 (frame 805/1341) c:\\Users\\Li Pin\\Documents\\FootfallCam\\sample.mp4: 480x640 (no detections), 34.8ms\n",
      "video 1/1 (frame 806/1341) c:\\Users\\Li Pin\\Documents\\FootfallCam\\sample.mp4: 480x640 (no detections), 32.4ms\n",
      "video 1/1 (frame 807/1341) c:\\Users\\Li Pin\\Documents\\FootfallCam\\sample.mp4: 480x640 (no detections), 33.4ms\n",
      "video 1/1 (frame 808/1341) c:\\Users\\Li Pin\\Documents\\FootfallCam\\sample.mp4: 480x640 (no detections), 32.2ms\n",
      "video 1/1 (frame 809/1341) c:\\Users\\Li Pin\\Documents\\FootfallCam\\sample.mp4: 480x640 1 clip, 33.5ms\n",
      "video 1/1 (frame 810/1341) c:\\Users\\Li Pin\\Documents\\FootfallCam\\sample.mp4: 480x640 2 clips, 33.6ms\n",
      "video 1/1 (frame 811/1341) c:\\Users\\Li Pin\\Documents\\FootfallCam\\sample.mp4: 480x640 1 clip, 33.4ms\n",
      "video 1/1 (frame 812/1341) c:\\Users\\Li Pin\\Documents\\FootfallCam\\sample.mp4: 480x640 1 clip, 35.5ms\n",
      "video 1/1 (frame 813/1341) c:\\Users\\Li Pin\\Documents\\FootfallCam\\sample.mp4: 480x640 1 clip, 28.4ms\n",
      "video 1/1 (frame 814/1341) c:\\Users\\Li Pin\\Documents\\FootfallCam\\sample.mp4: 480x640 1 clip, 33.5ms\n",
      "video 1/1 (frame 815/1341) c:\\Users\\Li Pin\\Documents\\FootfallCam\\sample.mp4: 480x640 2 clips, 33.2ms\n",
      "video 1/1 (frame 816/1341) c:\\Users\\Li Pin\\Documents\\FootfallCam\\sample.mp4: 480x640 1 clip, 34.4ms\n",
      "video 1/1 (frame 817/1341) c:\\Users\\Li Pin\\Documents\\FootfallCam\\sample.mp4: 480x640 1 clip, 34.8ms\n",
      "video 1/1 (frame 818/1341) c:\\Users\\Li Pin\\Documents\\FootfallCam\\sample.mp4: 480x640 1 clip, 32.8ms\n",
      "video 1/1 (frame 819/1341) c:\\Users\\Li Pin\\Documents\\FootfallCam\\sample.mp4: 480x640 1 clip, 32.6ms\n",
      "video 1/1 (frame 820/1341) c:\\Users\\Li Pin\\Documents\\FootfallCam\\sample.mp4: 480x640 1 clip, 35.9ms\n",
      "video 1/1 (frame 821/1341) c:\\Users\\Li Pin\\Documents\\FootfallCam\\sample.mp4: 480x640 1 clip, 36.2ms\n",
      "video 1/1 (frame 822/1341) c:\\Users\\Li Pin\\Documents\\FootfallCam\\sample.mp4: 480x640 1 clip, 35.8ms\n",
      "video 1/1 (frame 823/1341) c:\\Users\\Li Pin\\Documents\\FootfallCam\\sample.mp4: 480x640 (no detections), 33.2ms\n",
      "video 1/1 (frame 824/1341) c:\\Users\\Li Pin\\Documents\\FootfallCam\\sample.mp4: 480x640 (no detections), 33.2ms\n",
      "video 1/1 (frame 825/1341) c:\\Users\\Li Pin\\Documents\\FootfallCam\\sample.mp4: 480x640 (no detections), 33.4ms\n",
      "video 1/1 (frame 826/1341) c:\\Users\\Li Pin\\Documents\\FootfallCam\\sample.mp4: 480x640 (no detections), 33.2ms\n",
      "video 1/1 (frame 827/1341) c:\\Users\\Li Pin\\Documents\\FootfallCam\\sample.mp4: 480x640 (no detections), 33.1ms\n",
      "video 1/1 (frame 828/1341) c:\\Users\\Li Pin\\Documents\\FootfallCam\\sample.mp4: 480x640 (no detections), 34.1ms\n",
      "video 1/1 (frame 829/1341) c:\\Users\\Li Pin\\Documents\\FootfallCam\\sample.mp4: 480x640 (no detections), 30.2ms\n",
      "video 1/1 (frame 830/1341) c:\\Users\\Li Pin\\Documents\\FootfallCam\\sample.mp4: 480x640 (no detections), 26.1ms\n",
      "video 1/1 (frame 831/1341) c:\\Users\\Li Pin\\Documents\\FootfallCam\\sample.mp4: 480x640 (no detections), 34.4ms\n",
      "video 1/1 (frame 832/1341) c:\\Users\\Li Pin\\Documents\\FootfallCam\\sample.mp4: 480x640 (no detections), 33.8ms\n",
      "video 1/1 (frame 833/1341) c:\\Users\\Li Pin\\Documents\\FootfallCam\\sample.mp4: 480x640 (no detections), 33.8ms\n",
      "video 1/1 (frame 834/1341) c:\\Users\\Li Pin\\Documents\\FootfallCam\\sample.mp4: 480x640 (no detections), 33.9ms\n",
      "video 1/1 (frame 835/1341) c:\\Users\\Li Pin\\Documents\\FootfallCam\\sample.mp4: 480x640 (no detections), 36.4ms\n",
      "video 1/1 (frame 836/1341) c:\\Users\\Li Pin\\Documents\\FootfallCam\\sample.mp4: 480x640 (no detections), 28.4ms\n",
      "video 1/1 (frame 837/1341) c:\\Users\\Li Pin\\Documents\\FootfallCam\\sample.mp4: 480x640 (no detections), 26.4ms\n",
      "video 1/1 (frame 838/1341) c:\\Users\\Li Pin\\Documents\\FootfallCam\\sample.mp4: 480x640 (no detections), 36.4ms\n",
      "video 1/1 (frame 839/1341) c:\\Users\\Li Pin\\Documents\\FootfallCam\\sample.mp4: 480x640 (no detections), 33.6ms\n",
      "video 1/1 (frame 840/1341) c:\\Users\\Li Pin\\Documents\\FootfallCam\\sample.mp4: 480x640 (no detections), 36.3ms\n",
      "video 1/1 (frame 841/1341) c:\\Users\\Li Pin\\Documents\\FootfallCam\\sample.mp4: 480x640 (no detections), 33.6ms\n",
      "video 1/1 (frame 842/1341) c:\\Users\\Li Pin\\Documents\\FootfallCam\\sample.mp4: 480x640 (no detections), 33.5ms\n",
      "video 1/1 (frame 843/1341) c:\\Users\\Li Pin\\Documents\\FootfallCam\\sample.mp4: 480x640 (no detections), 26.3ms\n",
      "video 1/1 (frame 844/1341) c:\\Users\\Li Pin\\Documents\\FootfallCam\\sample.mp4: 480x640 (no detections), 34.9ms\n",
      "video 1/1 (frame 845/1341) c:\\Users\\Li Pin\\Documents\\FootfallCam\\sample.mp4: 480x640 (no detections), 33.7ms\n",
      "video 1/1 (frame 846/1341) c:\\Users\\Li Pin\\Documents\\FootfallCam\\sample.mp4: 480x640 (no detections), 33.7ms\n",
      "video 1/1 (frame 847/1341) c:\\Users\\Li Pin\\Documents\\FootfallCam\\sample.mp4: 480x640 1 clip, 32.8ms\n",
      "video 1/1 (frame 848/1341) c:\\Users\\Li Pin\\Documents\\FootfallCam\\sample.mp4: 480x640 2 clips, 23.5ms\n",
      "video 1/1 (frame 849/1341) c:\\Users\\Li Pin\\Documents\\FootfallCam\\sample.mp4: 480x640 (no detections), 34.9ms\n",
      "video 1/1 (frame 850/1341) c:\\Users\\Li Pin\\Documents\\FootfallCam\\sample.mp4: 480x640 (no detections), 36.4ms\n",
      "video 1/1 (frame 851/1341) c:\\Users\\Li Pin\\Documents\\FootfallCam\\sample.mp4: 480x640 (no detections), 33.3ms\n",
      "video 1/1 (frame 852/1341) c:\\Users\\Li Pin\\Documents\\FootfallCam\\sample.mp4: 480x640 (no detections), 35.1ms\n",
      "video 1/1 (frame 853/1341) c:\\Users\\Li Pin\\Documents\\FootfallCam\\sample.mp4: 480x640 1 clip, 27.0ms\n",
      "video 1/1 (frame 854/1341) c:\\Users\\Li Pin\\Documents\\FootfallCam\\sample.mp4: 480x640 1 clip, 32.1ms\n",
      "video 1/1 (frame 855/1341) c:\\Users\\Li Pin\\Documents\\FootfallCam\\sample.mp4: 480x640 1 clip, 33.0ms\n",
      "video 1/1 (frame 856/1341) c:\\Users\\Li Pin\\Documents\\FootfallCam\\sample.mp4: 480x640 1 clip, 33.5ms\n",
      "video 1/1 (frame 857/1341) c:\\Users\\Li Pin\\Documents\\FootfallCam\\sample.mp4: 480x640 1 clip, 33.5ms\n",
      "video 1/1 (frame 858/1341) c:\\Users\\Li Pin\\Documents\\FootfallCam\\sample.mp4: 480x640 1 clip, 35.6ms\n",
      "video 1/1 (frame 859/1341) c:\\Users\\Li Pin\\Documents\\FootfallCam\\sample.mp4: 480x640 1 clip, 36.0ms\n",
      "video 1/1 (frame 860/1341) c:\\Users\\Li Pin\\Documents\\FootfallCam\\sample.mp4: 480x640 1 clip, 33.5ms\n",
      "video 1/1 (frame 861/1341) c:\\Users\\Li Pin\\Documents\\FootfallCam\\sample.mp4: 480x640 1 clip, 34.4ms\n",
      "video 1/1 (frame 862/1341) c:\\Users\\Li Pin\\Documents\\FootfallCam\\sample.mp4: 480x640 2 clips, 35.8ms\n",
      "video 1/1 (frame 863/1341) c:\\Users\\Li Pin\\Documents\\FootfallCam\\sample.mp4: 480x640 2 clips, 35.9ms\n",
      "video 1/1 (frame 864/1341) c:\\Users\\Li Pin\\Documents\\FootfallCam\\sample.mp4: 480x640 2 clips, 34.8ms\n",
      "video 1/1 (frame 865/1341) c:\\Users\\Li Pin\\Documents\\FootfallCam\\sample.mp4: 480x640 2 clips, 33.3ms\n",
      "video 1/1 (frame 866/1341) c:\\Users\\Li Pin\\Documents\\FootfallCam\\sample.mp4: 480x640 (no detections), 27.4ms\n",
      "video 1/1 (frame 867/1341) c:\\Users\\Li Pin\\Documents\\FootfallCam\\sample.mp4: 480x640 (no detections), 33.1ms\n",
      "video 1/1 (frame 868/1341) c:\\Users\\Li Pin\\Documents\\FootfallCam\\sample.mp4: 480x640 (no detections), 33.4ms\n",
      "video 1/1 (frame 869/1341) c:\\Users\\Li Pin\\Documents\\FootfallCam\\sample.mp4: 480x640 (no detections), 34.3ms\n",
      "video 1/1 (frame 870/1341) c:\\Users\\Li Pin\\Documents\\FootfallCam\\sample.mp4: 480x640 (no detections), 33.7ms\n",
      "video 1/1 (frame 871/1341) c:\\Users\\Li Pin\\Documents\\FootfallCam\\sample.mp4: 480x640 (no detections), 33.6ms\n",
      "video 1/1 (frame 872/1341) c:\\Users\\Li Pin\\Documents\\FootfallCam\\sample.mp4: 480x640 (no detections), 33.4ms\n",
      "video 1/1 (frame 873/1341) c:\\Users\\Li Pin\\Documents\\FootfallCam\\sample.mp4: 480x640 (no detections), 33.7ms\n",
      "video 1/1 (frame 874/1341) c:\\Users\\Li Pin\\Documents\\FootfallCam\\sample.mp4: 480x640 (no detections), 34.9ms\n",
      "video 1/1 (frame 875/1341) c:\\Users\\Li Pin\\Documents\\FootfallCam\\sample.mp4: 480x640 (no detections), 36.5ms\n",
      "video 1/1 (frame 876/1341) c:\\Users\\Li Pin\\Documents\\FootfallCam\\sample.mp4: 480x640 (no detections), 33.8ms\n",
      "video 1/1 (frame 877/1341) c:\\Users\\Li Pin\\Documents\\FootfallCam\\sample.mp4: 480x640 (no detections), 33.4ms\n",
      "video 1/1 (frame 878/1341) c:\\Users\\Li Pin\\Documents\\FootfallCam\\sample.mp4: 480x640 (no detections), 33.9ms\n",
      "video 1/1 (frame 879/1341) c:\\Users\\Li Pin\\Documents\\FootfallCam\\sample.mp4: 480x640 (no detections), 36.0ms\n",
      "video 1/1 (frame 880/1341) c:\\Users\\Li Pin\\Documents\\FootfallCam\\sample.mp4: 480x640 (no detections), 33.9ms\n",
      "video 1/1 (frame 881/1341) c:\\Users\\Li Pin\\Documents\\FootfallCam\\sample.mp4: 480x640 (no detections), 36.0ms\n",
      "video 1/1 (frame 882/1341) c:\\Users\\Li Pin\\Documents\\FootfallCam\\sample.mp4: 480x640 (no detections), 34.6ms\n",
      "video 1/1 (frame 883/1341) c:\\Users\\Li Pin\\Documents\\FootfallCam\\sample.mp4: 480x640 (no detections), 31.0ms\n",
      "video 1/1 (frame 884/1341) c:\\Users\\Li Pin\\Documents\\FootfallCam\\sample.mp4: 480x640 (no detections), 34.0ms\n",
      "video 1/1 (frame 885/1341) c:\\Users\\Li Pin\\Documents\\FootfallCam\\sample.mp4: 480x640 (no detections), 34.7ms\n",
      "video 1/1 (frame 886/1341) c:\\Users\\Li Pin\\Documents\\FootfallCam\\sample.mp4: 480x640 (no detections), 34.7ms\n",
      "video 1/1 (frame 887/1341) c:\\Users\\Li Pin\\Documents\\FootfallCam\\sample.mp4: 480x640 (no detections), 30.0ms\n",
      "video 1/1 (frame 888/1341) c:\\Users\\Li Pin\\Documents\\FootfallCam\\sample.mp4: 480x640 (no detections), 34.3ms\n",
      "video 1/1 (frame 889/1341) c:\\Users\\Li Pin\\Documents\\FootfallCam\\sample.mp4: 480x640 (no detections), 36.2ms\n",
      "video 1/1 (frame 890/1341) c:\\Users\\Li Pin\\Documents\\FootfallCam\\sample.mp4: 480x640 (no detections), 29.1ms\n",
      "video 1/1 (frame 891/1341) c:\\Users\\Li Pin\\Documents\\FootfallCam\\sample.mp4: 480x640 1 clip, 35.6ms\n",
      "video 1/1 (frame 892/1341) c:\\Users\\Li Pin\\Documents\\FootfallCam\\sample.mp4: 480x640 1 clip, 33.4ms\n",
      "video 1/1 (frame 893/1341) c:\\Users\\Li Pin\\Documents\\FootfallCam\\sample.mp4: 480x640 1 clip, 32.0ms\n",
      "video 1/1 (frame 894/1341) c:\\Users\\Li Pin\\Documents\\FootfallCam\\sample.mp4: 480x640 1 clip, 28.3ms\n",
      "video 1/1 (frame 895/1341) c:\\Users\\Li Pin\\Documents\\FootfallCam\\sample.mp4: 480x640 1 clip, 34.7ms\n",
      "video 1/1 (frame 896/1341) c:\\Users\\Li Pin\\Documents\\FootfallCam\\sample.mp4: 480x640 2 clips, 34.8ms\n",
      "video 1/1 (frame 897/1341) c:\\Users\\Li Pin\\Documents\\FootfallCam\\sample.mp4: 480x640 1 clip, 34.9ms\n",
      "video 1/1 (frame 898/1341) c:\\Users\\Li Pin\\Documents\\FootfallCam\\sample.mp4: 480x640 1 clip, 33.7ms\n",
      "video 1/1 (frame 899/1341) c:\\Users\\Li Pin\\Documents\\FootfallCam\\sample.mp4: 480x640 1 clip, 34.8ms\n",
      "video 1/1 (frame 900/1341) c:\\Users\\Li Pin\\Documents\\FootfallCam\\sample.mp4: 480x640 1 clip, 34.6ms\n",
      "video 1/1 (frame 901/1341) c:\\Users\\Li Pin\\Documents\\FootfallCam\\sample.mp4: 480x640 1 clip, 36.4ms\n",
      "video 1/1 (frame 902/1341) c:\\Users\\Li Pin\\Documents\\FootfallCam\\sample.mp4: 480x640 1 clip, 28.7ms\n",
      "video 1/1 (frame 903/1341) c:\\Users\\Li Pin\\Documents\\FootfallCam\\sample.mp4: 480x640 1 clip, 35.5ms\n",
      "video 1/1 (frame 904/1341) c:\\Users\\Li Pin\\Documents\\FootfallCam\\sample.mp4: 480x640 2 clips, 35.3ms\n",
      "video 1/1 (frame 905/1341) c:\\Users\\Li Pin\\Documents\\FootfallCam\\sample.mp4: 480x640 1 clip, 32.6ms\n",
      "video 1/1 (frame 906/1341) c:\\Users\\Li Pin\\Documents\\FootfallCam\\sample.mp4: 480x640 2 clips, 32.5ms\n",
      "video 1/1 (frame 907/1341) c:\\Users\\Li Pin\\Documents\\FootfallCam\\sample.mp4: 480x640 (no detections), 32.8ms\n",
      "video 1/1 (frame 908/1341) c:\\Users\\Li Pin\\Documents\\FootfallCam\\sample.mp4: 480x640 (no detections), 33.7ms\n",
      "video 1/1 (frame 909/1341) c:\\Users\\Li Pin\\Documents\\FootfallCam\\sample.mp4: 480x640 (no detections), 34.3ms\n",
      "video 1/1 (frame 910/1341) c:\\Users\\Li Pin\\Documents\\FootfallCam\\sample.mp4: 480x640 (no detections), 35.4ms\n",
      "video 1/1 (frame 911/1341) c:\\Users\\Li Pin\\Documents\\FootfallCam\\sample.mp4: 480x640 (no detections), 34.8ms\n",
      "video 1/1 (frame 912/1341) c:\\Users\\Li Pin\\Documents\\FootfallCam\\sample.mp4: 480x640 (no detections), 29.6ms\n",
      "video 1/1 (frame 913/1341) c:\\Users\\Li Pin\\Documents\\FootfallCam\\sample.mp4: 480x640 (no detections), 34.4ms\n",
      "video 1/1 (frame 914/1341) c:\\Users\\Li Pin\\Documents\\FootfallCam\\sample.mp4: 480x640 (no detections), 32.8ms\n",
      "video 1/1 (frame 915/1341) c:\\Users\\Li Pin\\Documents\\FootfallCam\\sample.mp4: 480x640 (no detections), 33.9ms\n",
      "video 1/1 (frame 916/1341) c:\\Users\\Li Pin\\Documents\\FootfallCam\\sample.mp4: 480x640 (no detections), 32.4ms\n",
      "video 1/1 (frame 917/1341) c:\\Users\\Li Pin\\Documents\\FootfallCam\\sample.mp4: 480x640 (no detections), 35.0ms\n",
      "video 1/1 (frame 918/1341) c:\\Users\\Li Pin\\Documents\\FootfallCam\\sample.mp4: 480x640 (no detections), 29.1ms\n",
      "video 1/1 (frame 919/1341) c:\\Users\\Li Pin\\Documents\\FootfallCam\\sample.mp4: 480x640 (no detections), 34.6ms\n",
      "video 1/1 (frame 920/1341) c:\\Users\\Li Pin\\Documents\\FootfallCam\\sample.mp4: 480x640 (no detections), 32.5ms\n",
      "video 1/1 (frame 921/1341) c:\\Users\\Li Pin\\Documents\\FootfallCam\\sample.mp4: 480x640 (no detections), 32.9ms\n",
      "video 1/1 (frame 922/1341) c:\\Users\\Li Pin\\Documents\\FootfallCam\\sample.mp4: 480x640 (no detections), 31.7ms\n",
      "video 1/1 (frame 923/1341) c:\\Users\\Li Pin\\Documents\\FootfallCam\\sample.mp4: 480x640 (no detections), 32.3ms\n",
      "video 1/1 (frame 924/1341) c:\\Users\\Li Pin\\Documents\\FootfallCam\\sample.mp4: 480x640 (no detections), 28.4ms\n",
      "video 1/1 (frame 925/1341) c:\\Users\\Li Pin\\Documents\\FootfallCam\\sample.mp4: 480x640 (no detections), 32.9ms\n",
      "video 1/1 (frame 926/1341) c:\\Users\\Li Pin\\Documents\\FootfallCam\\sample.mp4: 480x640 (no detections), 32.3ms\n",
      "video 1/1 (frame 927/1341) c:\\Users\\Li Pin\\Documents\\FootfallCam\\sample.mp4: 480x640 1 clip, 32.1ms\n",
      "video 1/1 (frame 928/1341) c:\\Users\\Li Pin\\Documents\\FootfallCam\\sample.mp4: 480x640 1 clip, 34.5ms\n",
      "video 1/1 (frame 929/1341) c:\\Users\\Li Pin\\Documents\\FootfallCam\\sample.mp4: 480x640 1 clip, 33.4ms\n",
      "video 1/1 (frame 930/1341) c:\\Users\\Li Pin\\Documents\\FootfallCam\\sample.mp4: 480x640 2 clips, 32.0ms\n",
      "video 1/1 (frame 931/1341) c:\\Users\\Li Pin\\Documents\\FootfallCam\\sample.mp4: 480x640 2 clips, 34.4ms\n",
      "video 1/1 (frame 932/1341) c:\\Users\\Li Pin\\Documents\\FootfallCam\\sample.mp4: 480x640 2 clips, 34.3ms\n",
      "video 1/1 (frame 933/1341) c:\\Users\\Li Pin\\Documents\\FootfallCam\\sample.mp4: 480x640 2 clips, 32.0ms\n",
      "video 1/1 (frame 934/1341) c:\\Users\\Li Pin\\Documents\\FootfallCam\\sample.mp4: 480x640 1 clip, 33.1ms\n",
      "video 1/1 (frame 935/1341) c:\\Users\\Li Pin\\Documents\\FootfallCam\\sample.mp4: 480x640 2 clips, 34.8ms\n",
      "video 1/1 (frame 936/1341) c:\\Users\\Li Pin\\Documents\\FootfallCam\\sample.mp4: 480x640 1 clip, 33.6ms\n",
      "video 1/1 (frame 937/1341) c:\\Users\\Li Pin\\Documents\\FootfallCam\\sample.mp4: 480x640 2 clips, 33.5ms\n",
      "video 1/1 (frame 938/1341) c:\\Users\\Li Pin\\Documents\\FootfallCam\\sample.mp4: 480x640 1 clip, 36.2ms\n",
      "video 1/1 (frame 939/1341) c:\\Users\\Li Pin\\Documents\\FootfallCam\\sample.mp4: 480x640 1 clip, 36.3ms\n",
      "video 1/1 (frame 940/1341) c:\\Users\\Li Pin\\Documents\\FootfallCam\\sample.mp4: 480x640 1 clip, 34.9ms\n",
      "video 1/1 (frame 941/1341) c:\\Users\\Li Pin\\Documents\\FootfallCam\\sample.mp4: 480x640 2 clips, 34.7ms\n",
      "video 1/1 (frame 942/1341) c:\\Users\\Li Pin\\Documents\\FootfallCam\\sample.mp4: 480x640 1 clip, 34.3ms\n",
      "video 1/1 (frame 943/1341) c:\\Users\\Li Pin\\Documents\\FootfallCam\\sample.mp4: 480x640 1 clip, 34.6ms\n",
      "video 1/1 (frame 944/1341) c:\\Users\\Li Pin\\Documents\\FootfallCam\\sample.mp4: 480x640 1 clip, 34.6ms\n",
      "video 1/1 (frame 945/1341) c:\\Users\\Li Pin\\Documents\\FootfallCam\\sample.mp4: 480x640 1 clip, 33.8ms\n",
      "video 1/1 (frame 946/1341) c:\\Users\\Li Pin\\Documents\\FootfallCam\\sample.mp4: 480x640 (no detections), 33.7ms\n",
      "video 1/1 (frame 947/1341) c:\\Users\\Li Pin\\Documents\\FootfallCam\\sample.mp4: 480x640 (no detections), 34.5ms\n",
      "video 1/1 (frame 948/1341) c:\\Users\\Li Pin\\Documents\\FootfallCam\\sample.mp4: 480x640 (no detections), 34.0ms\n",
      "video 1/1 (frame 949/1341) c:\\Users\\Li Pin\\Documents\\FootfallCam\\sample.mp4: 480x640 (no detections), 35.1ms\n",
      "video 1/1 (frame 950/1341) c:\\Users\\Li Pin\\Documents\\FootfallCam\\sample.mp4: 480x640 (no detections), 34.5ms\n",
      "video 1/1 (frame 951/1341) c:\\Users\\Li Pin\\Documents\\FootfallCam\\sample.mp4: 480x640 (no detections), 34.9ms\n",
      "video 1/1 (frame 952/1341) c:\\Users\\Li Pin\\Documents\\FootfallCam\\sample.mp4: 480x640 (no detections), 34.0ms\n",
      "video 1/1 (frame 953/1341) c:\\Users\\Li Pin\\Documents\\FootfallCam\\sample.mp4: 480x640 (no detections), 34.7ms\n",
      "video 1/1 (frame 954/1341) c:\\Users\\Li Pin\\Documents\\FootfallCam\\sample.mp4: 480x640 (no detections), 33.1ms\n",
      "video 1/1 (frame 955/1341) c:\\Users\\Li Pin\\Documents\\FootfallCam\\sample.mp4: 480x640 (no detections), 34.5ms\n",
      "video 1/1 (frame 956/1341) c:\\Users\\Li Pin\\Documents\\FootfallCam\\sample.mp4: 480x640 (no detections), 34.6ms\n",
      "video 1/1 (frame 957/1341) c:\\Users\\Li Pin\\Documents\\FootfallCam\\sample.mp4: 480x640 (no detections), 34.7ms\n",
      "video 1/1 (frame 958/1341) c:\\Users\\Li Pin\\Documents\\FootfallCam\\sample.mp4: 480x640 (no detections), 34.7ms\n",
      "video 1/1 (frame 959/1341) c:\\Users\\Li Pin\\Documents\\FootfallCam\\sample.mp4: 480x640 (no detections), 35.9ms\n",
      "video 1/1 (frame 960/1341) c:\\Users\\Li Pin\\Documents\\FootfallCam\\sample.mp4: 480x640 (no detections), 34.8ms\n",
      "video 1/1 (frame 961/1341) c:\\Users\\Li Pin\\Documents\\FootfallCam\\sample.mp4: 480x640 (no detections), 34.3ms\n",
      "video 1/1 (frame 962/1341) c:\\Users\\Li Pin\\Documents\\FootfallCam\\sample.mp4: 480x640 (no detections), 29.9ms\n",
      "video 1/1 (frame 963/1341) c:\\Users\\Li Pin\\Documents\\FootfallCam\\sample.mp4: 480x640 (no detections), 35.0ms\n",
      "video 1/1 (frame 964/1341) c:\\Users\\Li Pin\\Documents\\FootfallCam\\sample.mp4: 480x640 (no detections), 34.8ms\n",
      "video 1/1 (frame 965/1341) c:\\Users\\Li Pin\\Documents\\FootfallCam\\sample.mp4: 480x640 (no detections), 34.4ms\n",
      "video 1/1 (frame 966/1341) c:\\Users\\Li Pin\\Documents\\FootfallCam\\sample.mp4: 480x640 (no detections), 33.1ms\n",
      "video 1/1 (frame 967/1341) c:\\Users\\Li Pin\\Documents\\FootfallCam\\sample.mp4: 480x640 (no detections), 34.8ms\n",
      "video 1/1 (frame 968/1341) c:\\Users\\Li Pin\\Documents\\FootfallCam\\sample.mp4: 480x640 (no detections), 31.0ms\n",
      "video 1/1 (frame 969/1341) c:\\Users\\Li Pin\\Documents\\FootfallCam\\sample.mp4: 480x640 1 clip, 34.0ms\n",
      "video 1/1 (frame 970/1341) c:\\Users\\Li Pin\\Documents\\FootfallCam\\sample.mp4: 480x640 2 clips, 34.6ms\n",
      "video 1/1 (frame 971/1341) c:\\Users\\Li Pin\\Documents\\FootfallCam\\sample.mp4: 480x640 2 clips, 34.5ms\n",
      "video 1/1 (frame 972/1341) c:\\Users\\Li Pin\\Documents\\FootfallCam\\sample.mp4: 480x640 1 clip, 35.1ms\n",
      "video 1/1 (frame 973/1341) c:\\Users\\Li Pin\\Documents\\FootfallCam\\sample.mp4: 480x640 1 clip, 30.5ms\n",
      "video 1/1 (frame 974/1341) c:\\Users\\Li Pin\\Documents\\FootfallCam\\sample.mp4: 480x640 2 clips, 34.4ms\n",
      "video 1/1 (frame 975/1341) c:\\Users\\Li Pin\\Documents\\FootfallCam\\sample.mp4: 480x640 2 clips, 34.0ms\n",
      "video 1/1 (frame 976/1341) c:\\Users\\Li Pin\\Documents\\FootfallCam\\sample.mp4: 480x640 1 clip, 34.2ms\n",
      "video 1/1 (frame 977/1341) c:\\Users\\Li Pin\\Documents\\FootfallCam\\sample.mp4: 480x640 1 clip, 34.5ms\n",
      "video 1/1 (frame 978/1341) c:\\Users\\Li Pin\\Documents\\FootfallCam\\sample.mp4: 480x640 1 clip, 34.8ms\n",
      "video 1/1 (frame 979/1341) c:\\Users\\Li Pin\\Documents\\FootfallCam\\sample.mp4: 480x640 1 clip, 32.5ms\n",
      "video 1/1 (frame 980/1341) c:\\Users\\Li Pin\\Documents\\FootfallCam\\sample.mp4: 480x640 1 clip, 33.1ms\n",
      "video 1/1 (frame 981/1341) c:\\Users\\Li Pin\\Documents\\FootfallCam\\sample.mp4: 480x640 1 clip, 32.3ms\n",
      "video 1/1 (frame 982/1341) c:\\Users\\Li Pin\\Documents\\FootfallCam\\sample.mp4: 480x640 2 clips, 33.3ms\n",
      "video 1/1 (frame 983/1341) c:\\Users\\Li Pin\\Documents\\FootfallCam\\sample.mp4: 480x640 1 clip, 33.6ms\n",
      "video 1/1 (frame 984/1341) c:\\Users\\Li Pin\\Documents\\FootfallCam\\sample.mp4: 480x640 1 clip, 32.8ms\n",
      "video 1/1 (frame 985/1341) c:\\Users\\Li Pin\\Documents\\FootfallCam\\sample.mp4: 480x640 1 clip, 32.8ms\n",
      "video 1/1 (frame 986/1341) c:\\Users\\Li Pin\\Documents\\FootfallCam\\sample.mp4: 480x640 (no detections), 30.2ms\n",
      "video 1/1 (frame 987/1341) c:\\Users\\Li Pin\\Documents\\FootfallCam\\sample.mp4: 480x640 (no detections), 34.2ms\n",
      "video 1/1 (frame 988/1341) c:\\Users\\Li Pin\\Documents\\FootfallCam\\sample.mp4: 480x640 (no detections), 32.9ms\n",
      "video 1/1 (frame 989/1341) c:\\Users\\Li Pin\\Documents\\FootfallCam\\sample.mp4: 480x640 (no detections), 33.1ms\n",
      "video 1/1 (frame 990/1341) c:\\Users\\Li Pin\\Documents\\FootfallCam\\sample.mp4: 480x640 (no detections), 35.4ms\n",
      "video 1/1 (frame 991/1341) c:\\Users\\Li Pin\\Documents\\FootfallCam\\sample.mp4: 480x640 (no detections), 33.2ms\n",
      "video 1/1 (frame 992/1341) c:\\Users\\Li Pin\\Documents\\FootfallCam\\sample.mp4: 480x640 (no detections), 34.2ms\n",
      "video 1/1 (frame 993/1341) c:\\Users\\Li Pin\\Documents\\FootfallCam\\sample.mp4: 480x640 (no detections), 34.8ms\n",
      "video 1/1 (frame 994/1341) c:\\Users\\Li Pin\\Documents\\FootfallCam\\sample.mp4: 480x640 (no detections), 33.0ms\n",
      "video 1/1 (frame 995/1341) c:\\Users\\Li Pin\\Documents\\FootfallCam\\sample.mp4: 480x640 (no detections), 32.7ms\n",
      "video 1/1 (frame 996/1341) c:\\Users\\Li Pin\\Documents\\FootfallCam\\sample.mp4: 480x640 (no detections), 36.2ms\n",
      "video 1/1 (frame 997/1341) c:\\Users\\Li Pin\\Documents\\FootfallCam\\sample.mp4: 480x640 (no detections), 35.9ms\n",
      "video 1/1 (frame 998/1341) c:\\Users\\Li Pin\\Documents\\FootfallCam\\sample.mp4: 480x640 (no detections), 32.6ms\n",
      "video 1/1 (frame 999/1341) c:\\Users\\Li Pin\\Documents\\FootfallCam\\sample.mp4: 480x640 (no detections), 35.3ms\n",
      "video 1/1 (frame 1000/1341) c:\\Users\\Li Pin\\Documents\\FootfallCam\\sample.mp4: 480x640 (no detections), 33.1ms\n",
      "video 1/1 (frame 1001/1341) c:\\Users\\Li Pin\\Documents\\FootfallCam\\sample.mp4: 480x640 (no detections), 33.1ms\n",
      "video 1/1 (frame 1002/1341) c:\\Users\\Li Pin\\Documents\\FootfallCam\\sample.mp4: 480x640 (no detections), 35.1ms\n",
      "video 1/1 (frame 1003/1341) c:\\Users\\Li Pin\\Documents\\FootfallCam\\sample.mp4: 480x640 (no detections), 32.4ms\n",
      "video 1/1 (frame 1004/1341) c:\\Users\\Li Pin\\Documents\\FootfallCam\\sample.mp4: 480x640 (no detections), 32.9ms\n",
      "video 1/1 (frame 1005/1341) c:\\Users\\Li Pin\\Documents\\FootfallCam\\sample.mp4: 480x640 (no detections), 34.9ms\n",
      "video 1/1 (frame 1006/1341) c:\\Users\\Li Pin\\Documents\\FootfallCam\\sample.mp4: 480x640 (no detections), 32.8ms\n",
      "video 1/1 (frame 1007/1341) c:\\Users\\Li Pin\\Documents\\FootfallCam\\sample.mp4: 480x640 (no detections), 33.9ms\n",
      "video 1/1 (frame 1008/1341) c:\\Users\\Li Pin\\Documents\\FootfallCam\\sample.mp4: 480x640 (no detections), 33.8ms\n",
      "video 1/1 (frame 1009/1341) c:\\Users\\Li Pin\\Documents\\FootfallCam\\sample.mp4: 480x640 (no detections), 33.5ms\n",
      "video 1/1 (frame 1010/1341) c:\\Users\\Li Pin\\Documents\\FootfallCam\\sample.mp4: 480x640 (no detections), 29.1ms\n",
      "video 1/1 (frame 1011/1341) c:\\Users\\Li Pin\\Documents\\FootfallCam\\sample.mp4: 480x640 (no detections), 33.0ms\n",
      "video 1/1 (frame 1012/1341) c:\\Users\\Li Pin\\Documents\\FootfallCam\\sample.mp4: 480x640 1 clip, 32.5ms\n",
      "video 1/1 (frame 1013/1341) c:\\Users\\Li Pin\\Documents\\FootfallCam\\sample.mp4: 480x640 1 clip, 33.7ms\n",
      "video 1/1 (frame 1014/1341) c:\\Users\\Li Pin\\Documents\\FootfallCam\\sample.mp4: 480x640 1 clip, 33.9ms\n",
      "video 1/1 (frame 1015/1341) c:\\Users\\Li Pin\\Documents\\FootfallCam\\sample.mp4: 480x640 2 clips, 32.6ms\n",
      "video 1/1 (frame 1016/1341) c:\\Users\\Li Pin\\Documents\\FootfallCam\\sample.mp4: 480x640 1 clip, 32.2ms\n",
      "video 1/1 (frame 1017/1341) c:\\Users\\Li Pin\\Documents\\FootfallCam\\sample.mp4: 480x640 1 clip, 26.1ms\n",
      "video 1/1 (frame 1018/1341) c:\\Users\\Li Pin\\Documents\\FootfallCam\\sample.mp4: 480x640 2 clips, 32.6ms\n",
      "video 1/1 (frame 1019/1341) c:\\Users\\Li Pin\\Documents\\FootfallCam\\sample.mp4: 480x640 2 clips, 32.3ms\n",
      "video 1/1 (frame 1020/1341) c:\\Users\\Li Pin\\Documents\\FootfallCam\\sample.mp4: 480x640 2 clips, 33.3ms\n",
      "video 1/1 (frame 1021/1341) c:\\Users\\Li Pin\\Documents\\FootfallCam\\sample.mp4: 480x640 2 clips, 35.1ms\n",
      "video 1/1 (frame 1022/1341) c:\\Users\\Li Pin\\Documents\\FootfallCam\\sample.mp4: 480x640 2 clips, 32.5ms\n",
      "video 1/1 (frame 1023/1341) c:\\Users\\Li Pin\\Documents\\FootfallCam\\sample.mp4: 480x640 1 clip, 34.9ms\n",
      "video 1/1 (frame 1024/1341) c:\\Users\\Li Pin\\Documents\\FootfallCam\\sample.mp4: 480x640 2 clips, 32.2ms\n",
      "video 1/1 (frame 1025/1341) c:\\Users\\Li Pin\\Documents\\FootfallCam\\sample.mp4: 480x640 1 clip, 33.5ms\n",
      "video 1/1 (frame 1026/1341) c:\\Users\\Li Pin\\Documents\\FootfallCam\\sample.mp4: 480x640 2 clips, 33.0ms\n",
      "video 1/1 (frame 1027/1341) c:\\Users\\Li Pin\\Documents\\FootfallCam\\sample.mp4: 480x640 1 clip, 35.0ms\n",
      "video 1/1 (frame 1028/1341) c:\\Users\\Li Pin\\Documents\\FootfallCam\\sample.mp4: 480x640 2 clips, 33.8ms\n",
      "video 1/1 (frame 1029/1341) c:\\Users\\Li Pin\\Documents\\FootfallCam\\sample.mp4: 480x640 1 clip, 33.4ms\n",
      "video 1/1 (frame 1030/1341) c:\\Users\\Li Pin\\Documents\\FootfallCam\\sample.mp4: 480x640 1 clip, 32.2ms\n",
      "video 1/1 (frame 1031/1341) c:\\Users\\Li Pin\\Documents\\FootfallCam\\sample.mp4: 480x640 1 clip, 35.1ms\n",
      "video 1/1 (frame 1032/1341) c:\\Users\\Li Pin\\Documents\\FootfallCam\\sample.mp4: 480x640 (no detections), 32.6ms\n",
      "video 1/1 (frame 1033/1341) c:\\Users\\Li Pin\\Documents\\FootfallCam\\sample.mp4: 480x640 (no detections), 32.4ms\n",
      "video 1/1 (frame 1034/1341) c:\\Users\\Li Pin\\Documents\\FootfallCam\\sample.mp4: 480x640 (no detections), 32.0ms\n",
      "video 1/1 (frame 1035/1341) c:\\Users\\Li Pin\\Documents\\FootfallCam\\sample.mp4: 480x640 (no detections), 33.5ms\n",
      "video 1/1 (frame 1036/1341) c:\\Users\\Li Pin\\Documents\\FootfallCam\\sample.mp4: 480x640 (no detections), 32.8ms\n",
      "video 1/1 (frame 1037/1341) c:\\Users\\Li Pin\\Documents\\FootfallCam\\sample.mp4: 480x640 (no detections), 32.4ms\n",
      "video 1/1 (frame 1038/1341) c:\\Users\\Li Pin\\Documents\\FootfallCam\\sample.mp4: 480x640 (no detections), 34.0ms\n",
      "video 1/1 (frame 1039/1341) c:\\Users\\Li Pin\\Documents\\FootfallCam\\sample.mp4: 480x640 (no detections), 35.0ms\n",
      "video 1/1 (frame 1040/1341) c:\\Users\\Li Pin\\Documents\\FootfallCam\\sample.mp4: 480x640 (no detections), 35.6ms\n",
      "video 1/1 (frame 1041/1341) c:\\Users\\Li Pin\\Documents\\FootfallCam\\sample.mp4: 480x640 (no detections), 32.7ms\n",
      "video 1/1 (frame 1042/1341) c:\\Users\\Li Pin\\Documents\\FootfallCam\\sample.mp4: 480x640 (no detections), 32.6ms\n",
      "video 1/1 (frame 1043/1341) c:\\Users\\Li Pin\\Documents\\FootfallCam\\sample.mp4: 480x640 (no detections), 32.4ms\n",
      "video 1/1 (frame 1044/1341) c:\\Users\\Li Pin\\Documents\\FootfallCam\\sample.mp4: 480x640 (no detections), 30.9ms\n",
      "video 1/1 (frame 1045/1341) c:\\Users\\Li Pin\\Documents\\FootfallCam\\sample.mp4: 480x640 (no detections), 32.0ms\n",
      "video 1/1 (frame 1046/1341) c:\\Users\\Li Pin\\Documents\\FootfallCam\\sample.mp4: 480x640 (no detections), 35.0ms\n",
      "video 1/1 (frame 1047/1341) c:\\Users\\Li Pin\\Documents\\FootfallCam\\sample.mp4: 480x640 (no detections), 32.8ms\n",
      "video 1/1 (frame 1048/1341) c:\\Users\\Li Pin\\Documents\\FootfallCam\\sample.mp4: 480x640 (no detections), 32.5ms\n",
      "video 1/1 (frame 1049/1341) c:\\Users\\Li Pin\\Documents\\FootfallCam\\sample.mp4: 480x640 (no detections), 33.1ms\n",
      "video 1/1 (frame 1050/1341) c:\\Users\\Li Pin\\Documents\\FootfallCam\\sample.mp4: 480x640 (no detections), 35.2ms\n",
      "video 1/1 (frame 1051/1341) c:\\Users\\Li Pin\\Documents\\FootfallCam\\sample.mp4: 480x640 (no detections), 35.1ms\n",
      "video 1/1 (frame 1052/1341) c:\\Users\\Li Pin\\Documents\\FootfallCam\\sample.mp4: 480x640 (no detections), 35.3ms\n",
      "video 1/1 (frame 1053/1341) c:\\Users\\Li Pin\\Documents\\FootfallCam\\sample.mp4: 480x640 (no detections), 32.1ms\n",
      "video 1/1 (frame 1054/1341) c:\\Users\\Li Pin\\Documents\\FootfallCam\\sample.mp4: 480x640 (no detections), 33.5ms\n",
      "video 1/1 (frame 1055/1341) c:\\Users\\Li Pin\\Documents\\FootfallCam\\sample.mp4: 480x640 (no detections), 33.7ms\n",
      "video 1/1 (frame 1056/1341) c:\\Users\\Li Pin\\Documents\\FootfallCam\\sample.mp4: 480x640 (no detections), 33.2ms\n",
      "video 1/1 (frame 1057/1341) c:\\Users\\Li Pin\\Documents\\FootfallCam\\sample.mp4: 480x640 (no detections), 34.8ms\n",
      "video 1/1 (frame 1058/1341) c:\\Users\\Li Pin\\Documents\\FootfallCam\\sample.mp4: 480x640 1 clip, 32.7ms\n",
      "video 1/1 (frame 1059/1341) c:\\Users\\Li Pin\\Documents\\FootfallCam\\sample.mp4: 480x640 (no detections), 33.2ms\n",
      "video 1/1 (frame 1060/1341) c:\\Users\\Li Pin\\Documents\\FootfallCam\\sample.mp4: 480x640 1 clip, 35.0ms\n",
      "video 1/1 (frame 1061/1341) c:\\Users\\Li Pin\\Documents\\FootfallCam\\sample.mp4: 480x640 1 clip, 33.3ms\n",
      "video 1/1 (frame 1062/1341) c:\\Users\\Li Pin\\Documents\\FootfallCam\\sample.mp4: 480x640 1 clip, 32.2ms\n",
      "video 1/1 (frame 1063/1341) c:\\Users\\Li Pin\\Documents\\FootfallCam\\sample.mp4: 480x640 1 clip, 33.3ms\n",
      "video 1/1 (frame 1064/1341) c:\\Users\\Li Pin\\Documents\\FootfallCam\\sample.mp4: 480x640 1 clip, 34.5ms\n",
      "video 1/1 (frame 1065/1341) c:\\Users\\Li Pin\\Documents\\FootfallCam\\sample.mp4: 480x640 1 clip, 32.4ms\n",
      "video 1/1 (frame 1066/1341) c:\\Users\\Li Pin\\Documents\\FootfallCam\\sample.mp4: 480x640 2 clips, 35.1ms\n",
      "video 1/1 (frame 1067/1341) c:\\Users\\Li Pin\\Documents\\FootfallCam\\sample.mp4: 480x640 2 clips, 32.3ms\n",
      "video 1/1 (frame 1068/1341) c:\\Users\\Li Pin\\Documents\\FootfallCam\\sample.mp4: 480x640 2 clips, 32.8ms\n",
      "video 1/1 (frame 1069/1341) c:\\Users\\Li Pin\\Documents\\FootfallCam\\sample.mp4: 480x640 2 clips, 32.7ms\n",
      "video 1/1 (frame 1070/1341) c:\\Users\\Li Pin\\Documents\\FootfallCam\\sample.mp4: 480x640 1 clip, 33.2ms\n",
      "video 1/1 (frame 1071/1341) c:\\Users\\Li Pin\\Documents\\FootfallCam\\sample.mp4: 480x640 1 clip, 32.5ms\n",
      "video 1/1 (frame 1072/1341) c:\\Users\\Li Pin\\Documents\\FootfallCam\\sample.mp4: 480x640 2 clips, 33.0ms\n",
      "video 1/1 (frame 1073/1341) c:\\Users\\Li Pin\\Documents\\FootfallCam\\sample.mp4: 480x640 1 clip, 35.0ms\n",
      "video 1/1 (frame 1074/1341) c:\\Users\\Li Pin\\Documents\\FootfallCam\\sample.mp4: 480x640 (no detections), 32.3ms\n",
      "video 1/1 (frame 1075/1341) c:\\Users\\Li Pin\\Documents\\FootfallCam\\sample.mp4: 480x640 (no detections), 34.3ms\n",
      "video 1/1 (frame 1076/1341) c:\\Users\\Li Pin\\Documents\\FootfallCam\\sample.mp4: 480x640 (no detections), 35.2ms\n",
      "video 1/1 (frame 1077/1341) c:\\Users\\Li Pin\\Documents\\FootfallCam\\sample.mp4: 480x640 (no detections), 34.1ms\n",
      "video 1/1 (frame 1078/1341) c:\\Users\\Li Pin\\Documents\\FootfallCam\\sample.mp4: 480x640 (no detections), 31.6ms\n",
      "video 1/1 (frame 1079/1341) c:\\Users\\Li Pin\\Documents\\FootfallCam\\sample.mp4: 480x640 (no detections), 34.4ms\n",
      "video 1/1 (frame 1080/1341) c:\\Users\\Li Pin\\Documents\\FootfallCam\\sample.mp4: 480x640 (no detections), 32.5ms\n",
      "video 1/1 (frame 1081/1341) c:\\Users\\Li Pin\\Documents\\FootfallCam\\sample.mp4: 480x640 (no detections), 33.9ms\n",
      "video 1/1 (frame 1082/1341) c:\\Users\\Li Pin\\Documents\\FootfallCam\\sample.mp4: 480x640 (no detections), 29.1ms\n",
      "video 1/1 (frame 1083/1341) c:\\Users\\Li Pin\\Documents\\FootfallCam\\sample.mp4: 480x640 (no detections), 34.3ms\n",
      "video 1/1 (frame 1084/1341) c:\\Users\\Li Pin\\Documents\\FootfallCam\\sample.mp4: 480x640 (no detections), 34.7ms\n",
      "video 1/1 (frame 1085/1341) c:\\Users\\Li Pin\\Documents\\FootfallCam\\sample.mp4: 480x640 (no detections), 31.3ms\n",
      "video 1/1 (frame 1086/1341) c:\\Users\\Li Pin\\Documents\\FootfallCam\\sample.mp4: 480x640 (no detections), 31.7ms\n",
      "video 1/1 (frame 1087/1341) c:\\Users\\Li Pin\\Documents\\FootfallCam\\sample.mp4: 480x640 (no detections), 34.9ms\n",
      "video 1/1 (frame 1088/1341) c:\\Users\\Li Pin\\Documents\\FootfallCam\\sample.mp4: 480x640 (no detections), 31.9ms\n",
      "video 1/1 (frame 1089/1341) c:\\Users\\Li Pin\\Documents\\FootfallCam\\sample.mp4: 480x640 (no detections), 33.4ms\n",
      "video 1/1 (frame 1090/1341) c:\\Users\\Li Pin\\Documents\\FootfallCam\\sample.mp4: 480x640 (no detections), 33.1ms\n",
      "video 1/1 (frame 1091/1341) c:\\Users\\Li Pin\\Documents\\FootfallCam\\sample.mp4: 480x640 (no detections), 32.0ms\n",
      "video 1/1 (frame 1092/1341) c:\\Users\\Li Pin\\Documents\\FootfallCam\\sample.mp4: 480x640 (no detections), 33.1ms\n",
      "video 1/1 (frame 1093/1341) c:\\Users\\Li Pin\\Documents\\FootfallCam\\sample.mp4: 480x640 (no detections), 31.7ms\n",
      "video 1/1 (frame 1094/1341) c:\\Users\\Li Pin\\Documents\\FootfallCam\\sample.mp4: 480x640 (no detections), 34.5ms\n",
      "video 1/1 (frame 1095/1341) c:\\Users\\Li Pin\\Documents\\FootfallCam\\sample.mp4: 480x640 (no detections), 28.8ms\n",
      "video 1/1 (frame 1096/1341) c:\\Users\\Li Pin\\Documents\\FootfallCam\\sample.mp4: 480x640 (no detections), 33.2ms\n",
      "video 1/1 (frame 1097/1341) c:\\Users\\Li Pin\\Documents\\FootfallCam\\sample.mp4: 480x640 (no detections), 31.7ms\n",
      "video 1/1 (frame 1098/1341) c:\\Users\\Li Pin\\Documents\\FootfallCam\\sample.mp4: 480x640 (no detections), 32.0ms\n",
      "video 1/1 (frame 1099/1341) c:\\Users\\Li Pin\\Documents\\FootfallCam\\sample.mp4: 480x640 (no detections), 32.9ms\n",
      "video 1/1 (frame 1100/1341) c:\\Users\\Li Pin\\Documents\\FootfallCam\\sample.mp4: 480x640 (no detections), 34.5ms\n",
      "video 1/1 (frame 1101/1341) c:\\Users\\Li Pin\\Documents\\FootfallCam\\sample.mp4: 480x640 (no detections), 34.4ms\n",
      "video 1/1 (frame 1102/1341) c:\\Users\\Li Pin\\Documents\\FootfallCam\\sample.mp4: 480x640 (no detections), 32.0ms\n",
      "video 1/1 (frame 1103/1341) c:\\Users\\Li Pin\\Documents\\FootfallCam\\sample.mp4: 480x640 (no detections), 34.5ms\n",
      "video 1/1 (frame 1104/1341) c:\\Users\\Li Pin\\Documents\\FootfallCam\\sample.mp4: 480x640 (no detections), 32.3ms\n",
      "video 1/1 (frame 1105/1341) c:\\Users\\Li Pin\\Documents\\FootfallCam\\sample.mp4: 480x640 (no detections), 35.2ms\n",
      "video 1/1 (frame 1106/1341) c:\\Users\\Li Pin\\Documents\\FootfallCam\\sample.mp4: 480x640 1 clip, 33.8ms\n",
      "video 1/1 (frame 1107/1341) c:\\Users\\Li Pin\\Documents\\FootfallCam\\sample.mp4: 480x640 1 clip, 32.6ms\n",
      "video 1/1 (frame 1108/1341) c:\\Users\\Li Pin\\Documents\\FootfallCam\\sample.mp4: 480x640 1 clip, 35.0ms\n",
      "video 1/1 (frame 1109/1341) c:\\Users\\Li Pin\\Documents\\FootfallCam\\sample.mp4: 480x640 1 clip, 31.1ms\n",
      "video 1/1 (frame 1110/1341) c:\\Users\\Li Pin\\Documents\\FootfallCam\\sample.mp4: 480x640 (no detections), 28.2ms\n",
      "video 1/1 (frame 1111/1341) c:\\Users\\Li Pin\\Documents\\FootfallCam\\sample.mp4: 480x640 1 clip, 32.7ms\n",
      "video 1/1 (frame 1112/1341) c:\\Users\\Li Pin\\Documents\\FootfallCam\\sample.mp4: 480x640 (no detections), 32.3ms\n",
      "video 1/1 (frame 1113/1341) c:\\Users\\Li Pin\\Documents\\FootfallCam\\sample.mp4: 480x640 1 clip, 34.7ms\n",
      "video 1/1 (frame 1114/1341) c:\\Users\\Li Pin\\Documents\\FootfallCam\\sample.mp4: 480x640 1 clip, 34.5ms\n",
      "video 1/1 (frame 1115/1341) c:\\Users\\Li Pin\\Documents\\FootfallCam\\sample.mp4: 480x640 (no detections), 32.1ms\n",
      "video 1/1 (frame 1116/1341) c:\\Users\\Li Pin\\Documents\\FootfallCam\\sample.mp4: 480x640 1 clip, 35.2ms\n",
      "video 1/1 (frame 1117/1341) c:\\Users\\Li Pin\\Documents\\FootfallCam\\sample.mp4: 480x640 2 clips, 34.9ms\n",
      "video 1/1 (frame 1118/1341) c:\\Users\\Li Pin\\Documents\\FootfallCam\\sample.mp4: 480x640 2 clips, 32.9ms\n",
      "video 1/1 (frame 1119/1341) c:\\Users\\Li Pin\\Documents\\FootfallCam\\sample.mp4: 480x640 2 clips, 35.6ms\n",
      "video 1/1 (frame 1120/1341) c:\\Users\\Li Pin\\Documents\\FootfallCam\\sample.mp4: 480x640 1 clip, 36.5ms\n",
      "video 1/1 (frame 1121/1341) c:\\Users\\Li Pin\\Documents\\FootfallCam\\sample.mp4: 480x640 1 clip, 28.8ms\n",
      "video 1/1 (frame 1122/1341) c:\\Users\\Li Pin\\Documents\\FootfallCam\\sample.mp4: 480x640 1 clip, 25.2ms\n",
      "video 1/1 (frame 1123/1341) c:\\Users\\Li Pin\\Documents\\FootfallCam\\sample.mp4: 480x640 1 clip, 33.9ms\n",
      "video 1/1 (frame 1124/1341) c:\\Users\\Li Pin\\Documents\\FootfallCam\\sample.mp4: 480x640 1 clip, 33.2ms\n",
      "video 1/1 (frame 1125/1341) c:\\Users\\Li Pin\\Documents\\FootfallCam\\sample.mp4: 480x640 (no detections), 33.0ms\n",
      "video 1/1 (frame 1126/1341) c:\\Users\\Li Pin\\Documents\\FootfallCam\\sample.mp4: 480x640 (no detections), 32.9ms\n",
      "video 1/1 (frame 1127/1341) c:\\Users\\Li Pin\\Documents\\FootfallCam\\sample.mp4: 480x640 (no detections), 35.7ms\n",
      "video 1/1 (frame 1128/1341) c:\\Users\\Li Pin\\Documents\\FootfallCam\\sample.mp4: 480x640 (no detections), 32.9ms\n",
      "video 1/1 (frame 1129/1341) c:\\Users\\Li Pin\\Documents\\FootfallCam\\sample.mp4: 480x640 (no detections), 34.0ms\n",
      "video 1/1 (frame 1130/1341) c:\\Users\\Li Pin\\Documents\\FootfallCam\\sample.mp4: 480x640 (no detections), 33.3ms\n",
      "video 1/1 (frame 1131/1341) c:\\Users\\Li Pin\\Documents\\FootfallCam\\sample.mp4: 480x640 (no detections), 33.2ms\n",
      "video 1/1 (frame 1132/1341) c:\\Users\\Li Pin\\Documents\\FootfallCam\\sample.mp4: 480x640 (no detections), 35.2ms\n",
      "video 1/1 (frame 1133/1341) c:\\Users\\Li Pin\\Documents\\FootfallCam\\sample.mp4: 480x640 (no detections), 32.6ms\n",
      "video 1/1 (frame 1134/1341) c:\\Users\\Li Pin\\Documents\\FootfallCam\\sample.mp4: 480x640 (no detections), 35.1ms\n",
      "video 1/1 (frame 1135/1341) c:\\Users\\Li Pin\\Documents\\FootfallCam\\sample.mp4: 480x640 (no detections), 34.7ms\n",
      "video 1/1 (frame 1136/1341) c:\\Users\\Li Pin\\Documents\\FootfallCam\\sample.mp4: 480x640 (no detections), 35.0ms\n",
      "video 1/1 (frame 1137/1341) c:\\Users\\Li Pin\\Documents\\FootfallCam\\sample.mp4: 480x640 (no detections), 34.7ms\n",
      "video 1/1 (frame 1138/1341) c:\\Users\\Li Pin\\Documents\\FootfallCam\\sample.mp4: 480x640 (no detections), 34.9ms\n",
      "video 1/1 (frame 1139/1341) c:\\Users\\Li Pin\\Documents\\FootfallCam\\sample.mp4: 480x640 (no detections), 34.5ms\n",
      "video 1/1 (frame 1140/1341) c:\\Users\\Li Pin\\Documents\\FootfallCam\\sample.mp4: 480x640 (no detections), 36.2ms\n",
      "video 1/1 (frame 1141/1341) c:\\Users\\Li Pin\\Documents\\FootfallCam\\sample.mp4: 480x640 (no detections), 34.8ms\n",
      "video 1/1 (frame 1142/1341) c:\\Users\\Li Pin\\Documents\\FootfallCam\\sample.mp4: 480x640 (no detections), 33.3ms\n",
      "video 1/1 (frame 1143/1341) c:\\Users\\Li Pin\\Documents\\FootfallCam\\sample.mp4: 480x640 (no detections), 34.6ms\n",
      "video 1/1 (frame 1144/1341) c:\\Users\\Li Pin\\Documents\\FootfallCam\\sample.mp4: 480x640 (no detections), 34.3ms\n",
      "video 1/1 (frame 1145/1341) c:\\Users\\Li Pin\\Documents\\FootfallCam\\sample.mp4: 480x640 (no detections), 34.3ms\n",
      "video 1/1 (frame 1146/1341) c:\\Users\\Li Pin\\Documents\\FootfallCam\\sample.mp4: 480x640 (no detections), 34.3ms\n",
      "video 1/1 (frame 1147/1341) c:\\Users\\Li Pin\\Documents\\FootfallCam\\sample.mp4: 480x640 (no detections), 34.5ms\n",
      "video 1/1 (frame 1148/1341) c:\\Users\\Li Pin\\Documents\\FootfallCam\\sample.mp4: 480x640 (no detections), 34.6ms\n",
      "video 1/1 (frame 1149/1341) c:\\Users\\Li Pin\\Documents\\FootfallCam\\sample.mp4: 480x640 (no detections), 33.9ms\n",
      "video 1/1 (frame 1150/1341) c:\\Users\\Li Pin\\Documents\\FootfallCam\\sample.mp4: 480x640 (no detections), 34.1ms\n",
      "video 1/1 (frame 1151/1341) c:\\Users\\Li Pin\\Documents\\FootfallCam\\sample.mp4: 480x640 (no detections), 35.7ms\n",
      "video 1/1 (frame 1152/1341) c:\\Users\\Li Pin\\Documents\\FootfallCam\\sample.mp4: 480x640 (no detections), 33.6ms\n",
      "video 1/1 (frame 1153/1341) c:\\Users\\Li Pin\\Documents\\FootfallCam\\sample.mp4: 480x640 (no detections), 34.3ms\n",
      "video 1/1 (frame 1154/1341) c:\\Users\\Li Pin\\Documents\\FootfallCam\\sample.mp4: 480x640 1 clip, 34.0ms\n",
      "video 1/1 (frame 1155/1341) c:\\Users\\Li Pin\\Documents\\FootfallCam\\sample.mp4: 480x640 2 clips, 33.4ms\n",
      "video 1/1 (frame 1156/1341) c:\\Users\\Li Pin\\Documents\\FootfallCam\\sample.mp4: 480x640 1 clip, 31.9ms\n",
      "video 1/1 (frame 1157/1341) c:\\Users\\Li Pin\\Documents\\FootfallCam\\sample.mp4: 480x640 1 clip, 33.6ms\n",
      "video 1/1 (frame 1158/1341) c:\\Users\\Li Pin\\Documents\\FootfallCam\\sample.mp4: 480x640 1 clip, 27.7ms\n",
      "video 1/1 (frame 1159/1341) c:\\Users\\Li Pin\\Documents\\FootfallCam\\sample.mp4: 480x640 2 clips, 33.7ms\n",
      "video 1/1 (frame 1160/1341) c:\\Users\\Li Pin\\Documents\\FootfallCam\\sample.mp4: 480x640 2 clips, 33.5ms\n",
      "video 1/1 (frame 1161/1341) c:\\Users\\Li Pin\\Documents\\FootfallCam\\sample.mp4: 480x640 1 clip, 33.5ms\n",
      "video 1/1 (frame 1162/1341) c:\\Users\\Li Pin\\Documents\\FootfallCam\\sample.mp4: 480x640 1 clip, 34.0ms\n",
      "video 1/1 (frame 1163/1341) c:\\Users\\Li Pin\\Documents\\FootfallCam\\sample.mp4: 480x640 1 clip, 33.5ms\n",
      "video 1/1 (frame 1164/1341) c:\\Users\\Li Pin\\Documents\\FootfallCam\\sample.mp4: 480x640 1 clip, 33.7ms\n",
      "video 1/1 (frame 1165/1341) c:\\Users\\Li Pin\\Documents\\FootfallCam\\sample.mp4: 480x640 1 clip, 34.0ms\n",
      "video 1/1 (frame 1166/1341) c:\\Users\\Li Pin\\Documents\\FootfallCam\\sample.mp4: 480x640 1 clip, 34.0ms\n",
      "video 1/1 (frame 1167/1341) c:\\Users\\Li Pin\\Documents\\FootfallCam\\sample.mp4: 480x640 1 clip, 33.2ms\n",
      "video 1/1 (frame 1168/1341) c:\\Users\\Li Pin\\Documents\\FootfallCam\\sample.mp4: 480x640 1 clip, 34.1ms\n",
      "video 1/1 (frame 1169/1341) c:\\Users\\Li Pin\\Documents\\FootfallCam\\sample.mp4: 480x640 2 clips, 35.1ms\n",
      "video 1/1 (frame 1170/1341) c:\\Users\\Li Pin\\Documents\\FootfallCam\\sample.mp4: 480x640 1 clip, 25.8ms\n",
      "video 1/1 (frame 1171/1341) c:\\Users\\Li Pin\\Documents\\FootfallCam\\sample.mp4: 480x640 (no detections), 25.9ms\n",
      "video 1/1 (frame 1172/1341) c:\\Users\\Li Pin\\Documents\\FootfallCam\\sample.mp4: 480x640 (no detections), 33.6ms\n",
      "video 1/1 (frame 1173/1341) c:\\Users\\Li Pin\\Documents\\FootfallCam\\sample.mp4: 480x640 (no detections), 35.7ms\n",
      "video 1/1 (frame 1174/1341) c:\\Users\\Li Pin\\Documents\\FootfallCam\\sample.mp4: 480x640 (no detections), 35.2ms\n",
      "video 1/1 (frame 1175/1341) c:\\Users\\Li Pin\\Documents\\FootfallCam\\sample.mp4: 480x640 (no detections), 34.7ms\n",
      "video 1/1 (frame 1176/1341) c:\\Users\\Li Pin\\Documents\\FootfallCam\\sample.mp4: 480x640 (no detections), 35.2ms\n",
      "video 1/1 (frame 1177/1341) c:\\Users\\Li Pin\\Documents\\FootfallCam\\sample.mp4: 480x640 (no detections), 35.8ms\n",
      "video 1/1 (frame 1178/1341) c:\\Users\\Li Pin\\Documents\\FootfallCam\\sample.mp4: 480x640 (no detections), 31.8ms\n",
      "video 1/1 (frame 1179/1341) c:\\Users\\Li Pin\\Documents\\FootfallCam\\sample.mp4: 480x640 (no detections), 33.2ms\n",
      "video 1/1 (frame 1180/1341) c:\\Users\\Li Pin\\Documents\\FootfallCam\\sample.mp4: 480x640 (no detections), 32.8ms\n",
      "video 1/1 (frame 1181/1341) c:\\Users\\Li Pin\\Documents\\FootfallCam\\sample.mp4: 480x640 (no detections), 33.9ms\n",
      "video 1/1 (frame 1182/1341) c:\\Users\\Li Pin\\Documents\\FootfallCam\\sample.mp4: 480x640 (no detections), 35.3ms\n",
      "video 1/1 (frame 1183/1341) c:\\Users\\Li Pin\\Documents\\FootfallCam\\sample.mp4: 480x640 (no detections), 32.9ms\n",
      "video 1/1 (frame 1184/1341) c:\\Users\\Li Pin\\Documents\\FootfallCam\\sample.mp4: 480x640 (no detections), 33.1ms\n",
      "video 1/1 (frame 1185/1341) c:\\Users\\Li Pin\\Documents\\FootfallCam\\sample.mp4: 480x640 (no detections), 33.2ms\n",
      "video 1/1 (frame 1186/1341) c:\\Users\\Li Pin\\Documents\\FootfallCam\\sample.mp4: 480x640 (no detections), 33.7ms\n",
      "video 1/1 (frame 1187/1341) c:\\Users\\Li Pin\\Documents\\FootfallCam\\sample.mp4: 480x640 (no detections), 34.0ms\n",
      "video 1/1 (frame 1188/1341) c:\\Users\\Li Pin\\Documents\\FootfallCam\\sample.mp4: 480x640 1 clip, 35.2ms\n",
      "video 1/1 (frame 1189/1341) c:\\Users\\Li Pin\\Documents\\FootfallCam\\sample.mp4: 480x640 (no detections), 34.2ms\n",
      "video 1/1 (frame 1190/1341) c:\\Users\\Li Pin\\Documents\\FootfallCam\\sample.mp4: 480x640 1 clip, 33.9ms\n",
      "video 1/1 (frame 1191/1341) c:\\Users\\Li Pin\\Documents\\FootfallCam\\sample.mp4: 480x640 (no detections), 33.3ms\n",
      "video 1/1 (frame 1192/1341) c:\\Users\\Li Pin\\Documents\\FootfallCam\\sample.mp4: 480x640 (no detections), 32.0ms\n",
      "video 1/1 (frame 1193/1341) c:\\Users\\Li Pin\\Documents\\FootfallCam\\sample.mp4: 480x640 (no detections), 34.3ms\n",
      "video 1/1 (frame 1194/1341) c:\\Users\\Li Pin\\Documents\\FootfallCam\\sample.mp4: 480x640 (no detections), 33.8ms\n",
      "video 1/1 (frame 1195/1341) c:\\Users\\Li Pin\\Documents\\FootfallCam\\sample.mp4: 480x640 (no detections), 34.2ms\n",
      "video 1/1 (frame 1196/1341) c:\\Users\\Li Pin\\Documents\\FootfallCam\\sample.mp4: 480x640 (no detections), 33.7ms\n",
      "video 1/1 (frame 1197/1341) c:\\Users\\Li Pin\\Documents\\FootfallCam\\sample.mp4: 480x640 (no detections), 35.5ms\n",
      "video 1/1 (frame 1198/1341) c:\\Users\\Li Pin\\Documents\\FootfallCam\\sample.mp4: 480x640 1 clip, 34.2ms\n",
      "video 1/1 (frame 1199/1341) c:\\Users\\Li Pin\\Documents\\FootfallCam\\sample.mp4: 480x640 1 clip, 34.2ms\n",
      "video 1/1 (frame 1200/1341) c:\\Users\\Li Pin\\Documents\\FootfallCam\\sample.mp4: 480x640 1 clip, 27.9ms\n",
      "video 1/1 (frame 1201/1341) c:\\Users\\Li Pin\\Documents\\FootfallCam\\sample.mp4: 480x640 2 clips, 33.0ms\n",
      "video 1/1 (frame 1202/1341) c:\\Users\\Li Pin\\Documents\\FootfallCam\\sample.mp4: 480x640 2 clips, 25.4ms\n",
      "video 1/1 (frame 1203/1341) c:\\Users\\Li Pin\\Documents\\FootfallCam\\sample.mp4: 480x640 2 clips, 34.7ms\n",
      "video 1/1 (frame 1204/1341) c:\\Users\\Li Pin\\Documents\\FootfallCam\\sample.mp4: 480x640 1 clip, 33.7ms\n",
      "video 1/1 (frame 1205/1341) c:\\Users\\Li Pin\\Documents\\FootfallCam\\sample.mp4: 480x640 1 clip, 33.9ms\n",
      "video 1/1 (frame 1206/1341) c:\\Users\\Li Pin\\Documents\\FootfallCam\\sample.mp4: 480x640 1 clip, 33.0ms\n",
      "video 1/1 (frame 1207/1341) c:\\Users\\Li Pin\\Documents\\FootfallCam\\sample.mp4: 480x640 1 clip, 33.0ms\n",
      "video 1/1 (frame 1208/1341) c:\\Users\\Li Pin\\Documents\\FootfallCam\\sample.mp4: 480x640 2 clips, 32.8ms\n",
      "video 1/1 (frame 1209/1341) c:\\Users\\Li Pin\\Documents\\FootfallCam\\sample.mp4: 480x640 1 clip, 32.6ms\n",
      "video 1/1 (frame 1210/1341) c:\\Users\\Li Pin\\Documents\\FootfallCam\\sample.mp4: 480x640 2 clips, 36.3ms\n",
      "video 1/1 (frame 1211/1341) c:\\Users\\Li Pin\\Documents\\FootfallCam\\sample.mp4: 480x640 2 clips, 32.8ms\n",
      "video 1/1 (frame 1212/1341) c:\\Users\\Li Pin\\Documents\\FootfallCam\\sample.mp4: 480x640 2 clips, 33.0ms\n",
      "video 1/1 (frame 1213/1341) c:\\Users\\Li Pin\\Documents\\FootfallCam\\sample.mp4: 480x640 (no detections), 32.7ms\n",
      "video 1/1 (frame 1214/1341) c:\\Users\\Li Pin\\Documents\\FootfallCam\\sample.mp4: 480x640 (no detections), 33.3ms\n",
      "video 1/1 (frame 1215/1341) c:\\Users\\Li Pin\\Documents\\FootfallCam\\sample.mp4: 480x640 (no detections), 33.6ms\n",
      "video 1/1 (frame 1216/1341) c:\\Users\\Li Pin\\Documents\\FootfallCam\\sample.mp4: 480x640 (no detections), 33.2ms\n",
      "video 1/1 (frame 1217/1341) c:\\Users\\Li Pin\\Documents\\FootfallCam\\sample.mp4: 480x640 (no detections), 33.3ms\n",
      "video 1/1 (frame 1218/1341) c:\\Users\\Li Pin\\Documents\\FootfallCam\\sample.mp4: 480x640 (no detections), 33.1ms\n",
      "video 1/1 (frame 1219/1341) c:\\Users\\Li Pin\\Documents\\FootfallCam\\sample.mp4: 480x640 (no detections), 35.3ms\n",
      "video 1/1 (frame 1220/1341) c:\\Users\\Li Pin\\Documents\\FootfallCam\\sample.mp4: 480x640 (no detections), 34.4ms\n",
      "video 1/1 (frame 1221/1341) c:\\Users\\Li Pin\\Documents\\FootfallCam\\sample.mp4: 480x640 (no detections), 34.1ms\n",
      "video 1/1 (frame 1222/1341) c:\\Users\\Li Pin\\Documents\\FootfallCam\\sample.mp4: 480x640 (no detections), 33.3ms\n",
      "video 1/1 (frame 1223/1341) c:\\Users\\Li Pin\\Documents\\FootfallCam\\sample.mp4: 480x640 (no detections), 33.6ms\n",
      "video 1/1 (frame 1224/1341) c:\\Users\\Li Pin\\Documents\\FootfallCam\\sample.mp4: 480x640 (no detections), 33.4ms\n",
      "video 1/1 (frame 1225/1341) c:\\Users\\Li Pin\\Documents\\FootfallCam\\sample.mp4: 480x640 (no detections), 33.1ms\n",
      "video 1/1 (frame 1226/1341) c:\\Users\\Li Pin\\Documents\\FootfallCam\\sample.mp4: 480x640 (no detections), 33.5ms\n",
      "video 1/1 (frame 1227/1341) c:\\Users\\Li Pin\\Documents\\FootfallCam\\sample.mp4: 480x640 (no detections), 35.6ms\n",
      "video 1/1 (frame 1228/1341) c:\\Users\\Li Pin\\Documents\\FootfallCam\\sample.mp4: 480x640 (no detections), 33.3ms\n",
      "video 1/1 (frame 1229/1341) c:\\Users\\Li Pin\\Documents\\FootfallCam\\sample.mp4: 480x640 (no detections), 33.0ms\n",
      "video 1/1 (frame 1230/1341) c:\\Users\\Li Pin\\Documents\\FootfallCam\\sample.mp4: 480x640 (no detections), 36.7ms\n",
      "video 1/1 (frame 1231/1341) c:\\Users\\Li Pin\\Documents\\FootfallCam\\sample.mp4: 480x640 (no detections), 33.2ms\n",
      "video 1/1 (frame 1232/1341) c:\\Users\\Li Pin\\Documents\\FootfallCam\\sample.mp4: 480x640 (no detections), 32.8ms\n",
      "video 1/1 (frame 1233/1341) c:\\Users\\Li Pin\\Documents\\FootfallCam\\sample.mp4: 480x640 (no detections), 36.0ms\n",
      "video 1/1 (frame 1234/1341) c:\\Users\\Li Pin\\Documents\\FootfallCam\\sample.mp4: 480x640 (no detections), 34.0ms\n",
      "video 1/1 (frame 1235/1341) c:\\Users\\Li Pin\\Documents\\FootfallCam\\sample.mp4: 480x640 (no detections), 32.8ms\n",
      "video 1/1 (frame 1236/1341) c:\\Users\\Li Pin\\Documents\\FootfallCam\\sample.mp4: 480x640 1 clip, 32.9ms\n",
      "video 1/1 (frame 1237/1341) c:\\Users\\Li Pin\\Documents\\FootfallCam\\sample.mp4: 480x640 (no detections), 33.5ms\n",
      "video 1/1 (frame 1238/1341) c:\\Users\\Li Pin\\Documents\\FootfallCam\\sample.mp4: 480x640 (no detections), 33.7ms\n",
      "video 1/1 (frame 1239/1341) c:\\Users\\Li Pin\\Documents\\FootfallCam\\sample.mp4: 480x640 1 clip, 35.9ms\n",
      "video 1/1 (frame 1240/1341) c:\\Users\\Li Pin\\Documents\\FootfallCam\\sample.mp4: 480x640 (no detections), 33.7ms\n",
      "video 1/1 (frame 1241/1341) c:\\Users\\Li Pin\\Documents\\FootfallCam\\sample.mp4: 480x640 (no detections), 36.9ms\n",
      "video 1/1 (frame 1242/1341) c:\\Users\\Li Pin\\Documents\\FootfallCam\\sample.mp4: 480x640 (no detections), 34.6ms\n",
      "video 1/1 (frame 1243/1341) c:\\Users\\Li Pin\\Documents\\FootfallCam\\sample.mp4: 480x640 (no detections), 34.4ms\n",
      "video 1/1 (frame 1244/1341) c:\\Users\\Li Pin\\Documents\\FootfallCam\\sample.mp4: 480x640 (no detections), 33.2ms\n",
      "video 1/1 (frame 1245/1341) c:\\Users\\Li Pin\\Documents\\FootfallCam\\sample.mp4: 480x640 (no detections), 35.0ms\n",
      "video 1/1 (frame 1246/1341) c:\\Users\\Li Pin\\Documents\\FootfallCam\\sample.mp4: 480x640 (no detections), 33.1ms\n",
      "video 1/1 (frame 1247/1341) c:\\Users\\Li Pin\\Documents\\FootfallCam\\sample.mp4: 480x640 (no detections), 33.9ms\n",
      "video 1/1 (frame 1248/1341) c:\\Users\\Li Pin\\Documents\\FootfallCam\\sample.mp4: 480x640 (no detections), 27.3ms\n",
      "video 1/1 (frame 1249/1341) c:\\Users\\Li Pin\\Documents\\FootfallCam\\sample.mp4: 480x640 (no detections), 34.1ms\n",
      "video 1/1 (frame 1250/1341) c:\\Users\\Li Pin\\Documents\\FootfallCam\\sample.mp4: 480x640 (no detections), 36.2ms\n",
      "video 1/1 (frame 1251/1341) c:\\Users\\Li Pin\\Documents\\FootfallCam\\sample.mp4: 480x640 (no detections), 33.7ms\n",
      "video 1/1 (frame 1252/1341) c:\\Users\\Li Pin\\Documents\\FootfallCam\\sample.mp4: 480x640 (no detections), 35.4ms\n",
      "video 1/1 (frame 1253/1341) c:\\Users\\Li Pin\\Documents\\FootfallCam\\sample.mp4: 480x640 (no detections), 33.5ms\n",
      "video 1/1 (frame 1254/1341) c:\\Users\\Li Pin\\Documents\\FootfallCam\\sample.mp4: 480x640 (no detections), 35.7ms\n",
      "video 1/1 (frame 1255/1341) c:\\Users\\Li Pin\\Documents\\FootfallCam\\sample.mp4: 480x640 (no detections), 33.4ms\n",
      "video 1/1 (frame 1256/1341) c:\\Users\\Li Pin\\Documents\\FootfallCam\\sample.mp4: 480x640 (no detections), 33.2ms\n",
      "video 1/1 (frame 1257/1341) c:\\Users\\Li Pin\\Documents\\FootfallCam\\sample.mp4: 480x640 (no detections), 35.9ms\n",
      "video 1/1 (frame 1258/1341) c:\\Users\\Li Pin\\Documents\\FootfallCam\\sample.mp4: 480x640 (no detections), 31.0ms\n",
      "video 1/1 (frame 1259/1341) c:\\Users\\Li Pin\\Documents\\FootfallCam\\sample.mp4: 480x640 (no detections), 34.6ms\n",
      "video 1/1 (frame 1260/1341) c:\\Users\\Li Pin\\Documents\\FootfallCam\\sample.mp4: 480x640 (no detections), 32.7ms\n",
      "video 1/1 (frame 1261/1341) c:\\Users\\Li Pin\\Documents\\FootfallCam\\sample.mp4: 480x640 (no detections), 33.5ms\n",
      "video 1/1 (frame 1262/1341) c:\\Users\\Li Pin\\Documents\\FootfallCam\\sample.mp4: 480x640 (no detections), 33.3ms\n",
      "video 1/1 (frame 1263/1341) c:\\Users\\Li Pin\\Documents\\FootfallCam\\sample.mp4: 480x640 (no detections), 33.1ms\n",
      "video 1/1 (frame 1264/1341) c:\\Users\\Li Pin\\Documents\\FootfallCam\\sample.mp4: 480x640 (no detections), 35.5ms\n",
      "video 1/1 (frame 1265/1341) c:\\Users\\Li Pin\\Documents\\FootfallCam\\sample.mp4: 480x640 (no detections), 33.1ms\n",
      "video 1/1 (frame 1266/1341) c:\\Users\\Li Pin\\Documents\\FootfallCam\\sample.mp4: 480x640 (no detections), 36.6ms\n",
      "video 1/1 (frame 1267/1341) c:\\Users\\Li Pin\\Documents\\FootfallCam\\sample.mp4: 480x640 (no detections), 32.6ms\n",
      "video 1/1 (frame 1268/1341) c:\\Users\\Li Pin\\Documents\\FootfallCam\\sample.mp4: 480x640 (no detections), 36.1ms\n",
      "video 1/1 (frame 1269/1341) c:\\Users\\Li Pin\\Documents\\FootfallCam\\sample.mp4: 480x640 (no detections), 29.5ms\n",
      "video 1/1 (frame 1270/1341) c:\\Users\\Li Pin\\Documents\\FootfallCam\\sample.mp4: 480x640 (no detections), 35.4ms\n",
      "video 1/1 (frame 1271/1341) c:\\Users\\Li Pin\\Documents\\FootfallCam\\sample.mp4: 480x640 (no detections), 36.2ms\n",
      "video 1/1 (frame 1272/1341) c:\\Users\\Li Pin\\Documents\\FootfallCam\\sample.mp4: 480x640 (no detections), 33.0ms\n",
      "video 1/1 (frame 1273/1341) c:\\Users\\Li Pin\\Documents\\FootfallCam\\sample.mp4: 480x640 (no detections), 33.9ms\n",
      "video 1/1 (frame 1274/1341) c:\\Users\\Li Pin\\Documents\\FootfallCam\\sample.mp4: 480x640 (no detections), 32.4ms\n",
      "video 1/1 (frame 1275/1341) c:\\Users\\Li Pin\\Documents\\FootfallCam\\sample.mp4: 480x640 (no detections), 35.0ms\n",
      "video 1/1 (frame 1276/1341) c:\\Users\\Li Pin\\Documents\\FootfallCam\\sample.mp4: 480x640 (no detections), 34.8ms\n",
      "video 1/1 (frame 1277/1341) c:\\Users\\Li Pin\\Documents\\FootfallCam\\sample.mp4: 480x640 (no detections), 31.8ms\n",
      "video 1/1 (frame 1278/1341) c:\\Users\\Li Pin\\Documents\\FootfallCam\\sample.mp4: 480x640 (no detections), 31.6ms\n",
      "video 1/1 (frame 1279/1341) c:\\Users\\Li Pin\\Documents\\FootfallCam\\sample.mp4: 480x640 (no detections), 34.3ms\n",
      "video 1/1 (frame 1280/1341) c:\\Users\\Li Pin\\Documents\\FootfallCam\\sample.mp4: 480x640 (no detections), 32.9ms\n",
      "video 1/1 (frame 1281/1341) c:\\Users\\Li Pin\\Documents\\FootfallCam\\sample.mp4: 480x640 (no detections), 31.9ms\n",
      "video 1/1 (frame 1282/1341) c:\\Users\\Li Pin\\Documents\\FootfallCam\\sample.mp4: 480x640 (no detections), 34.4ms\n",
      "video 1/1 (frame 1283/1341) c:\\Users\\Li Pin\\Documents\\FootfallCam\\sample.mp4: 480x640 (no detections), 22.1ms\n",
      "video 1/1 (frame 1284/1341) c:\\Users\\Li Pin\\Documents\\FootfallCam\\sample.mp4: 480x640 (no detections), 35.4ms\n",
      "video 1/1 (frame 1285/1341) c:\\Users\\Li Pin\\Documents\\FootfallCam\\sample.mp4: 480x640 (no detections), 34.9ms\n",
      "video 1/1 (frame 1286/1341) c:\\Users\\Li Pin\\Documents\\FootfallCam\\sample.mp4: 480x640 (no detections), 32.0ms\n",
      "video 1/1 (frame 1287/1341) c:\\Users\\Li Pin\\Documents\\FootfallCam\\sample.mp4: 480x640 (no detections), 34.8ms\n",
      "video 1/1 (frame 1288/1341) c:\\Users\\Li Pin\\Documents\\FootfallCam\\sample.mp4: 480x640 (no detections), 34.0ms\n",
      "video 1/1 (frame 1289/1341) c:\\Users\\Li Pin\\Documents\\FootfallCam\\sample.mp4: 480x640 (no detections), 34.3ms\n",
      "video 1/1 (frame 1290/1341) c:\\Users\\Li Pin\\Documents\\FootfallCam\\sample.mp4: 480x640 (no detections), 33.8ms\n",
      "video 1/1 (frame 1291/1341) c:\\Users\\Li Pin\\Documents\\FootfallCam\\sample.mp4: 480x640 (no detections), 34.3ms\n",
      "video 1/1 (frame 1292/1341) c:\\Users\\Li Pin\\Documents\\FootfallCam\\sample.mp4: 480x640 (no detections), 34.6ms\n",
      "video 1/1 (frame 1293/1341) c:\\Users\\Li Pin\\Documents\\FootfallCam\\sample.mp4: 480x640 (no detections), 34.8ms\n",
      "video 1/1 (frame 1294/1341) c:\\Users\\Li Pin\\Documents\\FootfallCam\\sample.mp4: 480x640 (no detections), 34.2ms\n",
      "video 1/1 (frame 1295/1341) c:\\Users\\Li Pin\\Documents\\FootfallCam\\sample.mp4: 480x640 (no detections), 34.2ms\n",
      "video 1/1 (frame 1296/1341) c:\\Users\\Li Pin\\Documents\\FootfallCam\\sample.mp4: 480x640 (no detections), 34.1ms\n",
      "video 1/1 (frame 1297/1341) c:\\Users\\Li Pin\\Documents\\FootfallCam\\sample.mp4: 480x640 (no detections), 34.6ms\n",
      "video 1/1 (frame 1298/1341) c:\\Users\\Li Pin\\Documents\\FootfallCam\\sample.mp4: 480x640 (no detections), 30.4ms\n",
      "video 1/1 (frame 1299/1341) c:\\Users\\Li Pin\\Documents\\FootfallCam\\sample.mp4: 480x640 (no detections), 34.8ms\n",
      "video 1/1 (frame 1300/1341) c:\\Users\\Li Pin\\Documents\\FootfallCam\\sample.mp4: 480x640 (no detections), 34.1ms\n",
      "video 1/1 (frame 1301/1341) c:\\Users\\Li Pin\\Documents\\FootfallCam\\sample.mp4: 480x640 2 clips, 33.2ms\n",
      "video 1/1 (frame 1302/1341) c:\\Users\\Li Pin\\Documents\\FootfallCam\\sample.mp4: 480x640 (no detections), 34.5ms\n",
      "video 1/1 (frame 1303/1341) c:\\Users\\Li Pin\\Documents\\FootfallCam\\sample.mp4: 480x640 (no detections), 33.0ms\n",
      "video 1/1 (frame 1304/1341) c:\\Users\\Li Pin\\Documents\\FootfallCam\\sample.mp4: 480x640 (no detections), 27.3ms\n",
      "video 1/1 (frame 1305/1341) c:\\Users\\Li Pin\\Documents\\FootfallCam\\sample.mp4: 480x640 (no detections), 32.1ms\n",
      "video 1/1 (frame 1306/1341) c:\\Users\\Li Pin\\Documents\\FootfallCam\\sample.mp4: 480x640 (no detections), 32.1ms\n",
      "video 1/1 (frame 1307/1341) c:\\Users\\Li Pin\\Documents\\FootfallCam\\sample.mp4: 480x640 (no detections), 33.4ms\n",
      "video 1/1 (frame 1308/1341) c:\\Users\\Li Pin\\Documents\\FootfallCam\\sample.mp4: 480x640 (no detections), 32.6ms\n",
      "video 1/1 (frame 1309/1341) c:\\Users\\Li Pin\\Documents\\FootfallCam\\sample.mp4: 480x640 (no detections), 34.2ms\n",
      "video 1/1 (frame 1310/1341) c:\\Users\\Li Pin\\Documents\\FootfallCam\\sample.mp4: 480x640 (no detections), 33.0ms\n",
      "video 1/1 (frame 1311/1341) c:\\Users\\Li Pin\\Documents\\FootfallCam\\sample.mp4: 480x640 (no detections), 33.2ms\n",
      "video 1/1 (frame 1312/1341) c:\\Users\\Li Pin\\Documents\\FootfallCam\\sample.mp4: 480x640 (no detections), 33.2ms\n",
      "video 1/1 (frame 1313/1341) c:\\Users\\Li Pin\\Documents\\FootfallCam\\sample.mp4: 480x640 (no detections), 33.3ms\n",
      "video 1/1 (frame 1314/1341) c:\\Users\\Li Pin\\Documents\\FootfallCam\\sample.mp4: 480x640 (no detections), 34.3ms\n",
      "video 1/1 (frame 1315/1341) c:\\Users\\Li Pin\\Documents\\FootfallCam\\sample.mp4: 480x640 (no detections), 34.4ms\n",
      "video 1/1 (frame 1316/1341) c:\\Users\\Li Pin\\Documents\\FootfallCam\\sample.mp4: 480x640 (no detections), 30.7ms\n",
      "video 1/1 (frame 1317/1341) c:\\Users\\Li Pin\\Documents\\FootfallCam\\sample.mp4: 480x640 (no detections), 35.1ms\n",
      "video 1/1 (frame 1318/1341) c:\\Users\\Li Pin\\Documents\\FootfallCam\\sample.mp4: 480x640 (no detections), 33.3ms\n",
      "video 1/1 (frame 1319/1341) c:\\Users\\Li Pin\\Documents\\FootfallCam\\sample.mp4: 480x640 (no detections), 34.5ms\n",
      "video 1/1 (frame 1320/1341) c:\\Users\\Li Pin\\Documents\\FootfallCam\\sample.mp4: 480x640 (no detections), 34.3ms\n",
      "video 1/1 (frame 1321/1341) c:\\Users\\Li Pin\\Documents\\FootfallCam\\sample.mp4: 480x640 (no detections), 33.0ms\n",
      "video 1/1 (frame 1322/1341) c:\\Users\\Li Pin\\Documents\\FootfallCam\\sample.mp4: 480x640 (no detections), 33.3ms\n",
      "video 1/1 (frame 1323/1341) c:\\Users\\Li Pin\\Documents\\FootfallCam\\sample.mp4: 480x640 (no detections), 32.6ms\n",
      "video 1/1 (frame 1324/1341) c:\\Users\\Li Pin\\Documents\\FootfallCam\\sample.mp4: 480x640 (no detections), 32.9ms\n",
      "video 1/1 (frame 1325/1341) c:\\Users\\Li Pin\\Documents\\FootfallCam\\sample.mp4: 480x640 (no detections), 34.8ms\n",
      "video 1/1 (frame 1326/1341) c:\\Users\\Li Pin\\Documents\\FootfallCam\\sample.mp4: 480x640 (no detections), 35.1ms\n",
      "video 1/1 (frame 1327/1341) c:\\Users\\Li Pin\\Documents\\FootfallCam\\sample.mp4: 480x640 (no detections), 33.3ms\n",
      "video 1/1 (frame 1328/1341) c:\\Users\\Li Pin\\Documents\\FootfallCam\\sample.mp4: 480x640 (no detections), 33.8ms\n",
      "video 1/1 (frame 1329/1341) c:\\Users\\Li Pin\\Documents\\FootfallCam\\sample.mp4: 480x640 (no detections), 34.4ms\n",
      "video 1/1 (frame 1330/1341) c:\\Users\\Li Pin\\Documents\\FootfallCam\\sample.mp4: 480x640 (no detections), 35.3ms\n",
      "video 1/1 (frame 1331/1341) c:\\Users\\Li Pin\\Documents\\FootfallCam\\sample.mp4: 480x640 (no detections), 34.1ms\n",
      "video 1/1 (frame 1332/1341) c:\\Users\\Li Pin\\Documents\\FootfallCam\\sample.mp4: 480x640 (no detections), 35.1ms\n",
      "video 1/1 (frame 1333/1341) c:\\Users\\Li Pin\\Documents\\FootfallCam\\sample.mp4: 480x640 (no detections), 34.9ms\n",
      "video 1/1 (frame 1334/1341) c:\\Users\\Li Pin\\Documents\\FootfallCam\\sample.mp4: 480x640 (no detections), 34.5ms\n",
      "video 1/1 (frame 1335/1341) c:\\Users\\Li Pin\\Documents\\FootfallCam\\sample.mp4: 480x640 (no detections), 32.1ms\n",
      "video 1/1 (frame 1336/1341) c:\\Users\\Li Pin\\Documents\\FootfallCam\\sample.mp4: 480x640 (no detections), 33.9ms\n",
      "video 1/1 (frame 1337/1341) c:\\Users\\Li Pin\\Documents\\FootfallCam\\sample.mp4: 480x640 (no detections), 35.6ms\n",
      "video 1/1 (frame 1338/1341) c:\\Users\\Li Pin\\Documents\\FootfallCam\\sample.mp4: 480x640 (no detections), 29.3ms\n",
      "video 1/1 (frame 1339/1341) c:\\Users\\Li Pin\\Documents\\FootfallCam\\sample.mp4: 480x640 (no detections), 35.1ms\n",
      "video 1/1 (frame 1340/1341) c:\\Users\\Li Pin\\Documents\\FootfallCam\\sample.mp4: 480x640 (no detections), 34.7ms\n",
      "video 1/1 (frame 1341/1341) c:\\Users\\Li Pin\\Documents\\FootfallCam\\sample.mp4: 480x640 (no detections), 31.4ms\n",
      "Speed: 2.4ms preprocess, 30.2ms inference, 4.4ms postprocess per image at shape (1, 3, 480, 640)\n",
      "Results saved to \u001b[1mruns\\detect\\predict\u001b[0m\n"
     ]
    }
   ],
   "source": [
    "model = YOLO('runs/detect/clip-detector/weights/best.pt')\n",
    "results = model.predict(source='sample.mp4', save=True)"
   ]
  },
  {
   "cell_type": "code",
   "execution_count": null,
   "id": "5e7e71b2",
   "metadata": {},
   "outputs": [],
   "source": []
  }
 ],
 "metadata": {
  "kernelspec": {
   "display_name": "demo",
   "language": "python",
   "name": "python3"
  },
  "language_info": {
   "codemirror_mode": {
    "name": "ipython",
    "version": 3
   },
   "file_extension": ".py",
   "mimetype": "text/x-python",
   "name": "python",
   "nbconvert_exporter": "python",
   "pygments_lexer": "ipython3",
   "version": "3.11.13"
  }
 },
 "nbformat": 4,
 "nbformat_minor": 5
}
